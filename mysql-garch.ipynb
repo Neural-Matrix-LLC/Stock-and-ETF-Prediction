{
 "cells": [
  {
   "cell_type": "markdown",
   "id": "a573771a-28d7-4d92-aa42-88a734e9780f",
   "metadata": {},
   "source": [
    "# Import Libraries"
   ]
  },
  {
   "cell_type": "code",
   "execution_count": 19,
   "id": "1ca704a3-2c0d-4c89-b442-7b4ff13b91f3",
   "metadata": {},
   "outputs": [],
   "source": [
    "import os\n",
    "import config as cfg\n",
    "import pandas as pd\n",
    "import mysql.connector\n",
    "\n",
    "from dotenv import load_dotenv\n",
    "load_dotenv(\"mysql.env\")\n",
    "\n",
    "import matplotlib.pyplot as plt\n",
    "import seaborn as sns"
   ]
  },
  {
   "cell_type": "markdown",
   "id": "e4c6b114-3d8f-4bd7-b43c-a39ad72575d4",
   "metadata": {},
   "source": [
    "# MySQL connection\n",
    "Choosing one stock from SQL query to reduce query time."
   ]
  },
  {
   "cell_type": "code",
   "execution_count": 14,
   "id": "9535f4df-1189-4de1-88ea-f86ef785c554",
   "metadata": {},
   "outputs": [],
   "source": [
    "HOST=os.environ.get(\"HOST\")\n",
    "PORT=os.environ.get(\"PORT\")\n",
    "USER=os.environ.get(\"USER\")\n",
    "PASSWORD=os.environ.get(\"PASSWORD\")\n",
    "\n",
    "try: \n",
    "    conn = mysql.connector.connect(\n",
    "        host=HOST,\n",
    "        port=PORT,\n",
    "        user=USER,\n",
    "        password=PASSWORD,\n",
    "        database=\"GlobalMarketData\"\n",
    "    )\n",
    "    query = \"SELECT Date, Close, Open, High, Low, Volume from histdailyprice3 WHERE Symbol='AAPL';\"\n",
    "    df = pd.read_sql(query, conn)\n",
    "    conn.close()\n",
    "except Exception as e:\n",
    "    mydb.close()\n",
    "    print(str(e))"
   ]
  },
  {
   "cell_type": "markdown",
   "id": "29a46a4e-bef7-449b-9a8f-db6507550cbb",
   "metadata": {},
   "source": [
    "# Data"
   ]
  },
  {
   "cell_type": "code",
   "execution_count": 16,
   "id": "1f646887-1663-4c30-9618-7003b82b711f",
   "metadata": {},
   "outputs": [
    {
     "data": {
      "text/html": [
       "<div>\n",
       "<style scoped>\n",
       "    .dataframe tbody tr th:only-of-type {\n",
       "        vertical-align: middle;\n",
       "    }\n",
       "\n",
       "    .dataframe tbody tr th {\n",
       "        vertical-align: top;\n",
       "    }\n",
       "\n",
       "    .dataframe thead th {\n",
       "        text-align: right;\n",
       "    }\n",
       "</style>\n",
       "<table border=\"1\" class=\"dataframe\">\n",
       "  <thead>\n",
       "    <tr style=\"text-align: right;\">\n",
       "      <th></th>\n",
       "      <th>Date</th>\n",
       "      <th>Close</th>\n",
       "      <th>Open</th>\n",
       "      <th>High</th>\n",
       "      <th>Low</th>\n",
       "      <th>Volume</th>\n",
       "    </tr>\n",
       "  </thead>\n",
       "  <tbody>\n",
       "    <tr>\n",
       "      <th>0</th>\n",
       "      <td>1998-01-01</td>\n",
       "      <td>0.1172</td>\n",
       "      <td>0.1172</td>\n",
       "      <td>0.1172</td>\n",
       "      <td>0.1172</td>\n",
       "      <td>0</td>\n",
       "    </tr>\n",
       "    <tr>\n",
       "      <th>1</th>\n",
       "      <td>1998-01-02</td>\n",
       "      <td>0.1217</td>\n",
       "      <td>0.1451</td>\n",
       "      <td>0.1205</td>\n",
       "      <td>0.1451</td>\n",
       "      <td>25646800</td>\n",
       "    </tr>\n",
       "    <tr>\n",
       "      <th>2</th>\n",
       "      <td>1998-01-05</td>\n",
       "      <td>0.1473</td>\n",
       "      <td>0.1479</td>\n",
       "      <td>0.1356</td>\n",
       "      <td>0.1418</td>\n",
       "      <td>23277200</td>\n",
       "    </tr>\n",
       "    <tr>\n",
       "      <th>3</th>\n",
       "      <td>1998-01-06</td>\n",
       "      <td>0.1423</td>\n",
       "      <td>0.1786</td>\n",
       "      <td>0.1317</td>\n",
       "      <td>0.1691</td>\n",
       "      <td>64766000</td>\n",
       "    </tr>\n",
       "    <tr>\n",
       "      <th>4</th>\n",
       "      <td>1998-01-07</td>\n",
       "      <td>0.1680</td>\n",
       "      <td>0.1697</td>\n",
       "      <td>0.1546</td>\n",
       "      <td>0.1563</td>\n",
       "      <td>37200800</td>\n",
       "    </tr>\n",
       "  </tbody>\n",
       "</table>\n",
       "</div>"
      ],
      "text/plain": [
       "         Date   Close    Open    High     Low    Volume\n",
       "0  1998-01-01  0.1172  0.1172  0.1172  0.1172         0\n",
       "1  1998-01-02  0.1217  0.1451  0.1205  0.1451  25646800\n",
       "2  1998-01-05  0.1473  0.1479  0.1356  0.1418  23277200\n",
       "3  1998-01-06  0.1423  0.1786  0.1317  0.1691  64766000\n",
       "4  1998-01-07  0.1680  0.1697  0.1546  0.1563  37200800"
      ]
     },
     "execution_count": 16,
     "metadata": {},
     "output_type": "execute_result"
    }
   ],
   "source": [
    "df.head()"
   ]
  },
  {
   "cell_type": "markdown",
   "id": "d43c6de8-860c-483d-a40a-c520dd478f5c",
   "metadata": {},
   "source": [
    "## Calculate Daily Returns"
   ]
  },
  {
   "cell_type": "code",
   "execution_count": 17,
   "id": "5fc067da-04a4-49ae-b66d-5853ce0e439c",
   "metadata": {},
   "outputs": [],
   "source": [
    "df['Return'] = 100 * (df['Close'].pct_change())"
   ]
  },
  {
   "cell_type": "code",
   "execution_count": 20,
   "id": "059f0c2f-cb48-4364-bd85-fe1dd95552f4",
   "metadata": {},
   "outputs": [
    {
     "data": {
      "image/png": "[encoded data removed]",
      "text/plain": [
       "<Figure size 864x288 with 1 Axes>"
      ]
     },
     "metadata": {
      "needs_background": "light"
     },
     "output_type": "display_data"
    }
   ],
   "source": [
    "df.dropna(inplace=True)\n",
    "\n",
    "fig = plt.figure()\n",
    "fig.set_figwidth(12)\n",
    "plt.plot(df['Return'], label = 'Daily Returns')\n",
    "plt.legend(loc='upper right')\n",
    "plt.title('Daily Returns Over Time')\n",
    "plt.show()"
   ]
  },
  {
   "cell_type": "code",
   "execution_count": null,
   "id": "7f081bec-fdb5-4277-9877-91fdae439d56",
   "metadata": {},
   "outputs": [],
   "source": []
  }
 ],
 "metadata": {
  "kernelspec": {
   "display_name": "Python 3 (ipykernel)",
   "language": "python",
   "name": "python3"
  },
  "language_info": {
   "codemirror_mode": {
    "name": "ipython",
    "version": 3
   },
   "file_extension": ".py",
   "mimetype": "text/x-python",
   "name": "python",
   "nbconvert_exporter": "python",
   "pygments_lexer": "ipython3",
   "version": "3.8.12"
  }
 },
 "nbformat": 4,
 "nbformat_minor": 5
}
