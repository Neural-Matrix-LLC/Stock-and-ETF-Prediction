{
 "cells": [
  {
   "cell_type": "markdown",
   "id": "1fcaa16d-5cd1-40e0-99c3-5c751d68e436",
   "metadata": {
    "tags": []
   },
   "source": [
    "# LSTM"
   ]
  },
  {
   "cell_type": "code",
   "execution_count": 1,
   "id": "bf33a97a-ecaf-4b9a-9950-70917a7ddf0a",
   "metadata": {},
   "outputs": [],
   "source": [
    "# Environment variables\n",
    "from dotenv import load_dotenv\n",
    "load_dotenv(\"../mysql.env\")\n",
    "\n",
    "import os\n",
    "import sys\n",
    "import mysql.connector\n",
    "\n",
    "import numpy as np \n",
    "import pandas as pd\n",
    "import math\n",
    "import time\n",
    "import random\n",
    "import matplotlib.pyplot as plt\n",
    "\n",
    "from keras.layers.core import Dense, Activation, Dropout\n",
    "from keras.layers.recurrent import LSTM\n",
    "from keras.models import Sequential\n",
    "from sklearn.model_selection import train_test_split\n",
    "from sklearn.preprocessing import MinMaxScaler\n",
    "from sklearn.metrics import mean_squared_error\n",
    "\n",
    "import warnings\n",
    "warnings.filterwarnings(\"ignore\")"
   ]
  },
  {
   "cell_type": "markdown",
   "id": "cc044caa-023e-44ee-a02f-fc53b9ed3673",
   "metadata": {},
   "source": [
    "# List of Stocks and ETFs\n",
    "Provided by Thomas Choi."
   ]
  },
  {
   "cell_type": "code",
   "execution_count": 11,
   "id": "2417c5d4-93f7-4b46-947d-848bf38cee97",
   "metadata": {},
   "outputs": [],
   "source": [
    "stock_list = pd.read_csv(\"../stocks_and_etfs/stock_list.csv\")\n",
    "etf_list = pd.read_csv(\"../stocks_and_etfs/etf_list.csv\")"
   ]
  },
  {
   "cell_type": "code",
   "execution_count": 125,
   "id": "bc594ea5-1d0f-422b-a967-d6ceb9975bce",
   "metadata": {},
   "outputs": [
    {
     "name": "stdout",
     "output_type": "stream",
     "text": [
      "CMCSA\n"
     ]
    }
   ],
   "source": [
    "# Choose a random stock\n",
    "stock_symbol = random.choice(stock_list.iloc[:,0])\n",
    "print(stock_symbol)"
   ]
  },
  {
   "cell_type": "markdown",
   "id": "6c21e3c1-264c-4b77-8fcd-d1e4a3d07657",
   "metadata": {},
   "source": [
    "## MySQL connection\n",
    "Choosing one stock from SQL query to reduce query time."
   ]
  },
  {
   "cell_type": "code",
   "execution_count": 126,
   "id": "3299a583-9be4-40ab-b36d-81c5372b3b39",
   "metadata": {},
   "outputs": [],
   "source": [
    "HOST=os.environ.get(\"HOST\")\n",
    "PORT=os.environ.get(\"PORT\")\n",
    "USER=os.environ.get(\"USER\")\n",
    "PASSWORD=os.environ.get(\"PASSWORD\")\n",
    "\n",
    "try: \n",
    "    conn = mysql.connector.connect(\n",
    "        host=HOST,\n",
    "        port=PORT,\n",
    "        user=USER,\n",
    "        password=PASSWORD,\n",
    "        database=\"GlobalMarketData\"\n",
    "    )\n",
    "    query = f\"SELECT Date, Close, Open, High, Low, Volume from histdailyprice3 WHERE Symbol='{stock_symbol}';\"\n",
    "    histdailyprice3 = pd.read_sql(query, conn)\n",
    "    conn.close()\n",
    "except Exception as e:\n",
    "    conn.close()\n",
    "    print(str(e))"
   ]
  },
  {
   "cell_type": "code",
   "execution_count": 92,
   "id": "d8f7514c-e8e0-4bf2-b4e4-52d41a241b85",
   "metadata": {},
   "outputs": [
    {
     "data": {
      "text/plain": [
       "(6147, 1)"
      ]
     },
     "execution_count": 92,
     "metadata": {},
     "output_type": "execute_result"
    }
   ],
   "source": [
    "df = histdailyprice3.copy()\n",
    "stock_prices = df.Close.values.astype('float32')\n",
    "stock_prices = stock_prices.reshape(len(stock_prices), 1)\n",
    "stock_prices.shape"
   ]
  },
  {
   "cell_type": "markdown",
   "id": "0a3c303f-3d8e-4e5c-9b93-c2a9c9a9d17a",
   "metadata": {},
   "source": [
    "# Feature Scaling"
   ]
  },
  {
   "cell_type": "code",
   "execution_count": 93,
   "id": "6d2c2ed2-099a-4d32-a8ce-9913e4f83549",
   "metadata": {},
   "outputs": [],
   "source": [
    "scaler = MinMaxScaler(feature_range=(0, 1))\n",
    "stock_prices = scaler.fit_transform(stock_prices)"
   ]
  },
  {
   "cell_type": "markdown",
   "id": "43c60fd6-27d6-4924-8903-e20b2f272865",
   "metadata": {},
   "source": [
    "# Test Train Split"
   ]
  },
  {
   "cell_type": "code",
   "execution_count": 94,
   "id": "3c2ddb0b-e3b8-4224-a346-473f484f7f0b",
   "metadata": {},
   "outputs": [
    {
     "name": "stdout",
     "output_type": "stream",
     "text": [
      "Train: 4917 Test: 1230\n"
     ]
    }
   ],
   "source": [
    "train_size = int(len(stock_prices) * 0.80)\n",
    "test_size = len(stock_prices) - train_size\n",
    "train, test = stock_prices[0:train_size,:], stock_prices[train_size:len(stock_prices),:]\n",
    "print(\"Train:\", len(train), \"Test:\", len(test))"
   ]
  },
  {
   "cell_type": "code",
   "execution_count": 95,
   "id": "096ba637-c5dd-4259-99e2-c3e734c1b2aa",
   "metadata": {},
   "outputs": [],
   "source": [
    "# convert an array of values into a dataset matrix\n",
    "def create_dataset(dataset, look_back=1):\n",
    "    dataX, dataY = [], []\n",
    "    for i in range(len(dataset)-look_back-1):\n",
    "        a = dataset[i:(i+look_back), 0]\n",
    "        dataX.append(a)\n",
    "        dataY.append(dataset[i + look_back, 0])\n",
    "    return np.array(dataX), np.array(dataY)"
   ]
  },
  {
   "cell_type": "code",
   "execution_count": 96,
   "id": "eeceff33-df19-478f-898f-715990667c01",
   "metadata": {},
   "outputs": [],
   "source": [
    "# reshape into X=t and Y=t+1\n",
    "look_back = 1\n",
    "trainX, trainY = create_dataset(train, look_back)\n",
    "testX, testY = create_dataset(test, look_back)"
   ]
  },
  {
   "cell_type": "code",
   "execution_count": 97,
   "id": "80e41e78-32dd-4eca-a011-4908d9756b71",
   "metadata": {},
   "outputs": [],
   "source": [
    "trainX = np.reshape(trainX, (trainX.shape[0], 1, trainX.shape[1]))\n",
    "testX = np.reshape(testX, (testX.shape[0], 1, testX.shape[1]))"
   ]
  },
  {
   "cell_type": "markdown",
   "id": "9ee156c0-4b8f-4b7f-b495-18a3ea7d3b06",
   "metadata": {},
   "source": [
    "# Build Model"
   ]
  },
  {
   "cell_type": "code",
   "execution_count": 98,
   "id": "4bc6714b-d22f-4598-94f9-78f057be08a4",
   "metadata": {},
   "outputs": [],
   "source": [
    "model = Sequential()\n",
    "\n",
    "# add first layer with dropout\n",
    "model.add(LSTM(units=50, return_sequences=True, input_shape=(train.shape[1],1)))\n",
    "model.add(Dropout(0.2))\n",
    "\n",
    "# add second layer\n",
    "model.add(LSTM(units=50, return_sequences=True))\n",
    "model.add(Dropout(0.2))\n",
    "\n",
    "# add third layer\n",
    "model.add(LSTM(units=50, return_sequences=True))\n",
    "model.add(Dropout(0.2))\n",
    "\n",
    "# add fourth layer\n",
    "model.add(LSTM(units=50))\n",
    "model.add(Dropout(0.2))\n",
    "\n",
    "# the output layer\n",
    "model.add(Dense(units=1))"
   ]
  },
  {
   "cell_type": "markdown",
   "id": "6c24aab9-b742-4b30-8be6-6c91acf18445",
   "metadata": {},
   "source": [
    "# Compile Model"
   ]
  },
  {
   "cell_type": "code",
   "execution_count": 99,
   "id": "b3e90e65-e728-4d88-80df-e9aa32c092c1",
   "metadata": {},
   "outputs": [
    {
     "name": "stdout",
     "output_type": "stream",
     "text": [
      "compilation time :  0.004593849182128906\n"
     ]
    }
   ],
   "source": [
    "start = time.time()\n",
    "model.compile(loss='mse', optimizer='rmsprop')\n",
    "print ('compilation time : ', time.time() - start)"
   ]
  },
  {
   "cell_type": "markdown",
   "id": "b0677034-ed5c-45b3-9500-926413f660cb",
   "metadata": {},
   "source": [
    "# Fit Model"
   ]
  },
  {
   "cell_type": "code",
   "execution_count": 100,
   "id": "7d77af5d-bead-4f02-9854-3cd1b184f8da",
   "metadata": {},
   "outputs": [
    {
     "name": "stdout",
     "output_type": "stream",
     "text": [
      "Epoch 1/10\n",
      "37/37 [==============================] - 8s 28ms/step - loss: 9.1529e-04 - val_loss: 0.0071\n",
      "Epoch 2/10\n",
      "37/37 [==============================] - 0s 8ms/step - loss: 6.7389e-04 - val_loss: 0.0050\n",
      "Epoch 3/10\n",
      "37/37 [==============================] - 0s 7ms/step - loss: 5.8550e-04 - val_loss: 0.0035\n",
      "Epoch 4/10\n",
      "37/37 [==============================] - 0s 7ms/step - loss: 2.7674e-04 - val_loss: 3.6640e-04\n",
      "Epoch 5/10\n",
      "37/37 [==============================] - 0s 8ms/step - loss: 9.5089e-05 - val_loss: 7.9887e-04\n",
      "Epoch 6/10\n",
      "37/37 [==============================] - 0s 7ms/step - loss: 9.7174e-05 - val_loss: 2.2437e-04\n",
      "Epoch 7/10\n",
      "37/37 [==============================] - 0s 7ms/step - loss: 7.8988e-05 - val_loss: 1.5638e-05\n",
      "Epoch 8/10\n",
      "37/37 [==============================] - 0s 7ms/step - loss: 7.7671e-05 - val_loss: 1.5777e-04\n",
      "Epoch 9/10\n",
      "37/37 [==============================] - 0s 7ms/step - loss: 7.0550e-05 - val_loss: 1.4585e-05\n",
      "Epoch 10/10\n",
      "37/37 [==============================] - 0s 7ms/step - loss: 7.2750e-05 - val_loss: 1.2145e-04\n"
     ]
    },
    {
     "data": {
      "text/plain": [
       "<keras.callbacks.History at 0x7fd1e9f89850>"
      ]
     },
     "execution_count": 100,
     "metadata": {},
     "output_type": "execute_result"
    }
   ],
   "source": [
    "model.fit(\n",
    "    trainX,\n",
    "    trainY,\n",
    "    batch_size=128,\n",
    "    epochs=10,\n",
    "    validation_split=0.05)"
   ]
  },
  {
   "cell_type": "markdown",
   "id": "122df902-e9e1-4597-a477-457f356ac1b2",
   "metadata": {},
   "source": [
    "# Prediction"
   ]
  },
  {
   "cell_type": "code",
   "execution_count": 101,
   "id": "42984223-a617-43ed-956a-b1df639e0b53",
   "metadata": {},
   "outputs": [],
   "source": [
    "predicted = model.predict(testX)\n",
    "predicted = scaler.inverse_transform(predicted)"
   ]
  },
  {
   "cell_type": "code",
   "execution_count": 110,
   "id": "81a5c24e-23fa-4f81-87c7-d73c7b44e514",
   "metadata": {},
   "outputs": [],
   "source": [
    "real = scaler.inverse_transform(testY.reshape(-1,1))"
   ]
  },
  {
   "cell_type": "code",
   "execution_count": 111,
   "id": "bb6ccb24-0289-433f-ac2c-c10208d94388",
   "metadata": {},
   "outputs": [
    {
     "data": {
      "image/png": "[encoded data removed]",
      "text/plain": [
       "<Figure size 432x288 with 1 Axes>"
      ]
     },
     "metadata": {
      "needs_background": "light"
     },
     "output_type": "display_data"
    }
   ],
   "source": [
    "# visualizing the results: predicted vs test\n",
    "plt.plot(real, color=\"red\", label=\"real stock price\")\n",
    "plt.plot(predicted, color=\"blue\", label=\"predicted stock price\")\n",
    "plt.title(\"stock price prediction\")\n",
    "plt.xlabel(\"time\")\n",
    "plt.ylabel(\"real stock price\")\n",
    "plt.legend()\n",
    "plt.show()"
   ]
  },
  {
   "cell_type": "code",
   "execution_count": 112,
   "id": "20125d04-a4ff-4aaf-8e34-7136f3695184",
   "metadata": {},
   "outputs": [],
   "source": [
    "# function which calculates root mean squared error\n",
    "def return_rmse(test, predicted):\n",
    "    rmse = math.sqrt(mean_squared_error(test, predicted))\n",
    "    print(\"the root mean squared error is : {}.\".format(rmse))"
   ]
  },
  {
   "cell_type": "code",
   "execution_count": 113,
   "id": "3a25fb28-9e61-4271-acde-19718e47544f",
   "metadata": {},
   "outputs": [
    {
     "name": "stdout",
     "output_type": "stream",
     "text": [
      "the root mean squared error is : 8.979781859197335.\n"
     ]
    }
   ],
   "source": [
    "return_rmse(real, predicted)"
   ]
  },
  {
   "cell_type": "markdown",
   "id": "7570d601-8f0b-43f8-9a63-f8ed6c1396fd",
   "metadata": {},
   "source": [
    "# Evaluation"
   ]
  },
  {
   "cell_type": "code",
   "execution_count": null,
   "id": "90791ef1-42a2-44c7-bfd7-3185bbe2f47c",
   "metadata": {},
   "outputs": [],
   "source": [
    "#### Calculate the metrics RMSE and MAPE ####\n",
    "def calculate_rmse(y_true, y_pred):\n",
    "    \"\"\"\n",
    "    Calculate the Root Mean Squared Error (RMSE)  \n",
    "    \"\"\"\n",
    "    rmse = np.sqrt(np.mean((y_true-y_pred)**2))                   \n",
    "    return rmse\n",
    "\n",
    "def calculate_mape(y_true, y_pred): \n",
    "    \"\"\"\n",
    "    Calculate the Mean Absolute Percentage Error (MAPE) %\n",
    "    \"\"\"\n",
    "    y_pred, y_true = np.array(y_pred), np.array(y_true)    \n",
    "    mape = np.mean(np.abs((y_true-y_pred) / y_true))*100    \n",
    "    return mape"
   ]
  },
  {
   "cell_type": "code",
   "execution_count": null,
   "id": "d95ba052-7b7b-400c-933e-07f8e6075c76",
   "metadata": {},
   "outputs": [],
   "source": [
    "def calculate_perf_metrics(var, logNeptune=True, logmodelName='Simple MA'):\n",
    "    ### RMSE \n",
    "    rmse = calculate_rmse(np.array(stockprices[train_size:]['Close']), np.array(stockprices[train_size:][var]))\n",
    "    ### MAPE \n",
    "    mape = calculate_mape(np.array(stockprices[train_size:]['Close']), np.array(stockprices[train_size:][var]))\n",
    "    \n",
    "    if logNeptune:        \n",
    "        npt_exp.send_metric('RMSE', rmse)\n",
    "        npt_exp.log_metric('RMSE', rmse)\n",
    "        \n",
    "        npt_exp.send_metric('MAPE (%)', mape)\n",
    "        npt_exp.log_metric('MAPE (%)', mape)\n",
    "    \n",
    "    return rmse, mape"
   ]
  },
  {
   "cell_type": "code",
   "execution_count": null,
   "id": "cb30d21e-a97c-4cd3-91dd-f34dc0046c4a",
   "metadata": {},
   "outputs": [],
   "source": [
    "parameters = {\n",
    "    \n",
    "}"
   ]
  }
 ],
 "metadata": {
  "kernelspec": {
   "display_name": "Python 3 (ipykernel)",
   "language": "python",
   "name": "python3"
  },
  "language_info": {
   "codemirror_mode": {
    "name": "ipython",
    "version": 3
   },
   "file_extension": ".py",
   "mimetype": "text/x-python",
   "name": "python",
   "nbconvert_exporter": "python",
   "pygments_lexer": "ipython3",
   "version": "3.8.12"
  }
 },
 "nbformat": 4,
 "nbformat_minor": 5
}
