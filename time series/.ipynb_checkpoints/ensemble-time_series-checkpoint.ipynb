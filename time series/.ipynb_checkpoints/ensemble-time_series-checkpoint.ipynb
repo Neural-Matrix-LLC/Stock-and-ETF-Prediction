{
 "cells": [
  {
   "cell_type": "markdown",
   "id": "1c9a4131-8f86-4101-8cd9-2b79edf0f07d",
   "metadata": {},
   "source": [
    "# Ensemble Time Series"
   ]
  },
  {
   "cell_type": "code",
   "execution_count": 1,
   "id": "3f5f3b1d-6a40-42bf-8ae8-10bfcec1aeca",
   "metadata": {},
   "outputs": [],
   "source": [
    "import numpy as np \n",
    "import pandas as pd\n",
    "import matplotlib.pyplot as plt\n",
    "import timeit\n",
    "\n",
    "import warnings\n",
    "warnings.filterwarnings(\"ignore\")"
   ]
  },
  {
   "cell_type": "markdown",
   "id": "8da12ded-9502-452e-9982-02ebbd3dc1cc",
   "metadata": {},
   "source": [
    "# List of Stocks and ETFs\n",
    "Provided by Thomas Choi."
   ]
  },
  {
   "cell_type": "code",
   "execution_count": 2,
   "id": "a8aa776c-9fc6-4010-afac-7fd8544c03ce",
   "metadata": {},
   "outputs": [],
   "source": [
    "stock_list = pd.read_csv(\"../stocks_and_etfs/stock_list.csv\")\n",
    "etf_list = pd.read_csv(\"../stocks_and_etfs/etf_list.csv\")"
   ]
  },
  {
   "cell_type": "code",
   "execution_count": 3,
   "id": "c30f1e6d-3f0f-4ba8-9e1c-b485fce703dd",
   "metadata": {},
   "outputs": [
    {
     "name": "stdout",
     "output_type": "stream",
     "text": [
      "FCX\n"
     ]
    }
   ],
   "source": [
    "import random\n",
    "\n",
    "# Choose a random stock\n",
    "#stock_symbol = random.choice(stock_list.iloc[:,0])\n",
    "stock_symbol = \"FCX\"\n",
    "print(stock_symbol)"
   ]
  },
  {
   "cell_type": "markdown",
   "id": "23b738c1-e67d-47ab-8276-d4d5332c169f",
   "metadata": {},
   "source": [
    "## MySQL connection\n",
    "Choosing one stock from SQL query to reduce query time."
   ]
  },
  {
   "cell_type": "code",
   "execution_count": 4,
   "id": "77c28066-acb4-455d-aaec-5c32318adb80",
   "metadata": {},
   "outputs": [],
   "source": [
    "import os\n",
    "import sys\n",
    "import mysql.connector\n",
    "\n",
    "HOST=\"143.244.188.157\"\n",
    "PORT=\"3306\"\n",
    "USER=\"patrick-finProj\"\n",
    "PASSWORD=\"Pat#21$rick\"\n",
    "\n",
    "try: \n",
    "    conn = mysql.connector.connect(\n",
    "        host=HOST,\n",
    "        port=PORT,\n",
    "        user=USER,\n",
    "        password=PASSWORD,\n",
    "        database=\"GlobalMarketData\"\n",
    "    )\n",
    "    query = f\"SELECT Date, Close, Open, High, Low, Volume from histdailyprice3 WHERE Symbol='{stock_symbol}';\"\n",
    "    histdailyprice3 = pd.read_sql(query, conn)\n",
    "    conn.close()\n",
    "except Exception as e:\n",
    "    conn.close()\n",
    "    print(str(e))"
   ]
  },
  {
   "cell_type": "markdown",
   "id": "554beeed-0b93-4984-aa6f-9b32f1de6877",
   "metadata": {},
   "source": [
    "# Data"
   ]
  },
  {
   "cell_type": "code",
   "execution_count": 5,
   "id": "282f3ce2-766a-4804-b635-7ef45b9e967a",
   "metadata": {},
   "outputs": [
    {
     "data": {
      "text/html": [
       "<div>\n",
       "<style scoped>\n",
       "    .dataframe tbody tr th:only-of-type {\n",
       "        vertical-align: middle;\n",
       "    }\n",
       "\n",
       "    .dataframe tbody tr th {\n",
       "        vertical-align: top;\n",
       "    }\n",
       "\n",
       "    .dataframe thead th {\n",
       "        text-align: right;\n",
       "    }\n",
       "</style>\n",
       "<table border=\"1\" class=\"dataframe\">\n",
       "  <thead>\n",
       "    <tr style=\"text-align: right;\">\n",
       "      <th></th>\n",
       "      <th>Date</th>\n",
       "      <th>Close</th>\n",
       "      <th>Open</th>\n",
       "      <th>High</th>\n",
       "      <th>Low</th>\n",
       "      <th>Volume</th>\n",
       "    </tr>\n",
       "  </thead>\n",
       "  <tbody>\n",
       "    <tr>\n",
       "      <th>0</th>\n",
       "      <td>1998-01-01</td>\n",
       "      <td>7.875</td>\n",
       "      <td>7.875</td>\n",
       "      <td>7.875</td>\n",
       "      <td>7.875</td>\n",
       "      <td>0</td>\n",
       "    </tr>\n",
       "    <tr>\n",
       "      <th>1</th>\n",
       "      <td>1998-01-02</td>\n",
       "      <td>7.875</td>\n",
       "      <td>8.000</td>\n",
       "      <td>7.875</td>\n",
       "      <td>7.970</td>\n",
       "      <td>279300</td>\n",
       "    </tr>\n",
       "    <tr>\n",
       "      <th>2</th>\n",
       "      <td>1998-01-05</td>\n",
       "      <td>7.970</td>\n",
       "      <td>8.000</td>\n",
       "      <td>7.845</td>\n",
       "      <td>7.875</td>\n",
       "      <td>455300</td>\n",
       "    </tr>\n",
       "    <tr>\n",
       "      <th>3</th>\n",
       "      <td>1998-01-06</td>\n",
       "      <td>7.845</td>\n",
       "      <td>7.875</td>\n",
       "      <td>7.750</td>\n",
       "      <td>7.750</td>\n",
       "      <td>476200</td>\n",
       "    </tr>\n",
       "    <tr>\n",
       "      <th>4</th>\n",
       "      <td>1998-01-07</td>\n",
       "      <td>7.720</td>\n",
       "      <td>7.875</td>\n",
       "      <td>7.685</td>\n",
       "      <td>7.845</td>\n",
       "      <td>464100</td>\n",
       "    </tr>\n",
       "  </tbody>\n",
       "</table>\n",
       "</div>"
      ],
      "text/plain": [
       "         Date  Close   Open   High    Low  Volume\n",
       "0  1998-01-01  7.875  7.875  7.875  7.875       0\n",
       "1  1998-01-02  7.875  8.000  7.875  7.970  279300\n",
       "2  1998-01-05  7.970  8.000  7.845  7.875  455300\n",
       "3  1998-01-06  7.845  7.875  7.750  7.750  476200\n",
       "4  1998-01-07  7.720  7.875  7.685  7.845  464100"
      ]
     },
     "execution_count": 5,
     "metadata": {},
     "output_type": "execute_result"
    }
   ],
   "source": [
    "df = histdailyprice3.copy()\n",
    "df.head()"
   ]
  },
  {
   "cell_type": "markdown",
   "id": "f62ac74e-7881-4db2-ba36-2375af007ba0",
   "metadata": {},
   "source": [
    "# Select Features"
   ]
  },
  {
   "cell_type": "code",
   "execution_count": 33,
   "id": "b1d932a9-f639-4770-b8af-fd9d92d797c0",
   "metadata": {},
   "outputs": [],
   "source": [
    "input_feature = df[['Open', 'High', 'Low', 'Volume', 'Close']]\n",
    "input_data = input_feature.values"
   ]
  },
  {
   "cell_type": "markdown",
   "id": "7e3f4c06-54bb-418d-96cc-517ec2ec035a",
   "metadata": {},
   "source": [
    "# Normalize"
   ]
  },
  {
   "cell_type": "code",
   "execution_count": 34,
   "id": "35805828-3607-472a-b8ac-6c30a206e290",
   "metadata": {},
   "outputs": [],
   "source": [
    "from sklearn.preprocessing import MinMaxScaler\n",
    "scaler = MinMaxScaler(feature_range = (0,1))\n",
    "input_data[:,:] = scaler.fit_transform(input_data[:,:])"
   ]
  },
  {
   "cell_type": "code",
   "execution_count": 36,
   "id": "a38a28c0-a1da-4a69-a055-551416dd5508",
   "metadata": {},
   "outputs": [],
   "source": [
    "lookback = 50\n",
    "total_size=len(df)\n",
    "X=[]\n",
    "y=[]\n",
    "for i in range(0, total_size-lookback):\n",
    "    t=[]\n",
    "    for j in range(0, lookback):\n",
    "        current_index = i+j\n",
    "        t.append(input_data[current_index, :])\n",
    "    X.append(t)\n",
    "    y.append(input_data[lookback+i, 4])"
   ]
  },
  {
   "cell_type": "markdown",
   "id": "98d98c6f-36b8-43e2-b102-4a9978aa8505",
   "metadata": {},
   "source": [
    "# Train-Test Split"
   ]
  },
  {
   "cell_type": "code",
   "execution_count": 37,
   "id": "b612fb3f-880a-4ac2-b013-9061c95a4adc",
   "metadata": {},
   "outputs": [],
   "source": [
    "test_size=100 # 100 days for testing data\n",
    "X, y= np.array(X), np.array(y)\n",
    "X_test = X[:test_size]\n",
    "Y_test = y[:test_size]\n",
    "\n",
    "X_work = X[test_size:]\n",
    "y_work = y[test_size:]\n",
    "\n",
    "validate_size = 10\n",
    "\n",
    "X_valid = X[:validate_size]\n",
    "y_valid = y[:validate_size]\n",
    "X_train = X[validate_size:]\n",
    "y_train = y[validate_size:]"
   ]
  },
  {
   "cell_type": "code",
   "execution_count": 38,
   "id": "750c28f4-fcf6-45e0-ae1c-8dc02b17abf3",
   "metadata": {},
   "outputs": [
    {
     "name": "stdout",
     "output_type": "stream",
     "text": [
      "(6117, 50, 5)\n",
      "(10, 50, 5)\n",
      "(100, 50, 5)\n"
     ]
    }
   ],
   "source": [
    "# Reshape LSTM input layer\n",
    "X_train = X_train.reshape(X_train.shape[0], lookback, 5)\n",
    "X_valid = X_valid.reshape(X_valid.shape[0], lookback, 5)\n",
    "X_test = X_test.reshape(X_test.shape[0], lookback, 5)\n",
    "print(X_train.shape)\n",
    "print(X_valid.shape)\n",
    "print(X_test.shape)"
   ]
  },
  {
   "cell_type": "markdown",
   "id": "e445b467-8979-4b94-961f-0fe943a56079",
   "metadata": {},
   "source": [
    "# Build LSTM Model"
   ]
  },
  {
   "cell_type": "code",
   "execution_count": 41,
   "id": "f95d3954-33f9-4695-a768-68d602c43e4a",
   "metadata": {},
   "outputs": [
    {
     "name": "stdout",
     "output_type": "stream",
     "text": [
      "WARNING:tensorflow:Layer lstm_8 will not use cuDNN kernels since it doesn't meet the criteria. It will use a generic GPU kernel as fallback when running on GPU.\n",
      "WARNING:tensorflow:Layer lstm_9 will not use cuDNN kernels since it doesn't meet the criteria. It will use a generic GPU kernel as fallback when running on GPU.\n",
      "Model: \"sequential_3\"\n",
      "_________________________________________________________________\n",
      " Layer (type)                Output Shape              Param #   \n",
      "=================================================================\n",
      " lstm_8 (LSTM)               (None, 50, 50)            11200     \n",
      "                                                                 \n",
      " lstm_9 (LSTM)               (None, 50, 50)            20200     \n",
      "                                                                 \n",
      " lstm_10 (LSTM)              (None, 50)                20200     \n",
      "                                                                 \n",
      " dense_3 (Dense)             (None, 1)                 51        \n",
      "                                                                 \n",
      "=================================================================\n",
      "Total params: 51,651\n",
      "Trainable params: 51,651\n",
      "Non-trainable params: 0\n",
      "_________________________________________________________________\n"
     ]
    }
   ],
   "source": [
    "from keras import Sequential\n",
    "from keras.layers import Dense, LSTM\n",
    "\n",
    "model = Sequential()\n",
    "model.add(LSTM(50, return_sequences= True, activation='relu', input_shape=(X.shape[1], 5)))\n",
    "model.add(LSTM(50, return_sequences=True, activation='relu'))\n",
    "model.add(LSTM(50))\n",
    "model.add(Dense(1))\n",
    "model.summary()"
   ]
  },
  {
   "cell_type": "markdown",
   "id": "894611c8-d8c6-4be6-b527-8828e0a5a804",
   "metadata": {},
   "source": [
    "# Callbacks\n",
    "**EarlyStoping:** It will stop the traning if score of model didn't increase. This prevent model from overfitting. We are to set max in 10 epoches if it didn't increase then we will stop the training <br>\n",
    "**ReduceLROnPlateau:** Use for reduce the learning rate. In 3 steps the score didn't increase we will reduce the learning rate to improve the training <br>\n",
    "**ModelCheckpoint:** Use for save model only when the score increased"
   ]
  },
  {
   "cell_type": "code",
   "execution_count": 42,
   "id": "22b4a201-c8f2-4c2d-9673-79eeeb05400d",
   "metadata": {},
   "outputs": [],
   "source": [
    "from keras.callbacks import EarlyStopping, ModelCheckpoint, ReduceLROnPlateau\n",
    "\n",
    "callbacks = [\n",
    "    EarlyStopping(patience=10, verbose=1),\n",
    "    ReduceLROnPlateau(factor=0.1, patience=3, min_lr=0.00001, verbose=1),\n",
    "    ModelCheckpoint('model.h5', verbose=1, save_best_only=True, \n",
    "                    save_weights_only=True)\n",
    "]"
   ]
  },
  {
   "cell_type": "markdown",
   "id": "57699d35-5c71-4659-ae71-74bba81e7cd6",
   "metadata": {},
   "source": [
    "# Compile LSTM Model"
   ]
  },
  {
   "cell_type": "code",
   "execution_count": 43,
   "id": "f11af198-3dad-44d8-b5ed-eded89942d70",
   "metadata": {},
   "outputs": [],
   "source": [
    "model.compile(optimizer='adam', \n",
    "              loss='mean_squared_error', \n",
    "              metrics=['accuracy'])"
   ]
  },
  {
   "cell_type": "code",
   "execution_count": 44,
   "id": "d3b4c84c-fa48-4e9d-b6c8-3f3322048ae4",
   "metadata": {},
   "outputs": [
    {
     "name": "stdout",
     "output_type": "stream",
     "text": [
      "Epoch 1/100\n",
      "192/192 [==============================] - ETA: 0s - loss: 0.0058 - accuracy: 3.2696e-04\n",
      "Epoch 1: val_loss improved from inf to 0.00042, saving model to model.h5\n",
      "192/192 [==============================] - 66s 327ms/step - loss: 0.0058 - accuracy: 3.2696e-04 - val_loss: 4.2474e-04 - val_accuracy: 0.0000e+00 - lr: 0.0010\n",
      "Epoch 2/100\n",
      "192/192 [==============================] - ETA: 0s - loss: 7.4934e-04 - accuracy: 3.2696e-04\n",
      "Epoch 2: val_loss improved from 0.00042 to 0.00024, saving model to model.h5\n",
      "192/192 [==============================] - 61s 319ms/step - loss: 7.4934e-04 - accuracy: 3.2696e-04 - val_loss: 2.4027e-04 - val_accuracy: 0.0000e+00 - lr: 0.0010\n",
      "Epoch 3/100\n",
      "192/192 [==============================] - ETA: 0s - loss: 5.2894e-04 - accuracy: 3.2696e-04\n",
      "Epoch 3: val_loss improved from 0.00024 to 0.00020, saving model to model.h5\n",
      "192/192 [==============================] - 61s 319ms/step - loss: 5.2894e-04 - accuracy: 3.2696e-04 - val_loss: 2.0237e-04 - val_accuracy: 0.0000e+00 - lr: 0.0010\n",
      "Epoch 4/100\n",
      "192/192 [==============================] - ETA: 0s - loss: 3.9772e-04 - accuracy: 3.2696e-04\n",
      "Epoch 4: val_loss improved from 0.00020 to 0.00010, saving model to model.h5\n",
      "192/192 [==============================] - 60s 314ms/step - loss: 3.9772e-04 - accuracy: 3.2696e-04 - val_loss: 9.7375e-05 - val_accuracy: 0.0000e+00 - lr: 0.0010\n",
      "Epoch 5/100\n",
      "192/192 [==============================] - ETA: 0s - loss: 2.9400e-04 - accuracy: 3.2696e-04\n",
      "Epoch 5: val_loss did not improve from 0.00010\n",
      "192/192 [==============================] - 60s 312ms/step - loss: 2.9400e-04 - accuracy: 3.2696e-04 - val_loss: 1.2218e-04 - val_accuracy: 0.0000e+00 - lr: 0.0010\n",
      "Epoch 6/100\n",
      "192/192 [==============================] - ETA: 0s - loss: 1.9252e-04 - accuracy: 3.2696e-04\n",
      "Epoch 6: val_loss did not improve from 0.00010\n",
      "192/192 [==============================] - 58s 301ms/step - loss: 1.9252e-04 - accuracy: 3.2696e-04 - val_loss: 1.3231e-04 - val_accuracy: 0.0000e+00 - lr: 0.0010\n",
      "Epoch 7/100\n",
      "192/192 [==============================] - ETA: 0s - loss: 1.7908e-04 - accuracy: 3.2696e-04\n",
      "Epoch 7: ReduceLROnPlateau reducing learning rate to 0.00010000000474974513.\n",
      "\n",
      "Epoch 7: val_loss improved from 0.00010 to 0.00008, saving model to model.h5\n",
      "192/192 [==============================] - 60s 310ms/step - loss: 1.7908e-04 - accuracy: 3.2696e-04 - val_loss: 7.9683e-05 - val_accuracy: 0.0000e+00 - lr: 0.0010\n",
      "Epoch 8/100\n",
      "192/192 [==============================] - ETA: 0s - loss: 1.0479e-04 - accuracy: 3.2696e-04\n",
      "Epoch 8: val_loss improved from 0.00008 to 0.00007, saving model to model.h5\n",
      "192/192 [==============================] - 59s 306ms/step - loss: 1.0479e-04 - accuracy: 3.2696e-04 - val_loss: 7.0125e-05 - val_accuracy: 0.0000e+00 - lr: 1.0000e-04\n",
      "Epoch 9/100\n",
      "192/192 [==============================] - ETA: 0s - loss: 1.0173e-04 - accuracy: 3.2696e-04\n",
      "Epoch 9: val_loss did not improve from 0.00007\n",
      "192/192 [==============================] - 60s 312ms/step - loss: 1.0173e-04 - accuracy: 3.2696e-04 - val_loss: 1.0012e-04 - val_accuracy: 0.0000e+00 - lr: 1.0000e-04\n",
      "Epoch 10/100\n",
      "192/192 [==============================] - ETA: 0s - loss: 1.0025e-04 - accuracy: 3.2696e-04\n",
      "Epoch 10: ReduceLROnPlateau reducing learning rate to 1.0000000474974514e-05.\n",
      "\n",
      "Epoch 10: val_loss improved from 0.00007 to 0.00007, saving model to model.h5\n",
      "192/192 [==============================] - 58s 300ms/step - loss: 1.0025e-04 - accuracy: 3.2696e-04 - val_loss: 6.7506e-05 - val_accuracy: 0.0000e+00 - lr: 1.0000e-04\n",
      "Epoch 11/100\n",
      "192/192 [==============================] - ETA: 0s - loss: 9.6312e-05 - accuracy: 3.2696e-04\n",
      "Epoch 11: val_loss did not improve from 0.00007\n",
      "192/192 [==============================] - 60s 312ms/step - loss: 9.6312e-05 - accuracy: 3.2696e-04 - val_loss: 7.7997e-05 - val_accuracy: 0.0000e+00 - lr: 1.0000e-05\n",
      "Epoch 12/100\n",
      "192/192 [==============================] - ETA: 0s - loss: 9.5567e-05 - accuracy: 3.2696e-04\n",
      "Epoch 12: val_loss did not improve from 0.00007\n",
      "192/192 [==============================] - 60s 310ms/step - loss: 9.5567e-05 - accuracy: 3.2696e-04 - val_loss: 7.3194e-05 - val_accuracy: 0.0000e+00 - lr: 1.0000e-05\n",
      "Epoch 13/100\n",
      "192/192 [==============================] - ETA: 0s - loss: 9.5453e-05 - accuracy: 3.2696e-04\n",
      "Epoch 13: ReduceLROnPlateau reducing learning rate to 1e-05.\n",
      "\n",
      "Epoch 13: val_loss did not improve from 0.00007\n",
      "192/192 [==============================] - 60s 313ms/step - loss: 9.5453e-05 - accuracy: 3.2696e-04 - val_loss: 7.1814e-05 - val_accuracy: 0.0000e+00 - lr: 1.0000e-05\n",
      "Epoch 14/100\n",
      "192/192 [==============================] - ETA: 0s - loss: 9.5409e-05 - accuracy: 3.2696e-04\n",
      "Epoch 14: val_loss did not improve from 0.00007\n",
      "192/192 [==============================] - 59s 305ms/step - loss: 9.5409e-05 - accuracy: 3.2696e-04 - val_loss: 7.0736e-05 - val_accuracy: 0.0000e+00 - lr: 1.0000e-05\n",
      "Epoch 15/100\n",
      "192/192 [==============================] - ETA: 0s - loss: 9.5044e-05 - accuracy: 3.2696e-04\n",
      "Epoch 15: val_loss did not improve from 0.00007\n",
      "192/192 [==============================] - 59s 307ms/step - loss: 9.5044e-05 - accuracy: 3.2696e-04 - val_loss: 7.5156e-05 - val_accuracy: 0.0000e+00 - lr: 1.0000e-05\n",
      "Epoch 16/100\n",
      "192/192 [==============================] - ETA: 0s - loss: 9.4733e-05 - accuracy: 3.2696e-04\n",
      "Epoch 16: val_loss did not improve from 0.00007\n",
      "192/192 [==============================] - 58s 304ms/step - loss: 9.4733e-05 - accuracy: 3.2696e-04 - val_loss: 7.4858e-05 - val_accuracy: 0.0000e+00 - lr: 1.0000e-05\n",
      "Epoch 17/100\n",
      "192/192 [==============================] - ETA: 0s - loss: 9.4424e-05 - accuracy: 3.2696e-04\n",
      "Epoch 17: val_loss improved from 0.00007 to 0.00007, saving model to model.h5\n",
      "192/192 [==============================] - 59s 307ms/step - loss: 9.4424e-05 - accuracy: 3.2696e-04 - val_loss: 6.6101e-05 - val_accuracy: 0.0000e+00 - lr: 1.0000e-05\n",
      "Epoch 18/100\n",
      "192/192 [==============================] - ETA: 0s - loss: 9.4394e-05 - accuracy: 3.2696e-04\n",
      "Epoch 18: val_loss did not improve from 0.00007\n",
      "192/192 [==============================] - 60s 311ms/step - loss: 9.4394e-05 - accuracy: 3.2696e-04 - val_loss: 7.0011e-05 - val_accuracy: 0.0000e+00 - lr: 1.0000e-05\n",
      "Epoch 19/100\n",
      "192/192 [==============================] - ETA: 0s - loss: 9.3806e-05 - accuracy: 3.2696e-04\n",
      "Epoch 19: val_loss did not improve from 0.00007\n",
      "192/192 [==============================] - 60s 310ms/step - loss: 9.3806e-05 - accuracy: 3.2696e-04 - val_loss: 7.1999e-05 - val_accuracy: 0.0000e+00 - lr: 1.0000e-05\n",
      "Epoch 20/100\n",
      "192/192 [==============================] - ETA: 0s - loss: 9.3895e-05 - accuracy: 3.2696e-04\n",
      "Epoch 20: val_loss improved from 0.00007 to 0.00007, saving model to model.h5\n",
      "192/192 [==============================] - 60s 314ms/step - loss: 9.3895e-05 - accuracy: 3.2696e-04 - val_loss: 6.5057e-05 - val_accuracy: 0.0000e+00 - lr: 1.0000e-05\n",
      "Epoch 21/100\n",
      "192/192 [==============================] - ETA: 0s - loss: 9.3247e-05 - accuracy: 3.2696e-04\n",
      "Epoch 21: val_loss did not improve from 0.00007\n",
      "192/192 [==============================] - 60s 312ms/step - loss: 9.3247e-05 - accuracy: 3.2696e-04 - val_loss: 7.0909e-05 - val_accuracy: 0.0000e+00 - lr: 1.0000e-05\n",
      "Epoch 22/100\n",
      "192/192 [==============================] - ETA: 0s - loss: 9.2940e-05 - accuracy: 3.2696e-04\n",
      "Epoch 22: val_loss did not improve from 0.00007\n",
      "192/192 [==============================] - 60s 310ms/step - loss: 9.2940e-05 - accuracy: 3.2696e-04 - val_loss: 6.9747e-05 - val_accuracy: 0.0000e+00 - lr: 1.0000e-05\n",
      "Epoch 23/100\n",
      "192/192 [==============================] - ETA: 0s - loss: 9.2629e-05 - accuracy: 3.2696e-04\n",
      "Epoch 23: val_loss did not improve from 0.00007\n",
      "192/192 [==============================] - 58s 302ms/step - loss: 9.2629e-05 - accuracy: 3.2696e-04 - val_loss: 6.8156e-05 - val_accuracy: 0.0000e+00 - lr: 1.0000e-05\n",
      "Epoch 24/100\n",
      "192/192 [==============================] - ETA: 0s - loss: 9.2075e-05 - accuracy: 3.2696e-04\n",
      "Epoch 24: val_loss did not improve from 0.00007\n",
      "192/192 [==============================] - 59s 307ms/step - loss: 9.2075e-05 - accuracy: 3.2696e-04 - val_loss: 6.8442e-05 - val_accuracy: 0.0000e+00 - lr: 1.0000e-05\n",
      "Epoch 25/100\n",
      "192/192 [==============================] - ETA: 0s - loss: 9.1964e-05 - accuracy: 3.2696e-04\n",
      "Epoch 25: val_loss improved from 0.00007 to 0.00006, saving model to model.h5\n",
      "192/192 [==============================] - 59s 305ms/step - loss: 9.1964e-05 - accuracy: 3.2696e-04 - val_loss: 6.4649e-05 - val_accuracy: 0.0000e+00 - lr: 1.0000e-05\n",
      "Epoch 26/100\n",
      "192/192 [==============================] - ETA: 0s - loss: 9.1688e-05 - accuracy: 3.2696e-04\n",
      "Epoch 26: val_loss did not improve from 0.00006\n",
      "192/192 [==============================] - 59s 308ms/step - loss: 9.1688e-05 - accuracy: 3.2696e-04 - val_loss: 7.8543e-05 - val_accuracy: 0.0000e+00 - lr: 1.0000e-05\n",
      "Epoch 27/100\n",
      "192/192 [==============================] - ETA: 0s - loss: 9.1507e-05 - accuracy: 3.2696e-04\n",
      "Epoch 27: val_loss did not improve from 0.00006\n",
      "192/192 [==============================] - 60s 313ms/step - loss: 9.1507e-05 - accuracy: 3.2696e-04 - val_loss: 7.2014e-05 - val_accuracy: 0.0000e+00 - lr: 1.0000e-05\n",
      "Epoch 28/100\n",
      "192/192 [==============================] - ETA: 0s - loss: 9.0791e-05 - accuracy: 3.2696e-04\n",
      "Epoch 28: val_loss did not improve from 0.00006\n",
      "192/192 [==============================] - 59s 309ms/step - loss: 9.0791e-05 - accuracy: 3.2696e-04 - val_loss: 6.6884e-05 - val_accuracy: 0.0000e+00 - lr: 1.0000e-05\n",
      "Epoch 29/100\n",
      "192/192 [==============================] - ETA: 0s - loss: 9.0862e-05 - accuracy: 3.2696e-04\n",
      "Epoch 29: val_loss improved from 0.00006 to 0.00006, saving model to model.h5\n",
      "192/192 [==============================] - 59s 309ms/step - loss: 9.0862e-05 - accuracy: 3.2696e-04 - val_loss: 6.4427e-05 - val_accuracy: 0.0000e+00 - lr: 1.0000e-05\n",
      "Epoch 30/100\n",
      "192/192 [==============================] - ETA: 0s - loss: 9.0105e-05 - accuracy: 3.2696e-04\n",
      "Epoch 30: val_loss did not improve from 0.00006\n",
      "192/192 [==============================] - 61s 315ms/step - loss: 9.0105e-05 - accuracy: 3.2696e-04 - val_loss: 6.8700e-05 - val_accuracy: 0.0000e+00 - lr: 1.0000e-05\n",
      "Epoch 31/100\n",
      "192/192 [==============================] - ETA: 0s - loss: 9.0171e-05 - accuracy: 3.2696e-04\n",
      "Epoch 31: val_loss improved from 0.00006 to 0.00005, saving model to model.h5\n",
      "192/192 [==============================] - 58s 303ms/step - loss: 9.0171e-05 - accuracy: 3.2696e-04 - val_loss: 5.1097e-05 - val_accuracy: 0.0000e+00 - lr: 1.0000e-05\n",
      "Epoch 32/100\n",
      "192/192 [==============================] - ETA: 0s - loss: 9.0083e-05 - accuracy: 3.2696e-04\n",
      "Epoch 32: val_loss did not improve from 0.00005\n",
      "192/192 [==============================] - 59s 307ms/step - loss: 9.0083e-05 - accuracy: 3.2696e-04 - val_loss: 6.1357e-05 - val_accuracy: 0.0000e+00 - lr: 1.0000e-05\n",
      "Epoch 33/100\n",
      "192/192 [==============================] - ETA: 0s - loss: 8.9416e-05 - accuracy: 3.2696e-04\n",
      "Epoch 33: val_loss did not improve from 0.00005\n",
      "192/192 [==============================] - 60s 310ms/step - loss: 8.9416e-05 - accuracy: 3.2696e-04 - val_loss: 6.8267e-05 - val_accuracy: 0.0000e+00 - lr: 1.0000e-05\n",
      "Epoch 34/100\n",
      "192/192 [==============================] - ETA: 0s - loss: 8.9049e-05 - accuracy: 3.2696e-04\n",
      "Epoch 34: val_loss did not improve from 0.00005\n",
      "192/192 [==============================] - 59s 310ms/step - loss: 8.9049e-05 - accuracy: 3.2696e-04 - val_loss: 6.9124e-05 - val_accuracy: 0.0000e+00 - lr: 1.0000e-05\n",
      "Epoch 35/100\n",
      "192/192 [==============================] - ETA: 0s - loss: 8.8614e-05 - accuracy: 3.2696e-04\n",
      "Epoch 35: val_loss did not improve from 0.00005\n",
      "192/192 [==============================] - 60s 310ms/step - loss: 8.8614e-05 - accuracy: 3.2696e-04 - val_loss: 6.3331e-05 - val_accuracy: 0.0000e+00 - lr: 1.0000e-05\n",
      "Epoch 36/100\n",
      "192/192 [==============================] - ETA: 0s - loss: 8.8464e-05 - accuracy: 3.2696e-04\n",
      "Epoch 36: val_loss did not improve from 0.00005\n",
      "192/192 [==============================] - 61s 317ms/step - loss: 8.8464e-05 - accuracy: 3.2696e-04 - val_loss: 7.3682e-05 - val_accuracy: 0.0000e+00 - lr: 1.0000e-05\n",
      "Epoch 37/100\n",
      "192/192 [==============================] - ETA: 0s - loss: 8.8247e-05 - accuracy: 3.2696e-04\n",
      "Epoch 37: val_loss did not improve from 0.00005\n",
      "192/192 [==============================] - 63s 326ms/step - loss: 8.8247e-05 - accuracy: 3.2696e-04 - val_loss: 6.8707e-05 - val_accuracy: 0.0000e+00 - lr: 1.0000e-05\n",
      "Epoch 38/100\n",
      "192/192 [==============================] - ETA: 0s - loss: 8.8046e-05 - accuracy: 3.2696e-04\n",
      "Epoch 38: val_loss did not improve from 0.00005\n",
      "192/192 [==============================] - 58s 301ms/step - loss: 8.8046e-05 - accuracy: 3.2696e-04 - val_loss: 6.0705e-05 - val_accuracy: 0.0000e+00 - lr: 1.0000e-05\n",
      "Epoch 39/100\n",
      "192/192 [==============================] - ETA: 0s - loss: 8.7006e-05 - accuracy: 3.2696e-04\n",
      "Epoch 39: val_loss did not improve from 0.00005\n",
      "192/192 [==============================] - 58s 302ms/step - loss: 8.7006e-05 - accuracy: 3.2696e-04 - val_loss: 6.3902e-05 - val_accuracy: 0.0000e+00 - lr: 1.0000e-05\n",
      "Epoch 40/100\n",
      "192/192 [==============================] - ETA: 0s - loss: 8.7566e-05 - accuracy: 3.2696e-04\n",
      "Epoch 40: val_loss did not improve from 0.00005\n",
      "192/192 [==============================] - 59s 305ms/step - loss: 8.7566e-05 - accuracy: 3.2696e-04 - val_loss: 7.7998e-05 - val_accuracy: 0.0000e+00 - lr: 1.0000e-05\n",
      "Epoch 41/100\n",
      "192/192 [==============================] - ETA: 0s - loss: 8.6925e-05 - accuracy: 3.2696e-04\n",
      "Epoch 41: val_loss did not improve from 0.00005\n",
      "192/192 [==============================] - 59s 307ms/step - loss: 8.6925e-05 - accuracy: 3.2696e-04 - val_loss: 6.7380e-05 - val_accuracy: 0.0000e+00 - lr: 1.0000e-05\n",
      "Epoch 41: early stopping\n"
     ]
    },
    {
     "data": {
      "text/plain": [
       "<keras.callbacks.History at 0x2157e2f0730>"
      ]
     },
     "execution_count": 44,
     "metadata": {},
     "output_type": "execute_result"
    }
   ],
   "source": [
    "start = timeit.default_timer()\n",
    "\n",
    "model.fit(X_train, y_train, \n",
    "          epochs=100, batch_size=32, \n",
    "          validation_data=(X_valid, y_valid), callbacks=callbacks)\n",
    "\n",
    "stop = timeit.default_timer()\n",
    "print('Time: ', stop - start)"
   ]
  },
  {
   "cell_type": "markdown",
   "id": "eacdd9ea-819e-4a19-aef7-cef789751ae8",
   "metadata": {},
   "source": [
    "# Prediction"
   ]
  },
  {
   "cell_type": "code",
   "execution_count": 11,
   "id": "87b97e7c-2c0d-4f14-9e48-dae0249cb6c3",
   "metadata": {},
   "outputs": [
    {
     "name": "stdout",
     "output_type": "stream",
     "text": [
      "WARNING:tensorflow:Layer lstm will not use cuDNN kernels since it doesn't meet the criteria. It will use a generic GPU kernel as fallback when running on GPU.\n",
      "WARNING:tensorflow:Layer lstm_1 will not use cuDNN kernels since it doesn't meet the criteria. It will use a generic GPU kernel as fallback when running on GPU.\n"
     ]
    }
   ],
   "source": [
    "from tensorflow.keras.models import Sequential\n",
    "from tensorflow.keras.layers import LSTM\n",
    "from tensorflow.keras.layers import Dense, Dropout, Activation, Flatten\n",
    "\n",
    "# Time the grid search\n",
    "start = timeit.default_timer()\n",
    "\n",
    "model = Sequential()\n",
    "# Identifying the number of hidden neurons, the activation function,  and input shape\n",
    "model.add(LSTM(512, activation='relu', \n",
    "               input_shape=(n_steps, n_features), \n",
    "               return_sequences=True))\n",
    "# Adding a dropout layer to prevent overfitting\n",
    "model.add(Dropout(0.2))\n",
    "# Adding one more hidden layer with 256 neurons, with a relu activation function\n",
    "model.add(LSTM(256,activation='relu'))\n",
    "# Flattening the model to vectorize the three-dimensional matrix\n",
    "model.add(Flatten())\n",
    "# Adding an output layer with a linear activation function\n",
    "model.add(Dense(1, activation='linear'))\n",
    "# Compiling LSTM with Root Mean Square Propagation and mean squared error (MSE)\n",
    "model.compile(optimizer='rmsprop', loss='mean_squared_error',\n",
    "                       metrics=['mse'])\n",
    "\n",
    "stop = timeit.default_timer()\n",
    "print('Time: ', stop - start)"
   ]
  },
  {
   "cell_type": "markdown",
   "id": "8ba525e7-46da-4d78-89d3-379f066e0d13",
   "metadata": {},
   "source": [
    "# Visualize prediction"
   ]
  },
  {
   "cell_type": "code",
   "execution_count": 45,
   "id": "6b747ef2-c45e-4fb5-95ab-8d012820d655",
   "metadata": {},
   "outputs": [],
   "source": [
    "predicted_value = model.predict(X_test)"
   ]
  },
  {
   "cell_type": "code",
   "execution_count": 49,
   "id": "65951a3a-d79b-4fad-b449-c1b177c733c4",
   "metadata": {},
   "outputs": [
    {
     "data": {
      "image/png": "[encoded data removed]",
      "text/plain": [
       "<Figure size 1296x576 with 1 Axes>"
      ]
     },
     "metadata": {
      "needs_background": "light"
     },
     "output_type": "display_data"
    }
   ],
   "source": [
    "plt.figure(figsize=(18, 8))\n",
    "plt.plot(predicted_value, color= 'red')\n",
    "plt.plot(Y_test, color='green')\n",
    "plt.title(\"Close price of stocks sold\")\n",
    "plt.xlabel(\"Time\")\n",
    "plt.ylabel(\"Stock Opening Price\")\n",
    "plt.show()"
   ]
  },
  {
   "cell_type": "code",
   "execution_count": 12,
   "id": "c3633f83-6dc3-4b96-9585-4ffc1740400c",
   "metadata": {},
   "outputs": [],
   "source": [
    "history = model.fit(X_train, y_train,\n",
    "                    epochs=400, batch_size=150, verbose=0,\n",
    "                    validation_split = 0.10)"
   ]
  },
  {
   "cell_type": "code",
   "execution_count": 14,
   "id": "17a9b85e-ab8b-413d-a507-bfd6334395c2",
   "metadata": {},
   "outputs": [],
   "source": [
    "start = X_train[X_train.shape[0] - 13]\n",
    "x_input = start\n",
    "x_input = x_input.reshape((1, n_steps, n_features))"
   ]
  },
  {
   "cell_type": "code",
   "execution_count": 19,
   "id": "7f3e24a3-820f-459f-b7d3-1488b06852e8",
   "metadata": {},
   "outputs": [],
   "source": [
    "tempList = []\n",
    "for i in range(len(diff_test)):\n",
    "    x_input = x_input.reshape((1, n_steps, n_features))\n",
    "    yhat = model.predict(x_input, verbose=0)\n",
    "    x_input = np.append(x_input, yhat)\n",
    "    x_input = x_input[1:]\n",
    "    tempList.append(yhat)"
   ]
  },
  {
   "cell_type": "code",
   "execution_count": 31,
   "id": "526ace37-803b-4b55-9d09-d765154c0102",
   "metadata": {},
   "outputs": [
    {
     "data": {
      "image/png": "[encoded data removed]",
      "text/plain": [
       "<Figure size 432x288 with 1 Axes>"
      ]
     },
     "metadata": {
      "needs_background": "light"
     },
     "output_type": "display_data"
    }
   ],
   "source": [
    "fig, ax = plt.subplots()\n",
    "#ax.plot(diff_test, label='Actual Stock Price', linestyle='--')\n",
    "ax.plot(np.array(tempList).flatten(),\n",
    "        linestyle='solid', label=\"Prediction\")\n",
    "ax.set_title('Predicted Stock Price')\n",
    "ax.legend(loc='best')\n",
    "plt.show()"
   ]
  },
  {
   "cell_type": "code",
   "execution_count": null,
   "id": "54459740-403c-4859-8334-e1a43e19931d",
   "metadata": {},
   "outputs": [],
   "source": []
  }
 ],
 "metadata": {
  "kernelspec": {
   "display_name": "Python 3 (ipykernel)",
   "language": "python",
   "name": "python3"
  },
  "language_info": {
   "codemirror_mode": {
    "name": "ipython",
    "version": 3
   },
   "file_extension": ".py",
   "mimetype": "text/x-python",
   "name": "python",
   "nbconvert_exporter": "python",
   "pygments_lexer": "ipython3",
   "version": "3.8.12"
  }
 },
 "nbformat": 4,
 "nbformat_minor": 5
}
