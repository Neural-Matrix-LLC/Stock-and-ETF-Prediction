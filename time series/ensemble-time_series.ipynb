{
 "cells": [
  {
   "cell_type": "markdown",
   "id": "1c9a4131-8f86-4101-8cd9-2b79edf0f07d",
   "metadata": {},
   "source": [
    "# Ensemble Time Series"
   ]
  },
  {
   "cell_type": "code",
   "execution_count": 1,
   "id": "3f5f3b1d-6a40-42bf-8ae8-10bfcec1aeca",
   "metadata": {},
   "outputs": [],
   "source": [
    "import numpy as np \n",
    "import pandas as pd\n",
    "import matplotlib.pyplot as plt\n",
    "import timeit\n",
    "\n",
    "import warnings\n",
    "warnings.filterwarnings(\"ignore\")"
   ]
  },
  {
   "cell_type": "markdown",
   "id": "8da12ded-9502-452e-9982-02ebbd3dc1cc",
   "metadata": {},
   "source": [
    "# List of Stocks and ETFs\n",
    "Provided by Thomas Choi."
   ]
  },
  {
   "cell_type": "code",
   "execution_count": 2,
   "id": "a8aa776c-9fc6-4010-afac-7fd8544c03ce",
   "metadata": {},
   "outputs": [],
   "source": [
    "stock_list = pd.read_csv(\"../stocks_and_etfs/stock_list.csv\")\n",
    "etf_list = pd.read_csv(\"../stocks_and_etfs/etf_list.csv\")"
   ]
  },
  {
   "cell_type": "code",
   "execution_count": 3,
   "id": "c30f1e6d-3f0f-4ba8-9e1c-b485fce703dd",
   "metadata": {},
   "outputs": [
    {
     "name": "stdout",
     "output_type": "stream",
     "text": [
      "FCX\n"
     ]
    }
   ],
   "source": [
    "import random\n",
    "\n",
    "# Choose a random stock\n",
    "stock_symbol = random.choice(stock_list.iloc[:,0])\n",
    "print(stock_symbol)"
   ]
  },
  {
   "cell_type": "markdown",
   "id": "23b738c1-e67d-47ab-8276-d4d5332c169f",
   "metadata": {},
   "source": [
    "## MySQL connection\n",
    "Choosing one stock from SQL query to reduce query time."
   ]
  },
  {
   "cell_type": "code",
   "execution_count": 4,
   "id": "77c28066-acb4-455d-aaec-5c32318adb80",
   "metadata": {},
   "outputs": [],
   "source": [
    "import os\n",
    "import sys\n",
    "import mysql.connector\n",
    "\n",
    "HOST=\"143.244.188.157\"\n",
    "PORT=\"3306\"\n",
    "USER=\"patrick-finProj\"\n",
    "PASSWORD=\"Pat#21$rick\"\n",
    "\n",
    "try: \n",
    "    conn = mysql.connector.connect(\n",
    "        host=HOST,\n",
    "        port=PORT,\n",
    "        user=USER,\n",
    "        password=PASSWORD,\n",
    "        database=\"GlobalMarketData\"\n",
    "    )\n",
    "    query = f\"SELECT Date, Close, Open, High, Low, Volume from histdailyprice3 WHERE Symbol='{stock_symbol}';\"\n",
    "    histdailyprice3 = pd.read_sql(query, conn)\n",
    "    conn.close()\n",
    "except Exception as e:\n",
    "    conn.close()\n",
    "    print(str(e))"
   ]
  },
  {
   "cell_type": "markdown",
   "id": "554beeed-0b93-4984-aa6f-9b32f1de6877",
   "metadata": {},
   "source": [
    "# Data"
   ]
  },
  {
   "cell_type": "code",
   "execution_count": 5,
   "id": "282f3ce2-766a-4804-b635-7ef45b9e967a",
   "metadata": {},
   "outputs": [
    {
     "data": {
      "text/html": [
       "<div>\n",
       "<style scoped>\n",
       "    .dataframe tbody tr th:only-of-type {\n",
       "        vertical-align: middle;\n",
       "    }\n",
       "\n",
       "    .dataframe tbody tr th {\n",
       "        vertical-align: top;\n",
       "    }\n",
       "\n",
       "    .dataframe thead th {\n",
       "        text-align: right;\n",
       "    }\n",
       "</style>\n",
       "<table border=\"1\" class=\"dataframe\">\n",
       "  <thead>\n",
       "    <tr style=\"text-align: right;\">\n",
       "      <th></th>\n",
       "      <th>Date</th>\n",
       "      <th>Close</th>\n",
       "      <th>Open</th>\n",
       "      <th>High</th>\n",
       "      <th>Low</th>\n",
       "      <th>Volume</th>\n",
       "    </tr>\n",
       "  </thead>\n",
       "  <tbody>\n",
       "    <tr>\n",
       "      <th>0</th>\n",
       "      <td>1998-01-01</td>\n",
       "      <td>7.875</td>\n",
       "      <td>7.875</td>\n",
       "      <td>7.875</td>\n",
       "      <td>7.875</td>\n",
       "      <td>0</td>\n",
       "    </tr>\n",
       "    <tr>\n",
       "      <th>1</th>\n",
       "      <td>1998-01-02</td>\n",
       "      <td>7.875</td>\n",
       "      <td>8.000</td>\n",
       "      <td>7.875</td>\n",
       "      <td>7.970</td>\n",
       "      <td>279300</td>\n",
       "    </tr>\n",
       "    <tr>\n",
       "      <th>2</th>\n",
       "      <td>1998-01-05</td>\n",
       "      <td>7.970</td>\n",
       "      <td>8.000</td>\n",
       "      <td>7.845</td>\n",
       "      <td>7.875</td>\n",
       "      <td>455300</td>\n",
       "    </tr>\n",
       "    <tr>\n",
       "      <th>3</th>\n",
       "      <td>1998-01-06</td>\n",
       "      <td>7.845</td>\n",
       "      <td>7.875</td>\n",
       "      <td>7.750</td>\n",
       "      <td>7.750</td>\n",
       "      <td>476200</td>\n",
       "    </tr>\n",
       "    <tr>\n",
       "      <th>4</th>\n",
       "      <td>1998-01-07</td>\n",
       "      <td>7.720</td>\n",
       "      <td>7.875</td>\n",
       "      <td>7.685</td>\n",
       "      <td>7.845</td>\n",
       "      <td>464100</td>\n",
       "    </tr>\n",
       "  </tbody>\n",
       "</table>\n",
       "</div>"
      ],
      "text/plain": [
       "         Date  Close   Open   High    Low  Volume\n",
       "0  1998-01-01  7.875  7.875  7.875  7.875       0\n",
       "1  1998-01-02  7.875  8.000  7.875  7.970  279300\n",
       "2  1998-01-05  7.970  8.000  7.845  7.875  455300\n",
       "3  1998-01-06  7.845  7.875  7.750  7.750  476200\n",
       "4  1998-01-07  7.720  7.875  7.685  7.845  464100"
      ]
     },
     "execution_count": 5,
     "metadata": {},
     "output_type": "execute_result"
    }
   ],
   "source": [
    "df = histdailyprice3.copy()\n",
    "df.head()"
   ]
  },
  {
   "cell_type": "markdown",
   "id": "f62ac74e-7881-4db2-ba36-2375af007ba0",
   "metadata": {},
   "source": [
    "# Select Features"
   ]
  },
  {
   "cell_type": "code",
   "execution_count": 33,
   "id": "b1d932a9-f639-4770-b8af-fd9d92d797c0",
   "metadata": {},
   "outputs": [],
   "source": [
    "input_feature = df[['Open', 'High', 'Low', 'Volume', 'Close']]\n",
    "input_data = input_feature.values"
   ]
  },
  {
   "cell_type": "markdown",
   "id": "7e3f4c06-54bb-418d-96cc-517ec2ec035a",
   "metadata": {},
   "source": [
    "# Normalize"
   ]
  },
  {
   "cell_type": "code",
   "execution_count": 34,
   "id": "35805828-3607-472a-b8ac-6c30a206e290",
   "metadata": {},
   "outputs": [],
   "source": [
    "from sklearn.preprocessing import MinMaxScaler\n",
    "scaler = MinMaxScaler(feature_range = (0,1))\n",
    "input_data[:,:] = scaler.fit_transform(input_data[:,:])"
   ]
  },
  {
   "cell_type": "code",
   "execution_count": 36,
   "id": "a38a28c0-a1da-4a69-a055-551416dd5508",
   "metadata": {},
   "outputs": [],
   "source": [
    "lookback = 50\n",
    "total_size=len(df)\n",
    "X=[]\n",
    "y=[]\n",
    "for i in range(0, total_size-lookback):\n",
    "    t=[]\n",
    "    for j in range(0, lookback):\n",
    "        current_index = i+j\n",
    "        t.append(input_data[current_index, :])\n",
    "    X.append(t)\n",
    "    y.append(input_data[lookback+i, 4])"
   ]
  },
  {
   "cell_type": "markdown",
   "id": "98d98c6f-36b8-43e2-b102-4a9978aa8505",
   "metadata": {},
   "source": [
    "# Train-Test Split"
   ]
  },
  {
   "cell_type": "code",
   "execution_count": 37,
   "id": "b612fb3f-880a-4ac2-b013-9061c95a4adc",
   "metadata": {},
   "outputs": [],
   "source": [
    "test_size=100 # 100 days for testing data\n",
    "X, y= np.array(X), np.array(y)\n",
    "X_test = X[:test_size]\n",
    "Y_test = y[:test_size]\n",
    "\n",
    "X_work = X[test_size:]\n",
    "y_work = y[test_size:]\n",
    "\n",
    "validate_size = 10\n",
    "\n",
    "X_valid = X[:validate_size]\n",
    "y_valid = y[:validate_size]\n",
    "X_train = X[validate_size:]\n",
    "y_train = y[validate_size:]"
   ]
  },
  {
   "cell_type": "code",
   "execution_count": 38,
   "id": "750c28f4-fcf6-45e0-ae1c-8dc02b17abf3",
   "metadata": {},
   "outputs": [
    {
     "name": "stdout",
     "output_type": "stream",
     "text": [
      "(6117, 50, 5)\n",
      "(10, 50, 5)\n",
      "(100, 50, 5)\n"
     ]
    }
   ],
   "source": [
    "# Reshape LSTM input layer\n",
    "X_train = X_train.reshape(X_train.shape[0], lookback, 5)\n",
    "X_valid = X_valid.reshape(X_valid.shape[0], lookback, 5)\n",
    "X_test = X_test.reshape(X_test.shape[0], lookback, 5)\n",
    "print(X_train.shape)\n",
    "print(X_valid.shape)\n",
    "print(X_test.shape)"
   ]
  },
  {
   "cell_type": "markdown",
   "id": "e445b467-8979-4b94-961f-0fe943a56079",
   "metadata": {},
   "source": [
    "# Build LSTM Model"
   ]
  },
  {
   "cell_type": "code",
   "execution_count": 41,
   "id": "f95d3954-33f9-4695-a768-68d602c43e4a",
   "metadata": {},
   "outputs": [
    {
     "name": "stdout",
     "output_type": "stream",
     "text": [
      "WARNING:tensorflow:Layer lstm_8 will not use cuDNN kernels since it doesn't meet the criteria. It will use a generic GPU kernel as fallback when running on GPU.\n",
      "WARNING:tensorflow:Layer lstm_9 will not use cuDNN kernels since it doesn't meet the criteria. It will use a generic GPU kernel as fallback when running on GPU.\n",
      "Model: \"sequential_3\"\n",
      "_________________________________________________________________\n",
      " Layer (type)                Output Shape              Param #   \n",
      "=================================================================\n",
      " lstm_8 (LSTM)               (None, 50, 50)            11200     \n",
      "                                                                 \n",
      " lstm_9 (LSTM)               (None, 50, 50)            20200     \n",
      "                                                                 \n",
      " lstm_10 (LSTM)              (None, 50)                20200     \n",
      "                                                                 \n",
      " dense_3 (Dense)             (None, 1)                 51        \n",
      "                                                                 \n",
      "=================================================================\n",
      "Total params: 51,651\n",
      "Trainable params: 51,651\n",
      "Non-trainable params: 0\n",
      "_________________________________________________________________\n"
     ]
    }
   ],
   "source": [
    "from keras import Sequential\n",
    "from keras.layers import Dense, LSTM\n",
    "\n",
    "model = Sequential()\n",
    "model.add(LSTM(50, return_sequences= True, activation='relu', input_shape=(X.shape[1], 5)))\n",
    "model.add(LSTM(50, return_sequences=True, activation='relu'))\n",
    "model.add(LSTM(50))\n",
    "model.add(Dense(1))\n",
    "model.summary()"
   ]
  },
  {
   "cell_type": "markdown",
   "id": "894611c8-d8c6-4be6-b527-8828e0a5a804",
   "metadata": {},
   "source": [
    "# Callbacks\n",
    "**EarlyStoping:** It will stop the traning if score of model didn't increase. This prevent model from overfitting. We are to set max in 10 epoches if it didn't increase then we will stop the training <br>\n",
    "**ReduceLROnPlateau:** Use for reduce the learning rate. In 3 steps the score didn't increase we will reduce the learning rate to improve the training <br>\n",
    "**ModelCheckpoint:** Use for save model only when the score increased"
   ]
  },
  {
   "cell_type": "code",
   "execution_count": 42,
   "id": "22b4a201-c8f2-4c2d-9673-79eeeb05400d",
   "metadata": {},
   "outputs": [],
   "source": [
    "from keras.callbacks import EarlyStopping, ModelCheckpoint, ReduceLROnPlateau\n",
    "\n",
    "callbacks = [\n",
    "    EarlyStopping(patience=10, verbose=1),\n",
    "    ReduceLROnPlateau(factor=0.1, patience=3, min_lr=0.00001, verbose=1),\n",
    "    ModelCheckpoint('model.h5', verbose=1, save_best_only=True, save_weights_only=True)\n",
    "]"
   ]
  },
  {
   "cell_type": "code",
   "execution_count": null,
   "id": "7316305f-de09-47e8-84eb-55eb4bc4a23a",
   "metadata": {},
   "outputs": [],
   "source": []
  },
  {
   "cell_type": "code",
   "execution_count": 11,
   "id": "87b97e7c-2c0d-4f14-9e48-dae0249cb6c3",
   "metadata": {},
   "outputs": [
    {
     "name": "stdout",
     "output_type": "stream",
     "text": [
      "WARNING:tensorflow:Layer lstm will not use cuDNN kernels since it doesn't meet the criteria. It will use a generic GPU kernel as fallback when running on GPU.\n",
      "WARNING:tensorflow:Layer lstm_1 will not use cuDNN kernels since it doesn't meet the criteria. It will use a generic GPU kernel as fallback when running on GPU.\n"
     ]
    }
   ],
   "source": [
    "from tensorflow.keras.models import Sequential\n",
    "from tensorflow.keras.layers import LSTM\n",
    "from tensorflow.keras.layers import Dense, Dropout, Activation, Flatten\n",
    "\n",
    "# Time the grid search\n",
    "start = timeit.default_timer()\n",
    "\n",
    "model = Sequential()\n",
    "# Identifying the number of hidden neurons, the activation function,  and input shape\n",
    "model.add(LSTM(512, activation='relu', \n",
    "               input_shape=(n_steps, n_features), \n",
    "               return_sequences=True))\n",
    "# Adding a dropout layer to prevent overfitting\n",
    "model.add(Dropout(0.2))\n",
    "# Adding one more hidden layer with 256 neurons, with a relu activation function\n",
    "model.add(LSTM(256,activation='relu'))\n",
    "# Flattening the model to vectorize the three-dimensional matrix\n",
    "model.add(Flatten())\n",
    "# Adding an output layer with a linear activation function\n",
    "model.add(Dense(1, activation='linear'))\n",
    "# Compiling LSTM with Root Mean Square Propagation and mean squared error (MSE)\n",
    "model.compile(optimizer='rmsprop', loss='mean_squared_error',\n",
    "                       metrics=['mse'])\n",
    "\n",
    "stop = timeit.default_timer()\n",
    "print('Time: ', stop - start)"
   ]
  },
  {
   "cell_type": "code",
   "execution_count": 12,
   "id": "c3633f83-6dc3-4b96-9585-4ffc1740400c",
   "metadata": {},
   "outputs": [],
   "source": [
    "history = model.fit(X_train, y_train,\n",
    "                    epochs=400, batch_size=150, verbose=0,\n",
    "                    validation_split = 0.10)"
   ]
  },
  {
   "cell_type": "code",
   "execution_count": 14,
   "id": "17a9b85e-ab8b-413d-a507-bfd6334395c2",
   "metadata": {},
   "outputs": [],
   "source": [
    "start = X_train[X_train.shape[0] - 13]\n",
    "x_input = start\n",
    "x_input = x_input.reshape((1, n_steps, n_features))"
   ]
  },
  {
   "cell_type": "code",
   "execution_count": 19,
   "id": "7f3e24a3-820f-459f-b7d3-1488b06852e8",
   "metadata": {},
   "outputs": [],
   "source": [
    "tempList = []\n",
    "for i in range(len(diff_test)):\n",
    "    x_input = x_input.reshape((1, n_steps, n_features))\n",
    "    yhat = model.predict(x_input, verbose=0)\n",
    "    x_input = np.append(x_input, yhat)\n",
    "    x_input = x_input[1:]\n",
    "    tempList.append(yhat)"
   ]
  },
  {
   "cell_type": "code",
   "execution_count": 31,
   "id": "526ace37-803b-4b55-9d09-d765154c0102",
   "metadata": {},
   "outputs": [
    {
     "data": {
      "image/png": "[encoded data removed]",
      "text/plain": [
       "<Figure size 432x288 with 1 Axes>"
      ]
     },
     "metadata": {
      "needs_background": "light"
     },
     "output_type": "display_data"
    }
   ],
   "source": [
    "fig, ax = plt.subplots()\n",
    "#ax.plot(diff_test, label='Actual Stock Price', linestyle='--')\n",
    "ax.plot(np.array(tempList).flatten(),\n",
    "        linestyle='solid', label=\"Prediction\")\n",
    "ax.set_title('Predicted Stock Price')\n",
    "ax.legend(loc='best')\n",
    "plt.show()"
   ]
  },
  {
   "cell_type": "code",
   "execution_count": null,
   "id": "54459740-403c-4859-8334-e1a43e19931d",
   "metadata": {},
   "outputs": [],
   "source": []
  }
 ],
 "metadata": {
  "kernelspec": {
   "display_name": "Python 3 (ipykernel)",
   "language": "python",
   "name": "python3"
  },
  "language_info": {
   "codemirror_mode": {
    "name": "ipython",
    "version": 3
   },
   "file_extension": ".py",
   "mimetype": "text/x-python",
   "name": "python",
   "nbconvert_exporter": "python",
   "pygments_lexer": "ipython3",
   "version": "3.8.12"
  }
 },
 "nbformat": 4,
 "nbformat_minor": 5
}
