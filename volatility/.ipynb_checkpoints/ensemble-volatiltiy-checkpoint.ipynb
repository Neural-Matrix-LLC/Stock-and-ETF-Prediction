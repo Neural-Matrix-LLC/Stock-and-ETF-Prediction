{
 "cells": [
  {
   "cell_type": "markdown",
   "id": "1fcaa16d-5cd1-40e0-99c3-5c751d68e436",
   "metadata": {},
   "source": [
    "# Ensemble-Volatility"
   ]
  },
  {
   "cell_type": "code",
   "execution_count": 1,
   "id": "bf33a97a-ecaf-4b9a-9950-70917a7ddf0a",
   "metadata": {},
   "outputs": [],
   "source": [
    "import numpy as np \n",
    "import pandas as pd\n",
    "import matplotlib.pyplot as plt\n",
    "\n",
    "import warnings\n",
    "warnings.filterwarnings(\"ignore\")"
   ]
  },
  {
   "cell_type": "markdown",
   "id": "cc044caa-023e-44ee-a02f-fc53b9ed3673",
   "metadata": {},
   "source": [
    "# List of Stocks and ETFs\n",
    "Provided by Thomas Choi."
   ]
  },
  {
   "cell_type": "code",
   "execution_count": 2,
   "id": "2417c5d4-93f7-4b46-947d-848bf38cee97",
   "metadata": {},
   "outputs": [],
   "source": [
    "stock_list = pd.read_csv(\"../stocks_and_etfs/stock_list.csv\")\n",
    "etf_list = pd.read_csv(\"../stocks_and_etfs/etf_list.csv\")"
   ]
  },
  {
   "cell_type": "code",
   "execution_count": 3,
   "id": "bc594ea5-1d0f-422b-a967-d6ceb9975bce",
   "metadata": {},
   "outputs": [
    {
     "name": "stdout",
     "output_type": "stream",
     "text": [
      "HPQ\n"
     ]
    }
   ],
   "source": [
    "import random\n",
    "\n",
    "# Choose a random stock\n",
    "stock_symbol = random.choice(stock_list.iloc[:,0])\n",
    "print(stock_symbol)"
   ]
  },
  {
   "cell_type": "markdown",
   "id": "6c21e3c1-264c-4b77-8fcd-d1e4a3d07657",
   "metadata": {},
   "source": [
    "## MySQL connection\n",
    "Choosing one stock from SQL query to reduce query time."
   ]
  },
  {
   "cell_type": "code",
   "execution_count": 4,
   "id": "3299a583-9be4-40ab-b36d-81c5372b3b39",
   "metadata": {},
   "outputs": [],
   "source": [
    "# Environment variables\n",
    "from dotenv import load_dotenv\n",
    "load_dotenv(\"../mysql.env\")\n",
    "\n",
    "import os\n",
    "import sys\n",
    "import mysql.connector\n",
    "\n",
    "HOST=os.environ.get(\"HOST\")\n",
    "PORT=os.environ.get(\"PORT\")\n",
    "USER=os.environ.get(\"USER\")\n",
    "PASSWORD=os.environ.get(\"PASSWORD\")\n",
    "\n",
    "try: \n",
    "    conn = mysql.connector.connect(\n",
    "        host=HOST,\n",
    "        port=PORT,\n",
    "        user=USER,\n",
    "        password=PASSWORD,\n",
    "        database=\"GlobalMarketData\"\n",
    "    )\n",
    "    query = f\"SELECT Date, Close, Open, High, Low, Volume from histdailyprice3 WHERE Symbol='{stock_symbol}';\"\n",
    "    histdailyprice3 = pd.read_sql(query, conn)\n",
    "    conn.close()\n",
    "except Exception as e:\n",
    "    conn.close()\n",
    "    print(str(e))"
   ]
  },
  {
   "cell_type": "markdown",
   "id": "8f66fed9-bd63-4a73-b411-43c9b3f29930",
   "metadata": {},
   "source": [
    "# Data"
   ]
  },
  {
   "cell_type": "code",
   "execution_count": 5,
   "id": "d8f7514c-e8e0-4bf2-b4e4-52d41a241b85",
   "metadata": {},
   "outputs": [],
   "source": [
    "df = histdailyprice3.copy()"
   ]
  },
  {
   "cell_type": "code",
   "execution_count": 6,
   "id": "844be7ca-b604-4db8-82be-32fbffd79549",
   "metadata": {},
   "outputs": [],
   "source": [
    "returns = 100 * df['Close'].pct_change().dropna()\n",
    "realized_vol = returns.rolling(5).std()"
   ]
  },
  {
   "cell_type": "code",
   "execution_count": 7,
   "id": "f1d596e4-9953-4468-a61c-c2f170be680d",
   "metadata": {},
   "outputs": [],
   "source": [
    "n = int(len(returns)*0.4)\n",
    "split_date = returns[-n:].index"
   ]
  },
  {
   "cell_type": "markdown",
   "id": "2eaaaed8-ca1d-43c5-a237-8a876addab0c",
   "metadata": {},
   "source": [
    "# ARCH"
   ]
  },
  {
   "cell_type": "code",
   "execution_count": 16,
   "id": "0389cde6-4cd5-4170-95ff-fad9d70cf9c2",
   "metadata": {},
   "outputs": [
    {
     "name": "stdout",
     "output_type": "stream",
     "text": [
      "                        Zero Mean - ARCH Model Results                        \n",
      "==============================================================================\n",
      "Dep. Variable:                  Close   R-squared:                       0.000\n",
      "Mean Model:                 Zero Mean   Adj. R-squared:                  0.000\n",
      "Vol Model:                       ARCH   Log-Likelihood:               -13911.9\n",
      "Distribution:                  Normal   AIC:                           27827.9\n",
      "Method:            Maximum Likelihood   BIC:                           27841.3\n",
      "                                        No. Observations:                 6176\n",
      "Date:                Tue, Jan 04 2022   Df Residuals:                     6176\n",
      "Time:                        08:44:44   Df Model:                            0\n",
      "                            Volatility Model                            \n",
      "========================================================================\n",
      "                 coef    std err          t      P>|t|  95.0% Conf. Int.\n",
      "------------------------------------------------------------------------\n",
      "omega          4.1762      0.241     17.336  2.518e-67 [  3.704,  4.648]\n",
      "alpha[1]       0.3122  4.403e-02      7.092  1.320e-12 [  0.226,  0.399]\n",
      "========================================================================\n",
      "\n",
      "Covariance estimator: robust\n"
     ]
    }
   ],
   "source": [
    "from arch import arch_model\n",
    "model = arch_model(returns, mean='Zero', vol='ARCH', p=1, o=0, q=0)\n",
    "model_fitted = model.fit(disp='off')\n",
    "print(model_fitted.summary())"
   ]
  },
  {
   "cell_type": "code",
   "execution_count": 10,
   "id": "3aa5db40-5fbe-4fd3-b729-0acd9fefa0e2",
   "metadata": {},
   "outputs": [
    {
     "data": {
      "image/png": "[encoded data removed]",
      "text/plain": [
       "<Figure size 432x288 with 2 Axes>"
      ]
     },
     "metadata": {
      "needs_background": "light"
     },
     "output_type": "display_data"
    }
   ],
   "source": [
    "model_fitted.plot(annualize='D')\n",
    "\n",
    "plt.tight_layout()\n",
    "plt.show()"
   ]
  },
  {
   "cell_type": "code",
   "execution_count": 12,
   "id": "8328bbb4-8b5f-4ca5-9d23-32c5d02b39f2",
   "metadata": {},
   "outputs": [],
   "source": [
    "model = arch_model(returns, mean='Zero', vol='ARCH', p=1, o=0, q=0)\n",
    "model_fit = model.fit(disp='off')\n",
    "pred = model_fit.forecast(horizon=1)"
   ]
  },
  {
   "cell_type": "markdown",
   "id": "e6eadd50-b0b9-4a55-a3a8-7a6bff3dcb17",
   "metadata": {},
   "source": [
    "## Tuning Parameters\n",
    "Bayesian Information Criteria (BIC) as the model selection method and to select lag."
   ]
  },
  {
   "cell_type": "code",
   "execution_count": 13,
   "id": "672a4ce5-d3fb-4ece-bc80-c0ce4caa5e55",
   "metadata": {},
   "outputs": [
    {
     "name": "stdout",
     "output_type": "stream",
     "text": [
      "                        Zero Mean - ARCH Model Results                        \n",
      "==============================================================================\n",
      "Dep. Variable:                  Close   R-squared:                       0.000\n",
      "Mean Model:                 Zero Mean   Adj. R-squared:                  0.000\n",
      "Vol Model:                       ARCH   Log-Likelihood:               -13734.4\n",
      "Distribution:                  Normal   AIC:                           27478.8\n",
      "Method:            Maximum Likelihood   BIC:                           27512.4\n",
      "                                        No. Observations:                 6176\n",
      "Date:                Tue, Jan 04 2022   Df Residuals:                     6176\n",
      "Time:                        08:42:56   Df Model:                            0\n",
      "                             Volatility Model                             \n",
      "==========================================================================\n",
      "                 coef    std err          t      P>|t|    95.0% Conf. Int.\n",
      "--------------------------------------------------------------------------\n",
      "omega          2.6225      0.269      9.738  2.069e-22   [  2.095,  3.150]\n",
      "alpha[1]       0.2496  4.600e-02      5.428  5.712e-08   [  0.159,  0.340]\n",
      "alpha[2]       0.1500  4.635e-02      3.237  1.209e-03 [5.919e-02,  0.241]\n",
      "alpha[3]       0.0883  3.068e-02      2.879  3.989e-03 [2.820e-02,  0.148]\n",
      "alpha[4]       0.1584  4.935e-02      3.210  1.327e-03 [6.170e-02,  0.255]\n",
      "==========================================================================\n",
      "\n",
      "Covariance estimator: robust\n"
     ]
    }
   ],
   "source": [
    "bic_arch = []\n",
    "\n",
    "for p in range(1, 5):\n",
    "    arch = arch_model(returns, mean='zero', vol='ARCH', p=p).fit(disp='off')\n",
    "    bic_arch.append(arch.bic)\n",
    "    if arch.bic == np.min(bic_arch):\n",
    "         best_param = p\n",
    "arch = arch_model(returns, mean='zero', vol='ARCH', p=best_param).fit(disp='off')\n",
    "print(arch.summary())\n",
    "forecast = arch.forecast(start=split_date[0])\n",
    "forecast_arch = forecast"
   ]
  },
  {
   "cell_type": "code",
   "execution_count": 14,
   "id": "f9d9b259-013a-4dc5-81db-7dd2d73e3325",
   "metadata": {},
   "outputs": [
    {
     "data": {
      "text/html": [
       "<div>\n",
       "<style scoped>\n",
       "    .dataframe tbody tr th:only-of-type {\n",
       "        vertical-align: middle;\n",
       "    }\n",
       "\n",
       "    .dataframe tbody tr th {\n",
       "        vertical-align: top;\n",
       "    }\n",
       "\n",
       "    .dataframe thead th {\n",
       "        text-align: right;\n",
       "    }\n",
       "</style>\n",
       "<table border=\"1\" class=\"dataframe\">\n",
       "  <thead>\n",
       "    <tr style=\"text-align: right;\">\n",
       "      <th></th>\n",
       "      <th>h.1</th>\n",
       "    </tr>\n",
       "  </thead>\n",
       "  <tbody>\n",
       "    <tr>\n",
       "      <th>1</th>\n",
       "      <td>NaN</td>\n",
       "    </tr>\n",
       "    <tr>\n",
       "      <th>2</th>\n",
       "      <td>NaN</td>\n",
       "    </tr>\n",
       "    <tr>\n",
       "      <th>3</th>\n",
       "      <td>NaN</td>\n",
       "    </tr>\n",
       "    <tr>\n",
       "      <th>4</th>\n",
       "      <td>NaN</td>\n",
       "    </tr>\n",
       "    <tr>\n",
       "      <th>5</th>\n",
       "      <td>NaN</td>\n",
       "    </tr>\n",
       "    <tr>\n",
       "      <th>...</th>\n",
       "      <td>...</td>\n",
       "    </tr>\n",
       "    <tr>\n",
       "      <th>6172</th>\n",
       "      <td>14.738364</td>\n",
       "    </tr>\n",
       "    <tr>\n",
       "      <th>6173</th>\n",
       "      <td>11.756792</td>\n",
       "    </tr>\n",
       "    <tr>\n",
       "      <th>6174</th>\n",
       "      <td>11.560082</td>\n",
       "    </tr>\n",
       "    <tr>\n",
       "      <th>6175</th>\n",
       "      <td>7.181089</td>\n",
       "    </tr>\n",
       "    <tr>\n",
       "      <th>6176</th>\n",
       "      <td>3.771459</td>\n",
       "    </tr>\n",
       "  </tbody>\n",
       "</table>\n",
       "<p>6176 rows × 1 columns</p>\n",
       "</div>"
      ],
      "text/plain": [
       "            h.1\n",
       "1           NaN\n",
       "2           NaN\n",
       "3           NaN\n",
       "4           NaN\n",
       "5           NaN\n",
       "...         ...\n",
       "6172  14.738364\n",
       "6173  11.756792\n",
       "6174  11.560082\n",
       "6175   7.181089\n",
       "6176   3.771459\n",
       "\n",
       "[6176 rows x 1 columns]"
      ]
     },
     "execution_count": 14,
     "metadata": {},
     "output_type": "execute_result"
    }
   ],
   "source": [
    "from sklearn.metrics import mean_squared_error as mse\n",
    "\n",
    "forecast_arch.variance"
   ]
  },
  {
   "cell_type": "code",
   "execution_count": 15,
   "id": "af922c36-b232-419f-8179-57457a6678a3",
   "metadata": {},
   "outputs": [
    {
     "data": {
      "image/png": "[encoded data removed]",
      "text/plain": [
       "<Figure size 720x432 with 1 Axes>"
      ]
     },
     "metadata": {
      "needs_background": "light"
     },
     "output_type": "display_data"
    }
   ],
   "source": [
    "plt.figure(figsize=(10, 6))\n",
    "plt.plot(realized_vol / 100, label='Realized Volatility')\n",
    "plt.plot(forecast_arch.variance.iloc[-len(split_date):] / 100, label='Volatility Prediction-ARCH')\n",
    "plt.title('Volatility Prediction with ARCH', fontsize=12)\n",
    "plt.legend()\n",
    "plt.show()"
   ]
  },
  {
   "cell_type": "markdown",
   "id": "ae34c220-906f-4161-9cb6-f626cc80b246",
   "metadata": {},
   "source": [
    "## GARCH"
   ]
  },
  {
   "cell_type": "code",
   "execution_count": 18,
   "id": "30ce8a11-d3e4-4b60-8660-d76134e101ea",
   "metadata": {},
   "outputs": [
    {
     "name": "stdout",
     "output_type": "stream",
     "text": [
      "                       Zero Mean - GARCH Model Results                        \n",
      "==============================================================================\n",
      "Dep. Variable:                  Close   R-squared:                       0.000\n",
      "Mean Model:                 Zero Mean   Adj. R-squared:                  0.000\n",
      "Vol Model:                      GARCH   Log-Likelihood:               -13563.0\n",
      "Distribution:                  Normal   AIC:                           27131.9\n",
      "Method:            Maximum Likelihood   BIC:                           27152.1\n",
      "                                        No. Observations:                 6176\n",
      "Date:                Tue, Jan 04 2022   Df Residuals:                     6176\n",
      "Time:                        08:45:15   Df Model:                            0\n",
      "                              Volatility Model                             \n",
      "===========================================================================\n",
      "                 coef    std err          t      P>|t|     95.0% Conf. Int.\n",
      "---------------------------------------------------------------------------\n",
      "omega          0.0892  6.989e-02      1.276      0.202 [-4.779e-02,  0.226]\n",
      "alpha[1]       0.0578  3.056e-02      1.893  5.841e-02 [-2.060e-03,  0.118]\n",
      "beta[1]        0.9284  3.998e-02     23.224 2.615e-119    [  0.850,  1.007]\n",
      "===========================================================================\n",
      "\n",
      "Covariance estimator: robust\n"
     ]
    }
   ],
   "source": [
    "garch = arch_model(returns, mean='zero', vol='GARCH', p=1, o=0, q=1).fit(disp='off')\n",
    "print(garch.summary())"
   ]
  },
  {
   "cell_type": "markdown",
   "id": "3e38effb-c31e-44ca-921a-830a2300bece",
   "metadata": {},
   "source": [
    "## Tuning parameters"
   ]
  },
  {
   "cell_type": "code",
   "execution_count": 20,
   "id": "2e16b651-92da-45fb-96a3-a4994272c5e4",
   "metadata": {},
   "outputs": [
    {
     "name": "stdout",
     "output_type": "stream",
     "text": [
      "                       Zero Mean - GARCH Model Results                        \n",
      "==============================================================================\n",
      "Dep. Variable:                  Close   R-squared:                       0.000\n",
      "Mean Model:                 Zero Mean   Adj. R-squared:                  0.000\n",
      "Vol Model:                      GARCH   Log-Likelihood:               -13512.4\n",
      "Distribution:                  Normal   AIC:                           27036.8\n",
      "Method:            Maximum Likelihood   BIC:                           27077.1\n",
      "                                        No. Observations:                 6176\n",
      "Date:                Tue, Jan 04 2022   Df Residuals:                     6176\n",
      "Time:                        08:46:07   Df Model:                            0\n",
      "                             Volatility Model                             \n",
      "==========================================================================\n",
      "                 coef    std err          t      P>|t|    95.0% Conf. Int.\n",
      "--------------------------------------------------------------------------\n",
      "omega          0.1490  6.700e-02      2.224  2.615e-02 [1.769e-02,  0.280]\n",
      "alpha[1]       0.1193  2.881e-02      4.141  3.462e-05 [6.282e-02,  0.176]\n",
      "beta[1]        0.1364      0.169      0.807      0.420   [ -0.195,  0.468]\n",
      "beta[2]        0.0645      0.115      0.563      0.574   [ -0.160,  0.289]\n",
      "beta[3]    9.4988e-03      0.153  6.212e-02      0.950   [ -0.290,  0.309]\n",
      "beta[4]        0.6465      0.119      5.412  6.218e-08   [  0.412,  0.881]\n",
      "==========================================================================\n",
      "\n",
      "Covariance estimator: robust\n"
     ]
    }
   ],
   "source": [
    "bic_garch = []\n",
    "\n",
    "for p in range(1, 5):\n",
    "    for q in range(1, 5):\n",
    "        garch = arch_model(returns, mean='zero',vol='GARCH', p=p, o=0, q=q).fit(disp='off')\n",
    "        bic_garch.append(garch.bic)\n",
    "        if garch.bic == np.min(bic_garch):\n",
    "            best_param = p, q\n",
    "garch = arch_model(returns, mean='zero', vol='GARCH',\n",
    "                p=best_param[0], o=0, q=best_param[1]).fit(disp='off')\n",
    "print(garch.summary())\n",
    "forecast = garch.forecast(start=split_date[0])\n",
    "forecast_garch = forecast"
   ]
  },
  {
   "cell_type": "code",
   "execution_count": null,
   "id": "277ebb32-8ac0-4cd6-8f9d-6009f7a1beb9",
   "metadata": {},
   "outputs": [],
   "source": []
  }
 ],
 "metadata": {
  "kernelspec": {
   "display_name": "Python 3 (ipykernel)",
   "language": "python",
   "name": "python3"
  },
  "language_info": {
   "codemirror_mode": {
    "name": "ipython",
    "version": 3
   },
   "file_extension": ".py",
   "mimetype": "text/x-python",
   "name": "python",
   "nbconvert_exporter": "python",
   "pygments_lexer": "ipython3",
   "version": "3.8.12"
  }
 },
 "nbformat": 4,
 "nbformat_minor": 5
}
