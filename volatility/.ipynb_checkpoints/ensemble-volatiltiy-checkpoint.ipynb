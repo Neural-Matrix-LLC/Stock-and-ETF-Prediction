{
 "cells": [
  {
   "cell_type": "markdown",
   "id": "1fcaa16d-5cd1-40e0-99c3-5c751d68e436",
   "metadata": {},
   "source": [
    "# Ensemble Volatility"
   ]
  },
  {
   "cell_type": "code",
   "execution_count": 1,
   "id": "bf33a97a-ecaf-4b9a-9950-70917a7ddf0a",
   "metadata": {},
   "outputs": [],
   "source": [
    "import numpy as np \n",
    "import pandas as pd\n",
    "import matplotlib.pyplot as plt\n",
    "\n",
    "import warnings\n",
    "warnings.filterwarnings(\"ignore\")"
   ]
  },
  {
   "cell_type": "markdown",
   "id": "cc044caa-023e-44ee-a02f-fc53b9ed3673",
   "metadata": {},
   "source": [
    "# List of Stocks and ETFs\n",
    "Provided by Thomas Choi."
   ]
  },
  {
   "cell_type": "code",
   "execution_count": 2,
   "id": "2417c5d4-93f7-4b46-947d-848bf38cee97",
   "metadata": {},
   "outputs": [],
   "source": [
    "stock_list = pd.read_csv(\"../stocks_and_etfs/stock_list.csv\")\n",
    "etf_list = pd.read_csv(\"../stocks_and_etfs/etf_list.csv\")"
   ]
  },
  {
   "cell_type": "code",
   "execution_count": 3,
   "id": "bc594ea5-1d0f-422b-a967-d6ceb9975bce",
   "metadata": {},
   "outputs": [
    {
     "name": "stdout",
     "output_type": "stream",
     "text": [
      "LCID\n"
     ]
    }
   ],
   "source": [
    "import random\n",
    "\n",
    "# Choose a random stock\n",
    "stock_symbol = random.choice(stock_list.iloc[:,0])\n",
    "print(stock_symbol)"
   ]
  },
  {
   "cell_type": "markdown",
   "id": "6c21e3c1-264c-4b77-8fcd-d1e4a3d07657",
   "metadata": {},
   "source": [
    "## MySQL connection\n",
    "Choosing one stock from SQL query to reduce query time."
   ]
  },
  {
   "cell_type": "code",
   "execution_count": 4,
   "id": "3299a583-9be4-40ab-b36d-81c5372b3b39",
   "metadata": {},
   "outputs": [],
   "source": [
    "import os\n",
    "import sys\n",
    "import mysql.connector\n",
    "\n",
    "HOST=\"143.244.188.157\"\n",
    "PORT=\"3306\"\n",
    "USER=\"patrick-finProj\"\n",
    "PASSWORD=\"Pat#21$rick\"\n",
    "\n",
    "try: \n",
    "    conn = mysql.connector.connect(\n",
    "        host=HOST,\n",
    "        port=PORT,\n",
    "        user=USER,\n",
    "        password=PASSWORD,\n",
    "        database=\"GlobalMarketData\"\n",
    "    )\n",
    "    query = f\"SELECT Date, Close, Open, High, Low, Volume from histdailyprice3 WHERE Symbol='{stock_symbol}';\"\n",
    "    histdailyprice3 = pd.read_sql(query, conn)\n",
    "    conn.close()\n",
    "except Exception as e:\n",
    "    conn.close()\n",
    "    print(str(e))"
   ]
  },
  {
   "cell_type": "markdown",
   "id": "8f66fed9-bd63-4a73-b411-43c9b3f29930",
   "metadata": {},
   "source": [
    "# Data"
   ]
  },
  {
   "cell_type": "code",
   "execution_count": 5,
   "id": "d8f7514c-e8e0-4bf2-b4e4-52d41a241b85",
   "metadata": {},
   "outputs": [],
   "source": [
    "df = histdailyprice3.copy()"
   ]
  },
  {
   "cell_type": "code",
   "execution_count": 6,
   "id": "4fc4cb53-0b54-4174-9b4a-f6c807221ff0",
   "metadata": {},
   "outputs": [
    {
     "data": {
      "text/html": [
       "<div>\n",
       "<style scoped>\n",
       "    .dataframe tbody tr th:only-of-type {\n",
       "        vertical-align: middle;\n",
       "    }\n",
       "\n",
       "    .dataframe tbody tr th {\n",
       "        vertical-align: top;\n",
       "    }\n",
       "\n",
       "    .dataframe thead th {\n",
       "        text-align: right;\n",
       "    }\n",
       "</style>\n",
       "<table border=\"1\" class=\"dataframe\">\n",
       "  <thead>\n",
       "    <tr style=\"text-align: right;\">\n",
       "      <th></th>\n",
       "      <th>Date</th>\n",
       "      <th>Close</th>\n",
       "      <th>Open</th>\n",
       "      <th>High</th>\n",
       "      <th>Low</th>\n",
       "      <th>Volume</th>\n",
       "    </tr>\n",
       "  </thead>\n",
       "  <tbody>\n",
       "    <tr>\n",
       "      <th>0</th>\n",
       "      <td>2021-07-26</td>\n",
       "      <td>25.2400</td>\n",
       "      <td>29.03</td>\n",
       "      <td>24.32</td>\n",
       "      <td>26.83</td>\n",
       "      <td>31540100</td>\n",
       "    </tr>\n",
       "    <tr>\n",
       "      <th>1</th>\n",
       "      <td>2021-07-27</td>\n",
       "      <td>27.4900</td>\n",
       "      <td>27.55</td>\n",
       "      <td>25.11</td>\n",
       "      <td>25.18</td>\n",
       "      <td>16167100</td>\n",
       "    </tr>\n",
       "    <tr>\n",
       "      <th>2</th>\n",
       "      <td>2021-07-28</td>\n",
       "      <td>25.7136</td>\n",
       "      <td>26.20</td>\n",
       "      <td>23.98</td>\n",
       "      <td>24.08</td>\n",
       "      <td>12553000</td>\n",
       "    </tr>\n",
       "    <tr>\n",
       "      <th>3</th>\n",
       "      <td>2021-07-29</td>\n",
       "      <td>24.5400</td>\n",
       "      <td>24.70</td>\n",
       "      <td>23.25</td>\n",
       "      <td>23.35</td>\n",
       "      <td>10474200</td>\n",
       "    </tr>\n",
       "    <tr>\n",
       "      <th>4</th>\n",
       "      <td>2021-07-30</td>\n",
       "      <td>22.9500</td>\n",
       "      <td>24.23</td>\n",
       "      <td>22.94</td>\n",
       "      <td>23.72</td>\n",
       "      <td>11118100</td>\n",
       "    </tr>\n",
       "  </tbody>\n",
       "</table>\n",
       "</div>"
      ],
      "text/plain": [
       "         Date    Close   Open   High    Low    Volume\n",
       "0  2021-07-26  25.2400  29.03  24.32  26.83  31540100\n",
       "1  2021-07-27  27.4900  27.55  25.11  25.18  16167100\n",
       "2  2021-07-28  25.7136  26.20  23.98  24.08  12553000\n",
       "3  2021-07-29  24.5400  24.70  23.25  23.35  10474200\n",
       "4  2021-07-30  22.9500  24.23  22.94  23.72  11118100"
      ]
     },
     "execution_count": 6,
     "metadata": {},
     "output_type": "execute_result"
    }
   ],
   "source": [
    "df.head()"
   ]
  },
  {
   "cell_type": "code",
   "execution_count": 7,
   "id": "844be7ca-b604-4db8-82be-32fbffd79549",
   "metadata": {},
   "outputs": [],
   "source": [
    "returns = 100 * df['Close'].pct_change().dropna()\n",
    "realized_vol = returns.rolling(5).std()"
   ]
  },
  {
   "cell_type": "code",
   "execution_count": 8,
   "id": "f1d596e4-9953-4468-a61c-c2f170be680d",
   "metadata": {},
   "outputs": [],
   "source": [
    "n = int(len(returns)*0.4)\n",
    "split_date = returns[-n:].index"
   ]
  },
  {
   "cell_type": "markdown",
   "id": "2eaaaed8-ca1d-43c5-a237-8a876addab0c",
   "metadata": {},
   "source": [
    "# ARCH"
   ]
  },
  {
   "cell_type": "code",
   "execution_count": 9,
   "id": "0389cde6-4cd5-4170-95ff-fad9d70cf9c2",
   "metadata": {},
   "outputs": [
    {
     "name": "stdout",
     "output_type": "stream",
     "text": [
      "                        Zero Mean - ARCH Model Results                        \n",
      "==============================================================================\n",
      "Dep. Variable:                  Close   R-squared:                       0.000\n",
      "Mean Model:                 Zero Mean   Adj. R-squared:                  0.034\n",
      "Vol Model:                       ARCH   Log-Likelihood:               -90.3237\n",
      "Distribution:                  Normal   AIC:                           184.647\n",
      "Method:            Maximum Likelihood   BIC:                           187.382\n",
      "                                        No. Observations:                   29\n",
      "Date:                Fri, Jan 07 2022   Df Residuals:                       29\n",
      "Time:                        13:15:47   Df Model:                            0\n",
      "                            Volatility Model                            \n",
      "========================================================================\n",
      "                 coef    std err          t      P>|t|  95.0% Conf. Int.\n",
      "------------------------------------------------------------------------\n",
      "omega         23.3347     20.413      1.143      0.253 [-16.674, 63.344]\n",
      "alpha[1]       0.2967      0.376      0.790      0.430 [ -0.440,  1.033]\n",
      "========================================================================\n",
      "\n",
      "Covariance estimator: robust\n"
     ]
    }
   ],
   "source": [
    "from arch import arch_model\n",
    "model = arch_model(returns, mean='Zero', vol='ARCH', p=1, o=0, q=0)\n",
    "model_fitted = model.fit(disp='off')\n",
    "print(model_fitted.summary())"
   ]
  },
  {
   "cell_type": "code",
   "execution_count": 10,
   "id": "3aa5db40-5fbe-4fd3-b729-0acd9fefa0e2",
   "metadata": {},
   "outputs": [
    {
     "data": {
      "image/png": "[encoded data removed]",
      "text/plain": [
       "<Figure size 432x288 with 2 Axes>"
      ]
     },
     "metadata": {
      "needs_background": "light"
     },
     "output_type": "display_data"
    }
   ],
   "source": [
    "model_fitted.plot(annualize='D')\n",
    "\n",
    "plt.tight_layout()\n",
    "plt.show()"
   ]
  },
  {
   "cell_type": "code",
   "execution_count": 11,
   "id": "8328bbb4-8b5f-4ca5-9d23-32c5d02b39f2",
   "metadata": {},
   "outputs": [],
   "source": [
    "model = arch_model(returns, mean='Zero', vol='ARCH', p=1, o=0, q=0)\n",
    "model_fit = model.fit(disp='off')\n",
    "pred = model_fit.forecast(horizon=1)"
   ]
  },
  {
   "cell_type": "code",
   "execution_count": 12,
   "id": "672a4ce5-d3fb-4ece-bc80-c0ce4caa5e55",
   "metadata": {},
   "outputs": [
    {
     "name": "stdout",
     "output_type": "stream",
     "text": [
      "                        Zero Mean - ARCH Model Results                        \n",
      "==============================================================================\n",
      "Dep. Variable:                  Close   R-squared:                       0.000\n",
      "Mean Model:                 Zero Mean   Adj. R-squared:                  0.034\n",
      "Vol Model:                       ARCH   Log-Likelihood:               -90.3237\n",
      "Distribution:                  Normal   AIC:                           184.647\n",
      "Method:            Maximum Likelihood   BIC:                           187.382\n",
      "                                        No. Observations:                   29\n",
      "Date:                Fri, Jan 07 2022   Df Residuals:                       29\n",
      "Time:                        13:15:47   Df Model:                            0\n",
      "                            Volatility Model                            \n",
      "========================================================================\n",
      "                 coef    std err          t      P>|t|  95.0% Conf. Int.\n",
      "------------------------------------------------------------------------\n",
      "omega         23.3347     20.413      1.143      0.253 [-16.674, 63.344]\n",
      "alpha[1]       0.2967      0.376      0.790      0.430 [ -0.440,  1.033]\n",
      "========================================================================\n",
      "\n",
      "Covariance estimator: robust\n"
     ]
    }
   ],
   "source": [
    "bic_arch = []\n",
    "\n",
    "for p in range(1, 5):\n",
    "    arch = arch_model(returns, mean='zero', vol='ARCH', p=p).fit(disp='off')\n",
    "    bic_arch.append(arch.bic)\n",
    "    if arch.bic == np.min(bic_arch):\n",
    "         best_param = p\n",
    "arch = arch_model(returns, mean='zero', vol='ARCH', p=best_param).fit(disp='off')\n",
    "print(arch.summary())\n",
    "forecast = arch.forecast(start=split_date[0])\n",
    "forecast_arch = forecast"
   ]
  },
  {
   "cell_type": "code",
   "execution_count": 13,
   "id": "f9d9b259-013a-4dc5-81db-7dd2d73e3325",
   "metadata": {},
   "outputs": [
    {
     "data": {
      "text/html": [
       "<div>\n",
       "<style scoped>\n",
       "    .dataframe tbody tr th:only-of-type {\n",
       "        vertical-align: middle;\n",
       "    }\n",
       "\n",
       "    .dataframe tbody tr th {\n",
       "        vertical-align: top;\n",
       "    }\n",
       "\n",
       "    .dataframe thead th {\n",
       "        text-align: right;\n",
       "    }\n",
       "</style>\n",
       "<table border=\"1\" class=\"dataframe\">\n",
       "  <thead>\n",
       "    <tr style=\"text-align: right;\">\n",
       "      <th></th>\n",
       "      <th>h.1</th>\n",
       "    </tr>\n",
       "  </thead>\n",
       "  <tbody>\n",
       "    <tr>\n",
       "      <th>1</th>\n",
       "      <td>NaN</td>\n",
       "    </tr>\n",
       "    <tr>\n",
       "      <th>2</th>\n",
       "      <td>NaN</td>\n",
       "    </tr>\n",
       "    <tr>\n",
       "      <th>3</th>\n",
       "      <td>NaN</td>\n",
       "    </tr>\n",
       "    <tr>\n",
       "      <th>4</th>\n",
       "      <td>NaN</td>\n",
       "    </tr>\n",
       "    <tr>\n",
       "      <th>5</th>\n",
       "      <td>NaN</td>\n",
       "    </tr>\n",
       "    <tr>\n",
       "      <th>6</th>\n",
       "      <td>NaN</td>\n",
       "    </tr>\n",
       "    <tr>\n",
       "      <th>7</th>\n",
       "      <td>NaN</td>\n",
       "    </tr>\n",
       "    <tr>\n",
       "      <th>8</th>\n",
       "      <td>NaN</td>\n",
       "    </tr>\n",
       "    <tr>\n",
       "      <th>9</th>\n",
       "      <td>NaN</td>\n",
       "    </tr>\n",
       "    <tr>\n",
       "      <th>10</th>\n",
       "      <td>NaN</td>\n",
       "    </tr>\n",
       "    <tr>\n",
       "      <th>11</th>\n",
       "      <td>NaN</td>\n",
       "    </tr>\n",
       "    <tr>\n",
       "      <th>12</th>\n",
       "      <td>NaN</td>\n",
       "    </tr>\n",
       "    <tr>\n",
       "      <th>13</th>\n",
       "      <td>NaN</td>\n",
       "    </tr>\n",
       "    <tr>\n",
       "      <th>14</th>\n",
       "      <td>NaN</td>\n",
       "    </tr>\n",
       "    <tr>\n",
       "      <th>15</th>\n",
       "      <td>NaN</td>\n",
       "    </tr>\n",
       "    <tr>\n",
       "      <th>16</th>\n",
       "      <td>NaN</td>\n",
       "    </tr>\n",
       "    <tr>\n",
       "      <th>17</th>\n",
       "      <td>NaN</td>\n",
       "    </tr>\n",
       "    <tr>\n",
       "      <th>18</th>\n",
       "      <td>NaN</td>\n",
       "    </tr>\n",
       "    <tr>\n",
       "      <th>19</th>\n",
       "      <td>NaN</td>\n",
       "    </tr>\n",
       "    <tr>\n",
       "      <th>20</th>\n",
       "      <td>23.758718</td>\n",
       "    </tr>\n",
       "    <tr>\n",
       "      <th>21</th>\n",
       "      <td>23.364750</td>\n",
       "    </tr>\n",
       "    <tr>\n",
       "      <th>22</th>\n",
       "      <td>23.927072</td>\n",
       "    </tr>\n",
       "    <tr>\n",
       "      <th>23</th>\n",
       "      <td>24.342189</td>\n",
       "    </tr>\n",
       "    <tr>\n",
       "      <th>24</th>\n",
       "      <td>24.280845</td>\n",
       "    </tr>\n",
       "    <tr>\n",
       "      <th>25</th>\n",
       "      <td>25.656212</td>\n",
       "    </tr>\n",
       "    <tr>\n",
       "      <th>26</th>\n",
       "      <td>25.552186</td>\n",
       "    </tr>\n",
       "    <tr>\n",
       "      <th>27</th>\n",
       "      <td>148.178360</td>\n",
       "    </tr>\n",
       "    <tr>\n",
       "      <th>28</th>\n",
       "      <td>84.790343</td>\n",
       "    </tr>\n",
       "    <tr>\n",
       "      <th>29</th>\n",
       "      <td>24.661898</td>\n",
       "    </tr>\n",
       "  </tbody>\n",
       "</table>\n",
       "</div>"
      ],
      "text/plain": [
       "           h.1\n",
       "1          NaN\n",
       "2          NaN\n",
       "3          NaN\n",
       "4          NaN\n",
       "5          NaN\n",
       "6          NaN\n",
       "7          NaN\n",
       "8          NaN\n",
       "9          NaN\n",
       "10         NaN\n",
       "11         NaN\n",
       "12         NaN\n",
       "13         NaN\n",
       "14         NaN\n",
       "15         NaN\n",
       "16         NaN\n",
       "17         NaN\n",
       "18         NaN\n",
       "19         NaN\n",
       "20   23.758718\n",
       "21   23.364750\n",
       "22   23.927072\n",
       "23   24.342189\n",
       "24   24.280845\n",
       "25   25.656212\n",
       "26   25.552186\n",
       "27  148.178360\n",
       "28   84.790343\n",
       "29   24.661898"
      ]
     },
     "execution_count": 13,
     "metadata": {},
     "output_type": "execute_result"
    }
   ],
   "source": [
    "from sklearn.metrics import mean_squared_error as mse\n",
    "\n",
    "forecast_arch.variance"
   ]
  },
  {
   "cell_type": "code",
   "execution_count": 14,
   "id": "af922c36-b232-419f-8179-57457a6678a3",
   "metadata": {},
   "outputs": [
    {
     "data": {
      "image/png": "[encoded data removed]",
      "text/plain": [
       "<Figure size 720x432 with 1 Axes>"
      ]
     },
     "metadata": {
      "needs_background": "light"
     },
     "output_type": "display_data"
    }
   ],
   "source": [
    "plt.figure(figsize=(10, 6))\n",
    "plt.plot(realized_vol / 100, label='Realized Volatility')\n",
    "plt.plot(forecast_arch.variance.iloc[-len(split_date):] / 100, label='Volatility Prediction-ARCH')\n",
    "plt.title('Volatility Prediction with ARCH', fontsize=12)\n",
    "plt.legend()\n",
    "plt.show()"
   ]
  },
  {
   "cell_type": "code",
   "execution_count": 15,
   "id": "15bbb289-5916-4e68-ad72-05464729155b",
   "metadata": {},
   "outputs": [
    {
     "name": "stdout",
     "output_type": "stream",
     "text": [
      "The RMSE value of ARCH model is 0.5751\n"
     ]
    }
   ],
   "source": [
    "rmse_arch = np.sqrt(mse(realized_vol[-n:] / 100, np.sqrt(forecast_arch.variance.iloc[-len(split_date):].fillna(0) / 100)))\n",
    "print('The RMSE value of ARCH model is {:.4f}'.format(rmse_arch))"
   ]
  },
  {
   "cell_type": "markdown",
   "id": "ae34c220-906f-4161-9cb6-f626cc80b246",
   "metadata": {},
   "source": [
    "# GARCH"
   ]
  },
  {
   "cell_type": "code",
   "execution_count": 16,
   "id": "30ce8a11-d3e4-4b60-8660-d76134e101ea",
   "metadata": {},
   "outputs": [
    {
     "name": "stdout",
     "output_type": "stream",
     "text": [
      "                       Zero Mean - GARCH Model Results                        \n",
      "==============================================================================\n",
      "Dep. Variable:                  Close   R-squared:                       0.000\n",
      "Mean Model:                 Zero Mean   Adj. R-squared:                  0.034\n",
      "Vol Model:                      GARCH   Log-Likelihood:               -90.3237\n",
      "Distribution:                  Normal   AIC:                           186.647\n",
      "Method:            Maximum Likelihood   BIC:                           190.749\n",
      "                                        No. Observations:                   29\n",
      "Date:                Fri, Jan 07 2022   Df Residuals:                       29\n",
      "Time:                        13:15:48   Df Model:                            0\n",
      "                             Volatility Model                             \n",
      "==========================================================================\n",
      "                 coef    std err          t      P>|t|    95.0% Conf. Int.\n",
      "--------------------------------------------------------------------------\n",
      "omega         23.3277     57.371      0.407      0.684 [-89.117,1.358e+02]\n",
      "alpha[1]       0.2970      0.834      0.356      0.722   [ -1.338,  1.932]\n",
      "beta[1]    1.2568e-16      2.508  5.011e-17      1.000   [ -4.916,  4.916]\n",
      "==========================================================================\n",
      "\n",
      "Covariance estimator: robust\n"
     ]
    }
   ],
   "source": [
    "garch = arch_model(returns, mean='zero', vol='GARCH', p=1, o=0, q=1).fit(disp='off')\n",
    "print(garch.summary())"
   ]
  },
  {
   "cell_type": "code",
   "execution_count": 17,
   "id": "2e16b651-92da-45fb-96a3-a4994272c5e4",
   "metadata": {},
   "outputs": [
    {
     "name": "stdout",
     "output_type": "stream",
     "text": [
      "                       Zero Mean - GARCH Model Results                        \n",
      "==============================================================================\n",
      "Dep. Variable:                  Close   R-squared:                       0.000\n",
      "Mean Model:                 Zero Mean   Adj. R-squared:                  0.034\n",
      "Vol Model:                      GARCH   Log-Likelihood:               -90.3237\n",
      "Distribution:                  Normal   AIC:                           186.647\n",
      "Method:            Maximum Likelihood   BIC:                           190.749\n",
      "                                        No. Observations:                   29\n",
      "Date:                Fri, Jan 07 2022   Df Residuals:                       29\n",
      "Time:                        13:15:49   Df Model:                            0\n",
      "                             Volatility Model                             \n",
      "==========================================================================\n",
      "                 coef    std err          t      P>|t|    95.0% Conf. Int.\n",
      "--------------------------------------------------------------------------\n",
      "omega         23.3277     57.371      0.407      0.684 [-89.117,1.358e+02]\n",
      "alpha[1]       0.2970      0.834      0.356      0.722   [ -1.338,  1.932]\n",
      "beta[1]    1.2568e-16      2.508  5.011e-17      1.000   [ -4.916,  4.916]\n",
      "==========================================================================\n",
      "\n",
      "Covariance estimator: robust\n"
     ]
    }
   ],
   "source": [
    "bic_garch = []\n",
    "\n",
    "for p in range(1, 5):\n",
    "    for q in range(1, 5):\n",
    "        garch = arch_model(returns, mean='zero', vol='GARCH', p=p, o=0, q=q).fit(disp='off')\n",
    "        bic_garch.append(garch.bic)\n",
    "        if garch.bic == np.min(bic_garch):\n",
    "            best_param = p, q\n",
    "garch = arch_model(returns, mean='zero', vol='GARCH',\n",
    "                p=best_param[0], o=0, q=best_param[1]).fit(disp='off')\n",
    "print(garch.summary())\n",
    "forecast = garch.forecast(start=split_date[0])\n",
    "forecast_garch = forecast"
   ]
  },
  {
   "cell_type": "code",
   "execution_count": 18,
   "id": "277ebb32-8ac0-4cd6-8f9d-6009f7a1beb9",
   "metadata": {},
   "outputs": [
    {
     "data": {
      "image/png": "[encoded data removed]",
      "text/plain": [
       "<Figure size 720x432 with 1 Axes>"
      ]
     },
     "metadata": {
      "needs_background": "light"
     },
     "output_type": "display_data"
    }
   ],
   "source": [
    "plt.figure(figsize=(10,6))\n",
    "plt.plot(realized_vol / 100, label='Realized Volatility')\n",
    "plt.plot(forecast_garch.variance.iloc[-len(split_date):] / 100, label='Volatility Prediction-GARCH')\n",
    "plt.title('Volatility Prediction with GARCH', fontsize=12)\n",
    "plt.legend()\n",
    "plt.show()"
   ]
  },
  {
   "cell_type": "code",
   "execution_count": 19,
   "id": "98da3e8a-fe48-4029-8756-5c8e24f92ef3",
   "metadata": {},
   "outputs": [
    {
     "name": "stdout",
     "output_type": "stream",
     "text": [
      "The RMSE value of GARCH model is 0.5752\n"
     ]
    }
   ],
   "source": [
    "rmse_garch = np.sqrt(mse(realized_vol[-n:] / 100, np.sqrt(forecast_garch.variance.iloc[-len(split_date):].fillna(0) / 100)))\n",
    "print('The RMSE value of GARCH model is {:.4f}'.format(rmse_garch))"
   ]
  },
  {
   "cell_type": "markdown",
   "id": "3f60c5c1-1817-44b9-a4ef-c8376db089a5",
   "metadata": {},
   "source": [
    "# GJR GARCH"
   ]
  },
  {
   "cell_type": "code",
   "execution_count": 20,
   "id": "9c87f914-7471-454a-b422-3daa99f1e20d",
   "metadata": {},
   "outputs": [
    {
     "name": "stdout",
     "output_type": "stream",
     "text": [
      "                     Zero Mean - GJR-GARCH Model Results                      \n",
      "==============================================================================\n",
      "Dep. Variable:                  Close   R-squared:                       0.000\n",
      "Mean Model:                 Zero Mean   Adj. R-squared:                  0.034\n",
      "Vol Model:                  GJR-GARCH   Log-Likelihood:               -87.7398\n",
      "Distribution:                  Normal   AIC:                           183.480\n",
      "Method:            Maximum Likelihood   BIC:                           188.949\n",
      "                                        No. Observations:                   29\n",
      "Date:                Fri, Jan 07 2022   Df Residuals:                       29\n",
      "Time:                        13:15:49   Df Model:                            0\n",
      "                               Volatility Model                              \n",
      "=============================================================================\n",
      "                 coef    std err          t      P>|t|       95.0% Conf. Int.\n",
      "-----------------------------------------------------------------------------\n",
      "omega          9.7680     96.278      0.101      0.919 [-1.789e+02,1.985e+02]\n",
      "alpha[1]       0.0431      1.608  2.677e-02      0.979      [ -3.109,  3.195]\n",
      "gamma[1]       1.9139     11.198      0.171      0.864      [-20.034, 23.862]\n",
      "beta[1]        0.0000  6.971e-02      0.000      1.000      [ -0.137,  0.137]\n",
      "=============================================================================\n",
      "\n",
      "Covariance estimator: robust\n"
     ]
    }
   ],
   "source": [
    "bic_gjr_garch = []\n",
    "\n",
    "for p in range(1, 5):\n",
    "    for q in range(1, 5):\n",
    "        gjrgarch = arch_model(returns, mean='zero', p=p, o=1, q=q).fit(disp='off')\n",
    "        bic_gjr_garch.append(gjrgarch.bic)\n",
    "        if gjrgarch.bic == np.min(bic_gjr_garch):\n",
    "             best_param = p, q\n",
    "gjrgarch = arch_model(returns, mean='zero', p=best_param[0], o=1, q=best_param[1]).fit(disp='off')\n",
    "print(gjrgarch.summary())\n",
    "forecast = gjrgarch.forecast(start=split_date[0])\n",
    "forecast_gjrgarch = forecast\n",
    "\n",
    "bic_garch = []"
   ]
  },
  {
   "cell_type": "code",
   "execution_count": 21,
   "id": "0918a6e8-ae32-42e5-9e7f-8698ad137a40",
   "metadata": {},
   "outputs": [
    {
     "data": {
      "image/png": "[encoded data removed]",
      "text/plain": [
       "<Figure size 720x432 with 1 Axes>"
      ]
     },
     "metadata": {
      "needs_background": "light"
     },
     "output_type": "display_data"
    }
   ],
   "source": [
    "plt.figure(figsize=(10, 6))\n",
    "plt.plot(realized_vol / 100, label='Realized Volatility')\n",
    "plt.plot(forecast_gjrgarch.variance.iloc[-len(split_date):] / 100, label='Volatility Prediction-GJR-GARCH')\n",
    "plt.title('Volatility Prediction with GJR-GARCH', fontsize=12)\n",
    "plt.legend()\n",
    "plt.show()"
   ]
  },
  {
   "cell_type": "code",
   "execution_count": 22,
   "id": "819a5ed8-b2bb-4376-8927-0eb414bdc8d2",
   "metadata": {},
   "outputs": [
    {
     "name": "stdout",
     "output_type": "stream",
     "text": [
      "The RMSE value of GJR-GARCH models is 0.9052\n"
     ]
    }
   ],
   "source": [
    "rmse_gjr_garch = np.sqrt(mse(realized_vol[-n:] / 100, np.sqrt(forecast_gjrgarch.variance.iloc[-len(split_date):].fillna(0) / 100)))\n",
    "print('The RMSE value of GJR-GARCH models is {:.4f}'.format(rmse_gjr_garch))"
   ]
  },
  {
   "cell_type": "markdown",
   "id": "5c455dac-f6e4-4edf-b732-73b8a7201274",
   "metadata": {},
   "source": [
    "# EGARCH"
   ]
  },
  {
   "cell_type": "code",
   "execution_count": 23,
   "id": "32d6dc0b-3519-4ab9-b6ff-bee2f0f07cb8",
   "metadata": {},
   "outputs": [
    {
     "name": "stderr",
     "output_type": "stream",
     "text": [
      "C:\\Users\\Patrick.Guo\\.conda\\envs\\rtx3000s\\lib\\site-packages\\arch\\univariate\\base.py:753: ConvergenceWarning: The optimizer returned code 9. The message is:\n",
      "Iteration limit reached\n",
      "See scipy.optimize.fmin_slsqp for code meaning.\n",
      "\n",
      "  warnings.warn(\n",
      "C:\\Users\\Patrick.Guo\\.conda\\envs\\rtx3000s\\lib\\site-packages\\arch\\univariate\\base.py:753: ConvergenceWarning: The optimizer returned code 9. The message is:\n",
      "Iteration limit reached\n",
      "See scipy.optimize.fmin_slsqp for code meaning.\n",
      "\n",
      "  warnings.warn(\n",
      "C:\\Users\\Patrick.Guo\\.conda\\envs\\rtx3000s\\lib\\site-packages\\arch\\univariate\\base.py:753: ConvergenceWarning: The optimizer returned code 9. The message is:\n",
      "Iteration limit reached\n",
      "See scipy.optimize.fmin_slsqp for code meaning.\n",
      "\n",
      "  warnings.warn(\n",
      "C:\\Users\\Patrick.Guo\\.conda\\envs\\rtx3000s\\lib\\site-packages\\arch\\univariate\\base.py:753: ConvergenceWarning: The optimizer returned code 9. The message is:\n",
      "Iteration limit reached\n",
      "See scipy.optimize.fmin_slsqp for code meaning.\n",
      "\n",
      "  warnings.warn(\n",
      "C:\\Users\\Patrick.Guo\\.conda\\envs\\rtx3000s\\lib\\site-packages\\arch\\univariate\\base.py:753: ConvergenceWarning: The optimizer returned code 9. The message is:\n",
      "Iteration limit reached\n",
      "See scipy.optimize.fmin_slsqp for code meaning.\n",
      "\n",
      "  warnings.warn(\n",
      "C:\\Users\\Patrick.Guo\\.conda\\envs\\rtx3000s\\lib\\site-packages\\arch\\univariate\\base.py:753: ConvergenceWarning: The optimizer returned code 9. The message is:\n",
      "Iteration limit reached\n",
      "See scipy.optimize.fmin_slsqp for code meaning.\n",
      "\n",
      "  warnings.warn(\n"
     ]
    },
    {
     "name": "stdout",
     "output_type": "stream",
     "text": [
      "                       Zero Mean - EGARCH Model Results                       \n",
      "==============================================================================\n",
      "Dep. Variable:                  Close   R-squared:                       0.000\n",
      "Mean Model:                 Zero Mean   Adj. R-squared:                  0.034\n",
      "Vol Model:                     EGARCH   Log-Likelihood:               -77.1711\n",
      "Distribution:                  Normal   AIC:                           162.342\n",
      "Method:            Maximum Likelihood   BIC:                           167.811\n",
      "                                        No. Observations:                   29\n",
      "Date:                Fri, Jan 07 2022   Df Residuals:                       29\n",
      "Time:                        13:15:51   Df Model:                            0\n",
      "                            Volatility Model                            \n",
      "========================================================================\n",
      "                 coef    std err          t      P>|t|  95.0% Conf. Int.\n",
      "------------------------------------------------------------------------\n",
      "omega          0.4223  3.146e-09  1.342e+08      0.000 [  0.422,  0.422]\n",
      "alpha[1]      -0.1957  7.927e-07 -2.469e+05      0.000 [ -0.196, -0.196]\n",
      "alpha[2]      -1.3220  4.728e-08 -2.796e+07      0.000 [ -1.322, -1.322]\n",
      "beta[1]        0.9474  8.796e-09  1.077e+08      0.000 [  0.947,  0.947]\n",
      "========================================================================\n",
      "\n",
      "Covariance estimator: robust\n",
      "WARNING: The optimizer did not indicate successful convergence. The message was Iteration limit reached.\n",
      "See convergence_flag.\n",
      "\n"
     ]
    },
    {
     "name": "stderr",
     "output_type": "stream",
     "text": [
      "C:\\Users\\Patrick.Guo\\.conda\\envs\\rtx3000s\\lib\\site-packages\\arch\\univariate\\base.py:753: ConvergenceWarning: The optimizer returned code 9. The message is:\n",
      "Iteration limit reached\n",
      "See scipy.optimize.fmin_slsqp for code meaning.\n",
      "\n",
      "  warnings.warn(\n",
      "C:\\Users\\Patrick.Guo\\.conda\\envs\\rtx3000s\\lib\\site-packages\\arch\\univariate\\base.py:753: ConvergenceWarning: The optimizer returned code 9. The message is:\n",
      "Iteration limit reached\n",
      "See scipy.optimize.fmin_slsqp for code meaning.\n",
      "\n",
      "  warnings.warn(\n"
     ]
    }
   ],
   "source": [
    "bic_egarch = []\n",
    "\n",
    "for p in range(1, 5):\n",
    "    for q in range(1, 5):\n",
    "        egarch = arch_model(returns, mean='zero', vol='EGARCH', p=p, q=q).fit(disp='off')\n",
    "        bic_egarch.append(egarch.bic)\n",
    "        if egarch.bic == np.min(bic_egarch):\n",
    "            best_param = p, q\n",
    "    egarch = arch_model(returns, mean='zero', vol='EGARCH', p=best_param[0], q=best_param[1]).fit(disp='off')\n",
    "print(egarch.summary())\n",
    "forecast = egarch.forecast(start=split_date[0])\n",
    "forecast_egarch = forecast"
   ]
  },
  {
   "cell_type": "code",
   "execution_count": 24,
   "id": "2890937c-5c16-4fd8-b1fe-33725a04393f",
   "metadata": {},
   "outputs": [
    {
     "data": {
      "image/png": "[encoded data removed]",
      "text/plain": [
       "<Figure size 720x432 with 1 Axes>"
      ]
     },
     "metadata": {
      "needs_background": "light"
     },
     "output_type": "display_data"
    }
   ],
   "source": [
    "plt.figure(figsize=(10, 6))\n",
    "plt.plot(realized_vol / 100, label='Realized Volatility')\n",
    "plt.plot(forecast_egarch.variance.iloc[-len(split_date):] / 100, label='Volatility Prediction-EGARCH')\n",
    "plt.title('Volatility Prediction with EGARCH', fontsize=12)\n",
    "plt.legend()\n",
    "plt.show()"
   ]
  },
  {
   "cell_type": "code",
   "execution_count": 25,
   "id": "92e07326-74ac-4cf3-9b7a-d0fa5bdbd9ed",
   "metadata": {},
   "outputs": [
    {
     "name": "stdout",
     "output_type": "stream",
     "text": [
      "The RMSE value of EGARCH models is 0.6002\n"
     ]
    }
   ],
   "source": [
    "rmse_egarch = np.sqrt(mse(realized_vol[-n:] / 100, np.sqrt(forecast_egarch.variance.iloc[-len(split_date):].fillna(0) / 100)))\n",
    "print('The RMSE value of EGARCH models is {:.4f}'.format(rmse_egarch))"
   ]
  },
  {
   "cell_type": "markdown",
   "id": "a2937bdf-5d11-4e88-9739-00c2411d2115",
   "metadata": {},
   "source": [
    "# SVR GARCH"
   ]
  },
  {
   "cell_type": "code",
   "execution_count": 26,
   "id": "d318ee11-e83f-413d-9182-90d6d9734ea0",
   "metadata": {},
   "outputs": [],
   "source": [
    "from sklearn.svm import SVR\n",
    "from scipy.stats import uniform as sp_rand\n",
    "from sklearn.model_selection import RandomizedSearchCV"
   ]
  },
  {
   "cell_type": "code",
   "execution_count": 27,
   "id": "66f7587e-b83d-41c7-a2c9-44e5c9814957",
   "metadata": {},
   "outputs": [],
   "source": [
    "realized_vol = returns.rolling(5).std()\n",
    "realized_vol = pd.DataFrame(realized_vol)\n",
    "realized_vol.reset_index(drop=True, inplace=True)\n",
    "\n",
    "returns_svm = returns ** 2\n",
    "returns_svm = returns_svm.reset_index()\n",
    "del returns_svm['index']\n",
    "\n",
    "X = pd.concat([realized_vol, returns_svm], axis=1, ignore_index=True)\n",
    "X = X[4:].copy()\n",
    "X = X.reset_index()\n",
    "X.drop('index', axis=1, inplace=True)\n",
    "\n",
    "realized_vol = realized_vol.dropna().reset_index()\n",
    "realized_vol.drop('index', axis=1, inplace=True)\n",
    "\n",
    "svr_poly = SVR(kernel='poly', degree=2)\n",
    "svr_lin = SVR(kernel='linear')\n",
    "svr_rbf = SVR(kernel='rbf')"
   ]
  },
  {
   "cell_type": "markdown",
   "id": "bf8828e9-fe03-4d46-8827-927e1a5f853e",
   "metadata": {},
   "source": [
    "## Linear"
   ]
  },
  {
   "cell_type": "code",
   "execution_count": 28,
   "id": "d7189c7e-a8bb-4d65-9683-9cd98fb6921a",
   "metadata": {},
   "outputs": [
    {
     "name": "stdout",
     "output_type": "stream",
     "text": [
      "The RMSE value of SVR with Linear Kernel is 0.027171\n"
     ]
    }
   ],
   "source": [
    "para_grid = {'gamma': sp_rand(), 'C': sp_rand(), 'epsilon': sp_rand()}\n",
    "clf = RandomizedSearchCV(svr_lin, para_grid)\n",
    "clf.fit(X.iloc[:-n].values, realized_vol.iloc[1:-(n-1)].values.reshape(-1,))\n",
    "predict_svr_lin = clf.predict(X.iloc[-n:])\n",
    "\n",
    "predict_svr_lin = pd.DataFrame(predict_svr_lin)\n",
    "predict_svr_lin.index = returns.iloc[-n:].index\n",
    "\n",
    "rmse_svr = np.sqrt(mse(realized_vol.iloc[-n:] / 100, predict_svr_lin / 100))\n",
    "print('The RMSE value of SVR with Linear Kernel is {:.6f}'.format(rmse_svr))"
   ]
  },
  {
   "cell_type": "code",
   "execution_count": 29,
   "id": "63f38fd6-ad51-42ea-bc8f-353a763d6d58",
   "metadata": {},
   "outputs": [
    {
     "data": {
      "image/png": "[encoded data removed]",
      "text/plain": [
       "<Figure size 720x432 with 1 Axes>"
      ]
     },
     "metadata": {
      "needs_background": "light"
     },
     "output_type": "display_data"
    }
   ],
   "source": [
    "plt.figure(figsize=(10, 6))\n",
    "plt.plot(realized_vol / 100, label='Realized Volatility')\n",
    "plt.plot(predict_svr_lin / 100, label='Volatility Prediction-SVR-GARCH')\n",
    "plt.title('Volatility Prediction with SVR-GARCH (Linear)', fontsize=12)\n",
    "plt.legend()\n",
    "plt.show()"
   ]
  },
  {
   "cell_type": "code",
   "execution_count": 30,
   "id": "323a3913-44f8-4d52-8922-64df746fdd68",
   "metadata": {},
   "outputs": [
    {
     "name": "stdout",
     "output_type": "stream",
     "text": [
      "The RMSE value of SVR with Linear Kernel is 0.027171\n"
     ]
    }
   ],
   "source": [
    "rmse_svr = np.sqrt(mse(realized_vol.iloc[-n:] / 100, predict_svr_lin / 100))\n",
    "print('The RMSE value of SVR with Linear Kernel is {:.6f}'.format(rmse_svr))"
   ]
  },
  {
   "cell_type": "markdown",
   "id": "5abd1bf4-e7f9-4a62-82c1-23a8a78a8484",
   "metadata": {},
   "source": [
    "## Radial basis function"
   ]
  },
  {
   "cell_type": "code",
   "execution_count": 31,
   "id": "f0bb80ae-b9ef-4a5a-ba04-5d2a8f703867",
   "metadata": {},
   "outputs": [],
   "source": [
    "para_grid ={'gamma': sp_rand(), 'C': sp_rand(), 'epsilon': sp_rand()}\n",
    "clf = RandomizedSearchCV(svr_rbf, para_grid)\n",
    "clf.fit(X.iloc[:-n].values, realized_vol.iloc[1:-(n-1)].values.reshape(-1,))\n",
    "predict_svr_rbf = clf.predict(X.iloc[-n:])\n",
    "\n",
    "predict_svr_rbf = pd.DataFrame(predict_svr_rbf)\n",
    "predict_svr_rbf.index = returns.iloc[-n:].index"
   ]
  },
  {
   "cell_type": "code",
   "execution_count": 32,
   "id": "6cc65d3b-75d9-4ece-bc4c-ddbd8244f37e",
   "metadata": {},
   "outputs": [
    {
     "data": {
      "image/png": "[encoded data removed]",
      "text/plain": [
       "<Figure size 720x432 with 1 Axes>"
      ]
     },
     "metadata": {
      "needs_background": "light"
     },
     "output_type": "display_data"
    }
   ],
   "source": [
    "plt.figure(figsize=(10, 6))\n",
    "plt.plot(realized_vol / 100, label='Realized Volatility')\n",
    "plt.plot(predict_svr_rbf / 100, label='Volatility Prediction-SVR_GARCH')\n",
    "plt.title('Volatility Prediction with SVR-GARCH (RBF)', fontsize=12)\n",
    "plt.legend()\n",
    "plt.show()"
   ]
  },
  {
   "cell_type": "code",
   "execution_count": 33,
   "id": "4cf82eaa-73e7-4872-97a3-a0ab91ef2a76",
   "metadata": {},
   "outputs": [
    {
     "name": "stdout",
     "output_type": "stream",
     "text": [
      "The RMSE value of SVR with RBF Kernel is  0.044470\n"
     ]
    }
   ],
   "source": [
    "rmse_svr_rbf = np.sqrt(mse(realized_vol.iloc[-n:] / 100, predict_svr_rbf / 100))\n",
    "print('The RMSE value of SVR with RBF Kernel is  {:.6f}'.format(rmse_svr_rbf))"
   ]
  },
  {
   "cell_type": "markdown",
   "id": "48326bed-a353-4452-913a-1166f921f788",
   "metadata": {},
   "source": [
    "## Polynomial Kernal"
   ]
  },
  {
   "cell_type": "code",
   "execution_count": 34,
   "id": "7c780b6e-1e2b-42f1-a756-2f193b442f74",
   "metadata": {},
   "outputs": [],
   "source": [
    "para_grid = {'gamma': sp_rand(), 'C': sp_rand(), 'epsilon': sp_rand()}\n",
    "clf = RandomizedSearchCV(svr_poly, para_grid)\n",
    "clf.fit(X.iloc[:-n].values, realized_vol.iloc[1:-(n-1)].values.reshape(-1,))\n",
    "predict_svr_poly = clf.predict(X.iloc[-n:])\n",
    "\n",
    "predict_svr_poly = pd.DataFrame(predict_svr_poly)\n",
    "predict_svr_poly.index = returns.iloc[-n:].index"
   ]
  },
  {
   "cell_type": "code",
   "execution_count": 35,
   "id": "8ed2debc-c460-4140-9020-cdc2ba75339c",
   "metadata": {},
   "outputs": [
    {
     "data": {
      "image/png": "[encoded data removed]",
      "text/plain": [
       "<Figure size 720x432 with 1 Axes>"
      ]
     },
     "metadata": {
      "needs_background": "light"
     },
     "output_type": "display_data"
    }
   ],
   "source": [
    "plt.figure(figsize=(10, 6))\n",
    "plt.plot(realized_vol/100, label='Realized Volatility')\n",
    "plt.plot(predict_svr_poly/100, label='Volatility Prediction-SVR-GARCH')\n",
    "plt.title('Volatility Prediction with SVR-GARCH (Polynomial)', fontsize=12)\n",
    "plt.legend()\n",
    "plt.show()"
   ]
  },
  {
   "cell_type": "code",
   "execution_count": 36,
   "id": "f7a136d3-c363-4746-a71d-0198fd796515",
   "metadata": {},
   "outputs": [
    {
     "name": "stdout",
     "output_type": "stream",
     "text": [
      "The RMSE value of SVR with Polynomial Kernel is 2.524663\n"
     ]
    }
   ],
   "source": [
    "rmse_svr_poly = np.sqrt(mse(realized_vol.iloc[-n:] / 100, predict_svr_poly / 100))\n",
    "print('The RMSE value of SVR with Polynomial Kernel is {:.6f}'.format(rmse_svr_poly))"
   ]
  },
  {
   "cell_type": "markdown",
   "id": "c3a285b0-92ff-4af8-97e9-59cb81cd9554",
   "metadata": {},
   "source": [
    "# Neural Networks"
   ]
  },
  {
   "cell_type": "code",
   "execution_count": 37,
   "id": "3094add2-014f-40b7-8eed-eb62df4f71eb",
   "metadata": {},
   "outputs": [],
   "source": [
    "from sklearn.neural_network import MLPRegressor\n",
    "NN_vol = MLPRegressor(learning_rate_init=0.001, random_state=1)\n",
    "para_grid_NN = {'hidden_layer_sizes': [(100, 50), (50, 50), (10, 100)],\n",
    "                'max_iter': [500, 1000],\n",
    "                'alpha': [0.00005, 0.0005 ]}\n",
    "clf = RandomizedSearchCV(NN_vol, para_grid_NN)\n",
    "clf.fit(X.iloc[:-n].values, realized_vol.iloc[1:-(n-1)].values.reshape(-1, ))\n",
    "NN_predictions = clf.predict(X.iloc[-n:])\n",
    "NN_predictions = pd.DataFrame(NN_predictions)\n",
    "NN_predictions.index = returns.iloc[-n:].index"
   ]
  },
  {
   "cell_type": "code",
   "execution_count": 38,
   "id": "d9329b78-5fde-406d-bba2-53ccaee21b4a",
   "metadata": {},
   "outputs": [
    {
     "data": {
      "image/png": "[encoded data removed]",
      "text/plain": [
       "<Figure size 720x432 with 1 Axes>"
      ]
     },
     "metadata": {
      "needs_background": "light"
     },
     "output_type": "display_data"
    }
   ],
   "source": [
    "plt.figure(figsize=(10, 6))\n",
    "plt.plot(realized_vol / 100, label='Realized Volatility')\n",
    "plt.plot(NN_predictions / 100, label='Volatility Prediction-NN')\n",
    "plt.title('Volatility Prediction with Neural Network', fontsize=12)\n",
    "plt.legend()\n",
    "plt.show()"
   ]
  },
  {
   "cell_type": "code",
   "execution_count": 39,
   "id": "0a24e303-661e-4983-b0ae-87394dbf2981",
   "metadata": {},
   "outputs": [
    {
     "name": "stdout",
     "output_type": "stream",
     "text": [
      "The RMSE value of NN is 0.031506\n"
     ]
    }
   ],
   "source": [
    "rmse_NN = np.sqrt(mse(realized_vol.iloc[-n:] / 100, NN_predictions / 100))\n",
    "print('The RMSE value of NN is {:.6f}'.format(rmse_NN))"
   ]
  },
  {
   "cell_type": "markdown",
   "id": "3ed5327d-1523-4439-a6c5-a73948df5935",
   "metadata": {},
   "source": [
    "## TensorFlow"
   ]
  },
  {
   "cell_type": "code",
   "execution_count": 40,
   "id": "c1005837-f8af-4bab-96ad-c8b298260e3a",
   "metadata": {},
   "outputs": [],
   "source": [
    "import tensorflow as tf\n",
    "from tensorflow import keras\n",
    "from tensorflow.keras import layers\n",
    "from sklearn.metrics import mean_squared_error as mse"
   ]
  },
  {
   "cell_type": "code",
   "execution_count": 41,
   "id": "59273592-8748-4ae5-8fc5-695f4a0eea12",
   "metadata": {},
   "outputs": [
    {
     "name": "stdout",
     "output_type": "stream",
     "text": [
      "DL_RMSE_1:0.133665\n",
      "DL_RMSE_2:0.124916\n",
      "DL_RMSE_3:0.122650\n",
      "DL_RMSE_4:0.119554\n"
     ]
    }
   ],
   "source": [
    "model = keras.Sequential([layers.Dense(256, activation=\"relu\"),\n",
    "                          layers.Dense(128, activation=\"relu\"),\n",
    "                          layers.Dense(1, activation=\"linear\"),])\n",
    "\n",
    "model.compile(loss='mse', optimizer='rmsprop')\n",
    "epochs_trial = np.arange(100, 400, 4)\n",
    "batch_trial = np.arange(100, 400, 4)\n",
    "DL_pred = []\n",
    "DL_RMSE = []\n",
    "for i, j, k in zip(range(4), epochs_trial, batch_trial):\n",
    "    model.fit(X.iloc[:-n].values,\n",
    "              realized_vol.iloc[1:-(n-1)].values.reshape(-1,),\n",
    "              batch_size=k, epochs=j, verbose=False)\n",
    "    DL_predict = model.predict(np.asarray(X.iloc[-n:]))\n",
    "    DL_RMSE.append(np.sqrt(mse(realized_vol.iloc[-n:] / 100,\n",
    "                         DL_predict.flatten() / 100)))\n",
    "    DL_pred.append(DL_predict)\n",
    "    print('DL_RMSE_{}:{:.6f}'.format(i+1, DL_RMSE[i]))"
   ]
  },
  {
   "cell_type": "code",
   "execution_count": 42,
   "id": "1dd60d95-1fa9-43e5-8c71-9d06c9c2e4da",
   "metadata": {},
   "outputs": [
    {
     "data": {
      "image/png": "[encoded data removed]",
      "text/plain": [
       "<Figure size 720x432 with 1 Axes>"
      ]
     },
     "metadata": {
      "needs_background": "light"
     },
     "output_type": "display_data"
    }
   ],
   "source": [
    "DL_predict = pd.DataFrame(DL_pred[DL_RMSE.index(min(DL_RMSE))])\n",
    "DL_predict.index = returns.iloc[-n:].index\n",
    "\n",
    "plt.figure(figsize=(10, 6))\n",
    "plt.plot(realized_vol / 100,label='Realized Volatility')\n",
    "plt.plot(DL_predict / 100,label='Volatility Prediction-DL')\n",
    "plt.title('Volatility Prediction with Deep Learning',  fontsize=12)\n",
    "plt.legend()\n",
    "plt.show()"
   ]
  },
  {
   "cell_type": "markdown",
   "id": "f16f6ffb-e52d-4785-9bb8-99563056078b",
   "metadata": {},
   "source": [
    "# Bayesian Approach"
   ]
  },
  {
   "cell_type": "code",
   "execution_count": 49,
   "id": "4c6f79ed-bf78-4548-92c0-7bce3474b3fd",
   "metadata": {},
   "outputs": [
    {
     "name": "stdout",
     "output_type": "stream",
     "text": [
      "Collecting git+https://github.com/RJT1990/pyflux\n",
      "  Cloning https://github.com/RJT1990/pyflux to c:\\users\\patrick.guo\\appdata\\local\\temp\\pip-req-build-iz8lh8gl\n"
     ]
    },
    {
     "name": "stderr",
     "output_type": "stream",
     "text": [
      "  Running command git clone -q https://github.com/RJT1990/pyflux 'C:\\Users\\Patrick.Guo\\AppData\\Local\\Temp\\pip-req-build-iz8lh8gl'\n",
      "  ERROR: Error [WinError 2] The system cannot find the file specified while executing command git clone -q https://github.com/RJT1990/pyflux 'C:\\Users\\Patrick.Guo\\AppData\\Local\\Temp\\pip-req-build-iz8lh8gl'\n",
      "ERROR: Cannot find command 'git' - do you have 'git' installed and in your PATH?\n"
     ]
    }
   ],
   "source": [
    "!pip install git+https://github.com/RJT1990/pyflux"
   ]
  },
  {
   "cell_type": "code",
   "execution_count": 44,
   "id": "4e17e1ab-bfa3-4eaf-909a-e2c85c674048",
   "metadata": {},
   "outputs": [
    {
     "name": "stdout",
     "output_type": "stream",
     "text": [
      "Collecting git+https://github.com/RJT1990/pyflux\n",
      "  Cloning https://github.com/RJT1990/pyflux to c:\\users\\patrick.guo\\appdata\\local\\temp\\pip-req-build-1a5muht2\n"
     ]
    },
    {
     "name": "stderr",
     "output_type": "stream",
     "text": [
      "  Running command git clone -q https://github.com/RJT1990/pyflux 'C:\\Users\\Patrick.Guo\\AppData\\Local\\Temp\\pip-req-build-1a5muht2'\n",
      "  ERROR: Error [WinError 2] The system cannot find the file specified while executing command git clone -q https://github.com/RJT1990/pyflux 'C:\\Users\\Patrick.Guo\\AppData\\Local\\Temp\\pip-req-build-1a5muht2'\n",
      "ERROR: Cannot find command 'git' - do you have 'git' installed and in your PATH?\n"
     ]
    },
    {
     "ename": "ModuleNotFoundError",
     "evalue": "No module named 'pyflux'",
     "output_type": "error",
     "traceback": [
      "\u001b[1;31m---------------------------------------------------------------------------\u001b[0m",
      "\u001b[1;31mModuleNotFoundError\u001b[0m                       Traceback (most recent call last)",
      "\u001b[1;32m~\\AppData\\Local\\Temp/ipykernel_23480/380901588.py\u001b[0m in \u001b[0;36m<module>\u001b[1;34m\u001b[0m\n\u001b[0;32m      1\u001b[0m \u001b[0mget_ipython\u001b[0m\u001b[1;33m(\u001b[0m\u001b[1;33m)\u001b[0m\u001b[1;33m.\u001b[0m\u001b[0msystem\u001b[0m\u001b[1;33m(\u001b[0m\u001b[1;34m'pip install git+https://github.com/RJT1990/pyflux'\u001b[0m\u001b[1;33m)\u001b[0m\u001b[1;33m\u001b[0m\u001b[1;33m\u001b[0m\u001b[0m\n\u001b[1;32m----> 2\u001b[1;33m \u001b[1;32mimport\u001b[0m \u001b[0mpyflux\u001b[0m \u001b[1;32mas\u001b[0m \u001b[0mpf\u001b[0m\u001b[1;33m\u001b[0m\u001b[1;33m\u001b[0m\u001b[0m\n\u001b[0m\u001b[0;32m      3\u001b[0m \u001b[1;32mfrom\u001b[0m \u001b[0mscipy\u001b[0m\u001b[1;33m.\u001b[0m\u001b[0mstats\u001b[0m \u001b[1;32mimport\u001b[0m \u001b[0mkurtosis\u001b[0m\u001b[1;33m\u001b[0m\u001b[1;33m\u001b[0m\u001b[0m\n",
      "\u001b[1;31mModuleNotFoundError\u001b[0m: No module named 'pyflux'"
     ]
    }
   ],
   "source": [
    "import pyflux as pf\n",
    "from scipy.stats import kurtosis"
   ]
  },
  {
   "cell_type": "code",
   "execution_count": null,
   "id": "2d6927ed-5542-4cb8-a40a-37e46ff6aa93",
   "metadata": {},
   "outputs": [],
   "source": [
    "model = pf.GARCH(returns.values, p=1, q=1)\n",
    "print(model.latent_variables)\n",
    "model.adjust_prior(1, pf.Normal())\n",
    "model.adjust_prior(2, pf.Normal())\n",
    "x = model.fit(method='M-H', iterations='1000')\n",
    "print(x.summary())\n",
    "\n",
    "model.plot_z([1, 2])\n",
    "model.plot_fit(figsize=(15, 5))\n",
    "model.plot_ppc(T=kurtosis, nsims=1000)"
   ]
  },
  {
   "cell_type": "code",
   "execution_count": null,
   "id": "80175f64-9df0-4c8b-8a4f-5a10375c7bac",
   "metadata": {},
   "outputs": [],
   "source": [
    "bayesian_prediction = model.predict_is(n, fit_method='M-H')\n",
    "bayesian_RMSE = np.sqrt(mse(realized_vol.iloc[-n:] / 100, bayesian_prediction.values / 100))\n",
    "bayesian_prediction.index = returns.iloc[-n:].index"
   ]
  },
  {
   "cell_type": "code",
   "execution_count": null,
   "id": "434f1b74-f723-4e44-94ca-eec144d5875d",
   "metadata": {},
   "outputs": [],
   "source": [
    "plt.figure(figsize=(10, 6))\n",
    "plt.plot(realized_vol / 100, label='Realized Volatility')\n",
    "plt.plot(bayesian_prediction['Series'] / 100, label='Volatility Prediction-Bayesian')\n",
    "plt.title('Volatility Prediction with M-H Approach', fontsize=12)\n",
    "plt.legend()\n",
    "plt.show()"
   ]
  },
  {
   "cell_type": "markdown",
   "id": "3a137d12-6373-4982-a3da-62622d9e32c6",
   "metadata": {
    "tags": []
   },
   "source": [
    "# RSME"
   ]
  },
  {
   "cell_type": "code",
   "execution_count": null,
   "id": "a9629873-cf2a-48a5-9f69-f04207226801",
   "metadata": {},
   "outputs": [],
   "source": [
    "print('The RMSE value of ARCH model is {:.4f}'.format(rmse_arch))\n",
    "print('The RMSE value of GARCH model is {:.4f}'.format(rmse_garch))\n",
    "print('The RMSE value of GJR-GARCH models is {:.4f}'.format(rmse_gjr_garch))\n",
    "print('The RMSE value of EGARCH models is {:.4f}'.format(rmse_egarch))\n",
    "print('The RMSE value of SVR with Linear Kernel is {:.6f}'.format(rmse_svr))\n",
    "print('The RMSE value of SVR with RBF Kernel is  {:.6f}'.format(rmse_svr_rbf))\n",
    "print('The RMSE value of SVR with Polynomial Kernel is {:.6f}'.format(rmse_svr_poly))\n",
    "print('The RMSE value of NN is {:.6f}'.format(rmse_NN))\n",
    "print('The RMSE value of DL_RMSE is'.format(DL_RMSE))\n"
   ]
  },
  {
   "cell_type": "code",
   "execution_count": null,
   "id": "97fe1d5d-1a00-4098-b0b2-71360202f95a",
   "metadata": {},
   "outputs": [],
   "source": []
  }
 ],
 "metadata": {
  "kernelspec": {
   "display_name": "Python 3 (ipykernel)",
   "language": "python",
   "name": "python3"
  },
  "language_info": {
   "codemirror_mode": {
    "name": "ipython",
    "version": 3
   },
   "file_extension": ".py",
   "mimetype": "text/x-python",
   "name": "python",
   "nbconvert_exporter": "python",
   "pygments_lexer": "ipython3",
   "version": "3.8.12"
  }
 },
 "nbformat": 4,
 "nbformat_minor": 5
}
