{
 "cells": [
  {
   "cell_type": "markdown",
   "id": "d6b4f576-b5af-44b5-af24-03d8790cbd60",
   "metadata": {},
   "source": [
    "# SVR Testing"
   ]
  },
  {
   "cell_type": "markdown",
   "id": "30fc10f6-5ba7-4fab-a990-b6cd63de742d",
   "metadata": {},
   "source": [
    "# data.py"
   ]
  },
  {
   "cell_type": "code",
   "execution_count": 1,
   "id": "1d41dbd3-eab7-441e-a7da-30f9aa2643bd",
   "metadata": {},
   "outputs": [],
   "source": [
    "from os import path\n",
    "import mysql.connector\n",
    "import pandas as pd\n",
    "import logging\n",
    "\n",
    "def load_csv(dpath):\n",
    "    try:\n",
    "        logging.info(f\"Load data from {dpath}\")\n",
    "        df = pd.read_csv(dpath)\n",
    "        return df\n",
    "    except Exception as e:\n",
    "        logging.error(\"Exception occurred at load_df()\", exc_info=True)\n",
    "\n",
    "def load_symbols():\n",
    "    \"\"\"\n",
    "    Return list of stock symbols.\n",
    "    \"\"\"\n",
    "    try:\n",
    "        logging.info(f'Fetch symbols.')\n",
    "        stock_list = pd.read_csv(\"../stocks_and_etfs/stock_list.csv\")\n",
    "        etf_list = pd.read_csv(\"../stocks_and_etfs/etf_list.csv\")\n",
    "        symbol_list = stock_list.append(etf_list).rename({\"0\": \"Symbol\"}, axis=1).reset_index(drop=True)\n",
    "        return symbol_list\n",
    "    except Exception as e:\n",
    "        logging.error(\"Exception occurred\", exc_info=True)\n",
    "\n",
    "def load_df(stock_symbol, host, port, user, password):\n",
    "    \"\"\"\n",
    "    Return dataframe from histdailyprice3\n",
    "    \"\"\"\n",
    "    dpath = f\"../histdailyprice3/{stock_symbol}.csv\"\n",
    "    if path.isfile(dpath):\n",
    "        load_csv(dpath)\n",
    "    else:\n",
    "        logging.info(f'Load data from MySQL.')\n",
    "        try: \n",
    "            conn = mysql.connector.connect(\n",
    "                host,\n",
    "                port,\n",
    "                user,\n",
    "                password,\n",
    "                database=\"GlobalMarketData\"\n",
    "            )\n",
    "            query = f\"SELECT Date, Exchange, Close, Open, High, Low, Volume from histdailyprice3 WHERE Symbol='{stock_symbol}';\"\n",
    "            histdailyprice3 = pd.read_sql(query, conn)\n",
    "            conn.close()\n",
    "            df = histdailyprice3.copy()\n",
    "            df.to_csv(dpath, index=False)\n",
    "            return df\n",
    "        except Exception as e:\n",
    "            logging.error(\"Exception occurred at load_df()\", exc_info=True)\n"
   ]
  },
  {
   "cell_type": "markdown",
   "id": "e27401ab-1795-4f25-80cb-ddacaf5b8e92",
   "metadata": {},
   "source": [
    "# SVR.py"
   ]
  },
  {
   "cell_type": "code",
   "execution_count": null,
   "id": "393c9060-45a4-4ffb-ac95-950245367812",
   "metadata": {},
   "outputs": [],
   "source": [
    "from sklearn.svm import SVR\n",
    "from scipy.stats import uniform as sp_rand\n",
    "from sklearn.model_selection import RandomizedSearchCV\n",
    "import logging\n",
    "import json\n",
    "\n",
    "# Tune SVR\n",
    "def tune(symbol, X, y):\n",
    "    logging.info(f'Tune SVR hyperparameters')\n",
    "    try:\n",
    "        para_grid = {'kernel': ('linear', 'rbf', 'poly'), 'gamma': sp_rand(), 'C': sp_rand(), 'epsilon': sp_rand()}\n",
    "        svr = SVR()\n",
    "        clf = RandomizedSearchCV(svr, para_grid, n_jobs=-1)\n",
    "        clf.fit(X, y)\n",
    "        top_params = clf.best_params\n",
    "        logging.info(f'Best SVR parameters {top_params}')\n",
    "\n",
    "        with open(f\"params/svr/{symbol}\", \"w\") as outfile:\n",
    "            json.dump(top_params, outfile)\n",
    "        logging.info(f'Export best SVR parameters to JSON')\n",
    "        \n",
    "        return top_params\n",
    "    except Exception as e:\n",
    "        logging.error(\"Exception occurred\", exc_info=True)\n",
    "\n",
    "# Predict with SVR using best parameters\n",
    "def predict(X_train, y_train, X_test, params):\n",
    "    try:\n",
    "        clf = SVR(params)\n",
    "        clf.fit(X_train, y_train)\n",
    "        prediction = clf.predict(X_test)\n",
    "        return prediction\n",
    "    except Exception as e:\n",
    "        logging.error(\"Exception occurred\", exc_info=True)\n"
   ]
  }
 ],
 "metadata": {
  "kernelspec": {
   "display_name": "Python 3 (ipykernel)",
   "language": "python",
   "name": "python3"
  },
  "language_info": {
   "codemirror_mode": {
    "name": "ipython",
    "version": 3
   },
   "file_extension": ".py",
   "mimetype": "text/x-python",
   "name": "python",
   "nbconvert_exporter": "python",
   "pygments_lexer": "ipython3",
   "version": "3.8.12"
  }
 },
 "nbformat": 4,
 "nbformat_minor": 5
}
