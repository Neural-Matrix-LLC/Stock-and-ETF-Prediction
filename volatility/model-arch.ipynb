{
 "cells": [
  {
   "cell_type": "markdown",
   "id": "1fcaa16d-5cd1-40e0-99c3-5c751d68e436",
   "metadata": {},
   "source": [
    "# ARCH"
   ]
  },
  {
   "cell_type": "code",
   "execution_count": 1,
   "id": "bf33a97a-ecaf-4b9a-9950-70917a7ddf0a",
   "metadata": {},
   "outputs": [],
   "source": [
    "import numpy as np \n",
    "import pandas as pd\n",
    "import matplotlib.pyplot as plt\n",
    "\n",
    "import warnings\n",
    "warnings.filterwarnings(\"ignore\")"
   ]
  },
  {
   "cell_type": "markdown",
   "id": "cc044caa-023e-44ee-a02f-fc53b9ed3673",
   "metadata": {},
   "source": [
    "# List of Stocks and ETFs\n",
    "Provided by Thomas Choi."
   ]
  },
  {
   "cell_type": "code",
   "execution_count": 2,
   "id": "2417c5d4-93f7-4b46-947d-848bf38cee97",
   "metadata": {},
   "outputs": [],
   "source": [
    "stock_list = pd.read_csv(\"stocks_and_etfs/stock_list.csv\")\n",
    "etf_list = pd.read_csv(\"stocks_and_etfs/etf_list.csv\")"
   ]
  },
  {
   "cell_type": "code",
   "execution_count": 4,
   "id": "bc594ea5-1d0f-422b-a967-d6ceb9975bce",
   "metadata": {},
   "outputs": [
    {
     "name": "stdout",
     "output_type": "stream",
     "text": [
      "NVDA\n"
     ]
    }
   ],
   "source": [
    "import random\n",
    "\n",
    "# Choose a random stock\n",
    "stock_symbol = random.choice(stock_list.iloc[:,0])\n",
    "print(stock_symbol)"
   ]
  },
  {
   "cell_type": "markdown",
   "id": "6c21e3c1-264c-4b77-8fcd-d1e4a3d07657",
   "metadata": {},
   "source": [
    "## MySQL connection\n",
    "Choosing one stock from SQL query to reduce query time."
   ]
  },
  {
   "cell_type": "code",
   "execution_count": 5,
   "id": "3299a583-9be4-40ab-b36d-81c5372b3b39",
   "metadata": {},
   "outputs": [],
   "source": [
    "# Environment variables\n",
    "from dotenv import load_dotenv\n",
    "load_dotenv(\"mysql.env\")\n",
    "\n",
    "import os\n",
    "import sys\n",
    "import mysql.connector\n",
    "\n",
    "HOST=os.environ.get(\"HOST\")\n",
    "PORT=os.environ.get(\"PORT\")\n",
    "USER=os.environ.get(\"USER\")\n",
    "PASSWORD=os.environ.get(\"PASSWORD\")\n",
    "\n",
    "try: \n",
    "    conn = mysql.connector.connect(\n",
    "        host=HOST,\n",
    "        port=PORT,\n",
    "        user=USER,\n",
    "        password=PASSWORD,\n",
    "        database=\"GlobalMarketData\"\n",
    "    )\n",
    "    query = f\"SELECT Date, Close, Open, High, Low, Volume from histdailyprice3 WHERE Symbol='{stock_symbol}';\"\n",
    "    histdailyprice3 = pd.read_sql(query, conn)\n",
    "    conn.close()\n",
    "except Exception as e:\n",
    "    conn.close()\n",
    "    print(str(e))"
   ]
  },
  {
   "cell_type": "code",
   "execution_count": 9,
   "id": "d8f7514c-e8e0-4bf2-b4e4-52d41a241b85",
   "metadata": {},
   "outputs": [],
   "source": [
    "df = histdailyprice3.copy()"
   ]
  },
  {
   "cell_type": "code",
   "execution_count": 10,
   "id": "844be7ca-b604-4db8-82be-32fbffd79549",
   "metadata": {},
   "outputs": [],
   "source": [
    "returns = 100 * df['Close'].pct_change().dropna()"
   ]
  },
  {
   "cell_type": "code",
   "execution_count": 11,
   "id": "0389cde6-4cd5-4170-95ff-fad9d70cf9c2",
   "metadata": {},
   "outputs": [],
   "source": [
    "from arch import arch_model\n",
    "model = arch_model(returns, mean='Zero', vol='ARCH', p=1, o=0, q=0)"
   ]
  },
  {
   "cell_type": "code",
   "execution_count": 12,
   "id": "6af35730-54dd-49c7-86fc-35a8a6e11587",
   "metadata": {},
   "outputs": [
    {
     "name": "stdout",
     "output_type": "stream",
     "text": [
      "                        Zero Mean - ARCH Model Results                        \n",
      "==============================================================================\n",
      "Dep. Variable:                  Close   R-squared:                       0.000\n",
      "Mean Model:                 Zero Mean   Adj. R-squared:                  0.000\n",
      "Vol Model:                       ARCH   Log-Likelihood:               -20292.4\n",
      "Distribution:                  Normal   AIC:                           40588.9\n",
      "Method:            Maximum Likelihood   BIC:                           40602.2\n",
      "                                        No. Observations:                 5870\n",
      "Date:                Wed, Dec 15 2021   Df Residuals:                     5870\n",
      "Time:                        19:45:37   Df Model:                            0\n",
      "                               Volatility Model                              \n",
      "=============================================================================\n",
      "                 coef    std err          t      P>|t|       95.0% Conf. Int.\n",
      "-----------------------------------------------------------------------------\n",
      "omega         47.6877    157.306      0.303      0.762 [-2.606e+02,3.560e+02]\n",
      "alpha[1]       1.0000     17.971  5.565e-02      0.956      [-34.222, 36.222]\n",
      "=============================================================================\n",
      "\n",
      "Covariance estimator: robust\n"
     ]
    }
   ],
   "source": [
    "model_fitted = model.fit(disp='off')\n",
    "print(model_fitted.summary())"
   ]
  },
  {
   "cell_type": "code",
   "execution_count": 13,
   "id": "3aa5db40-5fbe-4fd3-b729-0acd9fefa0e2",
   "metadata": {},
   "outputs": [
    {
     "data": {
      "image/png": "[encoded data removed]",
      "text/plain": [
       "<Figure size 432x288 with 2 Axes>"
      ]
     },
     "metadata": {
      "needs_background": "light"
     },
     "output_type": "display_data"
    }
   ],
   "source": [
    "model_fitted.plot(annualize='D')\n",
    "\n",
    "plt.tight_layout()\n",
    "plt.show()"
   ]
  },
  {
   "cell_type": "code",
   "execution_count": null,
   "id": "724a5fd4-f8d7-4c91-9a9c-5650e3bb9ae2",
   "metadata": {},
   "outputs": [],
   "source": []
  }
 ],
 "metadata": {
  "kernelspec": {
   "display_name": "Python 3 (ipykernel)",
   "language": "python",
   "name": "python3"
  },
  "language_info": {
   "codemirror_mode": {
    "name": "ipython",
    "version": 3
   },
   "file_extension": ".py",
   "mimetype": "text/x-python",
   "name": "python",
   "nbconvert_exporter": "python",
   "pygments_lexer": "ipython3",
   "version": "3.8.12"
  }
 },
 "nbformat": 4,
 "nbformat_minor": 5
}
