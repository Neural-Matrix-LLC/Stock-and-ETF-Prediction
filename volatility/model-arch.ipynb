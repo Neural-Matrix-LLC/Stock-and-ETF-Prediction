{
 "cells": [
  {
   "cell_type": "markdown",
   "id": "1fcaa16d-5cd1-40e0-99c3-5c751d68e436",
   "metadata": {},
   "source": [
    "# Ensemble-Volatility"
   ]
  },
  {
   "cell_type": "code",
   "execution_count": 2,
   "id": "bf33a97a-ecaf-4b9a-9950-70917a7ddf0a",
   "metadata": {},
   "outputs": [],
   "source": [
    "import numpy as np \n",
    "import pandas as pd\n",
    "import matplotlib.pyplot as plt\n",
    "\n",
    "import warnings\n",
    "warnings.filterwarnings(\"ignore\")"
   ]
  },
  {
   "cell_type": "markdown",
   "id": "cc044caa-023e-44ee-a02f-fc53b9ed3673",
   "metadata": {},
   "source": [
    "# List of Stocks and ETFs\n",
    "Provided by Thomas Choi."
   ]
  },
  {
   "cell_type": "code",
   "execution_count": 4,
   "id": "2417c5d4-93f7-4b46-947d-848bf38cee97",
   "metadata": {},
   "outputs": [],
   "source": [
    "stock_list = pd.read_csv(\"../stocks_and_etfs/stock_list.csv\")\n",
    "etf_list = pd.read_csv(\"../stocks_and_etfs/etf_list.csv\")"
   ]
  },
  {
   "cell_type": "code",
   "execution_count": 5,
   "id": "bc594ea5-1d0f-422b-a967-d6ceb9975bce",
   "metadata": {},
   "outputs": [
    {
     "name": "stdout",
     "output_type": "stream",
     "text": [
      "PFE\n"
     ]
    }
   ],
   "source": [
    "import random\n",
    "\n",
    "# Choose a random stock\n",
    "stock_symbol = random.choice(stock_list.iloc[:,0])\n",
    "print(stock_symbol)"
   ]
  },
  {
   "cell_type": "markdown",
   "id": "6c21e3c1-264c-4b77-8fcd-d1e4a3d07657",
   "metadata": {},
   "source": [
    "## MySQL connection\n",
    "Choosing one stock from SQL query to reduce query time."
   ]
  },
  {
   "cell_type": "code",
   "execution_count": 6,
   "id": "3299a583-9be4-40ab-b36d-81c5372b3b39",
   "metadata": {},
   "outputs": [],
   "source": [
    "# Environment variables\n",
    "from dotenv import load_dotenv\n",
    "load_dotenv(\"../mysql.env\")\n",
    "\n",
    "import os\n",
    "import sys\n",
    "import mysql.connector\n",
    "\n",
    "HOST=os.environ.get(\"HOST\")\n",
    "PORT=os.environ.get(\"PORT\")\n",
    "USER=os.environ.get(\"USER\")\n",
    "PASSWORD=os.environ.get(\"PASSWORD\")\n",
    "\n",
    "try: \n",
    "    conn = mysql.connector.connect(\n",
    "        host=HOST,\n",
    "        port=PORT,\n",
    "        user=USER,\n",
    "        password=PASSWORD,\n",
    "        database=\"GlobalMarketData\"\n",
    "    )\n",
    "    query = f\"SELECT Date, Close, Open, High, Low, Volume from histdailyprice3 WHERE Symbol='{stock_symbol}';\"\n",
    "    histdailyprice3 = pd.read_sql(query, conn)\n",
    "    conn.close()\n",
    "except Exception as e:\n",
    "    conn.close()\n",
    "    print(str(e))"
   ]
  },
  {
   "cell_type": "markdown",
   "id": "8f66fed9-bd63-4a73-b411-43c9b3f29930",
   "metadata": {},
   "source": [
    "# Data"
   ]
  },
  {
   "cell_type": "code",
   "execution_count": 7,
   "id": "d8f7514c-e8e0-4bf2-b4e4-52d41a241b85",
   "metadata": {},
   "outputs": [],
   "source": [
    "df = histdailyprice3.copy()"
   ]
  },
  {
   "cell_type": "code",
   "execution_count": 8,
   "id": "844be7ca-b604-4db8-82be-32fbffd79549",
   "metadata": {},
   "outputs": [],
   "source": [
    "returns = 100 * df['Close'].pct_change().dropna()\n",
    "realized_vol = returns.rolling(5).std()"
   ]
  },
  {
   "cell_type": "code",
   "execution_count": 9,
   "id": "f1d596e4-9953-4468-a61c-c2f170be680d",
   "metadata": {},
   "outputs": [],
   "source": [
    "n = int(len(returns)*0.4)\n",
    "split_date = returns[-n:].index"
   ]
  },
  {
   "cell_type": "markdown",
   "id": "2eaaaed8-ca1d-43c5-a237-8a876addab0c",
   "metadata": {},
   "source": [
    "# ARCH"
   ]
  },
  {
   "cell_type": "code",
   "execution_count": 10,
   "id": "0389cde6-4cd5-4170-95ff-fad9d70cf9c2",
   "metadata": {},
   "outputs": [],
   "source": [
    "from arch import arch_model\n",
    "model = arch_model(returns, mean='Zero', vol='ARCH', p=1, o=0, q=0)"
   ]
  },
  {
   "cell_type": "code",
   "execution_count": 11,
   "id": "6af35730-54dd-49c7-86fc-35a8a6e11587",
   "metadata": {},
   "outputs": [
    {
     "name": "stdout",
     "output_type": "stream",
     "text": [
      "                        Zero Mean - ARCH Model Results                        \n",
      "==============================================================================\n",
      "Dep. Variable:                  Close   R-squared:                       0.000\n",
      "Mean Model:                 Zero Mean   Adj. R-squared:                  0.000\n",
      "Vol Model:                       ARCH   Log-Likelihood:               -11697.5\n",
      "Distribution:                  Normal   AIC:                           23399.1\n",
      "Method:            Maximum Likelihood   BIC:                           23412.5\n",
      "                                        No. Observations:                 6176\n",
      "Date:                Thu, Dec 30 2021   Df Residuals:                     6176\n",
      "Time:                        12:36:30   Df Model:                            0\n",
      "                            Volatility Model                            \n",
      "========================================================================\n",
      "                 coef    std err          t      P>|t|  95.0% Conf. Int.\n",
      "------------------------------------------------------------------------\n",
      "omega          1.9246      0.114     16.899  4.581e-64 [  1.701,  2.148]\n",
      "alpha[1]       0.3794  5.442e-02      6.971  3.140e-12 [  0.273,  0.486]\n",
      "========================================================================\n",
      "\n",
      "Covariance estimator: robust\n"
     ]
    }
   ],
   "source": [
    "model_fitted = model.fit(disp='off')\n",
    "print(model_fitted.summary())"
   ]
  },
  {
   "cell_type": "code",
   "execution_count": 12,
   "id": "3aa5db40-5fbe-4fd3-b729-0acd9fefa0e2",
   "metadata": {},
   "outputs": [
    {
     "data": {
      "image/png": "[encoded data removed]",
      "text/plain": [
       "<Figure size 432x288 with 2 Axes>"
      ]
     },
     "metadata": {
      "needs_background": "light"
     },
     "output_type": "display_data"
    }
   ],
   "source": [
    "model_fitted.plot(annualize='D')\n",
    "\n",
    "plt.tight_layout()\n",
    "plt.show()"
   ]
  },
  {
   "cell_type": "code",
   "execution_count": 16,
   "id": "8328bbb4-8b5f-4ca5-9d23-32c5d02b39f2",
   "metadata": {},
   "outputs": [],
   "source": [
    "model = arch_model(returns, mean='Zero', vol='ARCH', p=p, o=0, q=0)\n",
    "model_fit = model.fit(disp='off')\n",
    "pred = model_fit.forecast(horizon=1)"
   ]
  },
  {
   "cell_type": "markdown",
   "id": "e6eadd50-b0b9-4a55-a3a8-7a6bff3dcb17",
   "metadata": {},
   "source": [
    "# Tuning Parameters\n",
    "Bayesian Information Criteria (BIC) as the model selection method and to select lag."
   ]
  },
  {
   "cell_type": "code",
   "execution_count": 13,
   "id": "672a4ce5-d3fb-4ece-bc80-c0ce4caa5e55",
   "metadata": {},
   "outputs": [
    {
     "name": "stdout",
     "output_type": "stream",
     "text": [
      "                        Zero Mean - ARCH Model Results                        \n",
      "==============================================================================\n",
      "Dep. Variable:                  Close   R-squared:                       0.000\n",
      "Mean Model:                 Zero Mean   Adj. R-squared:                  0.000\n",
      "Vol Model:                       ARCH   Log-Likelihood:               -11401.5\n",
      "Distribution:                  Normal   AIC:                           22813.0\n",
      "Method:            Maximum Likelihood   BIC:                           22846.6\n",
      "                                        No. Observations:                 6176\n",
      "Date:                Thu, Dec 30 2021   Df Residuals:                     6176\n",
      "Time:                        12:36:30   Df Model:                            0\n",
      "                             Volatility Model                             \n",
      "==========================================================================\n",
      "                 coef    std err          t      P>|t|    95.0% Conf. Int.\n",
      "--------------------------------------------------------------------------\n",
      "omega          1.0467      0.101     10.323  5.518e-25   [  0.848,  1.245]\n",
      "alpha[1]       0.2861  6.069e-02      4.714  2.435e-06   [  0.167,  0.405]\n",
      "alpha[2]       0.1412  3.081e-02      4.584  4.570e-06 [8.085e-02,  0.202]\n",
      "alpha[3]       0.1737  4.069e-02      4.268  1.969e-05 [9.393e-02,  0.253]\n",
      "alpha[4]       0.1317  2.995e-02      4.396  1.102e-05 [7.296e-02,  0.190]\n",
      "==========================================================================\n",
      "\n",
      "Covariance estimator: robust\n"
     ]
    }
   ],
   "source": [
    "bic_arch = []\n",
    "\n",
    "for p in range(1, 5):\n",
    "    arch = arch_model(returns, mean='zero', vol='ARCH', p=p).fit(disp='off')\n",
    "    bic_arch.append(arch.bic)\n",
    "    if arch.bic == np.min(bic_arch):\n",
    "         best_param = p\n",
    "arch = arch_model(returns, mean='zero', vol='ARCH', p=best_param).fit(disp='off')\n",
    "print(arch.summary())\n",
    "forecast = arch.forecast(start=split_date[0])\n",
    "forecast_arch = forecast"
   ]
  },
  {
   "cell_type": "code",
   "execution_count": 14,
   "id": "f9d9b259-013a-4dc5-81db-7dd2d73e3325",
   "metadata": {},
   "outputs": [
    {
     "data": {
      "text/html": [
       "<div>\n",
       "<style scoped>\n",
       "    .dataframe tbody tr th:only-of-type {\n",
       "        vertical-align: middle;\n",
       "    }\n",
       "\n",
       "    .dataframe tbody tr th {\n",
       "        vertical-align: top;\n",
       "    }\n",
       "\n",
       "    .dataframe thead th {\n",
       "        text-align: right;\n",
       "    }\n",
       "</style>\n",
       "<table border=\"1\" class=\"dataframe\">\n",
       "  <thead>\n",
       "    <tr style=\"text-align: right;\">\n",
       "      <th></th>\n",
       "      <th>h.1</th>\n",
       "    </tr>\n",
       "  </thead>\n",
       "  <tbody>\n",
       "    <tr>\n",
       "      <th>1</th>\n",
       "      <td>NaN</td>\n",
       "    </tr>\n",
       "    <tr>\n",
       "      <th>2</th>\n",
       "      <td>NaN</td>\n",
       "    </tr>\n",
       "    <tr>\n",
       "      <th>3</th>\n",
       "      <td>NaN</td>\n",
       "    </tr>\n",
       "    <tr>\n",
       "      <th>4</th>\n",
       "      <td>NaN</td>\n",
       "    </tr>\n",
       "    <tr>\n",
       "      <th>5</th>\n",
       "      <td>NaN</td>\n",
       "    </tr>\n",
       "    <tr>\n",
       "      <th>...</th>\n",
       "      <td>...</td>\n",
       "    </tr>\n",
       "    <tr>\n",
       "      <th>6172</th>\n",
       "      <td>4.484370</td>\n",
       "    </tr>\n",
       "    <tr>\n",
       "      <th>6173</th>\n",
       "      <td>2.419784</td>\n",
       "    </tr>\n",
       "    <tr>\n",
       "      <th>6174</th>\n",
       "      <td>2.716300</td>\n",
       "    </tr>\n",
       "    <tr>\n",
       "      <th>6175</th>\n",
       "      <td>2.364396</td>\n",
       "    </tr>\n",
       "    <tr>\n",
       "      <th>6176</th>\n",
       "      <td>1.726224</td>\n",
       "    </tr>\n",
       "  </tbody>\n",
       "</table>\n",
       "<p>6176 rows × 1 columns</p>\n",
       "</div>"
      ],
      "text/plain": [
       "           h.1\n",
       "1          NaN\n",
       "2          NaN\n",
       "3          NaN\n",
       "4          NaN\n",
       "5          NaN\n",
       "...        ...\n",
       "6172  4.484370\n",
       "6173  2.419784\n",
       "6174  2.716300\n",
       "6175  2.364396\n",
       "6176  1.726224\n",
       "\n",
       "[6176 rows x 1 columns]"
      ]
     },
     "execution_count": 14,
     "metadata": {},
     "output_type": "execute_result"
    }
   ],
   "source": [
    "from sklearn.metrics import mean_squared_error as mse\n",
    "\n",
    "forecast_arch.variance"
   ]
  },
  {
   "cell_type": "code",
   "execution_count": 15,
   "id": "af922c36-b232-419f-8179-57457a6678a3",
   "metadata": {},
   "outputs": [
    {
     "data": {
      "image/png": "[encoded data removed]",
      "text/plain": [
       "<Figure size 720x432 with 1 Axes>"
      ]
     },
     "metadata": {
      "needs_background": "light"
     },
     "output_type": "display_data"
    }
   ],
   "source": [
    "plt.figure(figsize=(10, 6))\n",
    "plt.plot(realized_vol / 100, label='Realized Volatility')\n",
    "plt.plot(forecast_arch.variance.iloc[-len(split_date):] / 100, label='Volatility Prediction-ARCH')\n",
    "plt.title('Volatility Prediction with ARCH', fontsize=12)\n",
    "plt.legend()\n",
    "plt.show()"
   ]
  },
  {
   "cell_type": "code",
   "execution_count": null,
   "id": "d17ccab4-2262-4fb6-9c0c-17ee3ec1e92c",
   "metadata": {},
   "outputs": [],
   "source": []
  },
  {
   "cell_type": "code",
   "execution_count": null,
   "id": "30ce8a11-d3e4-4b60-8660-d76134e101ea",
   "metadata": {},
   "outputs": [],
   "source": []
  }
 ],
 "metadata": {
  "kernelspec": {
   "display_name": "Python 3 (ipykernel)",
   "language": "python",
   "name": "python3"
  },
  "language_info": {
   "codemirror_mode": {
    "name": "ipython",
    "version": 3
   },
   "file_extension": ".py",
   "mimetype": "text/x-python",
   "name": "python",
   "nbconvert_exporter": "python",
   "pygments_lexer": "ipython3",
   "version": "3.8.12"
  }
 },
 "nbformat": 4,
 "nbformat_minor": 5
}
