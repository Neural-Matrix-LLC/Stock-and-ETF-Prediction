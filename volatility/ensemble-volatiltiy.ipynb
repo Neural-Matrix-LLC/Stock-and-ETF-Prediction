{
 "cells": [
  {
   "cell_type": "markdown",
   "id": "1fcaa16d-5cd1-40e0-99c3-5c751d68e436",
   "metadata": {},
   "source": [
    "# Ensemble Volatility"
   ]
  },
  {
   "cell_type": "code",
   "execution_count": 1,
   "id": "bf33a97a-ecaf-4b9a-9950-70917a7ddf0a",
   "metadata": {},
   "outputs": [],
   "source": [
    "import numpy as np \n",
    "import pandas as pd\n",
    "import matplotlib.pyplot as plt\n",
    "import timeit\n",
    "\n",
    "import warnings\n",
    "warnings.filterwarnings(\"ignore\")"
   ]
  },
  {
   "cell_type": "markdown",
   "id": "cc044caa-023e-44ee-a02f-fc53b9ed3673",
   "metadata": {},
   "source": [
    "# List of Stocks and ETFs\n",
    "Provided by Thomas Choi."
   ]
  },
  {
   "cell_type": "code",
   "execution_count": 2,
   "id": "2417c5d4-93f7-4b46-947d-848bf38cee97",
   "metadata": {},
   "outputs": [],
   "source": [
    "stock_list = pd.read_csv(\"../stocks_and_etfs/stock_list.csv\")\n",
    "etf_list = pd.read_csv(\"../stocks_and_etfs/etf_list.csv\")"
   ]
  },
  {
   "cell_type": "code",
   "execution_count": 3,
   "id": "bc594ea5-1d0f-422b-a967-d6ceb9975bce",
   "metadata": {},
   "outputs": [
    {
     "name": "stdout",
     "output_type": "stream",
     "text": [
      "MTCH\n"
     ]
    }
   ],
   "source": [
    "import random\n",
    "\n",
    "# Choose a random stock\n",
    "stock_symbol = random.choice(stock_list.iloc[:,0])\n",
    "print(stock_symbol)"
   ]
  },
  {
   "cell_type": "markdown",
   "id": "6c21e3c1-264c-4b77-8fcd-d1e4a3d07657",
   "metadata": {},
   "source": [
    "## MySQL connection\n",
    "Choosing one stock from SQL query to reduce query time."
   ]
  },
  {
   "cell_type": "code",
   "execution_count": 4,
   "id": "3299a583-9be4-40ab-b36d-81c5372b3b39",
   "metadata": {},
   "outputs": [],
   "source": [
    "import os\n",
    "import sys\n",
    "import mysql.connector\n",
    "\n",
    "HOST=\"143.244.188.157\"\n",
    "PORT=\"3306\"\n",
    "USER=\"patrick-finProj\"\n",
    "PASSWORD=\"Pat#21$rick\"\n",
    "\n",
    "try: \n",
    "    conn = mysql.connector.connect(\n",
    "        host=HOST,\n",
    "        port=PORT,\n",
    "        user=USER,\n",
    "        password=PASSWORD,\n",
    "        database=\"GlobalMarketData\"\n",
    "    )\n",
    "    query = f\"SELECT Date, Close, Open, High, Low, Volume from histdailyprice3 WHERE Symbol='{stock_symbol}';\"\n",
    "    histdailyprice3 = pd.read_sql(query, conn)\n",
    "    conn.close()\n",
    "except Exception as e:\n",
    "    conn.close()\n",
    "    print(str(e))"
   ]
  },
  {
   "cell_type": "markdown",
   "id": "8f66fed9-bd63-4a73-b411-43c9b3f29930",
   "metadata": {},
   "source": [
    "# Data"
   ]
  },
  {
   "cell_type": "code",
   "execution_count": 5,
   "id": "d8f7514c-e8e0-4bf2-b4e4-52d41a241b85",
   "metadata": {},
   "outputs": [],
   "source": [
    "df = histdailyprice3.copy()"
   ]
  },
  {
   "cell_type": "code",
   "execution_count": 6,
   "id": "4fc4cb53-0b54-4174-9b4a-f6c807221ff0",
   "metadata": {},
   "outputs": [
    {
     "data": {
      "text/html": [
       "<div>\n",
       "<style scoped>\n",
       "    .dataframe tbody tr th:only-of-type {\n",
       "        vertical-align: middle;\n",
       "    }\n",
       "\n",
       "    .dataframe tbody tr th {\n",
       "        vertical-align: top;\n",
       "    }\n",
       "\n",
       "    .dataframe thead th {\n",
       "        text-align: right;\n",
       "    }\n",
       "</style>\n",
       "<table border=\"1\" class=\"dataframe\">\n",
       "  <thead>\n",
       "    <tr style=\"text-align: right;\">\n",
       "      <th></th>\n",
       "      <th>Date</th>\n",
       "      <th>Close</th>\n",
       "      <th>Open</th>\n",
       "      <th>High</th>\n",
       "      <th>Low</th>\n",
       "      <th>Volume</th>\n",
       "    </tr>\n",
       "  </thead>\n",
       "  <tbody>\n",
       "    <tr>\n",
       "      <th>0</th>\n",
       "      <td>2005-01-03</td>\n",
       "      <td>4.56</td>\n",
       "      <td>4.62</td>\n",
       "      <td>4.56</td>\n",
       "      <td>4.58</td>\n",
       "      <td>7600</td>\n",
       "    </tr>\n",
       "    <tr>\n",
       "      <th>1</th>\n",
       "      <td>2005-01-04</td>\n",
       "      <td>4.58</td>\n",
       "      <td>4.62</td>\n",
       "      <td>4.58</td>\n",
       "      <td>4.60</td>\n",
       "      <td>29000</td>\n",
       "    </tr>\n",
       "    <tr>\n",
       "      <th>2</th>\n",
       "      <td>2005-01-05</td>\n",
       "      <td>4.51</td>\n",
       "      <td>4.63</td>\n",
       "      <td>4.51</td>\n",
       "      <td>4.61</td>\n",
       "      <td>48500</td>\n",
       "    </tr>\n",
       "    <tr>\n",
       "      <th>3</th>\n",
       "      <td>2005-01-06</td>\n",
       "      <td>4.61</td>\n",
       "      <td>4.61</td>\n",
       "      <td>4.61</td>\n",
       "      <td>4.61</td>\n",
       "      <td>700</td>\n",
       "    </tr>\n",
       "    <tr>\n",
       "      <th>4</th>\n",
       "      <td>2005-01-07</td>\n",
       "      <td>4.61</td>\n",
       "      <td>4.61</td>\n",
       "      <td>4.61</td>\n",
       "      <td>4.61</td>\n",
       "      <td>2500</td>\n",
       "    </tr>\n",
       "  </tbody>\n",
       "</table>\n",
       "</div>"
      ],
      "text/plain": [
       "         Date  Close  Open  High   Low  Volume\n",
       "0  2005-01-03   4.56  4.62  4.56  4.58    7600\n",
       "1  2005-01-04   4.58  4.62  4.58  4.60   29000\n",
       "2  2005-01-05   4.51  4.63  4.51  4.61   48500\n",
       "3  2005-01-06   4.61  4.61  4.61  4.61     700\n",
       "4  2005-01-07   4.61  4.61  4.61  4.61    2500"
      ]
     },
     "execution_count": 6,
     "metadata": {},
     "output_type": "execute_result"
    }
   ],
   "source": [
    "df.head()"
   ]
  },
  {
   "cell_type": "code",
   "execution_count": 7,
   "id": "844be7ca-b604-4db8-82be-32fbffd79549",
   "metadata": {},
   "outputs": [],
   "source": [
    "returns = 100 * df['Close'].pct_change().dropna()\n",
    "realized_vol = returns.rolling(5).std()"
   ]
  },
  {
   "cell_type": "code",
   "execution_count": 8,
   "id": "f1d596e4-9953-4468-a61c-c2f170be680d",
   "metadata": {},
   "outputs": [],
   "source": [
    "n = int(len(returns)*0.4)\n",
    "split_date = returns[-n:].index"
   ]
  },
  {
   "cell_type": "markdown",
   "id": "2eaaaed8-ca1d-43c5-a237-8a876addab0c",
   "metadata": {},
   "source": [
    "# ARCH"
   ]
  },
  {
   "cell_type": "code",
   "execution_count": 9,
   "id": "0389cde6-4cd5-4170-95ff-fad9d70cf9c2",
   "metadata": {},
   "outputs": [
    {
     "name": "stdout",
     "output_type": "stream",
     "text": [
      "                        Zero Mean - ARCH Model Results                        \n",
      "==============================================================================\n",
      "Dep. Variable:                  Close   R-squared:                       0.000\n",
      "Mean Model:                 Zero Mean   Adj. R-squared:                  0.001\n",
      "Vol Model:                       ARCH   Log-Likelihood:               -7572.70\n",
      "Distribution:                  Normal   AIC:                           15149.4\n",
      "Method:            Maximum Likelihood   BIC:                           15160.1\n",
      "                                        No. Observations:                 1547\n",
      "Date:                Fri, Jan 07 2022   Df Residuals:                     1547\n",
      "Time:                        15:46:48   Df Model:                            0\n",
      "                               Volatility Model                              \n",
      "=============================================================================\n",
      "                 coef    std err          t      P>|t|       95.0% Conf. Int.\n",
      "-----------------------------------------------------------------------------\n",
      "omega       1042.1233   1025.000      1.017      0.309 [-9.668e+02,3.051e+03]\n",
      "alpha[1]       0.0000  1.042e-03      0.000      1.000 [-2.042e-03,2.042e-03]\n",
      "=============================================================================\n",
      "\n",
      "Covariance estimator: robust\n"
     ]
    }
   ],
   "source": [
    "from arch import arch_model\n",
    "model = arch_model(returns, mean='Zero', vol='ARCH', p=1, o=0, q=0)\n",
    "model_fitted = model.fit(disp='off')\n",
    "print(model_fitted.summary())"
   ]
  },
  {
   "cell_type": "code",
   "execution_count": 10,
   "id": "3aa5db40-5fbe-4fd3-b729-0acd9fefa0e2",
   "metadata": {},
   "outputs": [
    {
     "data": {
      "image/png": "[encoded data removed]",
      "text/plain": [
       "<Figure size 432x288 with 2 Axes>"
      ]
     },
     "metadata": {
      "needs_background": "light"
     },
     "output_type": "display_data"
    }
   ],
   "source": [
    "model_fitted.plot(annualize='D')\n",
    "\n",
    "plt.tight_layout()\n",
    "plt.show()"
   ]
  },
  {
   "cell_type": "code",
   "execution_count": 11,
   "id": "8328bbb4-8b5f-4ca5-9d23-32c5d02b39f2",
   "metadata": {},
   "outputs": [],
   "source": [
    "model = arch_model(returns, mean='Zero', vol='ARCH', p=1, o=0, q=0)\n",
    "model_fit = model.fit(disp='off')\n",
    "pred = model_fit.forecast(horizon=1)"
   ]
  },
  {
   "cell_type": "code",
   "execution_count": 12,
   "id": "672a4ce5-d3fb-4ece-bc80-c0ce4caa5e55",
   "metadata": {},
   "outputs": [
    {
     "name": "stdout",
     "output_type": "stream",
     "text": [
      "                        Zero Mean - ARCH Model Results                        \n",
      "==============================================================================\n",
      "Dep. Variable:                  Close   R-squared:                       0.000\n",
      "Mean Model:                 Zero Mean   Adj. R-squared:                  0.001\n",
      "Vol Model:                       ARCH   Log-Likelihood:               -7541.07\n",
      "Distribution:                  Normal   AIC:                           15088.1\n",
      "Method:            Maximum Likelihood   BIC:                           15104.2\n",
      "                                        No. Observations:                 1547\n",
      "Date:                Fri, Jan 07 2022   Df Residuals:                     1547\n",
      "Time:                        15:46:48   Df Model:                            0\n",
      "                               Volatility Model                              \n",
      "=============================================================================\n",
      "                 coef    std err          t      P>|t|       95.0% Conf. Int.\n",
      "-----------------------------------------------------------------------------\n",
      "omega        940.2444    242.224      3.882  1.037e-04  [4.655e+02,1.415e+03]\n",
      "alpha[1]       0.0000  7.834e-04      0.000      1.000 [-1.536e-03,1.536e-03]\n",
      "alpha[2]       1.0000      7.158      0.140      0.889      [-13.030, 15.030]\n",
      "=============================================================================\n",
      "\n",
      "Covariance estimator: robust\n"
     ]
    }
   ],
   "source": [
    "bic_arch = []\n",
    "\n",
    "for p in range(1, 5):\n",
    "    arch = arch_model(returns, mean='zero', vol='ARCH', p=p).fit(disp='off')\n",
    "    bic_arch.append(arch.bic)\n",
    "    if arch.bic == np.min(bic_arch):\n",
    "         best_param = p\n",
    "arch = arch_model(returns, mean='zero', vol='ARCH', p=best_param).fit(disp='off')\n",
    "print(arch.summary())\n",
    "forecast = arch.forecast(start=split_date[0])\n",
    "forecast_arch = forecast"
   ]
  },
  {
   "cell_type": "code",
   "execution_count": 13,
   "id": "f9d9b259-013a-4dc5-81db-7dd2d73e3325",
   "metadata": {},
   "outputs": [
    {
     "data": {
      "text/html": [
       "<div>\n",
       "<style scoped>\n",
       "    .dataframe tbody tr th:only-of-type {\n",
       "        vertical-align: middle;\n",
       "    }\n",
       "\n",
       "    .dataframe tbody tr th {\n",
       "        vertical-align: top;\n",
       "    }\n",
       "\n",
       "    .dataframe thead th {\n",
       "        text-align: right;\n",
       "    }\n",
       "</style>\n",
       "<table border=\"1\" class=\"dataframe\">\n",
       "  <thead>\n",
       "    <tr style=\"text-align: right;\">\n",
       "      <th></th>\n",
       "      <th>h.1</th>\n",
       "    </tr>\n",
       "  </thead>\n",
       "  <tbody>\n",
       "    <tr>\n",
       "      <th>1</th>\n",
       "      <td>NaN</td>\n",
       "    </tr>\n",
       "    <tr>\n",
       "      <th>2</th>\n",
       "      <td>NaN</td>\n",
       "    </tr>\n",
       "    <tr>\n",
       "      <th>3</th>\n",
       "      <td>NaN</td>\n",
       "    </tr>\n",
       "    <tr>\n",
       "      <th>4</th>\n",
       "      <td>NaN</td>\n",
       "    </tr>\n",
       "    <tr>\n",
       "      <th>5</th>\n",
       "      <td>NaN</td>\n",
       "    </tr>\n",
       "    <tr>\n",
       "      <th>...</th>\n",
       "      <td>...</td>\n",
       "    </tr>\n",
       "    <tr>\n",
       "      <th>1543</th>\n",
       "      <td>940.361693</td>\n",
       "    </tr>\n",
       "    <tr>\n",
       "      <th>1544</th>\n",
       "      <td>948.887288</td>\n",
       "    </tr>\n",
       "    <tr>\n",
       "      <th>1545</th>\n",
       "      <td>940.583726</td>\n",
       "    </tr>\n",
       "    <tr>\n",
       "      <th>1546</th>\n",
       "      <td>940.639800</td>\n",
       "    </tr>\n",
       "    <tr>\n",
       "      <th>1547</th>\n",
       "      <td>948.642935</td>\n",
       "    </tr>\n",
       "  </tbody>\n",
       "</table>\n",
       "<p>1547 rows × 1 columns</p>\n",
       "</div>"
      ],
      "text/plain": [
       "             h.1\n",
       "1            NaN\n",
       "2            NaN\n",
       "3            NaN\n",
       "4            NaN\n",
       "5            NaN\n",
       "...          ...\n",
       "1543  940.361693\n",
       "1544  948.887288\n",
       "1545  940.583726\n",
       "1546  940.639800\n",
       "1547  948.642935\n",
       "\n",
       "[1547 rows x 1 columns]"
      ]
     },
     "execution_count": 13,
     "metadata": {},
     "output_type": "execute_result"
    }
   ],
   "source": [
    "from sklearn.metrics import mean_squared_error as mse\n",
    "\n",
    "forecast_arch.variance"
   ]
  },
  {
   "cell_type": "code",
   "execution_count": 14,
   "id": "af922c36-b232-419f-8179-57457a6678a3",
   "metadata": {},
   "outputs": [
    {
     "data": {
      "image/png": "[encoded data removed]",
      "text/plain": [
       "<Figure size 720x432 with 1 Axes>"
      ]
     },
     "metadata": {
      "needs_background": "light"
     },
     "output_type": "display_data"
    }
   ],
   "source": [
    "plt.figure(figsize=(10, 6))\n",
    "plt.plot(realized_vol / 100, label='Realized Volatility')\n",
    "plt.plot(forecast_arch.variance.iloc[-len(split_date):] / 100, label='Volatility Prediction-ARCH')\n",
    "plt.title('Volatility Prediction with ARCH', fontsize=12)\n",
    "plt.legend()\n",
    "plt.show()"
   ]
  },
  {
   "cell_type": "code",
   "execution_count": 15,
   "id": "15bbb289-5916-4e68-ad72-05464729155b",
   "metadata": {},
   "outputs": [
    {
     "name": "stdout",
     "output_type": "stream",
     "text": [
      "The RMSE value of ARCH model is 3.0525\n"
     ]
    }
   ],
   "source": [
    "rmse_arch = np.sqrt(mse(realized_vol[-n:] / 100, np.sqrt(forecast_arch.variance.iloc[-len(split_date):].fillna(0) / 100)))\n",
    "print('The RMSE value of ARCH model is {:.4f}'.format(rmse_arch))"
   ]
  },
  {
   "cell_type": "markdown",
   "id": "ae34c220-906f-4161-9cb6-f626cc80b246",
   "metadata": {},
   "source": [
    "# GARCH"
   ]
  },
  {
   "cell_type": "code",
   "execution_count": 16,
   "id": "30ce8a11-d3e4-4b60-8660-d76134e101ea",
   "metadata": {},
   "outputs": [
    {
     "name": "stdout",
     "output_type": "stream",
     "text": [
      "                       Zero Mean - GARCH Model Results                        \n",
      "==============================================================================\n",
      "Dep. Variable:                  Close   R-squared:                       0.000\n",
      "Mean Model:                 Zero Mean   Adj. R-squared:                  0.001\n",
      "Vol Model:                      GARCH   Log-Likelihood:               -5545.04\n",
      "Distribution:                  Normal   AIC:                           11096.1\n",
      "Method:            Maximum Likelihood   BIC:                           11112.1\n",
      "                                        No. Observations:                 1547\n",
      "Date:                Fri, Jan 07 2022   Df Residuals:                     1547\n",
      "Time:                        15:46:49   Df Model:                            0\n",
      "                               Volatility Model                              \n",
      "=============================================================================\n",
      "                 coef    std err          t      P>|t|       95.0% Conf. Int.\n",
      "-----------------------------------------------------------------------------\n",
      "omega          0.0434  1.974e-02      2.197  2.805e-02  [4.671e-03,8.204e-02]\n",
      "alpha[1]   1.6112e-05  8.458e-05      0.190      0.849 [-1.497e-04,1.819e-04]\n",
      "beta[1]        0.9948  6.724e-04   1479.441      0.000      [  0.993,  0.996]\n",
      "=============================================================================\n",
      "\n",
      "Covariance estimator: robust\n"
     ]
    }
   ],
   "source": [
    "garch = arch_model(returns, mean='zero', vol='GARCH', p=1, o=0, q=1).fit(disp='off')\n",
    "print(garch.summary())"
   ]
  },
  {
   "cell_type": "code",
   "execution_count": 17,
   "id": "2e16b651-92da-45fb-96a3-a4994272c5e4",
   "metadata": {},
   "outputs": [
    {
     "name": "stdout",
     "output_type": "stream",
     "text": [
      "                       Zero Mean - GARCH Model Results                        \n",
      "==============================================================================\n",
      "Dep. Variable:                  Close   R-squared:                       0.000\n",
      "Mean Model:                 Zero Mean   Adj. R-squared:                  0.001\n",
      "Vol Model:                      GARCH   Log-Likelihood:               -5349.32\n",
      "Distribution:                  Normal   AIC:                           10716.6\n",
      "Method:            Maximum Likelihood   BIC:                           10764.7\n",
      "                                        No. Observations:                 1547\n",
      "Date:                Fri, Jan 07 2022   Df Residuals:                     1547\n",
      "Time:                        15:46:49   Df Model:                            0\n",
      "                               Volatility Model                              \n",
      "=============================================================================\n",
      "                 coef    std err          t      P>|t|       95.0% Conf. Int.\n",
      "-----------------------------------------------------------------------------\n",
      "omega          0.3592      0.229      1.569      0.117   [-8.961e-02,  0.808]\n",
      "alpha[1]       0.0000  6.308e-04      0.000      1.000 [-1.236e-03,1.236e-03]\n",
      "alpha[2]       0.0000  4.104e-04      0.000      1.000 [-8.044e-04,8.044e-04]\n",
      "alpha[3]       0.0000  4.129e-04      0.000      1.000 [-8.092e-04,8.092e-04]\n",
      "alpha[4]       0.0000  2.574e-04      0.000      1.000 [-5.045e-04,5.045e-04]\n",
      "beta[1]    2.4982e-04      0.116  2.151e-03      0.998      [ -0.227,  0.228]\n",
      "beta[2]        0.1008  3.376e-02      2.986  2.828e-03    [3.463e-02,  0.167]\n",
      "beta[3]    3.1219e-04      0.114  2.729e-03      0.998      [ -0.224,  0.225]\n",
      "beta[4]        0.8634  1.594e-02     54.185      0.000      [  0.832,  0.895]\n",
      "=============================================================================\n",
      "\n",
      "Covariance estimator: robust\n"
     ]
    }
   ],
   "source": [
    "bic_garch = []\n",
    "\n",
    "for p in range(1, 5):\n",
    "    for q in range(1, 5):\n",
    "        garch = arch_model(returns, mean='zero', vol='GARCH', p=p, o=0, q=q).fit(disp='off')\n",
    "        bic_garch.append(garch.bic)\n",
    "        if garch.bic == np.min(bic_garch):\n",
    "            best_param = p, q\n",
    "garch = arch_model(returns, mean='zero', vol='GARCH',\n",
    "                p=best_param[0], o=0, q=best_param[1]).fit(disp='off')\n",
    "print(garch.summary())\n",
    "forecast = garch.forecast(start=split_date[0])\n",
    "forecast_garch = forecast"
   ]
  },
  {
   "cell_type": "code",
   "execution_count": 18,
   "id": "277ebb32-8ac0-4cd6-8f9d-6009f7a1beb9",
   "metadata": {},
   "outputs": [
    {
     "data": {
      "image/png": "[encoded data removed]",
      "text/plain": [
       "<Figure size 720x432 with 1 Axes>"
      ]
     },
     "metadata": {
      "needs_background": "light"
     },
     "output_type": "display_data"
    }
   ],
   "source": [
    "plt.figure(figsize=(10,6))\n",
    "plt.plot(realized_vol / 100, label='Realized Volatility')\n",
    "plt.plot(forecast_garch.variance.iloc[-len(split_date):] / 100, label='Volatility Prediction-GARCH')\n",
    "plt.title('Volatility Prediction with GARCH', fontsize=12)\n",
    "plt.legend()\n",
    "plt.show()"
   ]
  },
  {
   "cell_type": "code",
   "execution_count": 19,
   "id": "98da3e8a-fe48-4029-8756-5c8e24f92ef3",
   "metadata": {},
   "outputs": [
    {
     "name": "stdout",
     "output_type": "stream",
     "text": [
      "The RMSE value of GARCH model is 0.2933\n"
     ]
    }
   ],
   "source": [
    "rmse_garch = np.sqrt(mse(realized_vol[-n:] / 100, np.sqrt(forecast_garch.variance.iloc[-len(split_date):].fillna(0) / 100)))\n",
    "print('The RMSE value of GARCH model is {:.4f}'.format(rmse_garch))"
   ]
  },
  {
   "cell_type": "markdown",
   "id": "3f60c5c1-1817-44b9-a4ef-c8376db089a5",
   "metadata": {},
   "source": [
    "# GJR GARCH"
   ]
  },
  {
   "cell_type": "code",
   "execution_count": 20,
   "id": "9c87f914-7471-454a-b422-3daa99f1e20d",
   "metadata": {},
   "outputs": [
    {
     "name": "stderr",
     "output_type": "stream",
     "text": [
      "C:\\Users\\Patrick.Guo\\.conda\\envs\\rtx3000s\\lib\\site-packages\\arch\\univariate\\base.py:753: ConvergenceWarning: The optimizer returned code 8. The message is:\n",
      "Positive directional derivative for linesearch\n",
      "See scipy.optimize.fmin_slsqp for code meaning.\n",
      "\n",
      "  warnings.warn(\n",
      "C:\\Users\\Patrick.Guo\\.conda\\envs\\rtx3000s\\lib\\site-packages\\arch\\univariate\\base.py:753: ConvergenceWarning: The optimizer returned code 8. The message is:\n",
      "Positive directional derivative for linesearch\n",
      "See scipy.optimize.fmin_slsqp for code meaning.\n",
      "\n",
      "  warnings.warn(\n",
      "C:\\Users\\Patrick.Guo\\.conda\\envs\\rtx3000s\\lib\\site-packages\\arch\\univariate\\base.py:753: ConvergenceWarning: The optimizer returned code 8. The message is:\n",
      "Positive directional derivative for linesearch\n",
      "See scipy.optimize.fmin_slsqp for code meaning.\n",
      "\n",
      "  warnings.warn(\n",
      "C:\\Users\\Patrick.Guo\\.conda\\envs\\rtx3000s\\lib\\site-packages\\arch\\univariate\\base.py:753: ConvergenceWarning: The optimizer returned code 8. The message is:\n",
      "Positive directional derivative for linesearch\n",
      "See scipy.optimize.fmin_slsqp for code meaning.\n",
      "\n",
      "  warnings.warn(\n",
      "C:\\Users\\Patrick.Guo\\.conda\\envs\\rtx3000s\\lib\\site-packages\\arch\\univariate\\base.py:753: ConvergenceWarning: The optimizer returned code 8. The message is:\n",
      "Positive directional derivative for linesearch\n",
      "See scipy.optimize.fmin_slsqp for code meaning.\n",
      "\n",
      "  warnings.warn(\n"
     ]
    },
    {
     "name": "stdout",
     "output_type": "stream",
     "text": [
      "                     Zero Mean - GJR-GARCH Model Results                      \n",
      "==============================================================================\n",
      "Dep. Variable:                  Close   R-squared:                       0.000\n",
      "Mean Model:                 Zero Mean   Adj. R-squared:                  0.001\n",
      "Vol Model:                  GJR-GARCH   Log-Likelihood:               -5029.14\n",
      "Distribution:                  Normal   AIC:                           10070.3\n",
      "Method:            Maximum Likelihood   BIC:                           10102.4\n",
      "                                        No. Observations:                 1547\n",
      "Date:                Fri, Jan 07 2022   Df Residuals:                     1547\n",
      "Time:                        15:46:50   Df Model:                            0\n",
      "                               Volatility Model                              \n",
      "=============================================================================\n",
      "                 coef    std err          t      P>|t|       95.0% Conf. Int.\n",
      "-----------------------------------------------------------------------------\n",
      "omega          0.3473      0.191      1.819  6.896e-02   [-2.698e-02,  0.722]\n",
      "alpha[1]       0.0000  1.959e-04      0.000      1.000 [-3.840e-04,3.840e-04]\n",
      "gamma[1]       0.1911  5.408e-02      3.534  4.095e-04    [8.512e-02,  0.297]\n",
      "beta[1]    9.9377e-07  5.165e-02  1.924e-05      1.000      [ -0.101,  0.101]\n",
      "beta[2]    5.3405e-06  5.573e-03  9.583e-04      0.999 [-1.092e-02,1.093e-02]\n",
      "beta[3]        0.9045  7.868e-02     11.496  1.376e-30      [  0.750,  1.059]\n",
      "=============================================================================\n",
      "\n",
      "Covariance estimator: robust\n",
      "WARNING: The optimizer did not indicate successful convergence. The message was Positive directional derivative for linesearch.\n",
      "See convergence_flag.\n",
      "\n"
     ]
    },
    {
     "name": "stderr",
     "output_type": "stream",
     "text": [
      "C:\\Users\\Patrick.Guo\\.conda\\envs\\rtx3000s\\lib\\site-packages\\arch\\univariate\\base.py:753: ConvergenceWarning: The optimizer returned code 8. The message is:\n",
      "Positive directional derivative for linesearch\n",
      "See scipy.optimize.fmin_slsqp for code meaning.\n",
      "\n",
      "  warnings.warn(\n",
      "C:\\Users\\Patrick.Guo\\.conda\\envs\\rtx3000s\\lib\\site-packages\\arch\\univariate\\base.py:753: ConvergenceWarning: The optimizer returned code 8. The message is:\n",
      "Positive directional derivative for linesearch\n",
      "See scipy.optimize.fmin_slsqp for code meaning.\n",
      "\n",
      "  warnings.warn(\n",
      "C:\\Users\\Patrick.Guo\\.conda\\envs\\rtx3000s\\lib\\site-packages\\arch\\univariate\\base.py:753: ConvergenceWarning: The optimizer returned code 8. The message is:\n",
      "Positive directional derivative for linesearch\n",
      "See scipy.optimize.fmin_slsqp for code meaning.\n",
      "\n",
      "  warnings.warn(\n"
     ]
    }
   ],
   "source": [
    "bic_gjr_garch = []\n",
    "\n",
    "for p in range(1, 5):\n",
    "    for q in range(1, 5):\n",
    "        gjrgarch = arch_model(returns, mean='zero', p=p, o=1, q=q).fit(disp='off')\n",
    "        bic_gjr_garch.append(gjrgarch.bic)\n",
    "        if gjrgarch.bic == np.min(bic_gjr_garch):\n",
    "             best_param = p, q\n",
    "gjrgarch = arch_model(returns, mean='zero', p=best_param[0], o=1, q=best_param[1]).fit(disp='off')\n",
    "print(gjrgarch.summary())\n",
    "forecast = gjrgarch.forecast(start=split_date[0])\n",
    "forecast_gjrgarch = forecast\n",
    "\n",
    "bic_garch = []"
   ]
  },
  {
   "cell_type": "code",
   "execution_count": 21,
   "id": "0918a6e8-ae32-42e5-9e7f-8698ad137a40",
   "metadata": {},
   "outputs": [
    {
     "data": {
      "image/png": "[encoded data removed]",
      "text/plain": [
       "<Figure size 720x432 with 1 Axes>"
      ]
     },
     "metadata": {
      "needs_background": "light"
     },
     "output_type": "display_data"
    }
   ],
   "source": [
    "plt.figure(figsize=(10, 6))\n",
    "plt.plot(realized_vol / 100, label='Realized Volatility')\n",
    "plt.plot(forecast_gjrgarch.variance.iloc[-len(split_date):] / 100, label='Volatility Prediction-GJR-GARCH')\n",
    "plt.title('Volatility Prediction with GJR-GARCH', fontsize=12)\n",
    "plt.legend()\n",
    "plt.show()"
   ]
  },
  {
   "cell_type": "code",
   "execution_count": 22,
   "id": "819a5ed8-b2bb-4376-8927-0eb414bdc8d2",
   "metadata": {},
   "outputs": [
    {
     "name": "stdout",
     "output_type": "stream",
     "text": [
      "The RMSE value of GJR-GARCH models is 0.3154\n"
     ]
    }
   ],
   "source": [
    "rmse_gjr_garch = np.sqrt(mse(realized_vol[-n:] / 100, np.sqrt(forecast_gjrgarch.variance.iloc[-len(split_date):].fillna(0) / 100)))\n",
    "print('The RMSE value of GJR-GARCH models is {:.4f}'.format(rmse_gjr_garch))"
   ]
  },
  {
   "cell_type": "markdown",
   "id": "5c455dac-f6e4-4edf-b732-73b8a7201274",
   "metadata": {},
   "source": [
    "# EGARCH"
   ]
  },
  {
   "cell_type": "code",
   "execution_count": 23,
   "id": "32d6dc0b-3519-4ab9-b6ff-bee2f0f07cb8",
   "metadata": {},
   "outputs": [
    {
     "name": "stderr",
     "output_type": "stream",
     "text": [
      "C:\\Users\\Patrick.Guo\\.conda\\envs\\rtx3000s\\lib\\site-packages\\arch\\univariate\\base.py:753: ConvergenceWarning: The optimizer returned code 8. The message is:\n",
      "Positive directional derivative for linesearch\n",
      "See scipy.optimize.fmin_slsqp for code meaning.\n",
      "\n",
      "  warnings.warn(\n",
      "C:\\Users\\Patrick.Guo\\.conda\\envs\\rtx3000s\\lib\\site-packages\\arch\\univariate\\base.py:753: ConvergenceWarning: The optimizer returned code 9. The message is:\n",
      "Iteration limit reached\n",
      "See scipy.optimize.fmin_slsqp for code meaning.\n",
      "\n",
      "  warnings.warn(\n"
     ]
    },
    {
     "name": "stdout",
     "output_type": "stream",
     "text": [
      "                       Zero Mean - EGARCH Model Results                       \n",
      "==============================================================================\n",
      "Dep. Variable:                  Close   R-squared:                       0.000\n",
      "Mean Model:                 Zero Mean   Adj. R-squared:                  0.001\n",
      "Vol Model:                     EGARCH   Log-Likelihood:               -4472.40\n",
      "Distribution:                  Normal   AIC:                           8960.80\n",
      "Method:            Maximum Likelihood   BIC:                           9003.56\n",
      "                                        No. Observations:                 1547\n",
      "Date:                Fri, Jan 07 2022   Df Residuals:                     1547\n",
      "Time:                        15:46:51   Df Model:                            0\n",
      "                               Volatility Model                              \n",
      "=============================================================================\n",
      "                 coef    std err          t      P>|t|       95.0% Conf. Int.\n",
      "-----------------------------------------------------------------------------\n",
      "omega          0.7522  4.055e-04   1854.740      0.000      [  0.751,  0.753]\n",
      "alpha[1]       1.0007  1.693e-03    591.109      0.000      [  0.997,  1.004]\n",
      "alpha[2]       0.9586  1.567e-03    611.904      0.000      [  0.956,  0.962]\n",
      "alpha[3]       1.4587  4.427e-04   3294.683      0.000      [  1.458,  1.460]\n",
      "beta[1]    3.3144e-09  3.558e-04  9.314e-06      1.000 [-6.974e-04,6.974e-04]\n",
      "beta[2]    8.6724e-09  5.915e-05  1.466e-04      1.000 [-1.159e-04,1.159e-04]\n",
      "beta[3]        0.5682  2.620e-03    216.865      0.000      [  0.563,  0.573]\n",
      "beta[4]        0.4318  1.785e-03    241.881      0.000      [  0.428,  0.435]\n",
      "=============================================================================\n",
      "\n",
      "Covariance estimator: robust\n"
     ]
    }
   ],
   "source": [
    "bic_egarch = []\n",
    "\n",
    "for p in range(1, 5):\n",
    "    for q in range(1, 5):\n",
    "        egarch = arch_model(returns, mean='zero', vol='EGARCH', p=p, q=q).fit(disp='off')\n",
    "        bic_egarch.append(egarch.bic)\n",
    "        if egarch.bic == np.min(bic_egarch):\n",
    "            best_param = p, q\n",
    "    egarch = arch_model(returns, mean='zero', vol='EGARCH', p=best_param[0], q=best_param[1]).fit(disp='off')\n",
    "print(egarch.summary())\n",
    "forecast = egarch.forecast(start=split_date[0])\n",
    "forecast_egarch = forecast"
   ]
  },
  {
   "cell_type": "code",
   "execution_count": 24,
   "id": "2890937c-5c16-4fd8-b1fe-33725a04393f",
   "metadata": {},
   "outputs": [
    {
     "data": {
      "image/png": "[encoded data removed]",
      "text/plain": [
       "<Figure size 720x432 with 1 Axes>"
      ]
     },
     "metadata": {
      "needs_background": "light"
     },
     "output_type": "display_data"
    }
   ],
   "source": [
    "plt.figure(figsize=(10, 6))\n",
    "plt.plot(realized_vol / 100, label='Realized Volatility')\n",
    "plt.plot(forecast_egarch.variance.iloc[-len(split_date):] / 100, label='Volatility Prediction-EGARCH')\n",
    "plt.title('Volatility Prediction with EGARCH', fontsize=12)\n",
    "plt.legend()\n",
    "plt.show()"
   ]
  },
  {
   "cell_type": "code",
   "execution_count": 25,
   "id": "92e07326-74ac-4cf3-9b7a-d0fa5bdbd9ed",
   "metadata": {},
   "outputs": [
    {
     "name": "stdout",
     "output_type": "stream",
     "text": [
      "The RMSE value of EGARCH models is 0.7767\n"
     ]
    }
   ],
   "source": [
    "rmse_egarch = np.sqrt(mse(realized_vol[-n:] / 100, np.sqrt(forecast_egarch.variance.iloc[-len(split_date):].fillna(0) / 100)))\n",
    "print('The RMSE value of EGARCH models is {:.4f}'.format(rmse_egarch))"
   ]
  },
  {
   "cell_type": "markdown",
   "id": "a2937bdf-5d11-4e88-9739-00c2411d2115",
   "metadata": {},
   "source": [
    "# SVR GARCH"
   ]
  },
  {
   "cell_type": "code",
   "execution_count": 26,
   "id": "d318ee11-e83f-413d-9182-90d6d9734ea0",
   "metadata": {},
   "outputs": [],
   "source": [
    "from sklearn.svm import SVR\n",
    "from scipy.stats import uniform as sp_rand\n",
    "from sklearn.model_selection import RandomizedSearchCV"
   ]
  },
  {
   "cell_type": "code",
   "execution_count": 27,
   "id": "66f7587e-b83d-41c7-a2c9-44e5c9814957",
   "metadata": {},
   "outputs": [],
   "source": [
    "realized_vol = returns.rolling(5).std()\n",
    "realized_vol = pd.DataFrame(realized_vol)\n",
    "realized_vol.reset_index(drop=True, inplace=True)\n",
    "\n",
    "returns_svm = returns ** 2\n",
    "returns_svm = returns_svm.reset_index()\n",
    "del returns_svm['index']\n",
    "\n",
    "X = pd.concat([realized_vol, returns_svm], axis=1, ignore_index=True)\n",
    "X = X[4:].copy()\n",
    "X = X.reset_index()\n",
    "X.drop('index', axis=1, inplace=True)\n",
    "\n",
    "realized_vol = realized_vol.dropna().reset_index()\n",
    "realized_vol.drop('index', axis=1, inplace=True)\n",
    "\n",
    "svr_poly = SVR(kernel='poly', degree=2)\n",
    "svr_lin = SVR(kernel='linear')\n",
    "svr_rbf = SVR(kernel='rbf')"
   ]
  },
  {
   "cell_type": "markdown",
   "id": "bf8828e9-fe03-4d46-8827-927e1a5f853e",
   "metadata": {},
   "source": [
    "## Linear"
   ]
  },
  {
   "cell_type": "code",
   "execution_count": 28,
   "id": "d7189c7e-a8bb-4d65-9683-9cd98fb6921a",
   "metadata": {},
   "outputs": [
    {
     "name": "stdout",
     "output_type": "stream",
     "text": [
      "The RMSE value of SVR with Linear Kernel is 0.000109\n",
      "Time:  171.3578329\n"
     ]
    }
   ],
   "source": [
    "# Time the grid search\n",
    "start = timeit.default_timer()\n",
    "\n",
    "para_grid = {'gamma': sp_rand(), 'C': sp_rand(), 'epsilon': sp_rand()}\n",
    "clf = RandomizedSearchCV(svr_lin, para_grid)\n",
    "clf.fit(X.iloc[:-n].values, realized_vol.iloc[1:-(n-1)].values.reshape(-1,))\n",
    "predict_svr_lin = clf.predict(X.iloc[-n:])\n",
    "\n",
    "predict_svr_lin = pd.DataFrame(predict_svr_lin)\n",
    "predict_svr_lin.index = returns.iloc[-n:].index\n",
    "\n",
    "rmse_svr = np.sqrt(mse(realized_vol.iloc[-n:] / 100, predict_svr_lin / 100))\n",
    "print('The RMSE value of SVR with Linear Kernel is {:.6f}'.format(rmse_svr))\n",
    "\n",
    "\n",
    "stop = timeit.default_timer()\n",
    "print('Time: ', stop - start)"
   ]
  },
  {
   "cell_type": "code",
   "execution_count": 29,
   "id": "63f38fd6-ad51-42ea-bc8f-353a763d6d58",
   "metadata": {},
   "outputs": [
    {
     "data": {
      "image/png": "[encoded data removed]",
      "text/plain": [
       "<Figure size 720x432 with 1 Axes>"
      ]
     },
     "metadata": {
      "needs_background": "light"
     },
     "output_type": "display_data"
    }
   ],
   "source": [
    "plt.figure(figsize=(10, 6))\n",
    "plt.plot(realized_vol / 100, label='Realized Volatility')\n",
    "plt.plot(predict_svr_lin / 100, label='Volatility Prediction-SVR-GARCH')\n",
    "plt.title('Volatility Prediction with SVR-GARCH (Linear)', fontsize=12)\n",
    "plt.legend()\n",
    "plt.show()"
   ]
  },
  {
   "cell_type": "code",
   "execution_count": 30,
   "id": "323a3913-44f8-4d52-8922-64df746fdd68",
   "metadata": {},
   "outputs": [
    {
     "name": "stdout",
     "output_type": "stream",
     "text": [
      "The RMSE value of SVR with Linear Kernel is 0.000109\n"
     ]
    }
   ],
   "source": [
    "rmse_svr = np.sqrt(mse(realized_vol.iloc[-n:] / 100, predict_svr_lin / 100))\n",
    "print('The RMSE value of SVR with Linear Kernel is {:.6f}'.format(rmse_svr))"
   ]
  },
  {
   "cell_type": "markdown",
   "id": "5abd1bf4-e7f9-4a62-82c1-23a8a78a8484",
   "metadata": {},
   "source": [
    "## Radial basis function"
   ]
  },
  {
   "cell_type": "code",
   "execution_count": 31,
   "id": "f0bb80ae-b9ef-4a5a-ba04-5d2a8f703867",
   "metadata": {},
   "outputs": [
    {
     "name": "stdout",
     "output_type": "stream",
     "text": [
      "Time:  1.0940001000000166\n"
     ]
    }
   ],
   "source": [
    "# Time the grid search\n",
    "start = timeit.default_timer()\n",
    "\n",
    "para_grid ={'gamma': sp_rand(), 'C': sp_rand(), 'epsilon': sp_rand()}\n",
    "clf = RandomizedSearchCV(svr_rbf, para_grid)\n",
    "clf.fit(X.iloc[:-n].values, realized_vol.iloc[1:-(n-1)].values.reshape(-1,))\n",
    "predict_svr_rbf = clf.predict(X.iloc[-n:])\n",
    "\n",
    "predict_svr_rbf = pd.DataFrame(predict_svr_rbf)\n",
    "predict_svr_rbf.index = returns.iloc[-n:].index\n",
    "\n",
    "stop = timeit.default_timer()\n",
    "print('Time: ', stop - start)"
   ]
  },
  {
   "cell_type": "code",
   "execution_count": 32,
   "id": "6cc65d3b-75d9-4ece-bc4c-ddbd8244f37e",
   "metadata": {},
   "outputs": [
    {
     "data": {
      "image/png": "[encoded data removed]",
      "text/plain": [
       "<Figure size 720x432 with 1 Axes>"
      ]
     },
     "metadata": {
      "needs_background": "light"
     },
     "output_type": "display_data"
    }
   ],
   "source": [
    "plt.figure(figsize=(10, 6))\n",
    "plt.plot(realized_vol / 100, label='Realized Volatility')\n",
    "plt.plot(predict_svr_rbf / 100, label='Volatility Prediction-SVR_GARCH')\n",
    "plt.title('Volatility Prediction with SVR-GARCH (RBF)', fontsize=12)\n",
    "plt.legend()\n",
    "plt.show()"
   ]
  },
  {
   "cell_type": "code",
   "execution_count": 33,
   "id": "4cf82eaa-73e7-4872-97a3-a0ab91ef2a76",
   "metadata": {},
   "outputs": [
    {
     "name": "stdout",
     "output_type": "stream",
     "text": [
      "The RMSE value of SVR with RBF Kernel is  0.008139\n"
     ]
    }
   ],
   "source": [
    "rmse_svr_rbf = np.sqrt(mse(realized_vol.iloc[-n:] / 100, predict_svr_rbf / 100))\n",
    "print('The RMSE value of SVR with RBF Kernel is  {:.6f}'.format(rmse_svr_rbf))"
   ]
  },
  {
   "cell_type": "markdown",
   "id": "48326bed-a353-4452-913a-1166f921f788",
   "metadata": {},
   "source": [
    "## Polynomial Kernal\n",
    "Long run time (test again)"
   ]
  },
  {
   "cell_type": "code",
   "execution_count": null,
   "id": "7c780b6e-1e2b-42f1-a756-2f193b442f74",
   "metadata": {},
   "outputs": [],
   "source": [
    "# Time the grid search\n",
    "start = timeit.default_timer()\n",
    "\n",
    "para_grid = {'gamma': sp_rand(), 'C': sp_rand(), 'epsilon': sp_rand()}\n",
    "clf = RandomizedSearchCV(svr_poly, para_grid)\n",
    "clf.fit(X.iloc[:-n].values, realized_vol.iloc[1:-(n-1)].values.reshape(-1,))\n",
    "predict_svr_poly = clf.predict(X.iloc[-n:])\n",
    "\n",
    "predict_svr_poly = pd.DataFrame(predict_svr_poly)\n",
    "predict_svr_poly.index = returns.iloc[-n:].index\n",
    "\n",
    "stop = timeit.default_timer()\n",
    "print('Time: ', stop - start)"
   ]
  },
  {
   "cell_type": "code",
   "execution_count": null,
   "id": "8ed2debc-c460-4140-9020-cdc2ba75339c",
   "metadata": {},
   "outputs": [],
   "source": [
    "plt.figure(figsize=(10, 6))\n",
    "plt.plot(realized_vol/100, label='Realized Volatility')\n",
    "plt.plot(predict_svr_poly/100, label='Volatility Prediction-SVR-GARCH')\n",
    "plt.title('Volatility Prediction with SVR-GARCH (Polynomial)', fontsize=12)\n",
    "plt.legend()\n",
    "plt.show()"
   ]
  },
  {
   "cell_type": "code",
   "execution_count": null,
   "id": "f7a136d3-c363-4746-a71d-0198fd796515",
   "metadata": {},
   "outputs": [],
   "source": [
    "rmse_svr_poly = np.sqrt(mse(realized_vol.iloc[-n:] / 100, predict_svr_poly / 100))\n",
    "print('The RMSE value of SVR with Polynomial Kernel is {:.6f}'.format(rmse_svr_poly))"
   ]
  },
  {
   "cell_type": "markdown",
   "id": "c3a285b0-92ff-4af8-97e9-59cb81cd9554",
   "metadata": {},
   "source": [
    "# Neural Networks"
   ]
  },
  {
   "cell_type": "code",
   "execution_count": null,
   "id": "3094add2-014f-40b7-8eed-eb62df4f71eb",
   "metadata": {},
   "outputs": [],
   "source": [
    "from sklearn.neural_network import MLPRegressor\n",
    "NN_vol = MLPRegressor(learning_rate_init=0.001, random_state=1)\n",
    "para_grid_NN = {'hidden_layer_sizes': [(100, 50), (50, 50), (10, 100)],\n",
    "                'max_iter': [500, 1000],\n",
    "                'alpha': [0.00005, 0.0005 ]}\n",
    "clf = RandomizedSearchCV(NN_vol, para_grid_NN)\n",
    "clf.fit(X.iloc[:-n].values, realized_vol.iloc[1:-(n-1)].values.reshape(-1, ))\n",
    "NN_predictions = clf.predict(X.iloc[-n:])\n",
    "NN_predictions = pd.DataFrame(NN_predictions)\n",
    "NN_predictions.index = returns.iloc[-n:].index"
   ]
  },
  {
   "cell_type": "code",
   "execution_count": null,
   "id": "d9329b78-5fde-406d-bba2-53ccaee21b4a",
   "metadata": {},
   "outputs": [],
   "source": [
    "plt.figure(figsize=(10, 6))\n",
    "plt.plot(realized_vol / 100, label='Realized Volatility')\n",
    "plt.plot(NN_predictions / 100, label='Volatility Prediction-NN')\n",
    "plt.title('Volatility Prediction with Neural Network', fontsize=12)\n",
    "plt.legend()\n",
    "plt.show()"
   ]
  },
  {
   "cell_type": "code",
   "execution_count": null,
   "id": "0a24e303-661e-4983-b0ae-87394dbf2981",
   "metadata": {},
   "outputs": [],
   "source": [
    "rmse_NN = np.sqrt(mse(realized_vol.iloc[-n:] / 100, NN_predictions / 100))\n",
    "print('The RMSE value of NN is {:.6f}'.format(rmse_NN))"
   ]
  },
  {
   "cell_type": "markdown",
   "id": "3ed5327d-1523-4439-a6c5-a73948df5935",
   "metadata": {},
   "source": [
    "## TensorFlow"
   ]
  },
  {
   "cell_type": "code",
   "execution_count": null,
   "id": "c1005837-f8af-4bab-96ad-c8b298260e3a",
   "metadata": {},
   "outputs": [],
   "source": [
    "import tensorflow as tf\n",
    "from tensorflow import keras\n",
    "from tensorflow.keras import layers\n",
    "from sklearn.metrics import mean_squared_error as mse"
   ]
  },
  {
   "cell_type": "code",
   "execution_count": null,
   "id": "59273592-8748-4ae5-8fc5-695f4a0eea12",
   "metadata": {},
   "outputs": [],
   "source": [
    "model = keras.Sequential([layers.Dense(256, activation=\"relu\"),\n",
    "                          layers.Dense(128, activation=\"relu\"),\n",
    "                          layers.Dense(1, activation=\"linear\"),])\n",
    "\n",
    "model.compile(loss='mse', optimizer='rmsprop')\n",
    "epochs_trial = np.arange(100, 400, 4)\n",
    "batch_trial = np.arange(100, 400, 4)\n",
    "DL_pred = []\n",
    "DL_RMSE = []\n",
    "for i, j, k in zip(range(4), epochs_trial, batch_trial):\n",
    "    model.fit(X.iloc[:-n].values,\n",
    "              realized_vol.iloc[1:-(n-1)].values.reshape(-1,),\n",
    "              batch_size=k, epochs=j, verbose=False)\n",
    "    DL_predict = model.predict(np.asarray(X.iloc[-n:]))\n",
    "    DL_RMSE.append(np.sqrt(mse(realized_vol.iloc[-n:] / 100,\n",
    "                         DL_predict.flatten() / 100)))\n",
    "    DL_pred.append(DL_predict)\n",
    "    print('DL_RMSE_{}:{:.6f}'.format(i+1, DL_RMSE[i]))"
   ]
  },
  {
   "cell_type": "code",
   "execution_count": null,
   "id": "1dd60d95-1fa9-43e5-8c71-9d06c9c2e4da",
   "metadata": {},
   "outputs": [],
   "source": [
    "DL_predict = pd.DataFrame(DL_pred[DL_RMSE.index(min(DL_RMSE))])\n",
    "DL_predict.index = returns.iloc[-n:].index\n",
    "\n",
    "plt.figure(figsize=(10, 6))\n",
    "plt.plot(realized_vol / 100,label='Realized Volatility')\n",
    "plt.plot(DL_predict / 100,label='Volatility Prediction-DL')\n",
    "plt.title('Volatility Prediction with Deep Learning',  fontsize=12)\n",
    "plt.legend()\n",
    "plt.show()"
   ]
  },
  {
   "cell_type": "markdown",
   "id": "f16f6ffb-e52d-4785-9bb8-99563056078b",
   "metadata": {},
   "source": [
    "# Bayesian Approach"
   ]
  },
  {
   "cell_type": "code",
   "execution_count": null,
   "id": "4e17e1ab-bfa3-4eaf-909a-e2c85c674048",
   "metadata": {},
   "outputs": [],
   "source": [
    "from scipy.stats import kurtosis\n",
    "import pyflux as pf"
   ]
  },
  {
   "cell_type": "code",
   "execution_count": null,
   "id": "2d6927ed-5542-4cb8-a40a-37e46ff6aa93",
   "metadata": {},
   "outputs": [],
   "source": [
    "model = pf.GARCH(returns.values, p=1, q=1)\n",
    "print(model.latent_variables)\n",
    "model.adjust_prior(1, pf.Normal())\n",
    "model.adjust_prior(2, pf.Normal())\n",
    "x = model.fit(method='M-H', iterations='1000')\n",
    "print(x.summary())\n",
    "\n",
    "model.plot_z([1, 2])\n",
    "model.plot_fit(figsize=(15, 5))\n",
    "model.plot_ppc(T=kurtosis, nsims=1000)"
   ]
  },
  {
   "cell_type": "code",
   "execution_count": null,
   "id": "80175f64-9df0-4c8b-8a4f-5a10375c7bac",
   "metadata": {},
   "outputs": [],
   "source": [
    "# Time the grid search\n",
    "#start = timeit.default_timer()\n",
    "\n",
    "#bayesian_prediction = model.predict_is(n, fit_method='M-H')\n",
    "#bayesian_RMSE = np.sqrt(mse(realized_vol.iloc[-n:] / 100, bayesian_prediction.values / 100))\n",
    "#bayesian_prediction.index = returns.iloc[-n:].index\n",
    "\n",
    "#stop = timeit.default_timer()\n",
    "#print('Time: ', stop - start)"
   ]
  },
  {
   "cell_type": "code",
   "execution_count": null,
   "id": "434f1b74-f723-4e44-94ca-eec144d5875d",
   "metadata": {},
   "outputs": [],
   "source": [
    "#plt.figure(figsize=(10, 6))\n",
    "#plt.plot(realized_vol / 100, label='Realized Volatility')\n",
    "#plt.plot(bayesian_prediction['Series'] / 100, label='Volatility Prediction-Bayesian')\n",
    "#plt.title('Volatility Prediction with M-H Approach', fontsize=12)\n",
    "#plt.legend()\n",
    "#plt.show()"
   ]
  },
  {
   "cell_type": "markdown",
   "id": "3a137d12-6373-4982-a3da-62622d9e32c6",
   "metadata": {
    "tags": []
   },
   "source": [
    "# RSME"
   ]
  },
  {
   "cell_type": "code",
   "execution_count": null,
   "id": "a9629873-cf2a-48a5-9f69-f04207226801",
   "metadata": {},
   "outputs": [],
   "source": [
    "print('The RMSE value of ARCH model is {:.4f}'.format(rmse_arch))\n",
    "print('The RMSE value of GARCH model is {:.4f}'.format(rmse_garch))\n",
    "print('The RMSE value of GJR-GARCH models is {:.4f}'.format(rmse_gjr_garch))\n",
    "print('The RMSE value of EGARCH models is {:.4f}'.format(rmse_egarch))\n",
    "print('The RMSE value of SVR with Linear Kernel is {:.6f}'.format(rmse_svr))\n",
    "print('The RMSE value of SVR with RBF Kernel is  {:.6f}'.format(rmse_svr_rbf))\n",
    "#print('The RMSE value of SVR with Polynomial Kernel is {:.6f}'.format(rmse_svr_poly))\n",
    "print('The RMSE value of NN is {:.6f}'.format(rmse_NN))\n",
    "print('The RMSE value of DL_RMSE is', DL_RMSE)\n",
    "#print('The RMSE value of Bayesian_RMSE is {:.6f}'.format(bayesian_RMSE))"
   ]
  },
  {
   "cell_type": "code",
   "execution_count": null,
   "id": "d2fadd02-e645-450f-b851-c7c6aaac6b51",
   "metadata": {},
   "outputs": [],
   "source": []
  }
 ],
 "metadata": {
  "kernelspec": {
   "display_name": "Python 3 (ipykernel)",
   "language": "python",
   "name": "python3"
  },
  "language_info": {
   "codemirror_mode": {
    "name": "ipython",
    "version": 3
   },
   "file_extension": ".py",
   "mimetype": "text/x-python",
   "name": "python",
   "nbconvert_exporter": "python",
   "pygments_lexer": "ipython3",
   "version": "3.8.12"
  }
 },
 "nbformat": 4,
 "nbformat_minor": 5
}
