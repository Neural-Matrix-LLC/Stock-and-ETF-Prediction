{
 "cells": [
  {
   "cell_type": "markdown",
   "id": "aea6b643-de8c-44bc-b257-362612f202d8",
   "metadata": {},
   "source": [
    "# Predict Volatility\n",
    "\n",
    "Implementing the code from ```model-garch.ipynd``` on list of stocks and efts in ```stocks_and_etfs/```."
   ]
  },
  {
   "cell_type": "code",
   "execution_count": 3,
   "id": "89d4eb97-6860-45eb-bf2a-5fa8b12d97ca",
   "metadata": {},
   "outputs": [
    {
     "name": "stdout",
     "output_type": "stream",
     "text": [
      "Machine: Darwin x86_64\n",
      "\n",
      "3.8.12 | packaged by conda-forge | (default, Sep 16 2021, 01:59:00) \n",
      "[Clang 11.1.0 ]\n"
     ]
    }
   ],
   "source": [
    "import os\n",
    "import sys\n",
    "import mysql.connector\n",
    "\n",
    "import pandas as pd\n",
    "import numpy as np\n",
    "import math\n",
    "import timeit\n",
    "import warnings\n",
    "warnings.filterwarnings('ignore')\n",
    "\n",
    "# Environment variables\n",
    "from dotenv import load_dotenv\n",
    "load_dotenv(\"../mysql.env\")\n",
    "\n",
    "# Visualization + diagnositic\n",
    "import matplotlib.pyplot as plt\n",
    "%matplotlib inline\n",
    "import seaborn as sns\n",
    "import scipy.stats as scs\n",
    "from scipy.stats import probplot, shapiro\n",
    "from statsmodels.graphics.tsaplots import plot_acf, plot_pacf\n",
    "from statsmodels.stats.diagnostic import acorr_ljungbox, het_arch\n",
    "import statsmodels.formula.api as smf\n",
    "import statsmodels.tsa.api as smt\n",
    "import statsmodels.api as sm\n",
    "\n",
    "# Model\n",
    "from arch import arch_model\n",
    "from arch.__future__ import reindexing\n",
    "\n",
    "# Performance\n",
    "from sklearn.metrics import confusion_matrix, precision_score, f1_score\n",
    "\n",
    "print('Machine: {} {}\\n'.format(os.uname().sysname,os.uname().machine))\n",
    "print(sys.version)\n",
    "\n",
    "# number of processes for parall processing\n",
    "# None is defaul, os.cpu_count() is used.\n",
    "num_p = 10"
   ]
  },
  {
   "cell_type": "code",
   "execution_count": null,
   "id": "f0d53e9a",
   "metadata": {},
   "outputs": [],
   "source": [
    "from os import path\n",
    "\n",
    "dpath=\"AllStock.csv\"\n",
    "print(\"Check data file {}..\".format(dpath))"
   ]
  },
  {
   "cell_type": "code",
   "execution_count": null,
   "id": "b4acb28b-f762-450e-8c11-21b02907262b",
   "metadata": {},
   "outputs": [],
   "source": [
    "HOST=os.environ.get(\"HOST\")\n",
    "PORT=os.environ.get(\"PORT\")\n",
    "USER=os.environ.get(\"DBUSER\")\n",
    "PASSWORD=os.environ.get(\"PASSWORD\")\n",
    "\n",
    "if path.isfile(dpath):\n",
    "    print(\"Load data from {}\".format(dpath))\n",
    "    df = pd.read_csv(dpath)\n",
    "else:\n",
    "    try: \n",
    "        conn = mysql.connector.connect(\n",
    "            host=HOST,\n",
    "            port=PORT,\n",
    "            user=USER,\n",
    "            password=PASSWORD,\n",
    "            database=\"GlobalMarketData\"\n",
    "        )\n",
    "        query = f\"SELECT Date, Symbol, Close from histdailyprice3;\"\n",
    "        histdailyprice3 = pd.read_sql(query, conn)\n",
    "        df = histdailyprice3.copy()\n",
    "        df.to_csv(dpath, index=False)\n",
    "        conn.close()\n",
    "    except Exception as e:\n",
    "        #conn.close()\n",
    "        print(str(e))"
   ]
  },
  {
   "cell_type": "code",
   "execution_count": null,
   "id": "ca107c73-e3dd-41d6-b3ee-6f86c78dee07",
   "metadata": {},
   "outputs": [],
   "source": [
    "df.set_index(\"Date\", drop=True, inplace=True)"
   ]
  },
  {
   "cell_type": "code",
   "execution_count": 2,
   "id": "3231d773-c9b7-49b3-a8aa-138ccc0a954f",
   "metadata": {},
   "outputs": [
    {
     "ename": "NameError",
     "evalue": "name 'pd' is not defined",
     "output_type": "error",
     "traceback": [
      "\u001b[0;31m---------------------------------------------------------------------------\u001b[0m",
      "\u001b[0;31mNameError\u001b[0m                                 Traceback (most recent call last)",
      "\u001b[0;32m/tmp/ipykernel_2345/1589850309.py\u001b[0m in \u001b[0;36m<module>\u001b[0;34m\u001b[0m\n\u001b[0;32m----> 1\u001b[0;31m \u001b[0mstock_list\u001b[0m \u001b[0;34m=\u001b[0m \u001b[0mpd\u001b[0m\u001b[0;34m.\u001b[0m\u001b[0mread_csv\u001b[0m\u001b[0;34m(\u001b[0m\u001b[0;34m\"../stocks_and_etfs/stock_list.csv\"\u001b[0m\u001b[0;34m)\u001b[0m\u001b[0;34m\u001b[0m\u001b[0;34m\u001b[0m\u001b[0m\n\u001b[0m\u001b[1;32m      2\u001b[0m \u001b[0metf_list\u001b[0m \u001b[0;34m=\u001b[0m \u001b[0mpd\u001b[0m\u001b[0;34m.\u001b[0m\u001b[0mread_csv\u001b[0m\u001b[0;34m(\u001b[0m\u001b[0;34m\"../stocks_and_etfs/etf_list.csv\"\u001b[0m\u001b[0;34m)\u001b[0m\u001b[0;34m\u001b[0m\u001b[0;34m\u001b[0m\u001b[0m\n\u001b[1;32m      3\u001b[0m \u001b[0msymbol_list\u001b[0m \u001b[0;34m=\u001b[0m \u001b[0mstock_list\u001b[0m\u001b[0;34m.\u001b[0m\u001b[0mappend\u001b[0m\u001b[0;34m(\u001b[0m\u001b[0metf_list\u001b[0m\u001b[0;34m)\u001b[0m\u001b[0;34m.\u001b[0m\u001b[0mrename\u001b[0m\u001b[0;34m(\u001b[0m\u001b[0;34m{\u001b[0m\u001b[0;34m\"0\"\u001b[0m\u001b[0;34m:\u001b[0m \u001b[0;34m\"Symbol\"\u001b[0m\u001b[0;34m}\u001b[0m\u001b[0;34m,\u001b[0m \u001b[0maxis\u001b[0m\u001b[0;34m=\u001b[0m\u001b[0;36m1\u001b[0m\u001b[0;34m)\u001b[0m\u001b[0;34m.\u001b[0m\u001b[0mreset_index\u001b[0m\u001b[0;34m(\u001b[0m\u001b[0mdrop\u001b[0m\u001b[0;34m=\u001b[0m\u001b[0;32mTrue\u001b[0m\u001b[0;34m)\u001b[0m\u001b[0;34m\u001b[0m\u001b[0;34m\u001b[0m\u001b[0m\n",
      "\u001b[0;31mNameError\u001b[0m: name 'pd' is not defined"
     ]
    }
   ],
   "source": [
    "stock_list = pd.read_csv(\"../stocks_and_etfs/stock_list.csv\")\n",
    "etf_list = pd.read_csv(\"../stocks_and_etfs/etf_list.csv\")\n",
    "symbol_list = stock_list.append(etf_list).rename({\"0\": \"Symbol\"}, axis=1).reset_index(drop=True)"
   ]
  },
  {
   "cell_type": "markdown",
   "id": "6a85fdce",
   "metadata": {},
   "source": [
    "## Model Evaluation"
   ]
  },
  {
   "cell_type": "markdown",
   "id": "4cbf12d5-51e7-40cc-a119-cbc26b257e66",
   "metadata": {},
   "source": [
    "1. Multithread is not working\n",
    "2. Multiprocess"
   ]
  },
  {
   "cell_type": "code",
   "execution_count": null,
   "id": "15250477",
   "metadata": {},
   "outputs": [],
   "source": [
    "def evaluate_model(residuals, st_residuals, lags=50):\n",
    "    results = {\n",
    "        'LM_pvalue': None,\n",
    "        'F_pvalue': None,\n",
    "        'SW_pvalue': None,\n",
    "        'AIC': None,\n",
    "        'params': {'p': None, 'q': None}\n",
    "    }\n",
    "    arch_test = het_arch(residuals, nlags=lags)\n",
    "    shap_test = shapiro(st_residuals)\n",
    "    # We want falsey values for each of these hypothesis tests\n",
    "    results['LM_pvalue'] = [arch_test[1], arch_test[1] < .05]\n",
    "    results['F_pvalue'] = [arch_test[3], arch_test[3] < .05]\n",
    "    results['SW_pvalue'] = [shap_test[1], shap_test[1] < .05]\n",
    "    return results"
   ]
  },
  {
   "cell_type": "code",
   "execution_count": null,
   "id": "8e26b676",
   "metadata": {},
   "outputs": [],
   "source": [
    "def calc_model(data, p, q, all_results, i):\n",
    "    try:\n",
    "#         print(\"calc_model({},{},{},{})\".format(p, q, all_results, i))\n",
    "        model = arch_model(data, vol='GARCH', p=p, q=q, dist='normal')\n",
    "#         print(\"calc_model.model_fit\")\n",
    "        model_fit = model.fit(disp='off')\n",
    "        resid = model_fit.resid\n",
    "#         print(\"calc_model.divide\")\n",
    "        st_resid = np.divide(resid, model_fit.conditional_volatility)\n",
    "        results = evaluate_model(resid, st_resid)\n",
    "        results['AIC'] = model_fit.aic\n",
    "        results['params']['p'] = p\n",
    "        results['params']['q'] = q\n",
    "        all_results[i] = results\n",
    "    except Exception as e:\n",
    "        print(\"calc_model:{}\".format(e)) "
   ]
  },
  {
   "cell_type": "code",
   "execution_count": null,
   "id": "80892a91-c46f-4c58-8dfd-f2d708e4524b",
   "metadata": {},
   "outputs": [],
   "source": [
    "from threading import Thread\n",
    "\n",
    "def multi_gridsearch(data, p_rng, q_rng):\n",
    "    n_sym = len(p_rng)*len(q_rng)\n",
    "    print(\"multi_gridsearch: {} trials.\".format(n_sym))\n",
    "    top_score, top_results = float('inf'), None\n",
    "    top_models = []\n",
    "    \n",
    "    threads = [None] * n_sym\n",
    "    all_results = [None] * n_sym\n",
    "\n",
    "    try:\n",
    "        i = 0\n",
    "#         print(\"Starting {} threads\".format(n_sym))\n",
    "        for p in p_rng:\n",
    "            for q in q_rng:\n",
    "                print(\"Start {} thread.\".format(i))\n",
    "                threads[i] = Thread(target=calc_model, args=(data, p, q, all_results, i))\n",
    "                threads[i].start()\n",
    "                i=i+1\n",
    "      \n",
    "        for i in range(len(threads)):\n",
    "            threads[i].join()\n",
    "            print(\"Join {} thread.\".format(i))\n",
    "            \n",
    "\n",
    "        print(\"All Grid threads Finish.\")\n",
    "\n",
    "        for i in range(len(all_results)):\n",
    "            results = all_results[i]\n",
    "            if results['AIC'] < top_score: \n",
    "                top_score = results['AIC']\n",
    "                top_results = results\n",
    "            elif results['LM_pvalue'][1] is False:\n",
    "                top_models.append(results)\n",
    "    except Exception as e:\n",
    "        print(\"multi_gridsearch:{}\".format(e))\n",
    "    top_models.append(top_results)\n",
    "    return top_models"
   ]
  },
  {
   "cell_type": "markdown",
   "id": "289f6ec4-e841-4159-8828-a430f677a428",
   "metadata": {},
   "source": [
    "# USE THIS ONE"
   ]
  },
  {
   "cell_type": "code",
   "execution_count": null,
   "id": "2fa3e9f6",
   "metadata": {},
   "outputs": [],
   "source": [
    "def p_calc_model(data, p, q):\n",
    "    res = {}\n",
    "    try:\n",
    "#         print(\"calc_model({},{})\".format(p, q))\n",
    "        model = arch_model(data, vol='GARCH', p=p, q=q, dist='normal')\n",
    "#         print(\"calc_model.model_fit\")\n",
    "        model_fit = model.fit(disp='off')\n",
    "        resid = model_fit.resid\n",
    "#         print(\"calc_model.divide\")\n",
    "        st_resid = np.divide(resid, model_fit.conditional_volatility)\n",
    "        res = evaluate_model(resid, st_resid)\n",
    "        res['AIC'] = model_fit.aic\n",
    "        res['params']['p'] = p\n",
    "        res['params']['q'] = q\n",
    "    except Exception as e:\n",
    "        print(\"calc_model:{}\".format(e)) \n",
    "    return res"
   ]
  },
  {
   "cell_type": "markdown",
   "id": "7230c972-cb12-4893-8a2a-75bd61ab9ce4",
   "metadata": {},
   "source": [
    "# USE THIS ONE"
   ]
  },
  {
   "cell_type": "code",
   "execution_count": null,
   "id": "f821253b",
   "metadata": {},
   "outputs": [],
   "source": [
    "from functools import partial\n",
    "from itertools import repeat\n",
    "from multiprocessing import Pool, freeze_support\n",
    "\n",
    "def multip_gridsearch(data, p_rng, q_rng):\n",
    "    n_sym = len(p_rng)*len(q_rng)\n",
    "    print(\"multi_gridsearch: {} trials.\".format(n_sym))\n",
    "    top_score, top_results = float('inf'), None\n",
    "    top_models = []\n",
    "    \n",
    "    try:\n",
    "        ll=[]\n",
    "        for p in p_rng:\n",
    "            for q in q_rng:\n",
    "                ll.append((data, p, q))    \n",
    "        print(\"Starting {} threads\".format(n_sym))\n",
    "#         print(ll)\n",
    "        with Pool(processes=num_p) as pool:\n",
    "            all_results = pool.starmap(p_calc_model, ll)\n",
    "            \n",
    "        print(\"All Grid threads Finish.\")\n",
    "\n",
    "        for i in range(len(all_results)):\n",
    "            results = all_results[i]\n",
    "            if results['AIC'] < top_score: \n",
    "                top_score = results['AIC']\n",
    "                top_results = results\n",
    "            elif results['LM_pvalue'][1] is False:\n",
    "                top_models.append(results)\n",
    "    except Exception as e:\n",
    "        print(\"multi_gridsearch:{}\".format(e))\n",
    "    top_models.append(top_results)\n",
    "    return top_models"
   ]
  },
  {
   "cell_type": "code",
   "execution_count": null,
   "id": "1713dd9f",
   "metadata": {},
   "outputs": [],
   "source": [
    "def gridsearch(data, p_rng, q_rng):\n",
    "    top_score, top_results = float('inf'), None\n",
    "    top_models = []\n",
    "    for p in p_rng:\n",
    "        for q in q_rng:\n",
    "            try:\n",
    "                print(\"gridsearch({},{}) is started.\".format(p,q))\n",
    "                model = arch_model(data, vol='GARCH', p=p, q=q, dist='normal')\n",
    "                print(\"model_fit\")\n",
    "                model_fit = model.fit(disp='off')\n",
    "                resid = model_fit.resid\n",
    "                st_resid = np.divide(resid, model_fit.conditional_volatility)\n",
    "                print(\"evaluate_model\")\n",
    "                results = evaluate_model(resid, st_resid)\n",
    "                results['AIC'] = model_fit.aic\n",
    "                results['params']['p'] = p\n",
    "                results['params']['q'] = q\n",
    "                if results['AIC'] < top_score: \n",
    "                    top_score = results['AIC']\n",
    "                    top_results = results\n",
    "                elif results['LM_pvalue'][1] is False:\n",
    "                    top_models.append(results)\n",
    "                print(\"gridsearch({},{}) is done.\".format(p,q))\n",
    "            except Exception as e:\n",
    "                print(\"gridsearch:{}\".format(e)) \n",
    "                continue\n",
    "    top_models.append(top_results)\n",
    "    return top_models"
   ]
  },
  {
   "cell_type": "code",
   "execution_count": null,
   "id": "cfbf1387",
   "metadata": {},
   "outputs": [],
   "source": [
    "def apply_Model(data, test_size, p, q):\n",
    "#     print(\"apply_Model({},{},{},{})\".format(data, test_size, p, q))\n",
    "    train = symbol_df['pct_change'][:-(test_size-i)]\n",
    "    model = arch_model(symbol_df['pct_change'], p = p, q = q, mean = 'constant', vol = 'GARCH', dist = 'normal')\n",
    "    model_fit = model.fit(disp='off')\n",
    "    pred = model_fit.forecast(horizon=1)\n",
    "    return np.sqrt(pred.variance.values[-1,:][0])       "
   ]
  },
  {
   "cell_type": "code",
   "execution_count": null,
   "id": "3034bb13-3cfe-410d-b9e1-db4997de0a56",
   "metadata": {},
   "outputs": [],
   "source": [
    "columns = [\"Symbol\", \"Precision Macro\", \"Precision Micro\", \"F1 Macro\", \"F1 Micro\", \"Proc TIme\"]\n",
    "garch_performance = pd.DataFrame(columns=columns)\n",
    "garch_performance"
   ]
  },
  {
   "cell_type": "markdown",
   "id": "d7995644-4e64-467d-84f4-da296de8c638",
   "metadata": {},
   "source": [
    "# Loop through stocks and etfs"
   ]
  },
  {
   "cell_type": "code",
   "execution_count": null,
   "id": "51369755",
   "metadata": {},
   "outputs": [],
   "source": [
    "symbol_list = symbol_list[0:1]\n",
    "print(symbol_list)"
   ]
  },
  {
   "cell_type": "code",
   "execution_count": null,
   "id": "06f95661",
   "metadata": {
    "scrolled": true
   },
   "outputs": [],
   "source": [
    "import time\n",
    "\n",
    "p_rng = range(1,30)\n",
    "q_rng = range(1,40)\n",
    "\n",
    "for symbol in symbol_list.Symbol:\n",
    "    try:\n",
    "        print(\"Start Process {}\".format(symbol))\n",
    "        start = time.time()\n",
    "        symbol_df = df[df.Symbol == symbol]\n",
    "        symbol_df['pct_change'] = 100 * symbol_df['Close'].pct_change()\n",
    "        symbol_df.dropna(inplace=True)\n",
    "\n",
    "        top_models = multip_gridsearch(symbol_df['pct_change'], p_rng, q_rng)\n",
    "        print(\"{}'s top model={}\".format(symbol, top_models))\n",
    "\n",
    "        p = top_models[0]['params']['p']\n",
    "        q = top_models[0]['params']['q']\n",
    "\n",
    "        rolling_predictions = []\n",
    "        test_size = round(len(symbol_df) * 0.2)\n",
    "        print(\"{}'s test size: {}/{}\".format(symbol, test_size, len(symbol_df)))\n",
    "        ll=[]\n",
    "        for i in range(test_size):\n",
    "            ll.append((symbol_df['pct_change'], i, p, q))\n",
    "        # print(ll)\n",
    "        print(\"Starting {} apply_model threads\".format(len(ll)))\n",
    "        with Pool(processes=num_p) as pool:\n",
    "            rolling_predictions = pool.starmap(apply_Model, ll)\n",
    "        print(\"Apply_model threads Finish.\")\n",
    "        # print(\"* rolling_predictions : {}\".format(rolling_predictions))\n",
    "\n",
    "        rolling_predictions = pd.Series(rolling_predictions, index=symbol_df['pct_change'].index[-test_size:])\n",
    "\n",
    "        y_pred = np.array(rolling_predictions >= 2)\n",
    "        y_true = np.array(abs(symbol_df['pct_change'][-test_size:]) >= 2)\n",
    "\n",
    "        precision_macro = precision_score(y_true, y_pred, average='macro')\n",
    "        precision_micro = precision_score(y_true, y_pred, average='micro')\n",
    "        f1_macro = f1_score(y_true, y_pred, average='macro')\n",
    "        f1_micro = f1_score(y_true, y_pred, average='micro')\n",
    "\n",
    "        end = time.time()\n",
    "        total_time = end-start\n",
    "        garch_performance.loc[len(garch_performance.index)] = [symbol, precision_macro, precision_micro, f1_macro, f1_micro, total_time]\n",
    "        garch_performance.to_csv(\"../reports/GARCH_performance.csv\")\n",
    "    \n",
    "    except Exception as e:\n",
    "        print(\"calc_model:{}\".format(e)) "
   ]
  },
  {
   "cell_type": "code",
   "execution_count": null,
   "id": "829ec76b",
   "metadata": {},
   "outputs": [],
   "source": [
    "garch_performance"
   ]
  },
  {
   "cell_type": "code",
   "execution_count": null,
   "id": "3608ee65",
   "metadata": {},
   "outputs": [],
   "source": [
    "print(\"Total # of symbols is {}\".format(len(symbol_list.Symbol)))"
   ]
  },
  {
   "cell_type": "code",
   "execution_count": null,
   "id": "3d7d63c5",
   "metadata": {
    "scrolled": true
   },
   "outputs": [],
   "source": [
    "miss = set(symbol_list.Symbol.tolist()) - set(garch_performance.Symbol.tolist())\n",
    "print(\"Symbols cannot be processed {}\".format(miss))"
   ]
  },
  {
   "cell_type": "code",
   "execution_count": null,
   "id": "2ac0afdd",
   "metadata": {},
   "outputs": [],
   "source": []
  }
 ],
 "metadata": {
  "kernelspec": {
   "display_name": "Python 3 (ipykernel)",
   "language": "python",
   "name": "python3"
  },
  "language_info": {
   "codemirror_mode": {
    "name": "ipython",
    "version": 3
   },
   "file_extension": ".py",
   "mimetype": "text/x-python",
   "name": "python",
   "nbconvert_exporter": "python",
   "pygments_lexer": "ipython3",
   "version": "3.8.12"
  }
 },
 "nbformat": 4,
 "nbformat_minor": 5
}
