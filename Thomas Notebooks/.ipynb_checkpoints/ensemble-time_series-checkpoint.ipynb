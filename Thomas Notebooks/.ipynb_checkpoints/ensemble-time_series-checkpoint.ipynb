{
 "cells": [
  {
   "cell_type": "markdown",
   "id": "1c9a4131-8f86-4101-8cd9-2b79edf0f07d",
   "metadata": {},
   "source": [
    "# Ensemble Time Series"
   ]
  },
  {
   "cell_type": "code",
   "execution_count": 2,
   "id": "3f5f3b1d-6a40-42bf-8ae8-10bfcec1aeca",
   "metadata": {},
   "outputs": [
    {
     "name": "stdout",
     "output_type": "stream",
     "text": [
      "4.0\n"
     ]
    }
   ],
   "source": [
    "import numpy as np \n",
    "import pandas as pd\n",
    "import matplotlib.pyplot as plt\n",
    "import timeit\n",
    "\n",
    "import warnings\n",
    "warnings.filterwarnings(\"ignore\")"
   ]
  },
  {
   "cell_type": "markdown",
   "id": "8da12ded-9502-452e-9982-02ebbd3dc1cc",
   "metadata": {},
   "source": [
    "# List of Stocks and ETFs\n",
    "Provided by Thomas Choi."
   ]
  },
  {
   "cell_type": "code",
   "execution_count": 2,
   "id": "a8aa776c-9fc6-4010-afac-7fd8544c03ce",
   "metadata": {},
   "outputs": [],
   "source": [
    "stock_list = pd.read_csv(\"../stocks_and_etfs/stock_list.csv\")\n",
    "etf_list = pd.read_csv(\"../stocks_and_etfs/etf_list.csv\")"
   ]
  },
  {
   "cell_type": "code",
   "execution_count": 3,
   "id": "c30f1e6d-3f0f-4ba8-9e1c-b485fce703dd",
   "metadata": {},
   "outputs": [
    {
     "name": "stdout",
     "output_type": "stream",
     "text": [
      "SPY\n"
     ]
    }
   ],
   "source": [
    "import random\n",
    "# Choose a random stock\n",
    "#stock_symbol = random.choice(stock_list.iloc[:,0])\n",
    "stock_symbol = \"SPY\"\n",
    "print(stock_symbol)"
   ]
  },
  {
   "cell_type": "markdown",
   "id": "23b738c1-e67d-47ab-8276-d4d5332c169f",
   "metadata": {},
   "source": [
    "## MySQL connection\n",
    "Choosing one stock from SQL query to reduce query time."
   ]
  },
  {
   "cell_type": "code",
   "execution_count": 4,
   "id": "091fe1bd",
   "metadata": {},
   "outputs": [
    {
     "name": "stdout",
     "output_type": "stream",
     "text": [
      "Check data file ../data/SPY.csv..\n"
     ]
    }
   ],
   "source": [
    "from os import path\n",
    "\n",
    "dpath=\"../data/{}.csv\".format(stock_symbol)\n",
    "print(\"Check data file {}..\".format(dpath))"
   ]
  },
  {
   "cell_type": "code",
   "execution_count": 5,
   "id": "77c28066-acb4-455d-aaec-5c32318adb80",
   "metadata": {},
   "outputs": [
    {
     "name": "stdout",
     "output_type": "stream",
     "text": [
      "143.244.188.157\n",
      "3306\n",
      "choi-finProj\n",
      "Tom#21$choi\n",
      "Load data from ../data/SPY.csv\n"
     ]
    }
   ],
   "source": [
    "import os\n",
    "import sys\n",
    "import mysql.connector\n",
    "from dotenv import load_dotenv\n",
    "load_dotenv(\"../mysql.env\")\n",
    "\n",
    "HOST=os.environ.get(\"HOST\")\n",
    "PORT=os.environ.get(\"PORT\")\n",
    "USER=os.environ.get(\"DBUSER\")\n",
    "PASSWORD=os.environ.get(\"PASSWORD\")\n",
    "\n",
    "print(HOST)\n",
    "print(PORT)\n",
    "print(USER)\n",
    "print(PASSWORD)\n",
    "\n",
    "if path.isfile(dpath):\n",
    "    print(\"Load data from {}\".format(dpath))\n",
    "    df = pd.read_csv(dpath)\n",
    "else:\n",
    "    try: \n",
    "        conn = mysql.connector.connect(\n",
    "            host=HOST,\n",
    "            port=PORT,\n",
    "            user=USER,\n",
    "            password=PASSWORD,\n",
    "            database=\"GlobalMarketData\"\n",
    "        )\n",
    "        query = f\"SELECT Date, Close, Open, High, Low, Volume from histdailyprice3 WHERE Symbol='{stock_symbol}';\"\n",
    "        histdailyprice3 = pd.read_sql(query, conn)\n",
    "        df = histdailyprice3.copy()\n",
    "        df.to_csv(dpath, index=False)\n",
    "        conn.close()\n",
    "    except Exception as e:\n",
    "        conn.close()\n",
    "        print(str(e))"
   ]
  },
  {
   "cell_type": "markdown",
   "id": "554beeed-0b93-4984-aa6f-9b32f1de6877",
   "metadata": {},
   "source": [
    "# Data"
   ]
  },
  {
   "cell_type": "code",
   "execution_count": 6,
   "id": "282f3ce2-766a-4804-b635-7ef45b9e967a",
   "metadata": {},
   "outputs": [
    {
     "data": {
      "text/html": [
       "<div>\n",
       "<style scoped>\n",
       "    .dataframe tbody tr th:only-of-type {\n",
       "        vertical-align: middle;\n",
       "    }\n",
       "\n",
       "    .dataframe tbody tr th {\n",
       "        vertical-align: top;\n",
       "    }\n",
       "\n",
       "    .dataframe thead th {\n",
       "        text-align: right;\n",
       "    }\n",
       "</style>\n",
       "<table border=\"1\" class=\"dataframe\">\n",
       "  <thead>\n",
       "    <tr style=\"text-align: right;\">\n",
       "      <th></th>\n",
       "      <th>Date</th>\n",
       "      <th>Close</th>\n",
       "      <th>Open</th>\n",
       "      <th>High</th>\n",
       "      <th>Low</th>\n",
       "      <th>Volume</th>\n",
       "    </tr>\n",
       "  </thead>\n",
       "  <tbody>\n",
       "    <tr>\n",
       "      <th>0</th>\n",
       "      <td>1998-01-01</td>\n",
       "      <td>97.0625</td>\n",
       "      <td>97.0625</td>\n",
       "      <td>97.0625</td>\n",
       "      <td>97.0625</td>\n",
       "      <td>0</td>\n",
       "    </tr>\n",
       "    <tr>\n",
       "      <th>1</th>\n",
       "      <td>1998-01-02</td>\n",
       "      <td>97.3125</td>\n",
       "      <td>97.6563</td>\n",
       "      <td>96.5313</td>\n",
       "      <td>97.5625</td>\n",
       "      <td>2333800</td>\n",
       "    </tr>\n",
       "    <tr>\n",
       "      <th>2</th>\n",
       "      <td>1998-01-05</td>\n",
       "      <td>97.7813</td>\n",
       "      <td>98.4375</td>\n",
       "      <td>96.7813</td>\n",
       "      <td>97.7813</td>\n",
       "      <td>4127800</td>\n",
       "    </tr>\n",
       "    <tr>\n",
       "      <th>3</th>\n",
       "      <td>1998-01-06</td>\n",
       "      <td>97.2500</td>\n",
       "      <td>97.2813</td>\n",
       "      <td>96.1875</td>\n",
       "      <td>96.2188</td>\n",
       "      <td>3154900</td>\n",
       "    </tr>\n",
       "    <tr>\n",
       "      <th>4</th>\n",
       "      <td>1998-01-07</td>\n",
       "      <td>96.0625</td>\n",
       "      <td>96.7188</td>\n",
       "      <td>95.2188</td>\n",
       "      <td>96.4688</td>\n",
       "      <td>4424200</td>\n",
       "    </tr>\n",
       "  </tbody>\n",
       "</table>\n",
       "</div>"
      ],
      "text/plain": [
       "         Date    Close     Open     High      Low   Volume\n",
       "0  1998-01-01  97.0625  97.0625  97.0625  97.0625        0\n",
       "1  1998-01-02  97.3125  97.6563  96.5313  97.5625  2333800\n",
       "2  1998-01-05  97.7813  98.4375  96.7813  97.7813  4127800\n",
       "3  1998-01-06  97.2500  97.2813  96.1875  96.2188  3154900\n",
       "4  1998-01-07  96.0625  96.7188  95.2188  96.4688  4424200"
      ]
     },
     "execution_count": 6,
     "metadata": {},
     "output_type": "execute_result"
    }
   ],
   "source": [
    "\n",
    "df.head()"
   ]
  },
  {
   "cell_type": "markdown",
   "id": "7e3f4c06-54bb-418d-96cc-517ec2ec035a",
   "metadata": {},
   "source": [
    "# Normalize"
   ]
  },
  {
   "cell_type": "code",
   "execution_count": 7,
   "id": "35805828-3607-472a-b8ac-6c30a206e290",
   "metadata": {},
   "outputs": [],
   "source": [
    "from sklearn.preprocessing import MinMaxScaler\n",
    "# normalize data\n",
    "scaler = MinMaxScaler(feature_range = (0,1))\n",
    "scaled_data = scaler.fit_transform(df[\"Close\"].values.reshape(-1, 1))"
   ]
  },
  {
   "cell_type": "markdown",
   "id": "98d98c6f-36b8-43e2-b102-4a9978aa8505",
   "metadata": {},
   "source": [
    "# Train-Test Split"
   ]
  },
  {
   "cell_type": "code",
   "execution_count": 8,
   "id": "a38a28c0-a1da-4a69-a055-551416dd5508",
   "metadata": {},
   "outputs": [],
   "source": [
    "def create_dataset(dataset, time_step=1):\n",
    "    x_data, y_data = [], []\n",
    "    \n",
    "    for i in range(len(dataset)-time_step-1):\n",
    "        x_data.append(dataset[i:(i+time_step), 0])\n",
    "        y_data.append(dataset[i + time_step, 0])\n",
    "    return np.array(x_data), np.array(y_data)"
   ]
  },
  {
   "cell_type": "code",
   "execution_count": 9,
   "id": "762477bf-0833-4227-a27a-ee41153eec49",
   "metadata": {},
   "outputs": [],
   "source": [
    "# Preparing train and test data\n",
    "training_size = int(len(scaled_data)*0.65) \n",
    "test_size = len(scaled_data)-training_size\n",
    "train_data, test_data = scaled_data[0:training_size,:], scaled_data[training_size:len(scaled_data),:1]"
   ]
  },
  {
   "cell_type": "code",
   "execution_count": 10,
   "id": "68a2f60d-ccf2-4112-ad17-cc8839b52bdf",
   "metadata": {},
   "outputs": [],
   "source": [
    "#Taking data for past 100 days for next prediction\n",
    "time_step = 100\n",
    "\n",
    "X_train, y_train = create_dataset(train_data, time_step)\n",
    "X_test, ytest = create_dataset(test_data, time_step)"
   ]
  },
  {
   "cell_type": "code",
   "execution_count": 11,
   "id": "7a359f92",
   "metadata": {},
   "outputs": [
    {
     "name": "stdout",
     "output_type": "stream",
     "text": [
      "Train data:  4015   Tesst data:  2163\n",
      "Train created data:  (3914, 100) (3914,)\n",
      "Test created data:  (2062, 100) (2062,)\n"
     ]
    }
   ],
   "source": [
    "print(\"Train data: \", len(train_data), \"  Tesst data: \", len(test_data))\n",
    "print(\"Train created data: \", X_train.shape, y_train.shape)\n",
    "print(\"Test created data: \", X_test.shape, ytest.shape)"
   ]
  },
  {
   "cell_type": "code",
   "execution_count": 12,
   "id": "3302e3e3-4496-4571-92f6-d6122c4ac54a",
   "metadata": {},
   "outputs": [],
   "source": [
    "X_train =X_train.reshape(X_train.shape[0],X_train.shape[1] , 1)\n",
    "X_test = X_test.reshape(X_test.shape[0],X_test.shape[1] , 1)\n"
   ]
  },
  {
   "cell_type": "code",
   "execution_count": 13,
   "id": "8c1f7a13",
   "metadata": {},
   "outputs": [
    {
     "name": "stdout",
     "output_type": "stream",
     "text": [
      "X train data:  (3914, 100, 1) X test data:  (2062, 100, 1)\n",
      "X train data:  3914 100\n",
      "X test data:  2062 100\n"
     ]
    }
   ],
   "source": [
    "print(\"X train data: \", X_train.shape, \"X test data: \", X_test.shape)\n",
    "print(\"X train data: \", X_train.shape[0], X_train.shape[1])\n",
    "print(\"X test data: \", X_test.shape[0], X_test.shape[1])"
   ]
  },
  {
   "cell_type": "markdown",
   "id": "e445b467-8979-4b94-961f-0fe943a56079",
   "metadata": {
    "tags": []
   },
   "source": [
    "# Build LSTM Model"
   ]
  },
  {
   "cell_type": "code",
   "execution_count": 14,
   "id": "f95d3954-33f9-4695-a768-68d602c43e4a",
   "metadata": {},
   "outputs": [],
   "source": [
    "from tensorflow.keras.models import Sequential\n",
    "from tensorflow.keras.layers import Dense, Dropout,LSTM\n",
    "\n",
    "def build_model(hp):\n",
    "    model = Sequential()\n",
    "    model.add(layers.LSTM(units = hp.Choice('layer1_units', [10,20,30,40,50,60,70,80,90,100]),return_sequences=True,input_shape=(100,1)))\n",
    "    \n",
    "    for i in range(hp.Int('num_layers', 2, 15)):                        \n",
    "        model.add(layers.LSTM(units =  hp.Int('units' + str(i), min_value=10, max_value=150, step=10), return_sequences=True))\n",
    "    \n",
    "    model.add(LSTM(units = hp.Choice('last_lstm_units', [50, 100, 150])))\n",
    "    model.add(Dropout(rate = hp.Choice('rate', [0.3, 0.4, 0.5, 0.6, 0.7])))\n",
    "    model.add(Dense(1))\n",
    "    model.compile(loss='mean_squared_error',optimizer='adam' )\n",
    "    return model"
   ]
  },
  {
   "cell_type": "markdown",
   "id": "a00ae026-5b5f-48ab-92ca-96b9dc514191",
   "metadata": {},
   "source": [
    "## Tuning"
   ]
  },
  {
   "cell_type": "code",
   "execution_count": 15,
   "id": "51d7a43c-81c7-438d-9654-45eb77f479a6",
   "metadata": {
    "scrolled": true
   },
   "outputs": [
    {
     "name": "stdout",
     "output_type": "stream",
     "text": [
      "INFO:tensorflow:Reloading Oracle from existing project tuner/SPY/oracle.json\n"
     ]
    },
    {
     "name": "stderr",
     "output_type": "stream",
     "text": [
      "2022-02-09 16:17:41.314457: I tensorflow/stream_executor/cuda/cuda_gpu_executor.cc:939] successful NUMA node read from SysFS had negative value (-1), but there must be at least one NUMA node, so returning NUMA node zero\n",
      "2022-02-09 16:17:41.343071: I tensorflow/stream_executor/cuda/cuda_gpu_executor.cc:939] successful NUMA node read from SysFS had negative value (-1), but there must be at least one NUMA node, so returning NUMA node zero\n",
      "2022-02-09 16:17:41.343388: I tensorflow/stream_executor/cuda/cuda_gpu_executor.cc:939] successful NUMA node read from SysFS had negative value (-1), but there must be at least one NUMA node, so returning NUMA node zero\n",
      "2022-02-09 16:17:41.343986: I tensorflow/core/platform/cpu_feature_guard.cc:151] This TensorFlow binary is optimized with oneAPI Deep Neural Network Library (oneDNN) to use the following CPU instructions in performance-critical operations:  AVX2 FMA\n",
      "To enable them in other operations, rebuild TensorFlow with the appropriate compiler flags.\n",
      "2022-02-09 16:17:41.344310: I tensorflow/stream_executor/cuda/cuda_gpu_executor.cc:939] successful NUMA node read from SysFS had negative value (-1), but there must be at least one NUMA node, so returning NUMA node zero\n",
      "2022-02-09 16:17:41.344594: I tensorflow/stream_executor/cuda/cuda_gpu_executor.cc:939] successful NUMA node read from SysFS had negative value (-1), but there must be at least one NUMA node, so returning NUMA node zero\n",
      "2022-02-09 16:17:41.344858: I tensorflow/stream_executor/cuda/cuda_gpu_executor.cc:939] successful NUMA node read from SysFS had negative value (-1), but there must be at least one NUMA node, so returning NUMA node zero\n",
      "2022-02-09 16:17:41.712655: I tensorflow/stream_executor/cuda/cuda_gpu_executor.cc:939] successful NUMA node read from SysFS had negative value (-1), but there must be at least one NUMA node, so returning NUMA node zero\n",
      "2022-02-09 16:17:41.712958: I tensorflow/stream_executor/cuda/cuda_gpu_executor.cc:939] successful NUMA node read from SysFS had negative value (-1), but there must be at least one NUMA node, so returning NUMA node zero\n",
      "2022-02-09 16:17:41.713215: I tensorflow/stream_executor/cuda/cuda_gpu_executor.cc:939] successful NUMA node read from SysFS had negative value (-1), but there must be at least one NUMA node, so returning NUMA node zero\n",
      "2022-02-09 16:17:41.713453: I tensorflow/core/common_runtime/gpu/gpu_device.cc:1525] Created device /job:localhost/replica:0/task:0/device:GPU:0 with 5717 MB memory:  -> device: 0, name: NVIDIA GeForce RTX 3060 Ti, pci bus id: 0000:01:00.0, compute capability: 8.6\n"
     ]
    },
    {
     "name": "stdout",
     "output_type": "stream",
     "text": [
      "INFO:tensorflow:Reloading Tuner from tuner/SPY/tuner0.json\n",
      "Search space summary\n",
      "Default search space size: 17\n",
      "layer1_units (Choice)\n",
      "{'default': 10, 'conditions': [], 'values': [10, 20, 30, 40, 50, 60, 70, 80, 90, 100], 'ordered': True}\n",
      "num_layers (Int)\n",
      "{'default': None, 'conditions': [], 'min_value': 2, 'max_value': 15, 'step': 1, 'sampling': None}\n",
      "units0 (Int)\n",
      "{'default': None, 'conditions': [], 'min_value': 10, 'max_value': 150, 'step': 10, 'sampling': None}\n",
      "units1 (Int)\n",
      "{'default': None, 'conditions': [], 'min_value': 10, 'max_value': 150, 'step': 10, 'sampling': None}\n",
      "last_lstm_units (Choice)\n",
      "{'default': 50, 'conditions': [], 'values': [50, 100, 150], 'ordered': True}\n",
      "rate (Choice)\n",
      "{'default': 0.3, 'conditions': [], 'values': [0.3, 0.4, 0.5, 0.6, 0.7], 'ordered': True}\n",
      "units2 (Int)\n",
      "{'default': None, 'conditions': [], 'min_value': 10, 'max_value': 150, 'step': 10, 'sampling': None}\n",
      "units3 (Int)\n",
      "{'default': None, 'conditions': [], 'min_value': 10, 'max_value': 150, 'step': 10, 'sampling': None}\n",
      "units4 (Int)\n",
      "{'default': None, 'conditions': [], 'min_value': 10, 'max_value': 150, 'step': 10, 'sampling': None}\n",
      "units5 (Int)\n",
      "{'default': None, 'conditions': [], 'min_value': 10, 'max_value': 150, 'step': 10, 'sampling': None}\n",
      "units6 (Int)\n",
      "{'default': None, 'conditions': [], 'min_value': 10, 'max_value': 150, 'step': 10, 'sampling': None}\n",
      "units7 (Int)\n",
      "{'default': None, 'conditions': [], 'min_value': 10, 'max_value': 150, 'step': 10, 'sampling': None}\n",
      "units8 (Int)\n",
      "{'default': None, 'conditions': [], 'min_value': 10, 'max_value': 150, 'step': 10, 'sampling': None}\n",
      "units9 (Int)\n",
      "{'default': None, 'conditions': [], 'min_value': 10, 'max_value': 150, 'step': 10, 'sampling': None}\n",
      "units10 (Int)\n",
      "{'default': None, 'conditions': [], 'min_value': 10, 'max_value': 150, 'step': 10, 'sampling': None}\n",
      "units11 (Int)\n",
      "{'default': None, 'conditions': [], 'min_value': 10, 'max_value': 150, 'step': 10, 'sampling': None}\n",
      "units12 (Int)\n",
      "{'default': None, 'conditions': [], 'min_value': 10, 'max_value': 150, 'step': 10, 'sampling': None}\n",
      "INFO:tensorflow:Oracle triggered exit\n"
     ]
    }
   ],
   "source": [
    "import keras_tuner\n",
    "from tensorflow.keras import layers\n",
    "tuner = keras_tuner.RandomSearch(\n",
    "    build_model,\n",
    "    objective='val_loss',\n",
    "    max_trials= 5,\n",
    "    executions_per_trial=3,\n",
    "    directory='tuner', project_name = f'{stock_symbol}')\n",
    "\n",
    "tuner.search_space_summary()\n",
    "\n",
    "tuner.search(X_train, y_train,\n",
    "             epochs= 5,\n",
    "             validation_data=(X_test, ytest))"
   ]
  },
  {
   "cell_type": "code",
   "execution_count": 16,
   "id": "bdbfc935-4f65-413b-aeff-c701de27a6af",
   "metadata": {
    "scrolled": true
   },
   "outputs": [
    {
     "name": "stdout",
     "output_type": "stream",
     "text": [
      "Results summary\n",
      "Results in tuner/SPY\n",
      "Showing 10 best trials\n",
      "Objective(name='val_loss', direction='min')\n",
      "Trial summary\n",
      "Hyperparameters:\n",
      "layer1_units: 50\n",
      "num_layers: 4\n",
      "units0: 30\n",
      "units1: 90\n",
      "last_lstm_units: 100\n",
      "rate: 0.4\n",
      "units2: 10\n",
      "units3: 80\n",
      "units4: 120\n",
      "units5: 30\n",
      "units6: 140\n",
      "units7: 30\n",
      "units8: 20\n",
      "units9: 140\n",
      "units10: 100\n",
      "units11: 50\n",
      "units12: 90\n",
      "Score: 0.00665539891148607\n",
      "Trial summary\n",
      "Hyperparameters:\n",
      "layer1_units: 70\n",
      "num_layers: 6\n",
      "units0: 40\n",
      "units1: 40\n",
      "last_lstm_units: 50\n",
      "rate: 0.3\n",
      "units2: 70\n",
      "units3: 50\n",
      "units4: 100\n",
      "units5: 80\n",
      "units6: 130\n",
      "units7: 120\n",
      "units8: 80\n",
      "units9: 40\n",
      "units10: 90\n",
      "units11: 50\n",
      "units12: 110\n",
      "Score: 0.008123125570515791\n",
      "Trial summary\n",
      "Hyperparameters:\n",
      "layer1_units: 100\n",
      "num_layers: 12\n",
      "units0: 90\n",
      "units1: 80\n",
      "last_lstm_units: 150\n",
      "rate: 0.5\n",
      "units2: 100\n",
      "units3: 140\n",
      "units4: 90\n",
      "units5: 90\n",
      "units6: 80\n",
      "units7: 20\n",
      "units8: 80\n",
      "units9: 80\n",
      "units10: 70\n",
      "units11: 100\n",
      "units12: 140\n",
      "Score: 0.06640251974264781\n",
      "Trial summary\n",
      "Hyperparameters:\n",
      "layer1_units: 70\n",
      "num_layers: 12\n",
      "units0: 60\n",
      "units1: 10\n",
      "last_lstm_units: 150\n",
      "rate: 0.6\n",
      "units2: 40\n",
      "units3: 60\n",
      "units4: 110\n",
      "units5: 90\n",
      "units6: 70\n",
      "units7: 10\n",
      "units8: 60\n",
      "units9: 20\n",
      "units10: 30\n",
      "units11: 20\n",
      "units12: 80\n",
      "Score: 0.07736315329869588\n",
      "Trial summary\n",
      "Hyperparameters:\n",
      "layer1_units: 80\n",
      "num_layers: 13\n",
      "units0: 20\n",
      "units1: 40\n",
      "last_lstm_units: 150\n",
      "rate: 0.6\n",
      "units2: 10\n",
      "units3: 10\n",
      "units4: 10\n",
      "units5: 10\n",
      "units6: 10\n",
      "units7: 10\n",
      "units8: 10\n",
      "units9: 10\n",
      "units10: 10\n",
      "units11: 10\n",
      "units12: 10\n",
      "Score: 0.0845279370745023\n"
     ]
    }
   ],
   "source": [
    "tuner.results_summary()"
   ]
  },
  {
   "cell_type": "markdown",
   "id": "894611c8-d8c6-4be6-b527-8828e0a5a804",
   "metadata": {},
   "source": [
    "# Callbacks\n",
    "**EarlyStoping:** It will stop the traning if score of model didn't increase. This prevent model from overfitting. We are to set max in 10 epoches if it didn't increase then we will stop the training <br>\n",
    "**ReduceLROnPlateau:** Use for reduce the learning rate. In 3 steps the score didn't increase we will reduce the learning rate to improve the training <br>\n",
    "**ModelCheckpoint:** Use for save model only when the score increased"
   ]
  },
  {
   "cell_type": "code",
   "execution_count": 17,
   "id": "22b4a201-c8f2-4c2d-9673-79eeeb05400d",
   "metadata": {},
   "outputs": [],
   "source": [
    "from tensorflow.keras.callbacks import EarlyStopping, ModelCheckpoint, ReduceLROnPlateau\n",
    "\n",
    "callbacks = [\n",
    "    EarlyStopping(patience=10, verbose=1),\n",
    "    ReduceLROnPlateau(factor=0.1, patience=3, min_lr=0.00001, verbose=1),\n",
    "    ModelCheckpoint('weights_best.hdf5', verbose=2, save_best_only=True, \n",
    "                    save_weights_only=True)\n",
    "]"
   ]
  },
  {
   "cell_type": "markdown",
   "id": "57699d35-5c71-4659-ae71-74bba81e7cd6",
   "metadata": {},
   "source": [
    "# Compile LSTM Model"
   ]
  },
  {
   "cell_type": "code",
   "execution_count": 18,
   "id": "d6a485c1-3e95-4595-99a4-8bee08498f58",
   "metadata": {},
   "outputs": [
    {
     "name": "stdout",
     "output_type": "stream",
     "text": [
      "Model: \"sequential\"\n",
      "_________________________________________________________________\n",
      " Layer (type)                Output Shape              Param #   \n",
      "=================================================================\n",
      " lstm (LSTM)                 (None, 100, 50)           10400     \n",
      "                                                                 \n",
      " lstm_1 (LSTM)               (None, 100, 30)           9720      \n",
      "                                                                 \n",
      " lstm_2 (LSTM)               (None, 100, 90)           43560     \n",
      "                                                                 \n",
      " lstm_3 (LSTM)               (None, 100, 10)           4040      \n",
      "                                                                 \n",
      " lstm_4 (LSTM)               (None, 100, 80)           29120     \n",
      "                                                                 \n",
      " lstm_5 (LSTM)               (None, 100)               72400     \n",
      "                                                                 \n",
      " dropout (Dropout)           (None, 100)               0         \n",
      "                                                                 \n",
      " dense (Dense)               (None, 1)                 101       \n",
      "                                                                 \n",
      "=================================================================\n",
      "Total params: 169,341\n",
      "Trainable params: 169,341\n",
      "Non-trainable params: 0\n",
      "_________________________________________________________________\n"
     ]
    }
   ],
   "source": [
    "model = tuner.get_best_models(num_models=1)[0]\n",
    "model.summary()"
   ]
  },
  {
   "cell_type": "code",
   "execution_count": 19,
   "id": "d3b4c84c-fa48-4e9d-b6c8-3f3322048ae4",
   "metadata": {
    "scrolled": true
   },
   "outputs": [
    {
     "name": "stdout",
     "output_type": "stream",
     "text": [
      "Epoch 1/100\n"
     ]
    },
    {
     "name": "stderr",
     "output_type": "stream",
     "text": [
      "2022-02-09 16:17:49.454228: I tensorflow/stream_executor/cuda/cuda_dnn.cc:366] Loaded cuDNN version 8301\n",
      "2022-02-09 16:17:49.673428: I tensorflow/stream_executor/cuda/cuda_blas.cc:1774] TensorFloat-32 will be used for the matrix multiplication. This will only be logged once.\n"
     ]
    },
    {
     "name": "stdout",
     "output_type": "stream",
     "text": [
      "123/123 [==============================] - ETA: 0s - loss: 2.0225e-04\n",
      "Epoch 00001: val_loss improved from inf to 0.00405, saving model to weights_best.hdf5\n",
      "123/123 [==============================] - 10s 30ms/step - loss: 2.0225e-04 - val_loss: 0.0041 - lr: 0.0010\n",
      "Epoch 2/100\n",
      "121/123 [============================>.] - ETA: 0s - loss: 1.7835e-04\n",
      "Epoch 00002: val_loss did not improve from 0.00405\n",
      "123/123 [==============================] - 2s 19ms/step - loss: 1.7889e-04 - val_loss: 0.0055 - lr: 0.0010\n",
      "Epoch 3/100\n",
      "121/123 [============================>.] - ETA: 0s - loss: 1.5794e-04\n",
      "Epoch 00003: val_loss did not improve from 0.00405\n",
      "123/123 [==============================] - 2s 19ms/step - loss: 1.5765e-04 - val_loss: 0.0087 - lr: 0.0010\n",
      "Epoch 4/100\n",
      "120/123 [============================>.] - ETA: 0s - loss: 1.4030e-04\n",
      "Epoch 00004: ReduceLROnPlateau reducing learning rate to 0.00010000000474974513.\n",
      "\n",
      "Epoch 00004: val_loss did not improve from 0.00405\n",
      "123/123 [==============================] - 2s 19ms/step - loss: 1.4043e-04 - val_loss: 0.0045 - lr: 0.0010\n",
      "Epoch 5/100\n",
      "121/123 [============================>.] - ETA: 0s - loss: 1.1783e-04\n",
      "Epoch 00005: val_loss improved from 0.00405 to 0.00336, saving model to weights_best.hdf5\n",
      "123/123 [==============================] - 2s 19ms/step - loss: 1.1809e-04 - val_loss: 0.0034 - lr: 1.0000e-04\n",
      "Epoch 6/100\n",
      "121/123 [============================>.] - ETA: 0s - loss: 1.1376e-04\n",
      "Epoch 00006: val_loss improved from 0.00336 to 0.00323, saving model to weights_best.hdf5\n",
      "123/123 [==============================] - 2s 19ms/step - loss: 1.1391e-04 - val_loss: 0.0032 - lr: 1.0000e-04\n",
      "Epoch 7/100\n",
      "121/123 [============================>.] - ETA: 0s - loss: 1.1124e-04\n",
      "Epoch 00007: val_loss did not improve from 0.00323\n",
      "123/123 [==============================] - 2s 19ms/step - loss: 1.1134e-04 - val_loss: 0.0039 - lr: 1.0000e-04\n",
      "Epoch 8/100\n",
      "121/123 [============================>.] - ETA: 0s - loss: 1.1430e-04\n",
      "Epoch 00008: val_loss improved from 0.00323 to 0.00306, saving model to weights_best.hdf5\n",
      "123/123 [==============================] - 2s 19ms/step - loss: 1.1392e-04 - val_loss: 0.0031 - lr: 1.0000e-04\n",
      "Epoch 9/100\n",
      "120/123 [============================>.] - ETA: 0s - loss: 1.1002e-04\n",
      "Epoch 00009: val_loss did not improve from 0.00306\n",
      "123/123 [==============================] - 2s 19ms/step - loss: 1.1096e-04 - val_loss: 0.0043 - lr: 1.0000e-04\n",
      "Epoch 10/100\n",
      "121/123 [============================>.] - ETA: 0s - loss: 1.0796e-04\n",
      "Epoch 00010: val_loss improved from 0.00306 to 0.00295, saving model to weights_best.hdf5\n",
      "123/123 [==============================] - 2s 19ms/step - loss: 1.0797e-04 - val_loss: 0.0030 - lr: 1.0000e-04\n",
      "Epoch 11/100\n",
      "121/123 [============================>.] - ETA: 0s - loss: 1.0783e-04\n",
      "Epoch 00011: val_loss did not improve from 0.00295\n",
      "123/123 [==============================] - 2s 19ms/step - loss: 1.0759e-04 - val_loss: 0.0032 - lr: 1.0000e-04\n",
      "Epoch 12/100\n",
      "121/123 [============================>.] - ETA: 0s - loss: 1.0997e-04\n",
      "Epoch 00012: val_loss did not improve from 0.00295\n",
      "123/123 [==============================] - 2s 19ms/step - loss: 1.0976e-04 - val_loss: 0.0035 - lr: 1.0000e-04\n",
      "Epoch 13/100\n",
      "121/123 [============================>.] - ETA: 0s - loss: 1.0486e-04\n",
      "Epoch 00013: ReduceLROnPlateau reducing learning rate to 1.0000000474974514e-05.\n",
      "\n",
      "Epoch 00013: val_loss did not improve from 0.00295\n",
      "123/123 [==============================] - 2s 19ms/step - loss: 1.0457e-04 - val_loss: 0.0031 - lr: 1.0000e-04\n",
      "Epoch 14/100\n",
      "121/123 [============================>.] - ETA: 0s - loss: 1.0366e-04\n",
      "Epoch 00014: val_loss did not improve from 0.00295\n",
      "123/123 [==============================] - 2s 19ms/step - loss: 1.0373e-04 - val_loss: 0.0030 - lr: 1.0000e-05\n",
      "Epoch 15/100\n",
      "120/123 [============================>.] - ETA: 0s - loss: 1.0457e-04\n",
      "Epoch 00015: val_loss did not improve from 0.00295\n",
      "123/123 [==============================] - 2s 19ms/step - loss: 1.0650e-04 - val_loss: 0.0034 - lr: 1.0000e-05\n",
      "Epoch 16/100\n",
      "121/123 [============================>.] - ETA: 0s - loss: 1.0193e-04\n",
      "Epoch 00016: val_loss improved from 0.00295 to 0.00285, saving model to weights_best.hdf5\n",
      "123/123 [==============================] - 2s 19ms/step - loss: 1.0185e-04 - val_loss: 0.0028 - lr: 1.0000e-05\n",
      "Epoch 17/100\n",
      "121/123 [============================>.] - ETA: 0s - loss: 9.9751e-05\n",
      "Epoch 00017: val_loss did not improve from 0.00285\n",
      "123/123 [==============================] - 2s 19ms/step - loss: 1.0001e-04 - val_loss: 0.0030 - lr: 1.0000e-05\n",
      "Epoch 18/100\n",
      "120/123 [============================>.] - ETA: 0s - loss: 1.0077e-04\n",
      "Epoch 00018: val_loss did not improve from 0.00285\n",
      "123/123 [==============================] - 2s 19ms/step - loss: 1.0023e-04 - val_loss: 0.0031 - lr: 1.0000e-05\n",
      "Epoch 19/100\n",
      "121/123 [============================>.] - ETA: 0s - loss: 1.0410e-04\n",
      "Epoch 00019: ReduceLROnPlateau reducing learning rate to 1e-05.\n",
      "\n",
      "Epoch 00019: val_loss did not improve from 0.00285\n",
      "123/123 [==============================] - 2s 19ms/step - loss: 1.0395e-04 - val_loss: 0.0029 - lr: 1.0000e-05\n",
      "Epoch 20/100\n",
      "121/123 [============================>.] - ETA: 0s - loss: 1.0011e-04\n",
      "Epoch 00020: val_loss did not improve from 0.00285\n",
      "123/123 [==============================] - 2s 19ms/step - loss: 9.9885e-05 - val_loss: 0.0029 - lr: 1.0000e-05\n",
      "Epoch 21/100\n",
      "121/123 [============================>.] - ETA: 0s - loss: 1.0305e-04\n",
      "Epoch 00021: val_loss did not improve from 0.00285\n",
      "123/123 [==============================] - 2s 19ms/step - loss: 1.0312e-04 - val_loss: 0.0030 - lr: 1.0000e-05\n",
      "Epoch 22/100\n",
      "121/123 [============================>.] - ETA: 0s - loss: 9.9168e-05\n",
      "Epoch 00022: val_loss did not improve from 0.00285\n",
      "123/123 [==============================] - 2s 19ms/step - loss: 9.9270e-05 - val_loss: 0.0030 - lr: 1.0000e-05\n",
      "Epoch 23/100\n",
      "120/123 [============================>.] - ETA: 0s - loss: 9.6418e-05\n",
      "Epoch 00023: val_loss improved from 0.00285 to 0.00285, saving model to weights_best.hdf5\n",
      "123/123 [==============================] - 2s 19ms/step - loss: 9.6429e-05 - val_loss: 0.0028 - lr: 1.0000e-05\n",
      "Epoch 24/100\n",
      "121/123 [============================>.] - ETA: 0s - loss: 1.0066e-04\n",
      "Epoch 00024: val_loss improved from 0.00285 to 0.00259, saving model to weights_best.hdf5\n",
      "123/123 [==============================] - 2s 19ms/step - loss: 1.0074e-04 - val_loss: 0.0026 - lr: 1.0000e-05\n",
      "Epoch 25/100\n",
      "121/123 [============================>.] - ETA: 0s - loss: 9.8642e-05\n",
      "Epoch 00025: val_loss did not improve from 0.00259\n",
      "123/123 [==============================] - 2s 19ms/step - loss: 9.8894e-05 - val_loss: 0.0028 - lr: 1.0000e-05\n",
      "Epoch 26/100\n",
      "120/123 [============================>.] - ETA: 0s - loss: 9.9101e-05\n",
      "Epoch 00026: val_loss did not improve from 0.00259\n",
      "123/123 [==============================] - 2s 19ms/step - loss: 9.8920e-05 - val_loss: 0.0026 - lr: 1.0000e-05\n",
      "Epoch 27/100\n",
      "121/123 [============================>.] - ETA: 0s - loss: 9.8425e-05\n",
      "Epoch 00027: val_loss did not improve from 0.00259\n",
      "123/123 [==============================] - 2s 19ms/step - loss: 9.8387e-05 - val_loss: 0.0027 - lr: 1.0000e-05\n",
      "Epoch 28/100\n",
      "121/123 [============================>.] - ETA: 0s - loss: 9.8804e-05\n",
      "Epoch 00028: val_loss did not improve from 0.00259\n",
      "123/123 [==============================] - 2s 19ms/step - loss: 9.9156e-05 - val_loss: 0.0028 - lr: 1.0000e-05\n",
      "Epoch 29/100\n",
      "121/123 [============================>.] - ETA: 0s - loss: 9.6514e-05\n",
      "Epoch 00029: val_loss did not improve from 0.00259\n",
      "123/123 [==============================] - 2s 19ms/step - loss: 9.6701e-05 - val_loss: 0.0027 - lr: 1.0000e-05\n",
      "Epoch 30/100\n",
      "121/123 [============================>.] - ETA: 0s - loss: 9.5118e-05\n",
      "Epoch 00030: val_loss did not improve from 0.00259\n",
      "123/123 [==============================] - 2s 19ms/step - loss: 9.5105e-05 - val_loss: 0.0028 - lr: 1.0000e-05\n",
      "Epoch 31/100\n",
      "121/123 [============================>.] - ETA: 0s - loss: 9.9348e-05\n",
      "Epoch 00031: val_loss did not improve from 0.00259\n",
      "123/123 [==============================] - 2s 19ms/step - loss: 9.9361e-05 - val_loss: 0.0029 - lr: 1.0000e-05\n",
      "Epoch 32/100\n",
      "121/123 [============================>.] - ETA: 0s - loss: 9.6765e-05\n",
      "Epoch 00032: val_loss improved from 0.00259 to 0.00235, saving model to weights_best.hdf5\n",
      "123/123 [==============================] - 2s 19ms/step - loss: 9.7215e-05 - val_loss: 0.0024 - lr: 1.0000e-05\n",
      "Epoch 33/100\n",
      "121/123 [============================>.] - ETA: 0s - loss: 9.6803e-05\n",
      "Epoch 00033: val_loss did not improve from 0.00235\n",
      "123/123 [==============================] - 2s 19ms/step - loss: 9.6349e-05 - val_loss: 0.0026 - lr: 1.0000e-05\n",
      "Epoch 34/100\n",
      "121/123 [============================>.] - ETA: 0s - loss: 9.7509e-05\n",
      "Epoch 00034: val_loss did not improve from 0.00235\n",
      "123/123 [==============================] - 2s 19ms/step - loss: 9.8074e-05 - val_loss: 0.0027 - lr: 1.0000e-05\n",
      "Epoch 35/100\n",
      "121/123 [============================>.] - ETA: 0s - loss: 9.7875e-05\n",
      "Epoch 00035: val_loss did not improve from 0.00235\n",
      "123/123 [==============================] - 2s 19ms/step - loss: 9.7561e-05 - val_loss: 0.0027 - lr: 1.0000e-05\n",
      "Epoch 36/100\n",
      "121/123 [============================>.] - ETA: 0s - loss: 9.6312e-05\n",
      "Epoch 00036: val_loss did not improve from 0.00235\n",
      "123/123 [==============================] - 2s 19ms/step - loss: 9.6053e-05 - val_loss: 0.0028 - lr: 1.0000e-05\n",
      "Epoch 37/100\n",
      "121/123 [============================>.] - ETA: 0s - loss: 9.8564e-05\n",
      "Epoch 00037: val_loss did not improve from 0.00235\n",
      "123/123 [==============================] - 2s 19ms/step - loss: 9.8132e-05 - val_loss: 0.0029 - lr: 1.0000e-05\n",
      "Epoch 38/100\n",
      "121/123 [============================>.] - ETA: 0s - loss: 9.7303e-05\n",
      "Epoch 00038: val_loss did not improve from 0.00235\n",
      "123/123 [==============================] - 2s 19ms/step - loss: 9.7248e-05 - val_loss: 0.0026 - lr: 1.0000e-05\n",
      "Epoch 39/100\n",
      "121/123 [============================>.] - ETA: 0s - loss: 9.4387e-05\n",
      "Epoch 00039: val_loss did not improve from 0.00235\n",
      "123/123 [==============================] - 2s 19ms/step - loss: 9.4810e-05 - val_loss: 0.0024 - lr: 1.0000e-05\n",
      "Epoch 40/100\n",
      "121/123 [============================>.] - ETA: 0s - loss: 1.0117e-04\n",
      "Epoch 00040: val_loss did not improve from 0.00235\n",
      "123/123 [==============================] - 2s 19ms/step - loss: 1.0117e-04 - val_loss: 0.0026 - lr: 1.0000e-05\n",
      "Epoch 41/100\n",
      "121/123 [============================>.] - ETA: 0s - loss: 9.7172e-05\n",
      "Epoch 00041: val_loss did not improve from 0.00235\n",
      "123/123 [==============================] - 2s 19ms/step - loss: 9.6895e-05 - val_loss: 0.0027 - lr: 1.0000e-05\n",
      "Epoch 42/100\n",
      "121/123 [============================>.] - ETA: 0s - loss: 9.2806e-05\n",
      "Epoch 00042: val_loss improved from 0.00235 to 0.00233, saving model to weights_best.hdf5\n",
      "123/123 [==============================] - 2s 19ms/step - loss: 9.2520e-05 - val_loss: 0.0023 - lr: 1.0000e-05\n",
      "Epoch 43/100\n",
      "121/123 [============================>.] - ETA: 0s - loss: 9.6823e-05\n",
      "Epoch 00043: val_loss did not improve from 0.00233\n",
      "123/123 [==============================] - 2s 19ms/step - loss: 9.6852e-05 - val_loss: 0.0024 - lr: 1.0000e-05\n",
      "Epoch 44/100\n",
      "121/123 [============================>.] - ETA: 0s - loss: 9.3952e-05\n",
      "Epoch 00044: val_loss did not improve from 0.00233\n",
      "123/123 [==============================] - 2s 19ms/step - loss: 9.4144e-05 - val_loss: 0.0025 - lr: 1.0000e-05\n",
      "Epoch 45/100\n",
      "121/123 [============================>.] - ETA: 0s - loss: 9.3313e-05\n",
      "Epoch 00045: val_loss did not improve from 0.00233\n",
      "123/123 [==============================] - 2s 19ms/step - loss: 9.3750e-05 - val_loss: 0.0027 - lr: 1.0000e-05\n",
      "Epoch 46/100\n",
      "121/123 [============================>.] - ETA: 0s - loss: 9.4318e-05\n",
      "Epoch 00046: val_loss did not improve from 0.00233\n",
      "123/123 [==============================] - 2s 19ms/step - loss: 9.4213e-05 - val_loss: 0.0024 - lr: 1.0000e-05\n",
      "Epoch 47/100\n",
      "121/123 [============================>.] - ETA: 0s - loss: 9.4215e-05\n",
      "Epoch 00047: val_loss did not improve from 0.00233\n",
      "123/123 [==============================] - 2s 19ms/step - loss: 9.4515e-05 - val_loss: 0.0025 - lr: 1.0000e-05\n",
      "Epoch 48/100\n",
      "121/123 [============================>.] - ETA: 0s - loss: 9.2373e-05\n",
      "Epoch 00048: val_loss improved from 0.00233 to 0.00229, saving model to weights_best.hdf5\n",
      "123/123 [==============================] - 2s 19ms/step - loss: 9.2114e-05 - val_loss: 0.0023 - lr: 1.0000e-05\n",
      "Epoch 49/100\n",
      "121/123 [============================>.] - ETA: 0s - loss: 9.5670e-05\n",
      "Epoch 00049: val_loss did not improve from 0.00229\n",
      "123/123 [==============================] - 2s 19ms/step - loss: 9.5617e-05 - val_loss: 0.0024 - lr: 1.0000e-05\n",
      "Epoch 50/100\n",
      "121/123 [============================>.] - ETA: 0s - loss: 9.3621e-05\n",
      "Epoch 00050: val_loss did not improve from 0.00229\n",
      "123/123 [==============================] - 2s 19ms/step - loss: 9.3391e-05 - val_loss: 0.0026 - lr: 1.0000e-05\n",
      "Epoch 51/100\n",
      "123/123 [==============================] - ETA: 0s - loss: 9.4268e-05\n",
      "Epoch 00051: val_loss did not improve from 0.00229\n",
      "123/123 [==============================] - 2s 19ms/step - loss: 9.4268e-05 - val_loss: 0.0025 - lr: 1.0000e-05\n",
      "Epoch 52/100\n",
      "120/123 [============================>.] - ETA: 0s - loss: 9.4871e-05\n",
      "Epoch 00052: val_loss did not improve from 0.00229\n",
      "123/123 [==============================] - 2s 19ms/step - loss: 9.4611e-05 - val_loss: 0.0025 - lr: 1.0000e-05\n",
      "Epoch 53/100\n",
      "121/123 [============================>.] - ETA: 0s - loss: 9.5906e-05\n",
      "Epoch 00053: val_loss did not improve from 0.00229\n",
      "123/123 [==============================] - 2s 19ms/step - loss: 9.6065e-05 - val_loss: 0.0025 - lr: 1.0000e-05\n",
      "Epoch 54/100\n",
      "121/123 [============================>.] - ETA: 0s - loss: 9.3518e-05\n",
      "Epoch 00054: val_loss did not improve from 0.00229\n",
      "123/123 [==============================] - 2s 19ms/step - loss: 9.3011e-05 - val_loss: 0.0024 - lr: 1.0000e-05\n",
      "Epoch 55/100\n",
      "121/123 [============================>.] - ETA: 0s - loss: 9.2155e-05\n",
      "Epoch 00055: val_loss improved from 0.00229 to 0.00223, saving model to weights_best.hdf5\n",
      "123/123 [==============================] - 2s 19ms/step - loss: 9.2275e-05 - val_loss: 0.0022 - lr: 1.0000e-05\n",
      "Epoch 56/100\n",
      "121/123 [============================>.] - ETA: 0s - loss: 9.3050e-05\n",
      "Epoch 00056: val_loss did not improve from 0.00223\n",
      "123/123 [==============================] - 2s 19ms/step - loss: 9.2957e-05 - val_loss: 0.0026 - lr: 1.0000e-05\n",
      "Epoch 57/100\n",
      "121/123 [============================>.] - ETA: 0s - loss: 9.2147e-05\n",
      "Epoch 00057: val_loss did not improve from 0.00223\n",
      "123/123 [==============================] - 2s 19ms/step - loss: 9.2267e-05 - val_loss: 0.0026 - lr: 1.0000e-05\n",
      "Epoch 58/100\n",
      "121/123 [============================>.] - ETA: 0s - loss: 9.2393e-05\n",
      "Epoch 00058: val_loss improved from 0.00223 to 0.00218, saving model to weights_best.hdf5\n",
      "123/123 [==============================] - 2s 19ms/step - loss: 9.2565e-05 - val_loss: 0.0022 - lr: 1.0000e-05\n",
      "Epoch 59/100\n",
      "121/123 [============================>.] - ETA: 0s - loss: 9.3238e-05\n",
      "Epoch 00059: val_loss improved from 0.00218 to 0.00218, saving model to weights_best.hdf5\n",
      "123/123 [==============================] - 2s 19ms/step - loss: 9.3241e-05 - val_loss: 0.0022 - lr: 1.0000e-05\n",
      "Epoch 60/100\n",
      "121/123 [============================>.] - ETA: 0s - loss: 9.3050e-05\n",
      "Epoch 00060: val_loss improved from 0.00218 to 0.00213, saving model to weights_best.hdf5\n",
      "123/123 [==============================] - 2s 19ms/step - loss: 9.3474e-05 - val_loss: 0.0021 - lr: 1.0000e-05\n",
      "Epoch 61/100\n",
      "123/123 [==============================] - ETA: 0s - loss: 9.1546e-05\n",
      "Epoch 00061: val_loss did not improve from 0.00213\n",
      "123/123 [==============================] - 2s 19ms/step - loss: 9.1546e-05 - val_loss: 0.0026 - lr: 1.0000e-05\n",
      "Epoch 62/100\n",
      "121/123 [============================>.] - ETA: 0s - loss: 9.0224e-05\n",
      "Epoch 00062: val_loss improved from 0.00213 to 0.00207, saving model to weights_best.hdf5\n",
      "123/123 [==============================] - 2s 19ms/step - loss: 9.0169e-05 - val_loss: 0.0021 - lr: 1.0000e-05\n",
      "Epoch 63/100\n",
      "121/123 [============================>.] - ETA: 0s - loss: 9.2218e-05\n",
      "Epoch 00063: val_loss did not improve from 0.00207\n",
      "123/123 [==============================] - 2s 19ms/step - loss: 9.2179e-05 - val_loss: 0.0022 - lr: 1.0000e-05\n",
      "Epoch 64/100\n",
      "120/123 [============================>.] - ETA: 0s - loss: 9.0676e-05\n",
      "Epoch 00064: val_loss improved from 0.00207 to 0.00203, saving model to weights_best.hdf5\n",
      "123/123 [==============================] - 2s 19ms/step - loss: 9.0725e-05 - val_loss: 0.0020 - lr: 1.0000e-05\n",
      "Epoch 65/100\n",
      "121/123 [============================>.] - ETA: 0s - loss: 9.1723e-05\n",
      "Epoch 00065: val_loss did not improve from 0.00203\n",
      "123/123 [==============================] - 2s 19ms/step - loss: 9.1752e-05 - val_loss: 0.0022 - lr: 1.0000e-05\n",
      "Epoch 66/100\n",
      "121/123 [============================>.] - ETA: 0s - loss: 9.1221e-05\n",
      "Epoch 00066: val_loss did not improve from 0.00203\n",
      "123/123 [==============================] - 2s 19ms/step - loss: 9.1234e-05 - val_loss: 0.0024 - lr: 1.0000e-05\n",
      "Epoch 67/100\n",
      "120/123 [============================>.] - ETA: 0s - loss: 9.1284e-05\n",
      "Epoch 00067: val_loss did not improve from 0.00203\n",
      "123/123 [==============================] - 2s 19ms/step - loss: 9.1041e-05 - val_loss: 0.0021 - lr: 1.0000e-05\n",
      "Epoch 68/100\n",
      "121/123 [============================>.] - ETA: 0s - loss: 9.0438e-05\n",
      "Epoch 00068: val_loss did not improve from 0.00203\n",
      "123/123 [==============================] - 2s 19ms/step - loss: 9.0499e-05 - val_loss: 0.0023 - lr: 1.0000e-05\n",
      "Epoch 69/100\n",
      "121/123 [============================>.] - ETA: 0s - loss: 8.8390e-05\n",
      "Epoch 00069: val_loss did not improve from 0.00203\n",
      "123/123 [==============================] - 2s 19ms/step - loss: 8.8516e-05 - val_loss: 0.0021 - lr: 1.0000e-05\n",
      "Epoch 70/100\n",
      "120/123 [============================>.] - ETA: 0s - loss: 8.8829e-05\n",
      "Epoch 00070: val_loss improved from 0.00203 to 0.00202, saving model to weights_best.hdf5\n",
      "123/123 [==============================] - 2s 19ms/step - loss: 8.8576e-05 - val_loss: 0.0020 - lr: 1.0000e-05\n",
      "Epoch 71/100\n",
      "121/123 [============================>.] - ETA: 0s - loss: 8.6609e-05\n",
      "Epoch 00071: val_loss improved from 0.00202 to 0.00182, saving model to weights_best.hdf5\n",
      "123/123 [==============================] - 2s 19ms/step - loss: 8.6623e-05 - val_loss: 0.0018 - lr: 1.0000e-05\n",
      "Epoch 72/100\n",
      "121/123 [============================>.] - ETA: 0s - loss: 9.0996e-05\n",
      "Epoch 00072: val_loss improved from 0.00182 to 0.00174, saving model to weights_best.hdf5\n",
      "123/123 [==============================] - 2s 19ms/step - loss: 9.0598e-05 - val_loss: 0.0017 - lr: 1.0000e-05\n",
      "Epoch 73/100\n",
      "121/123 [============================>.] - ETA: 0s - loss: 8.9867e-05\n",
      "Epoch 00073: val_loss improved from 0.00174 to 0.00169, saving model to weights_best.hdf5\n",
      "123/123 [==============================] - 2s 19ms/step - loss: 9.0583e-05 - val_loss: 0.0017 - lr: 1.0000e-05\n",
      "Epoch 74/100\n",
      "121/123 [============================>.] - ETA: 0s - loss: 8.6530e-05\n",
      "Epoch 00074: val_loss did not improve from 0.00169\n",
      "123/123 [==============================] - 2s 19ms/step - loss: 8.6669e-05 - val_loss: 0.0022 - lr: 1.0000e-05\n",
      "Epoch 75/100\n",
      "120/123 [============================>.] - ETA: 0s - loss: 8.8594e-05\n",
      "Epoch 00075: val_loss did not improve from 0.00169\n",
      "123/123 [==============================] - 2s 19ms/step - loss: 8.8487e-05 - val_loss: 0.0023 - lr: 1.0000e-05\n",
      "Epoch 76/100\n",
      "121/123 [============================>.] - ETA: 0s - loss: 8.8880e-05\n",
      "Epoch 00076: val_loss did not improve from 0.00169\n",
      "123/123 [==============================] - 2s 19ms/step - loss: 8.8621e-05 - val_loss: 0.0020 - lr: 1.0000e-05\n",
      "Epoch 77/100\n",
      "121/123 [============================>.] - ETA: 0s - loss: 8.5257e-05\n",
      "Epoch 00077: val_loss did not improve from 0.00169\n",
      "123/123 [==============================] - 2s 19ms/step - loss: 8.5160e-05 - val_loss: 0.0021 - lr: 1.0000e-05\n",
      "Epoch 78/100\n",
      "121/123 [============================>.] - ETA: 0s - loss: 8.6711e-05\n",
      "Epoch 00078: val_loss did not improve from 0.00169\n",
      "123/123 [==============================] - 2s 19ms/step - loss: 8.6718e-05 - val_loss: 0.0024 - lr: 1.0000e-05\n",
      "Epoch 79/100\n",
      "121/123 [============================>.] - ETA: 0s - loss: 8.5465e-05\n",
      "Epoch 00079: val_loss did not improve from 0.00169\n",
      "123/123 [==============================] - 2s 19ms/step - loss: 8.5762e-05 - val_loss: 0.0020 - lr: 1.0000e-05\n",
      "Epoch 80/100\n",
      "121/123 [============================>.] - ETA: 0s - loss: 8.6061e-05\n",
      "Epoch 00080: val_loss did not improve from 0.00169\n",
      "123/123 [==============================] - 2s 19ms/step - loss: 8.6243e-05 - val_loss: 0.0018 - lr: 1.0000e-05\n",
      "Epoch 81/100\n",
      "121/123 [============================>.] - ETA: 0s - loss: 8.4648e-05\n",
      "Epoch 00081: val_loss did not improve from 0.00169\n",
      "123/123 [==============================] - 2s 19ms/step - loss: 8.4157e-05 - val_loss: 0.0020 - lr: 1.0000e-05\n",
      "Epoch 82/100\n",
      "121/123 [============================>.] - ETA: 0s - loss: 8.4647e-05\n",
      "Epoch 00082: val_loss did not improve from 0.00169\n",
      "123/123 [==============================] - 2s 19ms/step - loss: 8.4975e-05 - val_loss: 0.0018 - lr: 1.0000e-05\n",
      "Epoch 83/100\n",
      "120/123 [============================>.] - ETA: 0s - loss: 8.5858e-05\n",
      "Epoch 00083: val_loss did not improve from 0.00169\n",
      "123/123 [==============================] - 2s 19ms/step - loss: 8.5881e-05 - val_loss: 0.0025 - lr: 1.0000e-05\n",
      "Epoch 00083: early stopping\n",
      "Time:  199.97128955589142\n"
     ]
    }
   ],
   "source": [
    "start = timeit.default_timer()\n",
    "\n",
    "#model.fit(x_train, y_train, epochs=25, batch_size=32, callbacks=callbacks)\n",
    "model_history = model.fit(X_train,y_train, epochs=100, validation_data=(X_test,ytest), callbacks=callbacks)\n",
    "\n",
    "stop = timeit.default_timer()\n",
    "print('Time: ', stop - start)"
   ]
  },
  {
   "cell_type": "markdown",
   "id": "2ca7daa7-f415-4a31-959d-757b019fea3a",
   "metadata": {},
   "source": [
    "# Loss"
   ]
  },
  {
   "cell_type": "code",
   "execution_count": 20,
   "id": "19d9931a-269a-436d-8860-2a7bae239ebe",
   "metadata": {},
   "outputs": [
    {
     "data": {
      "image/png": "[encoded data removed]",
      "text/plain": [
       "<Figure size 1224x504 with 1 Axes>"
      ]
     },
     "metadata": {
      "needs_background": "light"
     },
     "output_type": "display_data"
    }
   ],
   "source": [
    "loss = model_history.history['loss']\n",
    "validation_loss = model_history.history['val_loss']\n",
    "\n",
    "plt.figure(figsize=(17, 7));\n",
    "plt.plot(loss, label='Training Loss');\n",
    "plt.plot(validation_loss, label='Validation Loss');\n",
    "plt.legend(loc='upper left');\n",
    "plt.title('Loss : Training Vs Validation ');"
   ]
  },
  {
   "cell_type": "markdown",
   "id": "eacdd9ea-819e-4a19-aef7-cef789751ae8",
   "metadata": {},
   "source": [
    "# Prediction"
   ]
  },
  {
   "cell_type": "code",
   "execution_count": 21,
   "id": "9e60ba61",
   "metadata": {},
   "outputs": [
    {
     "name": "stdout",
     "output_type": "stream",
     "text": [
      "X_train:  (3914, 100, 1)\n",
      "X_test:  (2062, 100, 1)\n"
     ]
    }
   ],
   "source": [
    "print(\"X_train: \", X_train.shape)\n",
    "print(\"X_test: \", X_test.shape)"
   ]
  },
  {
   "cell_type": "code",
   "execution_count": 22,
   "id": "34383221",
   "metadata": {},
   "outputs": [
    {
     "data": {
      "text/plain": [
       "array([[0.90640164],\n",
       "       [0.90383268],\n",
       "       [0.89773464],\n",
       "       [0.89150686],\n",
       "       [0.90287256],\n",
       "       [0.89503594],\n",
       "       [0.90689467],\n",
       "       [0.90816618],\n",
       "       [0.90785479],\n",
       "       [0.91436801],\n",
       "       [0.90738771],\n",
       "       [0.91205854],\n",
       "       [0.90333965],\n",
       "       [0.90673898],\n",
       "       [0.90271687],\n",
       "       [0.9132522 ],\n",
       "       [0.92002491],\n",
       "       [0.89563277],\n",
       "       [0.89078029],\n",
       "       [0.87998547],\n",
       "       [0.89591821],\n",
       "       [0.90157511],\n",
       "       [0.90263902],\n",
       "       [0.87959623],\n",
       "       [0.89225939],\n",
       "       [0.90541557],\n",
       "       [0.90663518],\n",
       "       [0.91439396],\n",
       "       [0.91060539],\n",
       "       [0.91397877],\n",
       "       [0.9160547 ],\n",
       "       [0.91364144],\n",
       "       [0.92020655],\n",
       "       [0.91449776],\n",
       "       [0.90795859],\n",
       "       [0.91548382],\n",
       "       [0.92025845],\n",
       "       [0.92160781],\n",
       "       [0.92178945],\n",
       "       [0.92121857],\n",
       "       [0.92443626],\n",
       "       [0.92503309],\n",
       "       [0.92760204],\n",
       "       [0.92555207],\n",
       "       [0.91787114],\n",
       "       [0.90598645],\n",
       "       [0.90523393],\n",
       "       [0.91574331],\n",
       "       [0.9218154 ],\n",
       "       [0.92622674],\n",
       "       [0.9288476 ],\n",
       "       [0.93214314],\n",
       "       [0.93398552],\n",
       "       [0.93224693],\n",
       "       [0.93655448],\n",
       "       [0.94382022],\n",
       "       [0.94913979],\n",
       "       [0.94929548],\n",
       "       [0.94898409],\n",
       "       [0.93632094],\n",
       "       [0.94605185],\n",
       "       [0.95357708],\n",
       "       [0.95567896],\n",
       "       [0.95868905],\n",
       "       [0.95196824],\n",
       "       [0.95508213],\n",
       "       [0.92960012],\n",
       "       [0.92827672],\n",
       "       [0.94555881],\n",
       "       [0.95178659],\n",
       "       [0.95900044],\n",
       "       [0.96364533],\n",
       "       [0.96520227],\n",
       "       [0.96460544],\n",
       "       [0.96496873],\n",
       "       [0.96001246],\n",
       "       [0.96631808],\n",
       "       [0.96138776],\n",
       "       [0.96486493],\n",
       "       [0.96600669],\n",
       "       [0.97088512],\n",
       "       [0.97181929],\n",
       "       [0.97220853],\n",
       "       [0.97534837],\n",
       "       [0.97482938],\n",
       "       [0.97994136],\n",
       "       [0.97719075],\n",
       "       [0.97643823],\n",
       "       [0.97311674],\n",
       "       [0.95575681],\n",
       "       [0.96603264],\n",
       "       [0.97882554],\n",
       "       [0.98611724],\n",
       "       [0.98663622],\n",
       "       [0.98777798],\n",
       "       [0.98391157],\n",
       "       [0.99390196],\n",
       "       [0.99691206],\n",
       "       [0.99802787],\n",
       "       [1.        ]])"
      ]
     },
     "execution_count": 22,
     "metadata": {},
     "output_type": "execute_result"
    }
   ],
   "source": [
    "X_test[-1,:,:]"
   ]
  },
  {
   "cell_type": "code",
   "execution_count": 23,
   "id": "22c02485",
   "metadata": {},
   "outputs": [
    {
     "data": {
      "text/plain": [
       "array([[0.90640164],\n",
       "       [0.90383268],\n",
       "       [0.89773464],\n",
       "       [0.89150686],\n",
       "       [0.90287256],\n",
       "       [0.89503594],\n",
       "       [0.90689467],\n",
       "       [0.90816618],\n",
       "       [0.90785479],\n",
       "       [0.91436801],\n",
       "       [0.90738771],\n",
       "       [0.91205854],\n",
       "       [0.90333965],\n",
       "       [0.90673898],\n",
       "       [0.90271687],\n",
       "       [0.9132522 ],\n",
       "       [0.92002491],\n",
       "       [0.89563277],\n",
       "       [0.89078029],\n",
       "       [0.87998547],\n",
       "       [0.89591821],\n",
       "       [0.90157511],\n",
       "       [0.90263902],\n",
       "       [0.87959623],\n",
       "       [0.89225939],\n",
       "       [0.90541557],\n",
       "       [0.90663518],\n",
       "       [0.91439396],\n",
       "       [0.91060539],\n",
       "       [0.91397877],\n",
       "       [0.9160547 ],\n",
       "       [0.91364144],\n",
       "       [0.92020655],\n",
       "       [0.91449776],\n",
       "       [0.90795859],\n",
       "       [0.91548382],\n",
       "       [0.92025845],\n",
       "       [0.92160781],\n",
       "       [0.92178945],\n",
       "       [0.92121857],\n",
       "       [0.92443626],\n",
       "       [0.92503309],\n",
       "       [0.92760204],\n",
       "       [0.92555207],\n",
       "       [0.91787114],\n",
       "       [0.90598645],\n",
       "       [0.90523393],\n",
       "       [0.91574331],\n",
       "       [0.9218154 ],\n",
       "       [0.92622674],\n",
       "       [0.9288476 ],\n",
       "       [0.93214314],\n",
       "       [0.93398552],\n",
       "       [0.93224693],\n",
       "       [0.93655448],\n",
       "       [0.94382022],\n",
       "       [0.94913979],\n",
       "       [0.94929548],\n",
       "       [0.94898409],\n",
       "       [0.93632094],\n",
       "       [0.94605185],\n",
       "       [0.95357708],\n",
       "       [0.95567896],\n",
       "       [0.95868905],\n",
       "       [0.95196824],\n",
       "       [0.95508213],\n",
       "       [0.92960012],\n",
       "       [0.92827672],\n",
       "       [0.94555881],\n",
       "       [0.95178659],\n",
       "       [0.95900044],\n",
       "       [0.96364533],\n",
       "       [0.96520227],\n",
       "       [0.96460544],\n",
       "       [0.96496873],\n",
       "       [0.96001246],\n",
       "       [0.96631808],\n",
       "       [0.96138776],\n",
       "       [0.96486493],\n",
       "       [0.96600669],\n",
       "       [0.97088512],\n",
       "       [0.97181929],\n",
       "       [0.97220853],\n",
       "       [0.97534837],\n",
       "       [0.97482938],\n",
       "       [0.97994136],\n",
       "       [0.97719075],\n",
       "       [0.97643823],\n",
       "       [0.97311674],\n",
       "       [0.95575681],\n",
       "       [0.96603264],\n",
       "       [0.97882554],\n",
       "       [0.98611724],\n",
       "       [0.98663622],\n",
       "       [0.98777798],\n",
       "       [0.98391157],\n",
       "       [0.99390196],\n",
       "       [0.99691206],\n",
       "       [0.99802787],\n",
       "       [1.        ]])"
      ]
     },
     "execution_count": 23,
     "metadata": {},
     "output_type": "execute_result"
    }
   ],
   "source": [
    "X_test[-1]"
   ]
  },
  {
   "cell_type": "code",
   "execution_count": 24,
   "id": "5edd5c80",
   "metadata": {},
   "outputs": [
    {
     "name": "stdout",
     "output_type": "stream",
     "text": [
      "Day X data:  (1, 100, 1)\n"
     ]
    }
   ],
   "source": [
    "dayXdata = X_test[-1,:,:]\n",
    "dayXdata = dayXdata.reshape(1, 100, 1)\n",
    "print(\"Day X data: \", dayXdata.shape)\n",
    "# print(dayXdata)"
   ]
  },
  {
   "cell_type": "code",
   "execution_count": 25,
   "id": "fcf6a8d4-cde4-4278-96b9-13fe2090e2dd",
   "metadata": {},
   "outputs": [],
   "source": [
    "train_predict=model.predict(X_train)\n",
    "test_predict=model.predict(X_test)\n",
    "day_predict=model.predict(dayXdata)"
   ]
  },
  {
   "cell_type": "code",
   "execution_count": 26,
   "id": "03be9743",
   "metadata": {},
   "outputs": [
    {
     "name": "stdout",
     "output_type": "stream",
     "text": [
      "train_predict:  (3914, 1)\n",
      "test_predict:  (2062, 1)\n"
     ]
    }
   ],
   "source": [
    "print(\"train_predict: \", train_predict.shape)\n",
    "print(\"test_predict: \", test_predict.shape)"
   ]
  },
  {
   "cell_type": "markdown",
   "id": "a1deb302",
   "metadata": {},
   "source": [
    "### Try to compare when predict the entire 2062 slice of 100 days data to predict 1 slice of 100 days data. Don't know why it is different"
   ]
  },
  {
   "cell_type": "code",
   "execution_count": 27,
   "id": "e6779bc3",
   "metadata": {},
   "outputs": [
    {
     "name": "stdout",
     "output_type": "stream",
     "text": [
      "2061 , [0.81756425]  ,  [[0.817543]]\n",
      "2060 , [0.8159908]  ,  [[0.8159855]]\n",
      "2059 , [0.81468546]  ,  [[0.8146943]]\n",
      "2058 , [0.81375533]  ,  [[0.8137594]]\n",
      "2057 , [0.81325793]  ,  [[0.8132502]]\n",
      "2056 , [0.81316406]  ,  [[0.813139]]\n",
      "2055 , [0.8133652]  ,  [[0.8133492]]\n",
      "2054 , [0.8136703]  ,  [[0.81366265]]\n",
      "2053 , [0.8138497]  ,  [[0.8138346]]\n",
      "2052 , [0.81372845]  ,  [[0.81369615]]\n",
      "2051 , [0.81326026]  ,  [[0.8132423]]\n",
      "2050 , [0.812534]  ,  [[0.81251186]]\n",
      "2049 , [0.81172335]  ,  [[0.81168365]]\n",
      "2048 , [0.8109785]  ,  [[0.8109551]]\n",
      "2047 , [0.81038594]  ,  [[0.81035835]]\n",
      "2046 , [0.80996776]  ,  [[0.8099398]]\n",
      "2045 , [0.809675]  ,  [[0.80964655]]\n",
      "2044 , [0.8093991]  ,  [[0.80937755]]\n",
      "2043 , [0.8090384]  ,  [[0.8090186]]\n",
      "2042 , [0.8084352]  ,  [[0.8084266]]\n",
      "2041 , [0.80750096]  ,  [[0.8074991]]\n"
     ]
    }
   ],
   "source": [
    "for i in range(len(X_test)-1, -1, -1):\n",
    "    if i>2040:\n",
    "        dayX = X_test[i]\n",
    "        dayX = dayX.reshape(1, 100, 1)\n",
    "#         print(i, \", dayX:\", dayX)\n",
    "        day_predict=model.predict(dayX)\n",
    "        print(i, \",\", test_predict[i], ' , ', day_predict)"
   ]
  },
  {
   "cell_type": "markdown",
   "id": "994ac5e4",
   "metadata": {},
   "source": [
    "### Save and reload the model"
   ]
  },
  {
   "cell_type": "code",
   "execution_count": 28,
   "id": "2d38675c",
   "metadata": {
    "scrolled": true
   },
   "outputs": [
    {
     "name": "stderr",
     "output_type": "stream",
     "text": [
      "2022-02-09 16:21:11.827360: W tensorflow/python/util/util.cc:368] Sets are not currently considered sequences, but this may change in the future, so consider avoiding using them.\n",
      "WARNING:absl:Found untraced functions such as lstm_cell_layer_call_fn, lstm_cell_layer_call_and_return_conditional_losses, lstm_cell_1_layer_call_fn, lstm_cell_1_layer_call_and_return_conditional_losses, lstm_cell_2_layer_call_fn while saving (showing 5 of 30). These functions will not be directly callable after loading.\n"
     ]
    },
    {
     "name": "stdout",
     "output_type": "stream",
     "text": [
      "INFO:tensorflow:Assets written to: LSTMmodel/assets\n"
     ]
    },
    {
     "name": "stderr",
     "output_type": "stream",
     "text": [
      "INFO:tensorflow:Assets written to: LSTMmodel/assets\n",
      "WARNING:absl:<keras.layers.recurrent.LSTMCell object at 0x7f04f3fe1460> has the same name 'LSTMCell' as a built-in Keras object. Consider renaming <class 'keras.layers.recurrent.LSTMCell'> to avoid naming conflicts when loading with `tf.keras.models.load_model`. If renaming is not possible, pass the object in the `custom_objects` parameter of the load function.\n",
      "WARNING:absl:<keras.layers.recurrent.LSTMCell object at 0x7f04f404bc70> has the same name 'LSTMCell' as a built-in Keras object. Consider renaming <class 'keras.layers.recurrent.LSTMCell'> to avoid naming conflicts when loading with `tf.keras.models.load_model`. If renaming is not possible, pass the object in the `custom_objects` parameter of the load function.\n",
      "WARNING:absl:<keras.layers.recurrent.LSTMCell object at 0x7f04f41c4b20> has the same name 'LSTMCell' as a built-in Keras object. Consider renaming <class 'keras.layers.recurrent.LSTMCell'> to avoid naming conflicts when loading with `tf.keras.models.load_model`. If renaming is not possible, pass the object in the `custom_objects` parameter of the load function.\n",
      "WARNING:absl:<keras.layers.recurrent.LSTMCell object at 0x7f04f40d0df0> has the same name 'LSTMCell' as a built-in Keras object. Consider renaming <class 'keras.layers.recurrent.LSTMCell'> to avoid naming conflicts when loading with `tf.keras.models.load_model`. If renaming is not possible, pass the object in the `custom_objects` parameter of the load function.\n",
      "WARNING:absl:<keras.layers.recurrent.LSTMCell object at 0x7f04f3fed250> has the same name 'LSTMCell' as a built-in Keras object. Consider renaming <class 'keras.layers.recurrent.LSTMCell'> to avoid naming conflicts when loading with `tf.keras.models.load_model`. If renaming is not possible, pass the object in the `custom_objects` parameter of the load function.\n",
      "WARNING:absl:<keras.layers.recurrent.LSTMCell object at 0x7f04f401a460> has the same name 'LSTMCell' as a built-in Keras object. Consider renaming <class 'keras.layers.recurrent.LSTMCell'> to avoid naming conflicts when loading with `tf.keras.models.load_model`. If renaming is not possible, pass the object in the `custom_objects` parameter of the load function.\n"
     ]
    }
   ],
   "source": [
    "modelpath = \"LSTMmodel\"\n",
    "model.save(modelpath)"
   ]
  },
  {
   "cell_type": "code",
   "execution_count": 29,
   "id": "7b9019df",
   "metadata": {
    "scrolled": true
   },
   "outputs": [],
   "source": [
    "from tensorflow import keras\n",
    "reload_model = keras.models.load_model(modelpath)\n"
   ]
  },
  {
   "cell_type": "code",
   "execution_count": 30,
   "id": "04c3a0c4",
   "metadata": {},
   "outputs": [
    {
     "name": "stdout",
     "output_type": "stream",
     "text": [
      "2061 , [0.81756425]  ,  [[0.817543]]\n",
      "2060 , [0.8159908]  ,  [[0.8159855]]\n",
      "2059 , [0.81468546]  ,  [[0.8146943]]\n",
      "2058 , [0.81375533]  ,  [[0.8137594]]\n",
      "2057 , [0.81325793]  ,  [[0.8132502]]\n",
      "2056 , [0.81316406]  ,  [[0.813139]]\n",
      "2055 , [0.8133652]  ,  [[0.8133492]]\n",
      "2054 , [0.8136703]  ,  [[0.81366265]]\n",
      "2053 , [0.8138497]  ,  [[0.8138346]]\n",
      "2052 , [0.81372845]  ,  [[0.81369615]]\n",
      "2051 , [0.81326026]  ,  [[0.8132423]]\n",
      "2050 , [0.812534]  ,  [[0.81251186]]\n",
      "2049 , [0.81172335]  ,  [[0.81168365]]\n",
      "2048 , [0.8109785]  ,  [[0.8109551]]\n",
      "2047 , [0.81038594]  ,  [[0.81035835]]\n",
      "2046 , [0.80996776]  ,  [[0.8099398]]\n",
      "2045 , [0.809675]  ,  [[0.80964655]]\n",
      "2044 , [0.8093991]  ,  [[0.80937755]]\n",
      "2043 , [0.8090384]  ,  [[0.8090186]]\n",
      "2042 , [0.8084352]  ,  [[0.8084266]]\n",
      "2041 , [0.80750096]  ,  [[0.8074991]]\n"
     ]
    }
   ],
   "source": [
    "for i in range(len(X_test)-1, -1, -1):\n",
    "    if i>2040:\n",
    "        dayX = X_test[i]\n",
    "        dayX = dayX.reshape(1, 100, 1)\n",
    "#         print(i, \", dayX:\", dayX)\n",
    "        day_predict=reload_model.predict(dayX)\n",
    "        print(i, \",\", test_predict[i], ' , ', day_predict)"
   ]
  },
  {
   "cell_type": "code",
   "execution_count": 31,
   "id": "6b747ef2-c45e-4fb5-95ab-8d012820d655",
   "metadata": {},
   "outputs": [],
   "source": [
    "train_predict=scaler.inverse_transform(train_predict)\n",
    "test_predict=scaler.inverse_transform(test_predict)"
   ]
  },
  {
   "cell_type": "code",
   "execution_count": 32,
   "id": "65951a3a-d79b-4fad-b449-c1b177c733c4",
   "metadata": {},
   "outputs": [
    {
     "data": {
      "image/png": "[encoded data removed]",
      "text/plain": [
       "<Figure size 432x288 with 1 Axes>"
      ]
     },
     "metadata": {
      "needs_background": "light"
     },
     "output_type": "display_data"
    }
   ],
   "source": [
    "look_back=100\n",
    "trainPredictPlot = np.empty_like(df)\n",
    "trainPredictPlot[:, :] = np.nan\n",
    "trainPredictPlot[look_back:len(train_predict) + look_back, :] = train_predict\n",
    "\n",
    "# shift test predictions for plotting\n",
    "testPredictPlot = np.empty_like(df)\n",
    "testPredictPlot[:, :] = np.nan\n",
    "testPredictPlot[len(train_predict) + (look_back*2) + 1: len(df) - 1, :] = test_predict\n",
    "\n",
    "plt.plot(df[\"Close\"])\n",
    "plt.plot(trainPredictPlot)\n",
    "plt.plot(testPredictPlot)\n",
    "plt.title('Train Vs Test predictions');\n",
    "plt.show()"
   ]
  },
  {
   "cell_type": "markdown",
   "id": "2162a09e-283a-4ead-8fc5-1006ed27f89d",
   "metadata": {},
   "source": [
    "# Evaluation"
   ]
  },
  {
   "cell_type": "code",
   "execution_count": 33,
   "id": "74f9a4db-8106-47c1-8d39-2b8c5536cab0",
   "metadata": {},
   "outputs": [
    {
     "name": "stdout",
     "output_type": "stream",
     "text": [
      "Train RMSE:  123.06379829548561\n",
      "Test RMSE:  252.99228236658408\n"
     ]
    }
   ],
   "source": [
    "import math\n",
    "from sklearn.metrics import mean_squared_error\n",
    "print(\"Train RMSE: \", math.sqrt(mean_squared_error(y_train,train_predict)))\n",
    "print(\"Test RMSE: \", math.sqrt(mean_squared_error(ytest,test_predict)))"
   ]
  },
  {
   "cell_type": "code",
   "execution_count": null,
   "id": "f5aaee85-3c11-425d-89aa-610abdbdbfd7",
   "metadata": {},
   "outputs": [],
   "source": []
  }
 ],
 "metadata": {
  "kernelspec": {
   "display_name": "Python 3 (ipykernel)",
   "language": "python",
   "name": "python3"
  },
  "language_info": {
   "codemirror_mode": {
    "name": "ipython",
    "version": 3
   },
   "file_extension": ".py",
   "mimetype": "text/x-python",
   "name": "python",
   "nbconvert_exporter": "python",
   "pygments_lexer": "ipython3",
   "version": "3.8.12"
  }
 },
 "nbformat": 4,
 "nbformat_minor": 5
}
