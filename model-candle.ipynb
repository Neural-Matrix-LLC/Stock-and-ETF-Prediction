{
 "cells": [
  {
   "cell_type": "markdown",
   "id": "d581d956-769c-450a-bead-ef9daf18aa59",
   "metadata": {},
   "source": [
    "# Candlestick Patterns using Deep Learning"
   ]
  },
  {
   "cell_type": "code",
   "execution_count": 5,
   "id": "89824e1f-3bf0-45d7-b7f7-a728d423ab69",
   "metadata": {},
   "outputs": [],
   "source": [
    "from fastai.vision import *\n",
    "from fastai.vision.data import ImageDataLoaders\n",
    "from fastai.metrics import error_rate"
   ]
  },
  {
   "cell_type": "code",
   "execution_count": 6,
   "id": "53339105-a10e-43b9-ba44-3b24087e8fed",
   "metadata": {},
   "outputs": [],
   "source": [
    "path = 'candle_data'\n",
    "path_save = 'candle_prediction'"
   ]
  },
  {
   "cell_type": "code",
   "execution_count": 9,
   "id": "b1a7dfd1-d658-4d6b-8af0-d983af5386af",
   "metadata": {},
   "outputs": [],
   "source": [
    "data = ImageDataLoaders.from_folder(path, train=\".\", valid_pct=0.2)"
   ]
  },
  {
   "cell_type": "markdown",
   "id": "f98f8540-4ae0-4e36-acb3-d881ddfd740d",
   "metadata": {},
   "source": [
    "# Train the Model"
   ]
  },
  {
   "cell_type": "code",
   "execution_count": null,
   "id": "f500fa74-5071-474a-bf26-d5a37f1f168f",
   "metadata": {},
   "outputs": [],
   "source": []
  }
 ],
 "metadata": {
  "kernelspec": {
   "display_name": "Python 3 (ipykernel)",
   "language": "python",
   "name": "python3"
  },
  "language_info": {
   "codemirror_mode": {
    "name": "ipython",
    "version": 3
   },
   "file_extension": ".py",
   "mimetype": "text/x-python",
   "name": "python",
   "nbconvert_exporter": "python",
   "pygments_lexer": "ipython3",
   "version": "3.8.12"
  }
 },
 "nbformat": 4,
 "nbformat_minor": 5
}
