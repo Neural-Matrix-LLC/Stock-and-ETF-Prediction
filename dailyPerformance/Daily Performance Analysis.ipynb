{
 "cells": [
  {
   "cell_type": "markdown",
   "id": "f76be722-8b89-416c-acb2-b0eb8a0b6c7e",
   "metadata": {},
   "source": [
    "# Daily Performance - dailyPerf_2022-04-02_2022-04-05\n",
    "Identify whether it is volatility or price movement that needs improvement"
   ]
  },
  {
   "cell_type": "code",
   "execution_count": 1,
   "id": "add7a94a-dcf8-47c8-b89b-77f6d1e86106",
   "metadata": {},
   "outputs": [],
   "source": [
    "import pandas as pd\n",
    "import numpy as np\n",
    "import matplotlib.pyplot as plt\n",
    "import seaborn as sns\n",
    "from sklearn.metrics import accuracy_score, f1_score, mean_squared_error"
   ]
  },
  {
   "cell_type": "code",
   "execution_count": 2,
   "id": "99648952-4dbd-457e-9d81-d7ae873893ed",
   "metadata": {},
   "outputs": [],
   "source": [
    "file = \"dailyPerf_2022-01-01_2022-04-14.csv\""
   ]
  },
  {
   "cell_type": "code",
   "execution_count": 3,
   "id": "2a8e6da0-510a-432f-a6b3-18911e4895ee",
   "metadata": {},
   "outputs": [
    {
     "data": {
      "text/html": [
       "<div>\n",
       "<style scoped>\n",
       "    .dataframe tbody tr th:only-of-type {\n",
       "        vertical-align: middle;\n",
       "    }\n",
       "\n",
       "    .dataframe tbody tr th {\n",
       "        vertical-align: top;\n",
       "    }\n",
       "\n",
       "    .dataframe thead th {\n",
       "        text-align: right;\n",
       "    }\n",
       "</style>\n",
       "<table border=\"1\" class=\"dataframe\">\n",
       "  <thead>\n",
       "    <tr style=\"text-align: right;\">\n",
       "      <th></th>\n",
       "      <th>Date</th>\n",
       "      <th>Symbol</th>\n",
       "      <th>Exchange</th>\n",
       "      <th>garch</th>\n",
       "      <th>svr</th>\n",
       "      <th>mlp</th>\n",
       "      <th>LSTM</th>\n",
       "      <th>prev_Close</th>\n",
       "      <th>prediction</th>\n",
       "      <th>volatility</th>\n",
       "      <th>ActualDate</th>\n",
       "      <th>ActualClose</th>\n",
       "      <th>ActualPercent</th>\n",
       "      <th>ActualStd</th>\n",
       "      <th>ActualTrend</th>\n",
       "    </tr>\n",
       "  </thead>\n",
       "  <tbody>\n",
       "    <tr>\n",
       "      <th>0</th>\n",
       "      <td>2022-01-03</td>\n",
       "      <td>AAL</td>\n",
       "      <td>NASDAQ</td>\n",
       "      <td>7.80073</td>\n",
       "      <td>2.68296</td>\n",
       "      <td>2.67993</td>\n",
       "      <td>19.2347</td>\n",
       "      <td>18.75</td>\n",
       "      <td>1.0</td>\n",
       "      <td>2.68144</td>\n",
       "      <td>2022-01-04</td>\n",
       "      <td>19.02</td>\n",
       "      <td>1.440000</td>\n",
       "      <td>NaN</td>\n",
       "      <td>0.0</td>\n",
       "    </tr>\n",
       "    <tr>\n",
       "      <th>1</th>\n",
       "      <td>2022-01-03</td>\n",
       "      <td>AAPL</td>\n",
       "      <td>NASDAQ</td>\n",
       "      <td>2.24893</td>\n",
       "      <td>1.38374</td>\n",
       "      <td>1.34301</td>\n",
       "      <td>161.6390</td>\n",
       "      <td>182.01</td>\n",
       "      <td>0.0</td>\n",
       "      <td>1.36338</td>\n",
       "      <td>2022-01-04</td>\n",
       "      <td>179.70</td>\n",
       "      <td>1.269161</td>\n",
       "      <td>NaN</td>\n",
       "      <td>0.0</td>\n",
       "    </tr>\n",
       "    <tr>\n",
       "      <th>2</th>\n",
       "      <td>2022-01-03</td>\n",
       "      <td>AMAT</td>\n",
       "      <td>NASDAQ</td>\n",
       "      <td>4.97567</td>\n",
       "      <td>1.58561</td>\n",
       "      <td>1.55923</td>\n",
       "      <td>141.7830</td>\n",
       "      <td>159.93</td>\n",
       "      <td>0.0</td>\n",
       "      <td>1.57242</td>\n",
       "      <td>2022-01-04</td>\n",
       "      <td>158.36</td>\n",
       "      <td>0.981679</td>\n",
       "      <td>NaN</td>\n",
       "      <td>0.0</td>\n",
       "    </tr>\n",
       "    <tr>\n",
       "      <th>3</th>\n",
       "      <td>2022-01-03</td>\n",
       "      <td>AMC</td>\n",
       "      <td>NYSE</td>\n",
       "      <td>30.51760</td>\n",
       "      <td>3.79159</td>\n",
       "      <td>4.79857</td>\n",
       "      <td>37.5044</td>\n",
       "      <td>26.52</td>\n",
       "      <td>1.0</td>\n",
       "      <td>4.29508</td>\n",
       "      <td>2022-01-04</td>\n",
       "      <td>25.49</td>\n",
       "      <td>3.883861</td>\n",
       "      <td>NaN</td>\n",
       "      <td>-1.0</td>\n",
       "    </tr>\n",
       "    <tr>\n",
       "      <th>4</th>\n",
       "      <td>2022-01-03</td>\n",
       "      <td>AMD</td>\n",
       "      <td>NASDAQ</td>\n",
       "      <td>8.68112</td>\n",
       "      <td>3.00354</td>\n",
       "      <td>2.91554</td>\n",
       "      <td>138.2090</td>\n",
       "      <td>150.24</td>\n",
       "      <td>-1.0</td>\n",
       "      <td>2.95954</td>\n",
       "      <td>2022-01-04</td>\n",
       "      <td>144.42</td>\n",
       "      <td>3.873802</td>\n",
       "      <td>NaN</td>\n",
       "      <td>-1.0</td>\n",
       "    </tr>\n",
       "  </tbody>\n",
       "</table>\n",
       "</div>"
      ],
      "text/plain": [
       "         Date Symbol Exchange     garch      svr      mlp      LSTM  \\\n",
       "0  2022-01-03    AAL   NASDAQ   7.80073  2.68296  2.67993   19.2347   \n",
       "1  2022-01-03   AAPL   NASDAQ   2.24893  1.38374  1.34301  161.6390   \n",
       "2  2022-01-03   AMAT   NASDAQ   4.97567  1.58561  1.55923  141.7830   \n",
       "3  2022-01-03    AMC     NYSE  30.51760  3.79159  4.79857   37.5044   \n",
       "4  2022-01-03    AMD   NASDAQ   8.68112  3.00354  2.91554  138.2090   \n",
       "\n",
       "   prev_Close  prediction  volatility  ActualDate  ActualClose  ActualPercent  \\\n",
       "0       18.75         1.0     2.68144  2022-01-04        19.02       1.440000   \n",
       "1      182.01         0.0     1.36338  2022-01-04       179.70       1.269161   \n",
       "2      159.93         0.0     1.57242  2022-01-04       158.36       0.981679   \n",
       "3       26.52         1.0     4.29508  2022-01-04        25.49       3.883861   \n",
       "4      150.24        -1.0     2.95954  2022-01-04       144.42       3.873802   \n",
       "\n",
       "   ActualStd  ActualTrend  \n",
       "0        NaN          0.0  \n",
       "1        NaN          0.0  \n",
       "2        NaN          0.0  \n",
       "3        NaN         -1.0  \n",
       "4        NaN         -1.0  "
      ]
     },
     "execution_count": 3,
     "metadata": {},
     "output_type": "execute_result"
    }
   ],
   "source": [
    "df = pd.read_csv(file)\n",
    "df.head()"
   ]
  },
  {
   "cell_type": "code",
   "execution_count": 4,
   "id": "eff67254-97fe-494d-9956-b9ef461c2f58",
   "metadata": {},
   "outputs": [],
   "source": [
    "df['new_garch'] = df.garch ** 0.5"
   ]
  },
  {
   "cell_type": "code",
   "execution_count": 5,
   "id": "ec4ffa4b-34c9-4291-9e46-7603afed82e1",
   "metadata": {},
   "outputs": [],
   "source": [
    "df['LSTM_vol'] = (df.LSTM - df.prev_Close) / df.prev_Close * 100"
   ]
  },
  {
   "cell_type": "code",
   "execution_count": 6,
   "id": "4e9f32c6-d3e7-43e7-ac40-8a5949963414",
   "metadata": {},
   "outputs": [
    {
     "data": {
      "text/html": [
       "<div>\n",
       "<style scoped>\n",
       "    .dataframe tbody tr th:only-of-type {\n",
       "        vertical-align: middle;\n",
       "    }\n",
       "\n",
       "    .dataframe tbody tr th {\n",
       "        vertical-align: top;\n",
       "    }\n",
       "\n",
       "    .dataframe thead th {\n",
       "        text-align: right;\n",
       "    }\n",
       "</style>\n",
       "<table border=\"1\" class=\"dataframe\">\n",
       "  <thead>\n",
       "    <tr style=\"text-align: right;\">\n",
       "      <th></th>\n",
       "      <th>Date</th>\n",
       "      <th>Symbol</th>\n",
       "      <th>Exchange</th>\n",
       "      <th>garch</th>\n",
       "      <th>svr</th>\n",
       "      <th>mlp</th>\n",
       "      <th>LSTM</th>\n",
       "      <th>prev_Close</th>\n",
       "      <th>prediction</th>\n",
       "      <th>volatility</th>\n",
       "      <th>ActualDate</th>\n",
       "      <th>ActualClose</th>\n",
       "      <th>ActualPercent</th>\n",
       "      <th>ActualStd</th>\n",
       "      <th>ActualTrend</th>\n",
       "      <th>new_garch</th>\n",
       "      <th>LSTM_vol</th>\n",
       "    </tr>\n",
       "  </thead>\n",
       "  <tbody>\n",
       "    <tr>\n",
       "      <th>0</th>\n",
       "      <td>2022-01-03</td>\n",
       "      <td>AAL</td>\n",
       "      <td>NASDAQ</td>\n",
       "      <td>7.80073</td>\n",
       "      <td>2.68296</td>\n",
       "      <td>2.679930</td>\n",
       "      <td>19.2347</td>\n",
       "      <td>18.75</td>\n",
       "      <td>1.0</td>\n",
       "      <td>2.68144</td>\n",
       "      <td>2022-01-04</td>\n",
       "      <td>19.02</td>\n",
       "      <td>1.440000</td>\n",
       "      <td>NaN</td>\n",
       "      <td>0.0</td>\n",
       "      <td>2.792979</td>\n",
       "      <td>2.585067</td>\n",
       "    </tr>\n",
       "    <tr>\n",
       "      <th>1</th>\n",
       "      <td>2022-01-03</td>\n",
       "      <td>AAPL</td>\n",
       "      <td>NASDAQ</td>\n",
       "      <td>2.24893</td>\n",
       "      <td>1.38374</td>\n",
       "      <td>1.343010</td>\n",
       "      <td>161.6390</td>\n",
       "      <td>182.01</td>\n",
       "      <td>0.0</td>\n",
       "      <td>1.36338</td>\n",
       "      <td>2022-01-04</td>\n",
       "      <td>179.70</td>\n",
       "      <td>1.269161</td>\n",
       "      <td>NaN</td>\n",
       "      <td>0.0</td>\n",
       "      <td>1.499643</td>\n",
       "      <td>-11.192242</td>\n",
       "    </tr>\n",
       "    <tr>\n",
       "      <th>2</th>\n",
       "      <td>2022-01-03</td>\n",
       "      <td>AMAT</td>\n",
       "      <td>NASDAQ</td>\n",
       "      <td>4.97567</td>\n",
       "      <td>1.58561</td>\n",
       "      <td>1.559230</td>\n",
       "      <td>141.7830</td>\n",
       "      <td>159.93</td>\n",
       "      <td>0.0</td>\n",
       "      <td>1.57242</td>\n",
       "      <td>2022-01-04</td>\n",
       "      <td>158.36</td>\n",
       "      <td>0.981679</td>\n",
       "      <td>NaN</td>\n",
       "      <td>0.0</td>\n",
       "      <td>2.230621</td>\n",
       "      <td>-11.346839</td>\n",
       "    </tr>\n",
       "    <tr>\n",
       "      <th>3</th>\n",
       "      <td>2022-01-03</td>\n",
       "      <td>AMC</td>\n",
       "      <td>NYSE</td>\n",
       "      <td>30.51760</td>\n",
       "      <td>3.79159</td>\n",
       "      <td>4.798570</td>\n",
       "      <td>37.5044</td>\n",
       "      <td>26.52</td>\n",
       "      <td>1.0</td>\n",
       "      <td>4.29508</td>\n",
       "      <td>2022-01-04</td>\n",
       "      <td>25.49</td>\n",
       "      <td>3.883861</td>\n",
       "      <td>NaN</td>\n",
       "      <td>-1.0</td>\n",
       "      <td>5.524274</td>\n",
       "      <td>41.419306</td>\n",
       "    </tr>\n",
       "    <tr>\n",
       "      <th>4</th>\n",
       "      <td>2022-01-03</td>\n",
       "      <td>AMD</td>\n",
       "      <td>NASDAQ</td>\n",
       "      <td>8.68112</td>\n",
       "      <td>3.00354</td>\n",
       "      <td>2.915540</td>\n",
       "      <td>138.2090</td>\n",
       "      <td>150.24</td>\n",
       "      <td>-1.0</td>\n",
       "      <td>2.95954</td>\n",
       "      <td>2022-01-04</td>\n",
       "      <td>144.42</td>\n",
       "      <td>3.873802</td>\n",
       "      <td>NaN</td>\n",
       "      <td>-1.0</td>\n",
       "      <td>2.946374</td>\n",
       "      <td>-8.007854</td>\n",
       "    </tr>\n",
       "    <tr>\n",
       "      <th>...</th>\n",
       "      <td>...</td>\n",
       "      <td>...</td>\n",
       "      <td>...</td>\n",
       "      <td>...</td>\n",
       "      <td>...</td>\n",
       "      <td>...</td>\n",
       "      <td>...</td>\n",
       "      <td>...</td>\n",
       "      <td>...</td>\n",
       "      <td>...</td>\n",
       "      <td>...</td>\n",
       "      <td>...</td>\n",
       "      <td>...</td>\n",
       "      <td>...</td>\n",
       "      <td>...</td>\n",
       "      <td>...</td>\n",
       "      <td>...</td>\n",
       "    </tr>\n",
       "    <tr>\n",
       "      <th>5687</th>\n",
       "      <td>2022-04-13</td>\n",
       "      <td>WFC</td>\n",
       "      <td>NYSE</td>\n",
       "      <td>3.76830</td>\n",
       "      <td>1.62734</td>\n",
       "      <td>1.471270</td>\n",
       "      <td>48.6820</td>\n",
       "      <td>48.54</td>\n",
       "      <td>0.0</td>\n",
       "      <td>1.54931</td>\n",
       "      <td>2022-04-14</td>\n",
       "      <td>46.35</td>\n",
       "      <td>4.511743</td>\n",
       "      <td>1.422752</td>\n",
       "      <td>-1.0</td>\n",
       "      <td>1.941211</td>\n",
       "      <td>0.292542</td>\n",
       "    </tr>\n",
       "    <tr>\n",
       "      <th>5688</th>\n",
       "      <td>2022-04-13</td>\n",
       "      <td>XHB</td>\n",
       "      <td>AMEX</td>\n",
       "      <td>2.59805</td>\n",
       "      <td>1.11310</td>\n",
       "      <td>0.897178</td>\n",
       "      <td>67.6547</td>\n",
       "      <td>62.63</td>\n",
       "      <td>0.0</td>\n",
       "      <td>1.00514</td>\n",
       "      <td>2022-04-14</td>\n",
       "      <td>61.45</td>\n",
       "      <td>1.884081</td>\n",
       "      <td>2.145620</td>\n",
       "      <td>0.0</td>\n",
       "      <td>1.611847</td>\n",
       "      <td>8.022833</td>\n",
       "    </tr>\n",
       "    <tr>\n",
       "      <th>5689</th>\n",
       "      <td>2022-04-13</td>\n",
       "      <td>XLE</td>\n",
       "      <td>AMEX</td>\n",
       "      <td>3.02866</td>\n",
       "      <td>2.21824</td>\n",
       "      <td>2.279310</td>\n",
       "      <td>74.2639</td>\n",
       "      <td>79.59</td>\n",
       "      <td>-1.0</td>\n",
       "      <td>2.24878</td>\n",
       "      <td>2022-04-14</td>\n",
       "      <td>79.85</td>\n",
       "      <td>0.326674</td>\n",
       "      <td>1.110705</td>\n",
       "      <td>0.0</td>\n",
       "      <td>1.740305</td>\n",
       "      <td>-6.691921</td>\n",
       "    </tr>\n",
       "    <tr>\n",
       "      <th>5690</th>\n",
       "      <td>2022-04-13</td>\n",
       "      <td>XOM</td>\n",
       "      <td>NYSE</td>\n",
       "      <td>3.58912</td>\n",
       "      <td>2.31350</td>\n",
       "      <td>2.428240</td>\n",
       "      <td>66.3922</td>\n",
       "      <td>86.81</td>\n",
       "      <td>-1.0</td>\n",
       "      <td>2.37087</td>\n",
       "      <td>2022-04-14</td>\n",
       "      <td>87.83</td>\n",
       "      <td>1.174980</td>\n",
       "      <td>0.991460</td>\n",
       "      <td>0.0</td>\n",
       "      <td>1.894497</td>\n",
       "      <td>-23.520101</td>\n",
       "    </tr>\n",
       "    <tr>\n",
       "      <th>5691</th>\n",
       "      <td>2022-04-13</td>\n",
       "      <td>XOP</td>\n",
       "      <td>AMEX</td>\n",
       "      <td>4.82987</td>\n",
       "      <td>2.08101</td>\n",
       "      <td>1.894340</td>\n",
       "      <td>123.0840</td>\n",
       "      <td>142.59</td>\n",
       "      <td>0.0</td>\n",
       "      <td>1.98768</td>\n",
       "      <td>2022-04-14</td>\n",
       "      <td>142.93</td>\n",
       "      <td>0.238446</td>\n",
       "      <td>1.991255</td>\n",
       "      <td>0.0</td>\n",
       "      <td>2.197697</td>\n",
       "      <td>-13.679781</td>\n",
       "    </tr>\n",
       "  </tbody>\n",
       "</table>\n",
       "<p>5692 rows × 17 columns</p>\n",
       "</div>"
      ],
      "text/plain": [
       "            Date Symbol Exchange     garch      svr       mlp      LSTM  \\\n",
       "0     2022-01-03    AAL   NASDAQ   7.80073  2.68296  2.679930   19.2347   \n",
       "1     2022-01-03   AAPL   NASDAQ   2.24893  1.38374  1.343010  161.6390   \n",
       "2     2022-01-03   AMAT   NASDAQ   4.97567  1.58561  1.559230  141.7830   \n",
       "3     2022-01-03    AMC     NYSE  30.51760  3.79159  4.798570   37.5044   \n",
       "4     2022-01-03    AMD   NASDAQ   8.68112  3.00354  2.915540  138.2090   \n",
       "...          ...    ...      ...       ...      ...       ...       ...   \n",
       "5687  2022-04-13    WFC     NYSE   3.76830  1.62734  1.471270   48.6820   \n",
       "5688  2022-04-13    XHB     AMEX   2.59805  1.11310  0.897178   67.6547   \n",
       "5689  2022-04-13    XLE     AMEX   3.02866  2.21824  2.279310   74.2639   \n",
       "5690  2022-04-13    XOM     NYSE   3.58912  2.31350  2.428240   66.3922   \n",
       "5691  2022-04-13    XOP     AMEX   4.82987  2.08101  1.894340  123.0840   \n",
       "\n",
       "      prev_Close  prediction  volatility  ActualDate  ActualClose  \\\n",
       "0          18.75         1.0     2.68144  2022-01-04        19.02   \n",
       "1         182.01         0.0     1.36338  2022-01-04       179.70   \n",
       "2         159.93         0.0     1.57242  2022-01-04       158.36   \n",
       "3          26.52         1.0     4.29508  2022-01-04        25.49   \n",
       "4         150.24        -1.0     2.95954  2022-01-04       144.42   \n",
       "...          ...         ...         ...         ...          ...   \n",
       "5687       48.54         0.0     1.54931  2022-04-14        46.35   \n",
       "5688       62.63         0.0     1.00514  2022-04-14        61.45   \n",
       "5689       79.59        -1.0     2.24878  2022-04-14        79.85   \n",
       "5690       86.81        -1.0     2.37087  2022-04-14        87.83   \n",
       "5691      142.59         0.0     1.98768  2022-04-14       142.93   \n",
       "\n",
       "      ActualPercent  ActualStd  ActualTrend  new_garch   LSTM_vol  \n",
       "0          1.440000        NaN          0.0   2.792979   2.585067  \n",
       "1          1.269161        NaN          0.0   1.499643 -11.192242  \n",
       "2          0.981679        NaN          0.0   2.230621 -11.346839  \n",
       "3          3.883861        NaN         -1.0   5.524274  41.419306  \n",
       "4          3.873802        NaN         -1.0   2.946374  -8.007854  \n",
       "...             ...        ...          ...        ...        ...  \n",
       "5687       4.511743   1.422752         -1.0   1.941211   0.292542  \n",
       "5688       1.884081   2.145620          0.0   1.611847   8.022833  \n",
       "5689       0.326674   1.110705          0.0   1.740305  -6.691921  \n",
       "5690       1.174980   0.991460          0.0   1.894497 -23.520101  \n",
       "5691       0.238446   1.991255          0.0   2.197697 -13.679781  \n",
       "\n",
       "[5692 rows x 17 columns]"
      ]
     },
     "execution_count": 6,
     "metadata": {},
     "output_type": "execute_result"
    }
   ],
   "source": [
    "df"
   ]
  },
  {
   "cell_type": "markdown",
   "id": "88728fbc-bb43-4583-ba4e-0e41b1ea0374",
   "metadata": {},
   "source": [
    "## Which Voltatily metrics is closest"
   ]
  },
  {
   "cell_type": "code",
   "execution_count": 7,
   "id": "22f28f76-15f5-4ddb-bc50-902ea92f4b5c",
   "metadata": {},
   "outputs": [
    {
     "data": {
      "text/plain": [
       "9.498522606554346"
      ]
     },
     "execution_count": 7,
     "metadata": {},
     "output_type": "execute_result"
    }
   ],
   "source": [
    "garch_change = df.garch/df.prev_Close\n",
    "mean_squared_error(garch_change, df.ActualPercent)"
   ]
  },
  {
   "cell_type": "code",
   "execution_count": 8,
   "id": "fb130cea-0741-4cf9-a779-63414b7329ee",
   "metadata": {},
   "outputs": [
    {
     "data": {
      "text/plain": [
       "10.26885478413689"
      ]
     },
     "execution_count": 8,
     "metadata": {},
     "output_type": "execute_result"
    }
   ],
   "source": [
    "svr_change = df.svr/df.prev_Close \n",
    "mean_squared_error(svr_change, df.ActualPercent)"
   ]
  },
  {
   "cell_type": "code",
   "execution_count": 9,
   "id": "64884312-cb0b-40e3-84e6-589edcb41fcc",
   "metadata": {},
   "outputs": [
    {
     "data": {
      "text/plain": [
       "10.27785979998628"
      ]
     },
     "execution_count": 9,
     "metadata": {},
     "output_type": "execute_result"
    }
   ],
   "source": [
    "mlp_change = df.mlp/df.prev_Close\n",
    "mean_squared_error(mlp_change, df.ActualPercent)"
   ]
  },
  {
   "cell_type": "code",
   "execution_count": 10,
   "id": "fa124b97-4618-448f-be32-fdb455f70717",
   "metadata": {},
   "outputs": [
    {
     "data": {
      "text/plain": [
       "744.237390576778"
      ]
     },
     "execution_count": 10,
     "metadata": {},
     "output_type": "execute_result"
    }
   ],
   "source": [
    "mean_squared_error(df.garch, df.ActualPercent)"
   ]
  },
  {
   "cell_type": "code",
   "execution_count": 11,
   "id": "afe5056e-4757-49bc-94a7-8878071a8332",
   "metadata": {},
   "outputs": [
    {
     "data": {
      "text/plain": [
       "5.920872150310417"
      ]
     },
     "execution_count": 11,
     "metadata": {},
     "output_type": "execute_result"
    }
   ],
   "source": [
    "mean_squared_error(df.garch ** 0.5, df.ActualPercent)"
   ]
  },
  {
   "cell_type": "code",
   "execution_count": 12,
   "id": "641f54fa-b819-48be-adb1-82da3bedc44b",
   "metadata": {},
   "outputs": [
    {
     "data": {
      "text/plain": [
       "7.156930821167195"
      ]
     },
     "execution_count": 12,
     "metadata": {},
     "output_type": "execute_result"
    }
   ],
   "source": [
    "mean_squared_error(df.svr, df.ActualPercent)"
   ]
  },
  {
   "cell_type": "code",
   "execution_count": 13,
   "id": "3f8cb146-2221-49a8-a800-ba841973491a",
   "metadata": {},
   "outputs": [
    {
     "data": {
      "text/plain": [
       "7.978185753341627"
      ]
     },
     "execution_count": 13,
     "metadata": {},
     "output_type": "execute_result"
    }
   ],
   "source": [
    "mean_squared_error(df.mlp, df.ActualPercent)"
   ]
  },
  {
   "cell_type": "code",
   "execution_count": 14,
   "id": "e6a9e951-d78c-4aa0-b777-775ed385977f",
   "metadata": {},
   "outputs": [
    {
     "data": {
      "text/plain": [
       "195.8519703214926"
      ]
     },
     "execution_count": 14,
     "metadata": {},
     "output_type": "execute_result"
    }
   ],
   "source": [
    "mean_squared_error(df.LSTM_vol, df.ActualPercent)"
   ]
  },
  {
   "cell_type": "markdown",
   "id": "b27cd044-a48f-41db-8e6f-91b99ec52415",
   "metadata": {},
   "source": [
    "## New Aggregation"
   ]
  },
  {
   "cell_type": "code",
   "execution_count": 15,
   "id": "4c99f2a2-0965-4a52-85ab-1980c0058969",
   "metadata": {},
   "outputs": [],
   "source": [
    "df[\"new_vol\"] = df[['new_garch', 'svr', 'mlp']].mean(axis=1) # ML"
   ]
  },
  {
   "cell_type": "code",
   "execution_count": 16,
   "id": "19861cbd-b61e-450b-b8f9-42189d18365c",
   "metadata": {},
   "outputs": [
    {
     "data": {
      "text/plain": [
       "6.583067183880156"
      ]
     },
     "execution_count": 16,
     "metadata": {},
     "output_type": "execute_result"
    }
   ],
   "source": [
    "mean_squared_error(df.new_vol, df.ActualPercent)"
   ]
  },
  {
   "cell_type": "code",
   "execution_count": 17,
   "id": "a58565b7-3589-441a-bbbf-5593bab1b5a6",
   "metadata": {},
   "outputs": [],
   "source": [
    "def get_price_movement(change):\n",
    "    if change > 0:\n",
    "        return 1\n",
    "    elif change < 0:\n",
    "        return -1\n",
    "    else:\n",
    "        return 0\n",
    "\n",
    "def get_above_threshold(volatility, threshold):\n",
    "    if volatility > threshold:\n",
    "        return True\n",
    "    else:\n",
    "        return False\n",
    "\n",
    "def get_prediction(df):\n",
    "    if df[\"new_price_movement\"] == 1 and df[\"new_above_threshold\"]:\n",
    "        return 1 \n",
    "    elif df[\"new_price_movement\"] == -1 and df[\"new_above_threshold\"]:\n",
    "        return -1 \n",
    "    else:\n",
    "        return 0"
   ]
  },
  {
   "cell_type": "code",
   "execution_count": 18,
   "id": "b7da26fd-c805-4afa-b005-f6adb8cdc499",
   "metadata": {},
   "outputs": [],
   "source": [
    "df[\"new_price_movement\"] = (df.LSTM - df.prev_Close).apply(get_price_movement)\n",
    "threshold = 2\n",
    "df[\"new_above_threshold\"] = df.new_vol.apply(lambda x: get_above_threshold(x, threshold))\n",
    "df[\"new_prediction\"] = df.apply(get_prediction, axis=1)"
   ]
  },
  {
   "cell_type": "markdown",
   "id": "61ca497a-1bdc-4c91-8b11-cf24d0d81ac9",
   "metadata": {},
   "source": [
    "## Price Movement"
   ]
  },
  {
   "cell_type": "code",
   "execution_count": 19,
   "id": "beaa2a07-4ec5-4d45-b90e-64678866201b",
   "metadata": {},
   "outputs": [
    {
     "data": {
      "text/plain": [
       "442.08083220120125"
      ]
     },
     "execution_count": 19,
     "metadata": {},
     "output_type": "execute_result"
    }
   ],
   "source": [
    "mean_squared_error(df.LSTM, df.ActualClose)"
   ]
  },
  {
   "cell_type": "code",
   "execution_count": 20,
   "id": "c8f7cb32-ab2e-413a-9ad2-838563913b91",
   "metadata": {},
   "outputs": [],
   "source": [
    "df[\"actual_price_movement\"] = (df.ActualClose - df.prev_Close).apply(get_price_movement)"
   ]
  },
  {
   "cell_type": "code",
   "execution_count": 21,
   "id": "8e9a690b-5ab6-4620-aaba-9cd851d06e6f",
   "metadata": {},
   "outputs": [
    {
     "data": {
      "text/plain": [
       "0.4762825017568517"
      ]
     },
     "execution_count": 21,
     "metadata": {},
     "output_type": "execute_result"
    }
   ],
   "source": [
    "accuracy_score(df.actual_price_movement, df.new_price_movement, normalize=True)"
   ]
  },
  {
   "cell_type": "code",
   "execution_count": 22,
   "id": "8780e640-49bd-4882-a0fb-6b1110ab5431",
   "metadata": {},
   "outputs": [
    {
     "data": {
      "text/plain": [
       "0.3217831821071923"
      ]
     },
     "execution_count": 22,
     "metadata": {},
     "output_type": "execute_result"
    }
   ],
   "source": [
    "f1_score(y_true=df.actual_price_movement, y_pred=df.new_price_movement, average='macro')"
   ]
  },
  {
   "cell_type": "code",
   "execution_count": 23,
   "id": "3e533b26-2813-41e4-91ed-5336e1c030cf",
   "metadata": {},
   "outputs": [
    {
     "data": {
      "text/plain": [
       "0.4762825017568517"
      ]
     },
     "execution_count": 23,
     "metadata": {},
     "output_type": "execute_result"
    }
   ],
   "source": [
    "f1_score(y_true=df.actual_price_movement, y_pred=df.new_price_movement, average='micro')"
   ]
  },
  {
   "cell_type": "code",
   "execution_count": 24,
   "id": "501c3daf-a308-4af3-b2ef-baadf7d197a5",
   "metadata": {},
   "outputs": [
    {
     "data": {
      "text/plain": [
       "0.4667563336678237"
      ]
     },
     "execution_count": 24,
     "metadata": {},
     "output_type": "execute_result"
    }
   ],
   "source": [
    "f1_score(y_true=df.actual_price_movement, y_pred=df.new_price_movement, average='weighted')"
   ]
  },
  {
   "cell_type": "markdown",
   "id": "04d10309-d44c-46d0-8304-a68c3efbecb5",
   "metadata": {},
   "source": [
    "## Above Threshold"
   ]
  },
  {
   "cell_type": "code",
   "execution_count": 25,
   "id": "0ed1c51e-c690-4e68-925e-13491c9542c7",
   "metadata": {},
   "outputs": [],
   "source": [
    "df[\"actual_above_threshold\"] = df.ActualPercent.apply(lambda x: get_above_threshold(x, threshold))"
   ]
  },
  {
   "cell_type": "code",
   "execution_count": 26,
   "id": "1c2d3de4-0a4d-4576-884a-677fb7cbaec7",
   "metadata": {},
   "outputs": [
    {
     "data": {
      "text/plain": [
       "0.6707659873506676"
      ]
     },
     "execution_count": 26,
     "metadata": {},
     "output_type": "execute_result"
    }
   ],
   "source": [
    "accuracy_score(df.actual_above_threshold, df.new_above_threshold, normalize=True)"
   ]
  },
  {
   "cell_type": "code",
   "execution_count": 27,
   "id": "ced0cec7-841f-4d10-aa86-c828c2092154",
   "metadata": {},
   "outputs": [
    {
     "data": {
      "text/plain": [
       "0.6658845963981166"
      ]
     },
     "execution_count": 27,
     "metadata": {},
     "output_type": "execute_result"
    }
   ],
   "source": [
    "f1_score(y_true=df.actual_above_threshold, y_pred=df.new_above_threshold, average='macro')"
   ]
  },
  {
   "cell_type": "code",
   "execution_count": 28,
   "id": "78de960a-e057-452c-bc35-96cac932255e",
   "metadata": {},
   "outputs": [
    {
     "data": {
      "text/plain": [
       "0.6707659873506676"
      ]
     },
     "execution_count": 28,
     "metadata": {},
     "output_type": "execute_result"
    }
   ],
   "source": [
    "f1_score(y_true=df.actual_above_threshold, y_pred=df.new_above_threshold, average='micro')"
   ]
  },
  {
   "cell_type": "code",
   "execution_count": 29,
   "id": "132060f9-b500-4a1c-be1f-b83730e0652f",
   "metadata": {},
   "outputs": [
    {
     "data": {
      "text/plain": [
       "0.6760305107326338"
      ]
     },
     "execution_count": 29,
     "metadata": {},
     "output_type": "execute_result"
    }
   ],
   "source": [
    "f1_score(y_true=df.actual_above_threshold, y_pred=df.new_above_threshold, average='weighted')"
   ]
  },
  {
   "cell_type": "markdown",
   "id": "0867955b-9f82-454a-9c5b-1bdd7a12fde8",
   "metadata": {},
   "source": [
    "## Performance Metrics"
   ]
  },
  {
   "cell_type": "code",
   "execution_count": 30,
   "id": "126156ed-937a-46e4-ba72-31311159b2f1",
   "metadata": {},
   "outputs": [
    {
     "data": {
      "text/plain": [
       "0.5344342937456079"
      ]
     },
     "execution_count": 30,
     "metadata": {},
     "output_type": "execute_result"
    }
   ],
   "source": [
    "accuracy_score(df.ActualTrend, df.new_prediction, normalize=True)"
   ]
  },
  {
   "cell_type": "code",
   "execution_count": 31,
   "id": "43f7136a-f23c-4837-b92b-4a087e93cd49",
   "metadata": {},
   "outputs": [
    {
     "data": {
      "text/plain": [
       "0.44250440429832194"
      ]
     },
     "execution_count": 31,
     "metadata": {},
     "output_type": "execute_result"
    }
   ],
   "source": [
    "f1_score(y_true=df.ActualTrend, y_pred=df.new_prediction, average='macro')"
   ]
  },
  {
   "cell_type": "code",
   "execution_count": 32,
   "id": "d5dc184d-a193-453f-9d73-3ba87da530f4",
   "metadata": {},
   "outputs": [
    {
     "data": {
      "text/plain": [
       "0.5344342937456079"
      ]
     },
     "execution_count": 32,
     "metadata": {},
     "output_type": "execute_result"
    }
   ],
   "source": [
    "f1_score(y_true=df.ActualTrend, y_pred=df.new_prediction, average='micro')"
   ]
  },
  {
   "cell_type": "code",
   "execution_count": 33,
   "id": "025d869b-b947-4f1e-8d36-920032b668dd",
   "metadata": {},
   "outputs": [
    {
     "data": {
      "text/plain": [
       "0.5567474725559527"
      ]
     },
     "execution_count": 33,
     "metadata": {},
     "output_type": "execute_result"
    }
   ],
   "source": [
    "f1_score(y_true=df.ActualTrend, y_pred=df.new_prediction, average='weighted')"
   ]
  },
  {
   "cell_type": "markdown",
   "id": "be77c3ac-ebd6-45f0-8983-ca3698adc71a",
   "metadata": {},
   "source": [
    "# Trades\n",
    "\n",
    "Types of Error:\n",
    "\n",
    "1. Actual 1 Predict -1 Vice versa\n",
    "2. Actual 0 Predict 1/-1 == 3. Actual 1/-1 Predict 0 (Opportunity cost)\n",
    "\n",
    "Predicted 1.999 = 0 Actual 2.0 = 1\n",
    "\n",
    "Certain stock/etf is always low. Wait another year for something over 2. Over 2% is easy. If insist 2%, may have to remove stock if historically they are all below 2%."
   ]
  },
  {
   "cell_type": "code",
   "execution_count": 34,
   "id": "dd8cd163-3044-4059-8789-ce43ab6e94e9",
   "metadata": {},
   "outputs": [
    {
     "data": {
      "text/plain": [
       "0.27462582666202573"
      ]
     },
     "execution_count": 34,
     "metadata": {},
     "output_type": "execute_result"
    }
   ],
   "source": [
    "one_none_zero_df = df[(df.new_prediction != 0)]\n",
    "accuracy_score(one_none_zero_df.ActualTrend, one_none_zero_df.new_prediction, normalize=True)"
   ]
  },
  {
   "cell_type": "code",
   "execution_count": 35,
   "id": "54e64ee7-c569-4379-8a2f-06a030b18c79",
   "metadata": {},
   "outputs": [
    {
     "data": {
      "text/plain": [
       "0.2334794104158975"
      ]
     },
     "execution_count": 35,
     "metadata": {},
     "output_type": "execute_result"
    }
   ],
   "source": [
    "f1_score(y_true=one_none_zero_df.ActualTrend, y_pred=one_none_zero_df.new_prediction, average='macro')"
   ]
  },
  {
   "cell_type": "code",
   "execution_count": 36,
   "id": "e1b075fe-f601-4810-9621-a7abeb98b73e",
   "metadata": {},
   "outputs": [
    {
     "data": {
      "text/plain": [
       "0.27462582666202573"
      ]
     },
     "execution_count": 36,
     "metadata": {},
     "output_type": "execute_result"
    }
   ],
   "source": [
    "f1_score(y_true=one_none_zero_df.ActualTrend, y_pred=one_none_zero_df.new_prediction, average='micro')"
   ]
  },
  {
   "cell_type": "code",
   "execution_count": 37,
   "id": "f6dc1d6f-31ed-4da4-af56-b143a920caa1",
   "metadata": {},
   "outputs": [
    {
     "data": {
      "text/plain": [
       "0.1890156626101112"
      ]
     },
     "execution_count": 37,
     "metadata": {},
     "output_type": "execute_result"
    }
   ],
   "source": [
    "f1_score(y_true=one_none_zero_df.ActualTrend, y_pred=one_none_zero_df.new_prediction, average='weighted')"
   ]
  },
  {
   "cell_type": "code",
   "execution_count": 38,
   "id": "25042575-5b99-4533-885e-5b13b6a08d51",
   "metadata": {},
   "outputs": [
    {
     "data": {
      "text/plain": [
       "0.5041533546325878"
      ]
     },
     "execution_count": 38,
     "metadata": {},
     "output_type": "execute_result"
    }
   ],
   "source": [
    "both_non_zero_df = df[(df.new_prediction != 0) & (df.ActualTrend != 0)]\n",
    "accuracy_score(both_non_zero_df.ActualTrend, both_non_zero_df.new_prediction, normalize=True)"
   ]
  },
  {
   "cell_type": "code",
   "execution_count": 39,
   "id": "09cf0ae9-b1d8-4c2f-9b4c-2e8a1162ef1c",
   "metadata": {},
   "outputs": [
    {
     "data": {
      "text/plain": [
       "0.4964958191955475"
      ]
     },
     "execution_count": 39,
     "metadata": {},
     "output_type": "execute_result"
    }
   ],
   "source": [
    "f1_score(y_true=both_non_zero_df.ActualTrend, y_pred=both_non_zero_df.new_prediction, average='macro')"
   ]
  },
  {
   "cell_type": "code",
   "execution_count": 40,
   "id": "cf5ec962-4fe5-4e2e-8cb4-75a66e56630e",
   "metadata": {},
   "outputs": [
    {
     "data": {
      "text/plain": [
       "0.5041533546325878"
      ]
     },
     "execution_count": 40,
     "metadata": {},
     "output_type": "execute_result"
    }
   ],
   "source": [
    "f1_score(y_true=both_non_zero_df.ActualTrend, y_pred=both_non_zero_df.new_prediction, average='micro')"
   ]
  },
  {
   "cell_type": "code",
   "execution_count": 41,
   "id": "7cc871bf-0731-4cb0-9925-2aafab65637f",
   "metadata": {},
   "outputs": [
    {
     "data": {
      "text/plain": [
       "0.49137757012104905"
      ]
     },
     "execution_count": 41,
     "metadata": {},
     "output_type": "execute_result"
    }
   ],
   "source": [
    "f1_score(y_true=both_non_zero_df.ActualTrend, y_pred=both_non_zero_df.new_prediction, average='weighted')"
   ]
  },
  {
   "cell_type": "code",
   "execution_count": 42,
   "id": "87b0687f-623a-41fd-bc0c-da9ff1e5fc27",
   "metadata": {},
   "outputs": [
    {
     "data": {
      "text/html": [
       "<div>\n",
       "<style scoped>\n",
       "    .dataframe tbody tr th:only-of-type {\n",
       "        vertical-align: middle;\n",
       "    }\n",
       "\n",
       "    .dataframe tbody tr th {\n",
       "        vertical-align: top;\n",
       "    }\n",
       "\n",
       "    .dataframe thead th {\n",
       "        text-align: right;\n",
       "    }\n",
       "</style>\n",
       "<table border=\"1\" class=\"dataframe\">\n",
       "  <thead>\n",
       "    <tr style=\"text-align: right;\">\n",
       "      <th></th>\n",
       "      <th>Date</th>\n",
       "      <th>Symbol</th>\n",
       "      <th>Exchange</th>\n",
       "      <th>garch</th>\n",
       "      <th>svr</th>\n",
       "      <th>mlp</th>\n",
       "      <th>LSTM</th>\n",
       "      <th>prev_Close</th>\n",
       "      <th>prediction</th>\n",
       "      <th>volatility</th>\n",
       "      <th>...</th>\n",
       "      <th>ActualStd</th>\n",
       "      <th>ActualTrend</th>\n",
       "      <th>new_garch</th>\n",
       "      <th>LSTM_vol</th>\n",
       "      <th>new_vol</th>\n",
       "      <th>new_price_movement</th>\n",
       "      <th>new_above_threshold</th>\n",
       "      <th>new_prediction</th>\n",
       "      <th>actual_price_movement</th>\n",
       "      <th>actual_above_threshold</th>\n",
       "    </tr>\n",
       "  </thead>\n",
       "  <tbody>\n",
       "    <tr>\n",
       "      <th>0</th>\n",
       "      <td>2022-01-03</td>\n",
       "      <td>AAL</td>\n",
       "      <td>NASDAQ</td>\n",
       "      <td>7.80073</td>\n",
       "      <td>2.68296</td>\n",
       "      <td>2.679930</td>\n",
       "      <td>19.2347</td>\n",
       "      <td>18.75</td>\n",
       "      <td>1.0</td>\n",
       "      <td>2.68144</td>\n",
       "      <td>...</td>\n",
       "      <td>NaN</td>\n",
       "      <td>0.0</td>\n",
       "      <td>2.792979</td>\n",
       "      <td>2.585067</td>\n",
       "      <td>2.718623</td>\n",
       "      <td>1</td>\n",
       "      <td>True</td>\n",
       "      <td>1</td>\n",
       "      <td>1</td>\n",
       "      <td>False</td>\n",
       "    </tr>\n",
       "    <tr>\n",
       "      <th>1</th>\n",
       "      <td>2022-01-03</td>\n",
       "      <td>AAPL</td>\n",
       "      <td>NASDAQ</td>\n",
       "      <td>2.24893</td>\n",
       "      <td>1.38374</td>\n",
       "      <td>1.343010</td>\n",
       "      <td>161.6390</td>\n",
       "      <td>182.01</td>\n",
       "      <td>0.0</td>\n",
       "      <td>1.36338</td>\n",
       "      <td>...</td>\n",
       "      <td>NaN</td>\n",
       "      <td>0.0</td>\n",
       "      <td>1.499643</td>\n",
       "      <td>-11.192242</td>\n",
       "      <td>1.408798</td>\n",
       "      <td>-1</td>\n",
       "      <td>False</td>\n",
       "      <td>0</td>\n",
       "      <td>-1</td>\n",
       "      <td>False</td>\n",
       "    </tr>\n",
       "    <tr>\n",
       "      <th>2</th>\n",
       "      <td>2022-01-03</td>\n",
       "      <td>AMAT</td>\n",
       "      <td>NASDAQ</td>\n",
       "      <td>4.97567</td>\n",
       "      <td>1.58561</td>\n",
       "      <td>1.559230</td>\n",
       "      <td>141.7830</td>\n",
       "      <td>159.93</td>\n",
       "      <td>0.0</td>\n",
       "      <td>1.57242</td>\n",
       "      <td>...</td>\n",
       "      <td>NaN</td>\n",
       "      <td>0.0</td>\n",
       "      <td>2.230621</td>\n",
       "      <td>-11.346839</td>\n",
       "      <td>1.791820</td>\n",
       "      <td>-1</td>\n",
       "      <td>False</td>\n",
       "      <td>0</td>\n",
       "      <td>-1</td>\n",
       "      <td>False</td>\n",
       "    </tr>\n",
       "    <tr>\n",
       "      <th>3</th>\n",
       "      <td>2022-01-03</td>\n",
       "      <td>AMC</td>\n",
       "      <td>NYSE</td>\n",
       "      <td>30.51760</td>\n",
       "      <td>3.79159</td>\n",
       "      <td>4.798570</td>\n",
       "      <td>37.5044</td>\n",
       "      <td>26.52</td>\n",
       "      <td>1.0</td>\n",
       "      <td>4.29508</td>\n",
       "      <td>...</td>\n",
       "      <td>NaN</td>\n",
       "      <td>-1.0</td>\n",
       "      <td>5.524274</td>\n",
       "      <td>41.419306</td>\n",
       "      <td>4.704811</td>\n",
       "      <td>1</td>\n",
       "      <td>True</td>\n",
       "      <td>1</td>\n",
       "      <td>-1</td>\n",
       "      <td>True</td>\n",
       "    </tr>\n",
       "    <tr>\n",
       "      <th>4</th>\n",
       "      <td>2022-01-03</td>\n",
       "      <td>AMD</td>\n",
       "      <td>NASDAQ</td>\n",
       "      <td>8.68112</td>\n",
       "      <td>3.00354</td>\n",
       "      <td>2.915540</td>\n",
       "      <td>138.2090</td>\n",
       "      <td>150.24</td>\n",
       "      <td>-1.0</td>\n",
       "      <td>2.95954</td>\n",
       "      <td>...</td>\n",
       "      <td>NaN</td>\n",
       "      <td>-1.0</td>\n",
       "      <td>2.946374</td>\n",
       "      <td>-8.007854</td>\n",
       "      <td>2.955151</td>\n",
       "      <td>-1</td>\n",
       "      <td>True</td>\n",
       "      <td>-1</td>\n",
       "      <td>-1</td>\n",
       "      <td>True</td>\n",
       "    </tr>\n",
       "    <tr>\n",
       "      <th>...</th>\n",
       "      <td>...</td>\n",
       "      <td>...</td>\n",
       "      <td>...</td>\n",
       "      <td>...</td>\n",
       "      <td>...</td>\n",
       "      <td>...</td>\n",
       "      <td>...</td>\n",
       "      <td>...</td>\n",
       "      <td>...</td>\n",
       "      <td>...</td>\n",
       "      <td>...</td>\n",
       "      <td>...</td>\n",
       "      <td>...</td>\n",
       "      <td>...</td>\n",
       "      <td>...</td>\n",
       "      <td>...</td>\n",
       "      <td>...</td>\n",
       "      <td>...</td>\n",
       "      <td>...</td>\n",
       "      <td>...</td>\n",
       "      <td>...</td>\n",
       "    </tr>\n",
       "    <tr>\n",
       "      <th>5687</th>\n",
       "      <td>2022-04-13</td>\n",
       "      <td>WFC</td>\n",
       "      <td>NYSE</td>\n",
       "      <td>3.76830</td>\n",
       "      <td>1.62734</td>\n",
       "      <td>1.471270</td>\n",
       "      <td>48.6820</td>\n",
       "      <td>48.54</td>\n",
       "      <td>0.0</td>\n",
       "      <td>1.54931</td>\n",
       "      <td>...</td>\n",
       "      <td>1.422752</td>\n",
       "      <td>-1.0</td>\n",
       "      <td>1.941211</td>\n",
       "      <td>0.292542</td>\n",
       "      <td>1.679940</td>\n",
       "      <td>1</td>\n",
       "      <td>False</td>\n",
       "      <td>0</td>\n",
       "      <td>-1</td>\n",
       "      <td>True</td>\n",
       "    </tr>\n",
       "    <tr>\n",
       "      <th>5688</th>\n",
       "      <td>2022-04-13</td>\n",
       "      <td>XHB</td>\n",
       "      <td>AMEX</td>\n",
       "      <td>2.59805</td>\n",
       "      <td>1.11310</td>\n",
       "      <td>0.897178</td>\n",
       "      <td>67.6547</td>\n",
       "      <td>62.63</td>\n",
       "      <td>0.0</td>\n",
       "      <td>1.00514</td>\n",
       "      <td>...</td>\n",
       "      <td>2.145620</td>\n",
       "      <td>0.0</td>\n",
       "      <td>1.611847</td>\n",
       "      <td>8.022833</td>\n",
       "      <td>1.207375</td>\n",
       "      <td>1</td>\n",
       "      <td>False</td>\n",
       "      <td>0</td>\n",
       "      <td>-1</td>\n",
       "      <td>False</td>\n",
       "    </tr>\n",
       "    <tr>\n",
       "      <th>5689</th>\n",
       "      <td>2022-04-13</td>\n",
       "      <td>XLE</td>\n",
       "      <td>AMEX</td>\n",
       "      <td>3.02866</td>\n",
       "      <td>2.21824</td>\n",
       "      <td>2.279310</td>\n",
       "      <td>74.2639</td>\n",
       "      <td>79.59</td>\n",
       "      <td>-1.0</td>\n",
       "      <td>2.24878</td>\n",
       "      <td>...</td>\n",
       "      <td>1.110705</td>\n",
       "      <td>0.0</td>\n",
       "      <td>1.740305</td>\n",
       "      <td>-6.691921</td>\n",
       "      <td>2.079285</td>\n",
       "      <td>-1</td>\n",
       "      <td>True</td>\n",
       "      <td>-1</td>\n",
       "      <td>1</td>\n",
       "      <td>False</td>\n",
       "    </tr>\n",
       "    <tr>\n",
       "      <th>5690</th>\n",
       "      <td>2022-04-13</td>\n",
       "      <td>XOM</td>\n",
       "      <td>NYSE</td>\n",
       "      <td>3.58912</td>\n",
       "      <td>2.31350</td>\n",
       "      <td>2.428240</td>\n",
       "      <td>66.3922</td>\n",
       "      <td>86.81</td>\n",
       "      <td>-1.0</td>\n",
       "      <td>2.37087</td>\n",
       "      <td>...</td>\n",
       "      <td>0.991460</td>\n",
       "      <td>0.0</td>\n",
       "      <td>1.894497</td>\n",
       "      <td>-23.520101</td>\n",
       "      <td>2.212079</td>\n",
       "      <td>-1</td>\n",
       "      <td>True</td>\n",
       "      <td>-1</td>\n",
       "      <td>1</td>\n",
       "      <td>False</td>\n",
       "    </tr>\n",
       "    <tr>\n",
       "      <th>5691</th>\n",
       "      <td>2022-04-13</td>\n",
       "      <td>XOP</td>\n",
       "      <td>AMEX</td>\n",
       "      <td>4.82987</td>\n",
       "      <td>2.08101</td>\n",
       "      <td>1.894340</td>\n",
       "      <td>123.0840</td>\n",
       "      <td>142.59</td>\n",
       "      <td>0.0</td>\n",
       "      <td>1.98768</td>\n",
       "      <td>...</td>\n",
       "      <td>1.991255</td>\n",
       "      <td>0.0</td>\n",
       "      <td>2.197697</td>\n",
       "      <td>-13.679781</td>\n",
       "      <td>2.057682</td>\n",
       "      <td>-1</td>\n",
       "      <td>True</td>\n",
       "      <td>-1</td>\n",
       "      <td>1</td>\n",
       "      <td>False</td>\n",
       "    </tr>\n",
       "  </tbody>\n",
       "</table>\n",
       "<p>5692 rows × 23 columns</p>\n",
       "</div>"
      ],
      "text/plain": [
       "            Date Symbol Exchange     garch      svr       mlp      LSTM  \\\n",
       "0     2022-01-03    AAL   NASDAQ   7.80073  2.68296  2.679930   19.2347   \n",
       "1     2022-01-03   AAPL   NASDAQ   2.24893  1.38374  1.343010  161.6390   \n",
       "2     2022-01-03   AMAT   NASDAQ   4.97567  1.58561  1.559230  141.7830   \n",
       "3     2022-01-03    AMC     NYSE  30.51760  3.79159  4.798570   37.5044   \n",
       "4     2022-01-03    AMD   NASDAQ   8.68112  3.00354  2.915540  138.2090   \n",
       "...          ...    ...      ...       ...      ...       ...       ...   \n",
       "5687  2022-04-13    WFC     NYSE   3.76830  1.62734  1.471270   48.6820   \n",
       "5688  2022-04-13    XHB     AMEX   2.59805  1.11310  0.897178   67.6547   \n",
       "5689  2022-04-13    XLE     AMEX   3.02866  2.21824  2.279310   74.2639   \n",
       "5690  2022-04-13    XOM     NYSE   3.58912  2.31350  2.428240   66.3922   \n",
       "5691  2022-04-13    XOP     AMEX   4.82987  2.08101  1.894340  123.0840   \n",
       "\n",
       "      prev_Close  prediction  volatility  ... ActualStd  ActualTrend  \\\n",
       "0          18.75         1.0     2.68144  ...       NaN          0.0   \n",
       "1         182.01         0.0     1.36338  ...       NaN          0.0   \n",
       "2         159.93         0.0     1.57242  ...       NaN          0.0   \n",
       "3          26.52         1.0     4.29508  ...       NaN         -1.0   \n",
       "4         150.24        -1.0     2.95954  ...       NaN         -1.0   \n",
       "...          ...         ...         ...  ...       ...          ...   \n",
       "5687       48.54         0.0     1.54931  ...  1.422752         -1.0   \n",
       "5688       62.63         0.0     1.00514  ...  2.145620          0.0   \n",
       "5689       79.59        -1.0     2.24878  ...  1.110705          0.0   \n",
       "5690       86.81        -1.0     2.37087  ...  0.991460          0.0   \n",
       "5691      142.59         0.0     1.98768  ...  1.991255          0.0   \n",
       "\n",
       "      new_garch   LSTM_vol   new_vol  new_price_movement  new_above_threshold  \\\n",
       "0      2.792979   2.585067  2.718623                   1                 True   \n",
       "1      1.499643 -11.192242  1.408798                  -1                False   \n",
       "2      2.230621 -11.346839  1.791820                  -1                False   \n",
       "3      5.524274  41.419306  4.704811                   1                 True   \n",
       "4      2.946374  -8.007854  2.955151                  -1                 True   \n",
       "...         ...        ...       ...                 ...                  ...   \n",
       "5687   1.941211   0.292542  1.679940                   1                False   \n",
       "5688   1.611847   8.022833  1.207375                   1                False   \n",
       "5689   1.740305  -6.691921  2.079285                  -1                 True   \n",
       "5690   1.894497 -23.520101  2.212079                  -1                 True   \n",
       "5691   2.197697 -13.679781  2.057682                  -1                 True   \n",
       "\n",
       "      new_prediction  actual_price_movement  actual_above_threshold  \n",
       "0                  1                      1                   False  \n",
       "1                  0                     -1                   False  \n",
       "2                  0                     -1                   False  \n",
       "3                  1                     -1                    True  \n",
       "4                 -1                     -1                    True  \n",
       "...              ...                    ...                     ...  \n",
       "5687               0                     -1                    True  \n",
       "5688               0                     -1                   False  \n",
       "5689              -1                      1                   False  \n",
       "5690              -1                      1                   False  \n",
       "5691              -1                      1                   False  \n",
       "\n",
       "[5692 rows x 23 columns]"
      ]
     },
     "execution_count": 42,
     "metadata": {},
     "output_type": "execute_result"
    }
   ],
   "source": [
    "df"
   ]
  },
  {
   "cell_type": "code",
   "execution_count": null,
   "id": "4095f595-1fd0-4bfd-815f-bcea33142cb5",
   "metadata": {},
   "outputs": [],
   "source": []
  },
  {
   "cell_type": "code",
   "execution_count": null,
   "id": "9a54c6ab-058d-4002-abbb-20af45751ad0",
   "metadata": {},
   "outputs": [],
   "source": []
  }
 ],
 "metadata": {
  "kernelspec": {
   "display_name": "Python 3 (ipykernel)",
   "language": "python",
   "name": "python3"
  },
  "language_info": {
   "codemirror_mode": {
    "name": "ipython",
    "version": 3
   },
   "file_extension": ".py",
   "mimetype": "text/x-python",
   "name": "python",
   "nbconvert_exporter": "python",
   "pygments_lexer": "ipython3",
   "version": "3.8.12"
  }
 },
 "nbformat": 4,
 "nbformat_minor": 5
}
