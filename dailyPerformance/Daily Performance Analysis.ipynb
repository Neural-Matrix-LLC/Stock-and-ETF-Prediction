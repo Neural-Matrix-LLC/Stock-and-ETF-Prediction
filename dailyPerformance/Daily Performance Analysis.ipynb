{
 "cells": [
  {
   "cell_type": "markdown",
   "id": "f76be722-8b89-416c-acb2-b0eb8a0b6c7e",
   "metadata": {},
   "source": [
    "# Daily Performance\n",
    "Identify whether it is volatility or price movement that needs improvement"
   ]
  },
  {
   "cell_type": "code",
   "execution_count": 15,
   "id": "add7a94a-dcf8-47c8-b89b-77f6d1e86106",
   "metadata": {},
   "outputs": [],
   "source": [
    "import pandas as pd\n",
    "import numpy as np\n",
    "import matplotlib.pyplot as plt\n",
    "import seaborn as sns\n",
    "from sklearn.metrics import accuracy_score, f1_score, mean_squared_error"
   ]
  },
  {
   "cell_type": "code",
   "execution_count": 36,
   "id": "99648952-4dbd-457e-9d81-d7ae873893ed",
   "metadata": {},
   "outputs": [],
   "source": [
    "file = \"dailyPerf_2022-04-02_2022-04-05.csv\""
   ]
  },
  {
   "cell_type": "code",
   "execution_count": 37,
   "id": "2a8e6da0-510a-432f-a6b3-18911e4895ee",
   "metadata": {},
   "outputs": [
    {
     "data": {
      "text/html": [
       "<div>\n",
       "<style scoped>\n",
       "    .dataframe tbody tr th:only-of-type {\n",
       "        vertical-align: middle;\n",
       "    }\n",
       "\n",
       "    .dataframe tbody tr th {\n",
       "        vertical-align: top;\n",
       "    }\n",
       "\n",
       "    .dataframe thead th {\n",
       "        text-align: right;\n",
       "    }\n",
       "</style>\n",
       "<table border=\"1\" class=\"dataframe\">\n",
       "  <thead>\n",
       "    <tr style=\"text-align: right;\">\n",
       "      <th></th>\n",
       "      <th>Date</th>\n",
       "      <th>Symbol</th>\n",
       "      <th>Exchange</th>\n",
       "      <th>garch</th>\n",
       "      <th>svr</th>\n",
       "      <th>mlp</th>\n",
       "      <th>LSTM</th>\n",
       "      <th>prev_Close</th>\n",
       "      <th>prediction</th>\n",
       "      <th>volatility</th>\n",
       "      <th>ActualDate</th>\n",
       "      <th>ActualClose</th>\n",
       "      <th>ActualPercent</th>\n",
       "      <th>ActualTrend</th>\n",
       "    </tr>\n",
       "  </thead>\n",
       "  <tbody>\n",
       "    <tr>\n",
       "      <th>0</th>\n",
       "      <td>2022-04-04</td>\n",
       "      <td>AAL</td>\n",
       "      <td>NASDAQ</td>\n",
       "      <td>9.28532</td>\n",
       "      <td>2.47927</td>\n",
       "      <td>2.28121</td>\n",
       "      <td>16.6536</td>\n",
       "      <td>18.23</td>\n",
       "      <td>-1</td>\n",
       "      <td>4.68193</td>\n",
       "      <td>2022-04-05</td>\n",
       "      <td>17.84</td>\n",
       "      <td>2.139331</td>\n",
       "      <td>-1</td>\n",
       "    </tr>\n",
       "    <tr>\n",
       "      <th>1</th>\n",
       "      <td>2022-04-04</td>\n",
       "      <td>AAPL</td>\n",
       "      <td>NASDAQ</td>\n",
       "      <td>2.79687</td>\n",
       "      <td>1.75485</td>\n",
       "      <td>1.60878</td>\n",
       "      <td>159.0210</td>\n",
       "      <td>178.44</td>\n",
       "      <td>-1</td>\n",
       "      <td>2.05350</td>\n",
       "      <td>2022-04-05</td>\n",
       "      <td>175.06</td>\n",
       "      <td>1.894194</td>\n",
       "      <td>0</td>\n",
       "    </tr>\n",
       "    <tr>\n",
       "      <th>2</th>\n",
       "      <td>2022-04-04</td>\n",
       "      <td>AMAT</td>\n",
       "      <td>NASDAQ</td>\n",
       "      <td>6.81057</td>\n",
       "      <td>3.11612</td>\n",
       "      <td>3.11230</td>\n",
       "      <td>131.5450</td>\n",
       "      <td>129.44</td>\n",
       "      <td>1</td>\n",
       "      <td>4.34633</td>\n",
       "      <td>2022-04-05</td>\n",
       "      <td>121.71</td>\n",
       "      <td>5.971879</td>\n",
       "      <td>-1</td>\n",
       "    </tr>\n",
       "    <tr>\n",
       "      <th>3</th>\n",
       "      <td>2022-04-04</td>\n",
       "      <td>AMC</td>\n",
       "      <td>NYSE</td>\n",
       "      <td>101.91800</td>\n",
       "      <td>5.43978</td>\n",
       "      <td>5.71697</td>\n",
       "      <td>16.0923</td>\n",
       "      <td>23.31</td>\n",
       "      <td>-1</td>\n",
       "      <td>37.69170</td>\n",
       "      <td>2022-04-05</td>\n",
       "      <td>21.21</td>\n",
       "      <td>9.009009</td>\n",
       "      <td>-1</td>\n",
       "    </tr>\n",
       "    <tr>\n",
       "      <th>4</th>\n",
       "      <td>2022-04-04</td>\n",
       "      <td>AMD</td>\n",
       "      <td>NASDAQ</td>\n",
       "      <td>16.30120</td>\n",
       "      <td>4.39617</td>\n",
       "      <td>4.43730</td>\n",
       "      <td>110.4540</td>\n",
       "      <td>110.53</td>\n",
       "      <td>-1</td>\n",
       "      <td>8.37822</td>\n",
       "      <td>2022-04-05</td>\n",
       "      <td>106.82</td>\n",
       "      <td>3.356555</td>\n",
       "      <td>-1</td>\n",
       "    </tr>\n",
       "  </tbody>\n",
       "</table>\n",
       "</div>"
      ],
      "text/plain": [
       "         Date Symbol Exchange      garch      svr      mlp      LSTM  \\\n",
       "0  2022-04-04    AAL   NASDAQ    9.28532  2.47927  2.28121   16.6536   \n",
       "1  2022-04-04   AAPL   NASDAQ    2.79687  1.75485  1.60878  159.0210   \n",
       "2  2022-04-04   AMAT   NASDAQ    6.81057  3.11612  3.11230  131.5450   \n",
       "3  2022-04-04    AMC     NYSE  101.91800  5.43978  5.71697   16.0923   \n",
       "4  2022-04-04    AMD   NASDAQ   16.30120  4.39617  4.43730  110.4540   \n",
       "\n",
       "   prev_Close  prediction  volatility  ActualDate  ActualClose  ActualPercent  \\\n",
       "0       18.23          -1     4.68193  2022-04-05        17.84       2.139331   \n",
       "1      178.44          -1     2.05350  2022-04-05       175.06       1.894194   \n",
       "2      129.44           1     4.34633  2022-04-05       121.71       5.971879   \n",
       "3       23.31          -1    37.69170  2022-04-05        21.21       9.009009   \n",
       "4      110.53          -1     8.37822  2022-04-05       106.82       3.356555   \n",
       "\n",
       "   ActualTrend  \n",
       "0           -1  \n",
       "1            0  \n",
       "2           -1  \n",
       "3           -1  \n",
       "4           -1  "
      ]
     },
     "execution_count": 37,
     "metadata": {},
     "output_type": "execute_result"
    }
   ],
   "source": [
    "df = pd.read_csv(file)\n",
    "df.head()"
   ]
  },
  {
   "cell_type": "code",
   "execution_count": 38,
   "id": "ec4ffa4b-34c9-4291-9e46-7603afed82e1",
   "metadata": {},
   "outputs": [],
   "source": [
    "df['LSTM_vol'] = (df.LSTM - df.prev_Close) / df.prev_Close * 100"
   ]
  },
  {
   "cell_type": "markdown",
   "id": "88728fbc-bb43-4583-ba4e-0e41b1ea0374",
   "metadata": {},
   "source": [
    "## Which Voltatily metrics is closest"
   ]
  },
  {
   "cell_type": "code",
   "execution_count": 39,
   "id": "afe5056e-4757-49bc-94a7-8878071a8332",
   "metadata": {},
   "outputs": [
    {
     "data": {
      "text/plain": [
       "190.61142176108277"
      ]
     },
     "execution_count": 39,
     "metadata": {},
     "output_type": "execute_result"
    }
   ],
   "source": [
    "mean_squared_error(df.garch, df.ActualPercent)"
   ]
  },
  {
   "cell_type": "code",
   "execution_count": 40,
   "id": "641f54fa-b819-48be-adb1-82da3bedc44b",
   "metadata": {},
   "outputs": [
    {
     "data": {
      "text/plain": [
       "3.2556234171227607"
      ]
     },
     "execution_count": 40,
     "metadata": {},
     "output_type": "execute_result"
    }
   ],
   "source": [
    "mean_squared_error(df.svr, df.ActualPercent)"
   ]
  },
  {
   "cell_type": "code",
   "execution_count": 41,
   "id": "3f8cb146-2221-49a8-a800-ba841973491a",
   "metadata": {},
   "outputs": [
    {
     "data": {
      "text/plain": [
       "2.8191002436477577"
      ]
     },
     "execution_count": 41,
     "metadata": {},
     "output_type": "execute_result"
    }
   ],
   "source": [
    "mean_squared_error(df.mlp, df.ActualPercent)"
   ]
  },
  {
   "cell_type": "code",
   "execution_count": 42,
   "id": "e6a9e951-d78c-4aa0-b777-775ed385977f",
   "metadata": {},
   "outputs": [
    {
     "data": {
      "text/plain": [
       "142.02571278119512"
      ]
     },
     "execution_count": 42,
     "metadata": {},
     "output_type": "execute_result"
    }
   ],
   "source": [
    "mean_squared_error(df.LSTM_vol, df.ActualPercent)"
   ]
  },
  {
   "cell_type": "markdown",
   "id": "b27cd044-a48f-41db-8e6f-91b99ec52415",
   "metadata": {},
   "source": [
    "## New Aggregation"
   ]
  },
  {
   "cell_type": "code",
   "execution_count": 68,
   "id": "4c99f2a2-0965-4a52-85ab-1980c0058969",
   "metadata": {},
   "outputs": [],
   "source": [
    "df[\"new_vol\"] = df[['svr', 'mlp']].mean(axis=1) # ML"
   ]
  },
  {
   "cell_type": "code",
   "execution_count": 69,
   "id": "19861cbd-b61e-450b-b8f9-42189d18365c",
   "metadata": {},
   "outputs": [
    {
     "data": {
      "text/plain": [
       "3.0165227685434965"
      ]
     },
     "execution_count": 69,
     "metadata": {},
     "output_type": "execute_result"
    }
   ],
   "source": [
    "mean_squared_error(df.new_vol, df.ActualPercent)"
   ]
  },
  {
   "cell_type": "code",
   "execution_count": 70,
   "id": "a58565b7-3589-441a-bbbf-5593bab1b5a6",
   "metadata": {},
   "outputs": [],
   "source": [
    "def get_price_movement(change):\n",
    "    if change > 0:\n",
    "        return 1\n",
    "    elif change < 0:\n",
    "        return -1\n",
    "    else:\n",
    "        return 0\n",
    "\n",
    "def get_above_threshold(volatility, threshold):\n",
    "    if volatility > threshold:\n",
    "        return True\n",
    "    else:\n",
    "        return False\n",
    "\n",
    "def get_prediction(df):\n",
    "    if df[\"new_price_movement\"] == 1 and df[\"new_above_threshold\"]:\n",
    "        return 1 \n",
    "    elif df[\"new_price_movement\"] == -1 and df[\"new_above_threshold\"]:\n",
    "        return -1 \n",
    "    else:\n",
    "        return 0"
   ]
  },
  {
   "cell_type": "code",
   "execution_count": 71,
   "id": "8cf6639e-d436-4144-b72d-af920c934f60",
   "metadata": {},
   "outputs": [
    {
     "data": {
      "text/html": [
       "<div>\n",
       "<style scoped>\n",
       "    .dataframe tbody tr th:only-of-type {\n",
       "        vertical-align: middle;\n",
       "    }\n",
       "\n",
       "    .dataframe tbody tr th {\n",
       "        vertical-align: top;\n",
       "    }\n",
       "\n",
       "    .dataframe thead th {\n",
       "        text-align: right;\n",
       "    }\n",
       "</style>\n",
       "<table border=\"1\" class=\"dataframe\">\n",
       "  <thead>\n",
       "    <tr style=\"text-align: right;\">\n",
       "      <th></th>\n",
       "      <th>Date</th>\n",
       "      <th>Symbol</th>\n",
       "      <th>Exchange</th>\n",
       "      <th>garch</th>\n",
       "      <th>svr</th>\n",
       "      <th>mlp</th>\n",
       "      <th>LSTM</th>\n",
       "      <th>prev_Close</th>\n",
       "      <th>prediction</th>\n",
       "      <th>volatility</th>\n",
       "      <th>ActualDate</th>\n",
       "      <th>ActualClose</th>\n",
       "      <th>ActualPercent</th>\n",
       "      <th>ActualTrend</th>\n",
       "      <th>LSTM_vol</th>\n",
       "      <th>new_vol</th>\n",
       "      <th>new_price_movement</th>\n",
       "      <th>new_above_threshold</th>\n",
       "      <th>new_prediction</th>\n",
       "    </tr>\n",
       "  </thead>\n",
       "  <tbody>\n",
       "    <tr>\n",
       "      <th>0</th>\n",
       "      <td>2022-04-04</td>\n",
       "      <td>AAL</td>\n",
       "      <td>NASDAQ</td>\n",
       "      <td>9.28532</td>\n",
       "      <td>2.479270</td>\n",
       "      <td>2.28121</td>\n",
       "      <td>16.6536</td>\n",
       "      <td>18.23</td>\n",
       "      <td>-1</td>\n",
       "      <td>4.68193</td>\n",
       "      <td>2022-04-05</td>\n",
       "      <td>17.84</td>\n",
       "      <td>2.139331</td>\n",
       "      <td>-1</td>\n",
       "      <td>-8.647285</td>\n",
       "      <td>2.380240</td>\n",
       "      <td>-1</td>\n",
       "      <td>True</td>\n",
       "      <td>-1</td>\n",
       "    </tr>\n",
       "    <tr>\n",
       "      <th>1</th>\n",
       "      <td>2022-04-04</td>\n",
       "      <td>AAPL</td>\n",
       "      <td>NASDAQ</td>\n",
       "      <td>2.79687</td>\n",
       "      <td>1.754850</td>\n",
       "      <td>1.60878</td>\n",
       "      <td>159.0210</td>\n",
       "      <td>178.44</td>\n",
       "      <td>-1</td>\n",
       "      <td>2.05350</td>\n",
       "      <td>2022-04-05</td>\n",
       "      <td>175.06</td>\n",
       "      <td>1.894194</td>\n",
       "      <td>0</td>\n",
       "      <td>-10.882650</td>\n",
       "      <td>1.681815</td>\n",
       "      <td>-1</td>\n",
       "      <td>False</td>\n",
       "      <td>0</td>\n",
       "    </tr>\n",
       "    <tr>\n",
       "      <th>2</th>\n",
       "      <td>2022-04-04</td>\n",
       "      <td>AMAT</td>\n",
       "      <td>NASDAQ</td>\n",
       "      <td>6.81057</td>\n",
       "      <td>3.116120</td>\n",
       "      <td>3.11230</td>\n",
       "      <td>131.5450</td>\n",
       "      <td>129.44</td>\n",
       "      <td>1</td>\n",
       "      <td>4.34633</td>\n",
       "      <td>2022-04-05</td>\n",
       "      <td>121.71</td>\n",
       "      <td>5.971879</td>\n",
       "      <td>-1</td>\n",
       "      <td>1.626236</td>\n",
       "      <td>3.114210</td>\n",
       "      <td>1</td>\n",
       "      <td>True</td>\n",
       "      <td>1</td>\n",
       "    </tr>\n",
       "    <tr>\n",
       "      <th>3</th>\n",
       "      <td>2022-04-04</td>\n",
       "      <td>AMC</td>\n",
       "      <td>NYSE</td>\n",
       "      <td>101.91800</td>\n",
       "      <td>5.439780</td>\n",
       "      <td>5.71697</td>\n",
       "      <td>16.0923</td>\n",
       "      <td>23.31</td>\n",
       "      <td>-1</td>\n",
       "      <td>37.69170</td>\n",
       "      <td>2022-04-05</td>\n",
       "      <td>21.21</td>\n",
       "      <td>9.009009</td>\n",
       "      <td>-1</td>\n",
       "      <td>-30.963964</td>\n",
       "      <td>5.578375</td>\n",
       "      <td>-1</td>\n",
       "      <td>True</td>\n",
       "      <td>-1</td>\n",
       "    </tr>\n",
       "    <tr>\n",
       "      <th>4</th>\n",
       "      <td>2022-04-04</td>\n",
       "      <td>AMD</td>\n",
       "      <td>NASDAQ</td>\n",
       "      <td>16.30120</td>\n",
       "      <td>4.396170</td>\n",
       "      <td>4.43730</td>\n",
       "      <td>110.4540</td>\n",
       "      <td>110.53</td>\n",
       "      <td>-1</td>\n",
       "      <td>8.37822</td>\n",
       "      <td>2022-04-05</td>\n",
       "      <td>106.82</td>\n",
       "      <td>3.356555</td>\n",
       "      <td>-1</td>\n",
       "      <td>-0.068760</td>\n",
       "      <td>4.416735</td>\n",
       "      <td>-1</td>\n",
       "      <td>True</td>\n",
       "      <td>-1</td>\n",
       "    </tr>\n",
       "    <tr>\n",
       "      <th>...</th>\n",
       "      <td>...</td>\n",
       "      <td>...</td>\n",
       "      <td>...</td>\n",
       "      <td>...</td>\n",
       "      <td>...</td>\n",
       "      <td>...</td>\n",
       "      <td>...</td>\n",
       "      <td>...</td>\n",
       "      <td>...</td>\n",
       "      <td>...</td>\n",
       "      <td>...</td>\n",
       "      <td>...</td>\n",
       "      <td>...</td>\n",
       "      <td>...</td>\n",
       "      <td>...</td>\n",
       "      <td>...</td>\n",
       "      <td>...</td>\n",
       "      <td>...</td>\n",
       "      <td>...</td>\n",
       "    </tr>\n",
       "    <tr>\n",
       "      <th>73</th>\n",
       "      <td>2022-04-04</td>\n",
       "      <td>XHB</td>\n",
       "      <td>AMEX</td>\n",
       "      <td>4.91467</td>\n",
       "      <td>3.107630</td>\n",
       "      <td>3.01361</td>\n",
       "      <td>68.7624</td>\n",
       "      <td>64.39</td>\n",
       "      <td>1</td>\n",
       "      <td>3.67864</td>\n",
       "      <td>2022-04-05</td>\n",
       "      <td>63.06</td>\n",
       "      <td>2.065538</td>\n",
       "      <td>-1</td>\n",
       "      <td>6.790495</td>\n",
       "      <td>3.060620</td>\n",
       "      <td>1</td>\n",
       "      <td>True</td>\n",
       "      <td>1</td>\n",
       "    </tr>\n",
       "    <tr>\n",
       "      <th>74</th>\n",
       "      <td>2022-04-04</td>\n",
       "      <td>XLE</td>\n",
       "      <td>AMEX</td>\n",
       "      <td>3.40174</td>\n",
       "      <td>0.995742</td>\n",
       "      <td>0.96538</td>\n",
       "      <td>75.7100</td>\n",
       "      <td>77.16</td>\n",
       "      <td>0</td>\n",
       "      <td>1.78762</td>\n",
       "      <td>2022-04-05</td>\n",
       "      <td>75.95</td>\n",
       "      <td>1.568170</td>\n",
       "      <td>0</td>\n",
       "      <td>-1.879212</td>\n",
       "      <td>0.980561</td>\n",
       "      <td>-1</td>\n",
       "      <td>False</td>\n",
       "      <td>0</td>\n",
       "    </tr>\n",
       "    <tr>\n",
       "      <th>75</th>\n",
       "      <td>2022-04-04</td>\n",
       "      <td>XME</td>\n",
       "      <td>AMEX</td>\n",
       "      <td>4.04991</td>\n",
       "      <td>1.475970</td>\n",
       "      <td>1.32960</td>\n",
       "      <td>60.4924</td>\n",
       "      <td>62.07</td>\n",
       "      <td>-1</td>\n",
       "      <td>2.28516</td>\n",
       "      <td>2022-04-05</td>\n",
       "      <td>60.57</td>\n",
       "      <td>2.416626</td>\n",
       "      <td>-1</td>\n",
       "      <td>-2.541647</td>\n",
       "      <td>1.402785</td>\n",
       "      <td>-1</td>\n",
       "      <td>False</td>\n",
       "      <td>0</td>\n",
       "    </tr>\n",
       "    <tr>\n",
       "      <th>76</th>\n",
       "      <td>2022-04-04</td>\n",
       "      <td>XOM</td>\n",
       "      <td>NYSE</td>\n",
       "      <td>3.51161</td>\n",
       "      <td>1.200490</td>\n",
       "      <td>1.13034</td>\n",
       "      <td>81.7195</td>\n",
       "      <td>83.16</td>\n",
       "      <td>0</td>\n",
       "      <td>1.94748</td>\n",
       "      <td>2022-04-05</td>\n",
       "      <td>82.73</td>\n",
       "      <td>0.517076</td>\n",
       "      <td>0</td>\n",
       "      <td>-1.732203</td>\n",
       "      <td>1.165415</td>\n",
       "      <td>-1</td>\n",
       "      <td>False</td>\n",
       "      <td>0</td>\n",
       "    </tr>\n",
       "    <tr>\n",
       "      <th>77</th>\n",
       "      <td>2022-04-04</td>\n",
       "      <td>XOP</td>\n",
       "      <td>AMEX</td>\n",
       "      <td>6.88134</td>\n",
       "      <td>1.617340</td>\n",
       "      <td>1.56395</td>\n",
       "      <td>122.8650</td>\n",
       "      <td>138.87</td>\n",
       "      <td>-1</td>\n",
       "      <td>3.35421</td>\n",
       "      <td>2022-04-05</td>\n",
       "      <td>135.68</td>\n",
       "      <td>2.297112</td>\n",
       "      <td>-1</td>\n",
       "      <td>-11.525167</td>\n",
       "      <td>1.590645</td>\n",
       "      <td>-1</td>\n",
       "      <td>False</td>\n",
       "      <td>0</td>\n",
       "    </tr>\n",
       "  </tbody>\n",
       "</table>\n",
       "<p>78 rows × 19 columns</p>\n",
       "</div>"
      ],
      "text/plain": [
       "          Date Symbol Exchange      garch       svr      mlp      LSTM  \\\n",
       "0   2022-04-04    AAL   NASDAQ    9.28532  2.479270  2.28121   16.6536   \n",
       "1   2022-04-04   AAPL   NASDAQ    2.79687  1.754850  1.60878  159.0210   \n",
       "2   2022-04-04   AMAT   NASDAQ    6.81057  3.116120  3.11230  131.5450   \n",
       "3   2022-04-04    AMC     NYSE  101.91800  5.439780  5.71697   16.0923   \n",
       "4   2022-04-04    AMD   NASDAQ   16.30120  4.396170  4.43730  110.4540   \n",
       "..         ...    ...      ...        ...       ...      ...       ...   \n",
       "73  2022-04-04    XHB     AMEX    4.91467  3.107630  3.01361   68.7624   \n",
       "74  2022-04-04    XLE     AMEX    3.40174  0.995742  0.96538   75.7100   \n",
       "75  2022-04-04    XME     AMEX    4.04991  1.475970  1.32960   60.4924   \n",
       "76  2022-04-04    XOM     NYSE    3.51161  1.200490  1.13034   81.7195   \n",
       "77  2022-04-04    XOP     AMEX    6.88134  1.617340  1.56395  122.8650   \n",
       "\n",
       "    prev_Close  prediction  volatility  ActualDate  ActualClose  \\\n",
       "0        18.23          -1     4.68193  2022-04-05        17.84   \n",
       "1       178.44          -1     2.05350  2022-04-05       175.06   \n",
       "2       129.44           1     4.34633  2022-04-05       121.71   \n",
       "3        23.31          -1    37.69170  2022-04-05        21.21   \n",
       "4       110.53          -1     8.37822  2022-04-05       106.82   \n",
       "..         ...         ...         ...         ...          ...   \n",
       "73       64.39           1     3.67864  2022-04-05        63.06   \n",
       "74       77.16           0     1.78762  2022-04-05        75.95   \n",
       "75       62.07          -1     2.28516  2022-04-05        60.57   \n",
       "76       83.16           0     1.94748  2022-04-05        82.73   \n",
       "77      138.87          -1     3.35421  2022-04-05       135.68   \n",
       "\n",
       "    ActualPercent  ActualTrend   LSTM_vol   new_vol  new_price_movement  \\\n",
       "0        2.139331           -1  -8.647285  2.380240                  -1   \n",
       "1        1.894194            0 -10.882650  1.681815                  -1   \n",
       "2        5.971879           -1   1.626236  3.114210                   1   \n",
       "3        9.009009           -1 -30.963964  5.578375                  -1   \n",
       "4        3.356555           -1  -0.068760  4.416735                  -1   \n",
       "..            ...          ...        ...       ...                 ...   \n",
       "73       2.065538           -1   6.790495  3.060620                   1   \n",
       "74       1.568170            0  -1.879212  0.980561                  -1   \n",
       "75       2.416626           -1  -2.541647  1.402785                  -1   \n",
       "76       0.517076            0  -1.732203  1.165415                  -1   \n",
       "77       2.297112           -1 -11.525167  1.590645                  -1   \n",
       "\n",
       "    new_above_threshold  new_prediction  \n",
       "0                  True              -1  \n",
       "1                 False               0  \n",
       "2                  True               1  \n",
       "3                  True              -1  \n",
       "4                  True              -1  \n",
       "..                  ...             ...  \n",
       "73                 True               1  \n",
       "74                False               0  \n",
       "75                False               0  \n",
       "76                False               0  \n",
       "77                False               0  \n",
       "\n",
       "[78 rows x 19 columns]"
      ]
     },
     "execution_count": 71,
     "metadata": {},
     "output_type": "execute_result"
    }
   ],
   "source": [
    "df"
   ]
  },
  {
   "cell_type": "code",
   "execution_count": 72,
   "id": "b7da26fd-c805-4afa-b005-f6adb8cdc499",
   "metadata": {},
   "outputs": [],
   "source": [
    "df[\"new_price_movement\"] = (df.LSTM - df.prev_Close).apply(get_price_movement)\n",
    "threshold = 2\n",
    "df[\"new_above_threshold\"] = df.new_vol.apply(lambda x: get_above_threshold(x, threshold))\n",
    "df[\"new_prediction\"] = df.apply(get_prediction, axis=1)"
   ]
  },
  {
   "cell_type": "code",
   "execution_count": 73,
   "id": "8cad33bf-4048-48e2-8cf5-70f4bb77fdc1",
   "metadata": {},
   "outputs": [
    {
     "data": {
      "text/html": [
       "<div>\n",
       "<style scoped>\n",
       "    .dataframe tbody tr th:only-of-type {\n",
       "        vertical-align: middle;\n",
       "    }\n",
       "\n",
       "    .dataframe tbody tr th {\n",
       "        vertical-align: top;\n",
       "    }\n",
       "\n",
       "    .dataframe thead th {\n",
       "        text-align: right;\n",
       "    }\n",
       "</style>\n",
       "<table border=\"1\" class=\"dataframe\">\n",
       "  <thead>\n",
       "    <tr style=\"text-align: right;\">\n",
       "      <th></th>\n",
       "      <th>Date</th>\n",
       "      <th>Symbol</th>\n",
       "      <th>Exchange</th>\n",
       "      <th>garch</th>\n",
       "      <th>svr</th>\n",
       "      <th>mlp</th>\n",
       "      <th>LSTM</th>\n",
       "      <th>prev_Close</th>\n",
       "      <th>prediction</th>\n",
       "      <th>volatility</th>\n",
       "      <th>ActualDate</th>\n",
       "      <th>ActualClose</th>\n",
       "      <th>ActualPercent</th>\n",
       "      <th>ActualTrend</th>\n",
       "      <th>LSTM_vol</th>\n",
       "      <th>new_vol</th>\n",
       "      <th>new_price_movement</th>\n",
       "      <th>new_above_threshold</th>\n",
       "      <th>new_prediction</th>\n",
       "    </tr>\n",
       "  </thead>\n",
       "  <tbody>\n",
       "    <tr>\n",
       "      <th>0</th>\n",
       "      <td>2022-04-04</td>\n",
       "      <td>AAL</td>\n",
       "      <td>NASDAQ</td>\n",
       "      <td>9.28532</td>\n",
       "      <td>2.47927</td>\n",
       "      <td>2.28121</td>\n",
       "      <td>16.6536</td>\n",
       "      <td>18.23</td>\n",
       "      <td>-1</td>\n",
       "      <td>4.68193</td>\n",
       "      <td>2022-04-05</td>\n",
       "      <td>17.84</td>\n",
       "      <td>2.139331</td>\n",
       "      <td>-1</td>\n",
       "      <td>-8.647285</td>\n",
       "      <td>2.380240</td>\n",
       "      <td>-1</td>\n",
       "      <td>True</td>\n",
       "      <td>-1</td>\n",
       "    </tr>\n",
       "    <tr>\n",
       "      <th>1</th>\n",
       "      <td>2022-04-04</td>\n",
       "      <td>AAPL</td>\n",
       "      <td>NASDAQ</td>\n",
       "      <td>2.79687</td>\n",
       "      <td>1.75485</td>\n",
       "      <td>1.60878</td>\n",
       "      <td>159.0210</td>\n",
       "      <td>178.44</td>\n",
       "      <td>-1</td>\n",
       "      <td>2.05350</td>\n",
       "      <td>2022-04-05</td>\n",
       "      <td>175.06</td>\n",
       "      <td>1.894194</td>\n",
       "      <td>0</td>\n",
       "      <td>-10.882650</td>\n",
       "      <td>1.681815</td>\n",
       "      <td>-1</td>\n",
       "      <td>False</td>\n",
       "      <td>0</td>\n",
       "    </tr>\n",
       "    <tr>\n",
       "      <th>2</th>\n",
       "      <td>2022-04-04</td>\n",
       "      <td>AMAT</td>\n",
       "      <td>NASDAQ</td>\n",
       "      <td>6.81057</td>\n",
       "      <td>3.11612</td>\n",
       "      <td>3.11230</td>\n",
       "      <td>131.5450</td>\n",
       "      <td>129.44</td>\n",
       "      <td>1</td>\n",
       "      <td>4.34633</td>\n",
       "      <td>2022-04-05</td>\n",
       "      <td>121.71</td>\n",
       "      <td>5.971879</td>\n",
       "      <td>-1</td>\n",
       "      <td>1.626236</td>\n",
       "      <td>3.114210</td>\n",
       "      <td>1</td>\n",
       "      <td>True</td>\n",
       "      <td>1</td>\n",
       "    </tr>\n",
       "    <tr>\n",
       "      <th>3</th>\n",
       "      <td>2022-04-04</td>\n",
       "      <td>AMC</td>\n",
       "      <td>NYSE</td>\n",
       "      <td>101.91800</td>\n",
       "      <td>5.43978</td>\n",
       "      <td>5.71697</td>\n",
       "      <td>16.0923</td>\n",
       "      <td>23.31</td>\n",
       "      <td>-1</td>\n",
       "      <td>37.69170</td>\n",
       "      <td>2022-04-05</td>\n",
       "      <td>21.21</td>\n",
       "      <td>9.009009</td>\n",
       "      <td>-1</td>\n",
       "      <td>-30.963964</td>\n",
       "      <td>5.578375</td>\n",
       "      <td>-1</td>\n",
       "      <td>True</td>\n",
       "      <td>-1</td>\n",
       "    </tr>\n",
       "    <tr>\n",
       "      <th>4</th>\n",
       "      <td>2022-04-04</td>\n",
       "      <td>AMD</td>\n",
       "      <td>NASDAQ</td>\n",
       "      <td>16.30120</td>\n",
       "      <td>4.39617</td>\n",
       "      <td>4.43730</td>\n",
       "      <td>110.4540</td>\n",
       "      <td>110.53</td>\n",
       "      <td>-1</td>\n",
       "      <td>8.37822</td>\n",
       "      <td>2022-04-05</td>\n",
       "      <td>106.82</td>\n",
       "      <td>3.356555</td>\n",
       "      <td>-1</td>\n",
       "      <td>-0.068760</td>\n",
       "      <td>4.416735</td>\n",
       "      <td>-1</td>\n",
       "      <td>True</td>\n",
       "      <td>-1</td>\n",
       "    </tr>\n",
       "  </tbody>\n",
       "</table>\n",
       "</div>"
      ],
      "text/plain": [
       "         Date Symbol Exchange      garch      svr      mlp      LSTM  \\\n",
       "0  2022-04-04    AAL   NASDAQ    9.28532  2.47927  2.28121   16.6536   \n",
       "1  2022-04-04   AAPL   NASDAQ    2.79687  1.75485  1.60878  159.0210   \n",
       "2  2022-04-04   AMAT   NASDAQ    6.81057  3.11612  3.11230  131.5450   \n",
       "3  2022-04-04    AMC     NYSE  101.91800  5.43978  5.71697   16.0923   \n",
       "4  2022-04-04    AMD   NASDAQ   16.30120  4.39617  4.43730  110.4540   \n",
       "\n",
       "   prev_Close  prediction  volatility  ActualDate  ActualClose  ActualPercent  \\\n",
       "0       18.23          -1     4.68193  2022-04-05        17.84       2.139331   \n",
       "1      178.44          -1     2.05350  2022-04-05       175.06       1.894194   \n",
       "2      129.44           1     4.34633  2022-04-05       121.71       5.971879   \n",
       "3       23.31          -1    37.69170  2022-04-05        21.21       9.009009   \n",
       "4      110.53          -1     8.37822  2022-04-05       106.82       3.356555   \n",
       "\n",
       "   ActualTrend   LSTM_vol   new_vol  new_price_movement  new_above_threshold  \\\n",
       "0           -1  -8.647285  2.380240                  -1                 True   \n",
       "1            0 -10.882650  1.681815                  -1                False   \n",
       "2           -1   1.626236  3.114210                   1                 True   \n",
       "3           -1 -30.963964  5.578375                  -1                 True   \n",
       "4           -1  -0.068760  4.416735                  -1                 True   \n",
       "\n",
       "   new_prediction  \n",
       "0              -1  \n",
       "1               0  \n",
       "2               1  \n",
       "3              -1  \n",
       "4              -1  "
      ]
     },
     "execution_count": 73,
     "metadata": {},
     "output_type": "execute_result"
    }
   ],
   "source": [
    "df.head()"
   ]
  },
  {
   "cell_type": "markdown",
   "id": "61ca497a-1bdc-4c91-8b11-cf24d0d81ac9",
   "metadata": {},
   "source": [
    "## Price Movement"
   ]
  },
  {
   "cell_type": "code",
   "execution_count": 78,
   "id": "c8f7cb32-ab2e-413a-9ad2-838563913b91",
   "metadata": {},
   "outputs": [],
   "source": [
    "df[\"actual_price_movement\"] = (df.ActualClose - df.prev_Close).apply(get_price_movement)"
   ]
  },
  {
   "cell_type": "code",
   "execution_count": 79,
   "id": "8e9a690b-5ab6-4620-aaba-9cd851d06e6f",
   "metadata": {},
   "outputs": [
    {
     "data": {
      "text/plain": [
       "0.6794871794871795"
      ]
     },
     "execution_count": 79,
     "metadata": {},
     "output_type": "execute_result"
    }
   ],
   "source": [
    "accuracy_score(df.actual_price_movement, df.new_price_movement, normalize=True)"
   ]
  },
  {
   "cell_type": "code",
   "execution_count": 82,
   "id": "8780e640-49bd-4882-a0fb-6b1110ab5431",
   "metadata": {},
   "outputs": [
    {
     "data": {
      "text/plain": [
       "0.4705403203909856"
      ]
     },
     "execution_count": 82,
     "metadata": {},
     "output_type": "execute_result"
    }
   ],
   "source": [
    "f1_score(y_true=df.actual_price_movement, y_pred=df.new_price_movement, average='macro')"
   ]
  },
  {
   "cell_type": "code",
   "execution_count": 83,
   "id": "3e533b26-2813-41e4-91ed-5336e1c030cf",
   "metadata": {},
   "outputs": [
    {
     "data": {
      "text/plain": [
       "0.6794871794871795"
      ]
     },
     "execution_count": 83,
     "metadata": {},
     "output_type": "execute_result"
    }
   ],
   "source": [
    "f1_score(y_true=df.actual_price_movement, y_pred=df.new_price_movement, average='micro')"
   ]
  },
  {
   "cell_type": "code",
   "execution_count": 84,
   "id": "501c3daf-a308-4af3-b2ef-baadf7d197a5",
   "metadata": {},
   "outputs": [
    {
     "data": {
      "text/plain": [
       "0.7008082875582196"
      ]
     },
     "execution_count": 84,
     "metadata": {},
     "output_type": "execute_result"
    }
   ],
   "source": [
    "f1_score(y_true=df.actual_price_movement, y_pred=df.new_price_movement, average='weighted')"
   ]
  },
  {
   "cell_type": "markdown",
   "id": "04d10309-d44c-46d0-8304-a68c3efbecb5",
   "metadata": {},
   "source": [
    "## Above Threshold"
   ]
  },
  {
   "cell_type": "code",
   "execution_count": 80,
   "id": "0ed1c51e-c690-4e68-925e-13491c9542c7",
   "metadata": {},
   "outputs": [],
   "source": [
    "df[\"actual_above_threshold\"] = df.ActualPercent.apply(lambda x: get_above_threshold(x, threshold))"
   ]
  },
  {
   "cell_type": "code",
   "execution_count": 81,
   "id": "1c2d3de4-0a4d-4576-884a-677fb7cbaec7",
   "metadata": {},
   "outputs": [
    {
     "data": {
      "text/plain": [
       "0.7692307692307693"
      ]
     },
     "execution_count": 81,
     "metadata": {},
     "output_type": "execute_result"
    }
   ],
   "source": [
    "accuracy_score(df.actual_above_threshold, df.new_above_threshold, normalize=True)"
   ]
  },
  {
   "cell_type": "code",
   "execution_count": 85,
   "id": "ced0cec7-841f-4d10-aa86-c828c2092154",
   "metadata": {},
   "outputs": [
    {
     "data": {
      "text/plain": [
       "0.7678571428571429"
      ]
     },
     "execution_count": 85,
     "metadata": {},
     "output_type": "execute_result"
    }
   ],
   "source": [
    "f1_score(y_true=df.actual_above_threshold, y_pred=df.new_above_threshold, average='macro')"
   ]
  },
  {
   "cell_type": "code",
   "execution_count": 86,
   "id": "78de960a-e057-452c-bc35-96cac932255e",
   "metadata": {},
   "outputs": [
    {
     "data": {
      "text/plain": [
       "0.7692307692307693"
      ]
     },
     "execution_count": 86,
     "metadata": {},
     "output_type": "execute_result"
    }
   ],
   "source": [
    "f1_score(y_true=df.actual_above_threshold, y_pred=df.new_above_threshold, average='micro')"
   ]
  },
  {
   "cell_type": "code",
   "execution_count": 87,
   "id": "132060f9-b500-4a1c-be1f-b83730e0652f",
   "metadata": {},
   "outputs": [
    {
     "data": {
      "text/plain": [
       "0.7673992673992674"
      ]
     },
     "execution_count": 87,
     "metadata": {},
     "output_type": "execute_result"
    }
   ],
   "source": [
    "f1_score(y_true=df.actual_above_threshold, y_pred=df.new_above_threshold, average='weighted')"
   ]
  },
  {
   "cell_type": "markdown",
   "id": "0867955b-9f82-454a-9c5b-1bdd7a12fde8",
   "metadata": {},
   "source": [
    "## Performance Metrics"
   ]
  },
  {
   "cell_type": "code",
   "execution_count": 74,
   "id": "126156ed-937a-46e4-ba72-31311159b2f1",
   "metadata": {},
   "outputs": [
    {
     "data": {
      "text/plain": [
       "0.6666666666666666"
      ]
     },
     "execution_count": 74,
     "metadata": {},
     "output_type": "execute_result"
    }
   ],
   "source": [
    "accuracy_score(df.ActualTrend, df.new_prediction, normalize=True)"
   ]
  },
  {
   "cell_type": "code",
   "execution_count": 75,
   "id": "43f7136a-f23c-4837-b92b-4a087e93cd49",
   "metadata": {},
   "outputs": [
    {
     "data": {
      "text/plain": [
       "0.46296296296296297"
      ]
     },
     "execution_count": 75,
     "metadata": {},
     "output_type": "execute_result"
    }
   ],
   "source": [
    "f1_score(y_true=df.ActualTrend, y_pred=df.new_prediction, average='macro')"
   ]
  },
  {
   "cell_type": "code",
   "execution_count": 76,
   "id": "d5dc184d-a193-453f-9d73-3ba87da530f4",
   "metadata": {},
   "outputs": [
    {
     "data": {
      "text/plain": [
       "0.6666666666666666"
      ]
     },
     "execution_count": 76,
     "metadata": {},
     "output_type": "execute_result"
    }
   ],
   "source": [
    "f1_score(y_true=df.ActualTrend, y_pred=df.new_prediction, average='micro')"
   ]
  },
  {
   "cell_type": "code",
   "execution_count": 77,
   "id": "025d869b-b947-4f1e-8d36-920032b668dd",
   "metadata": {},
   "outputs": [
    {
     "data": {
      "text/plain": [
       "0.6766381766381767"
      ]
     },
     "execution_count": 77,
     "metadata": {},
     "output_type": "execute_result"
    }
   ],
   "source": [
    "f1_score(y_true=df.ActualTrend, y_pred=df.new_prediction, average='weighted')"
   ]
  },
  {
   "cell_type": "code",
   "execution_count": null,
   "id": "072895ab-354a-4575-8583-ebfe8587435d",
   "metadata": {},
   "outputs": [],
   "source": []
  },
  {
   "cell_type": "code",
   "execution_count": null,
   "id": "25042575-5b99-4533-885e-5b13b6a08d51",
   "metadata": {},
   "outputs": [],
   "source": []
  }
 ],
 "metadata": {
  "kernelspec": {
   "display_name": "Python 3 (ipykernel)",
   "language": "python",
   "name": "python3"
  },
  "language_info": {
   "codemirror_mode": {
    "name": "ipython",
    "version": 3
   },
   "file_extension": ".py",
   "mimetype": "text/x-python",
   "name": "python",
   "nbconvert_exporter": "python",
   "pygments_lexer": "ipython3",
   "version": "3.8.12"
  }
 },
 "nbformat": 4,
 "nbformat_minor": 5
}
