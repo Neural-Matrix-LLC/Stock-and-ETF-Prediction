{
 "cells": [
  {
   "cell_type": "markdown",
   "id": "f76be722-8b89-416c-acb2-b0eb8a0b6c7e",
   "metadata": {},
   "source": [
    "# Daily Performance\n",
    "Identify whether it is volatility or price movement that needs improvement"
   ]
  },
  {
   "cell_type": "code",
   "execution_count": 15,
   "id": "add7a94a-dcf8-47c8-b89b-77f6d1e86106",
   "metadata": {},
   "outputs": [],
   "source": [
    "import pandas as pd\n",
    "import numpy as np\n",
    "import matplotlib.pyplot as plt\n",
    "import seaborn as sns\n",
    "from sklearn.metrics import accuracy_score, f1_score, mean_squared_error"
   ]
  },
  {
   "cell_type": "code",
   "execution_count": 36,
   "id": "99648952-4dbd-457e-9d81-d7ae873893ed",
   "metadata": {},
   "outputs": [],
   "source": [
    "file = \"dailyPerf_2022-04-02_2022-04-05.csv\""
   ]
  },
  {
   "cell_type": "code",
   "execution_count": 37,
   "id": "2a8e6da0-510a-432f-a6b3-18911e4895ee",
   "metadata": {},
   "outputs": [
    {
     "data": {
      "text/html": [
       "<div>\n",
       "<style scoped>\n",
       "    .dataframe tbody tr th:only-of-type {\n",
       "        vertical-align: middle;\n",
       "    }\n",
       "\n",
       "    .dataframe tbody tr th {\n",
       "        vertical-align: top;\n",
       "    }\n",
       "\n",
       "    .dataframe thead th {\n",
       "        text-align: right;\n",
       "    }\n",
       "</style>\n",
       "<table border=\"1\" class=\"dataframe\">\n",
       "  <thead>\n",
       "    <tr style=\"text-align: right;\">\n",
       "      <th></th>\n",
       "      <th>Date</th>\n",
       "      <th>Symbol</th>\n",
       "      <th>Exchange</th>\n",
       "      <th>garch</th>\n",
       "      <th>svr</th>\n",
       "      <th>mlp</th>\n",
       "      <th>LSTM</th>\n",
       "      <th>prev_Close</th>\n",
       "      <th>prediction</th>\n",
       "      <th>volatility</th>\n",
       "      <th>ActualDate</th>\n",
       "      <th>ActualClose</th>\n",
       "      <th>ActualPercent</th>\n",
       "      <th>ActualTrend</th>\n",
       "    </tr>\n",
       "  </thead>\n",
       "  <tbody>\n",
       "    <tr>\n",
       "      <th>0</th>\n",
       "      <td>2022-04-04</td>\n",
       "      <td>AAL</td>\n",
       "      <td>NASDAQ</td>\n",
       "      <td>9.28532</td>\n",
       "      <td>2.47927</td>\n",
       "      <td>2.28121</td>\n",
       "      <td>16.6536</td>\n",
       "      <td>18.23</td>\n",
       "      <td>-1</td>\n",
       "      <td>4.68193</td>\n",
       "      <td>2022-04-05</td>\n",
       "      <td>17.84</td>\n",
       "      <td>2.139331</td>\n",
       "      <td>-1</td>\n",
       "    </tr>\n",
       "    <tr>\n",
       "      <th>1</th>\n",
       "      <td>2022-04-04</td>\n",
       "      <td>AAPL</td>\n",
       "      <td>NASDAQ</td>\n",
       "      <td>2.79687</td>\n",
       "      <td>1.75485</td>\n",
       "      <td>1.60878</td>\n",
       "      <td>159.0210</td>\n",
       "      <td>178.44</td>\n",
       "      <td>-1</td>\n",
       "      <td>2.05350</td>\n",
       "      <td>2022-04-05</td>\n",
       "      <td>175.06</td>\n",
       "      <td>1.894194</td>\n",
       "      <td>0</td>\n",
       "    </tr>\n",
       "    <tr>\n",
       "      <th>2</th>\n",
       "      <td>2022-04-04</td>\n",
       "      <td>AMAT</td>\n",
       "      <td>NASDAQ</td>\n",
       "      <td>6.81057</td>\n",
       "      <td>3.11612</td>\n",
       "      <td>3.11230</td>\n",
       "      <td>131.5450</td>\n",
       "      <td>129.44</td>\n",
       "      <td>1</td>\n",
       "      <td>4.34633</td>\n",
       "      <td>2022-04-05</td>\n",
       "      <td>121.71</td>\n",
       "      <td>5.971879</td>\n",
       "      <td>-1</td>\n",
       "    </tr>\n",
       "    <tr>\n",
       "      <th>3</th>\n",
       "      <td>2022-04-04</td>\n",
       "      <td>AMC</td>\n",
       "      <td>NYSE</td>\n",
       "      <td>101.91800</td>\n",
       "      <td>5.43978</td>\n",
       "      <td>5.71697</td>\n",
       "      <td>16.0923</td>\n",
       "      <td>23.31</td>\n",
       "      <td>-1</td>\n",
       "      <td>37.69170</td>\n",
       "      <td>2022-04-05</td>\n",
       "      <td>21.21</td>\n",
       "      <td>9.009009</td>\n",
       "      <td>-1</td>\n",
       "    </tr>\n",
       "    <tr>\n",
       "      <th>4</th>\n",
       "      <td>2022-04-04</td>\n",
       "      <td>AMD</td>\n",
       "      <td>NASDAQ</td>\n",
       "      <td>16.30120</td>\n",
       "      <td>4.39617</td>\n",
       "      <td>4.43730</td>\n",
       "      <td>110.4540</td>\n",
       "      <td>110.53</td>\n",
       "      <td>-1</td>\n",
       "      <td>8.37822</td>\n",
       "      <td>2022-04-05</td>\n",
       "      <td>106.82</td>\n",
       "      <td>3.356555</td>\n",
       "      <td>-1</td>\n",
       "    </tr>\n",
       "  </tbody>\n",
       "</table>\n",
       "</div>"
      ],
      "text/plain": [
       "         Date Symbol Exchange      garch      svr      mlp      LSTM  \\\n",
       "0  2022-04-04    AAL   NASDAQ    9.28532  2.47927  2.28121   16.6536   \n",
       "1  2022-04-04   AAPL   NASDAQ    2.79687  1.75485  1.60878  159.0210   \n",
       "2  2022-04-04   AMAT   NASDAQ    6.81057  3.11612  3.11230  131.5450   \n",
       "3  2022-04-04    AMC     NYSE  101.91800  5.43978  5.71697   16.0923   \n",
       "4  2022-04-04    AMD   NASDAQ   16.30120  4.39617  4.43730  110.4540   \n",
       "\n",
       "   prev_Close  prediction  volatility  ActualDate  ActualClose  ActualPercent  \\\n",
       "0       18.23          -1     4.68193  2022-04-05        17.84       2.139331   \n",
       "1      178.44          -1     2.05350  2022-04-05       175.06       1.894194   \n",
       "2      129.44           1     4.34633  2022-04-05       121.71       5.971879   \n",
       "3       23.31          -1    37.69170  2022-04-05        21.21       9.009009   \n",
       "4      110.53          -1     8.37822  2022-04-05       106.82       3.356555   \n",
       "\n",
       "   ActualTrend  \n",
       "0           -1  \n",
       "1            0  \n",
       "2           -1  \n",
       "3           -1  \n",
       "4           -1  "
      ]
     },
     "execution_count": 37,
     "metadata": {},
     "output_type": "execute_result"
    }
   ],
   "source": [
    "df = pd.read_csv(file)\n",
    "df.head()"
   ]
  },
  {
   "cell_type": "code",
   "execution_count": 93,
   "id": "eff67254-97fe-494d-9956-b9ef461c2f58",
   "metadata": {},
   "outputs": [],
   "source": [
    "df['new_garch'] = df.garch ** 0.5"
   ]
  },
  {
   "cell_type": "code",
   "execution_count": 38,
   "id": "ec4ffa4b-34c9-4291-9e46-7603afed82e1",
   "metadata": {},
   "outputs": [],
   "source": [
    "df['LSTM_vol'] = (df.LSTM - df.prev_Close) / df.prev_Close * 100"
   ]
  },
  {
   "cell_type": "markdown",
   "id": "88728fbc-bb43-4583-ba4e-0e41b1ea0374",
   "metadata": {},
   "source": [
    "## Which Voltatily metrics is closest"
   ]
  },
  {
   "cell_type": "code",
   "execution_count": 94,
   "id": "fa124b97-4618-448f-be32-fdb455f70717",
   "metadata": {},
   "outputs": [
    {
     "data": {
      "text/plain": [
       "190.61142176108277"
      ]
     },
     "execution_count": 94,
     "metadata": {},
     "output_type": "execute_result"
    }
   ],
   "source": [
    "mean_squared_error(df.garch, df.ActualPercent)"
   ]
  },
  {
   "cell_type": "code",
   "execution_count": 89,
   "id": "afe5056e-4757-49bc-94a7-8878071a8332",
   "metadata": {},
   "outputs": [
    {
     "data": {
      "text/plain": [
       "1.4480299679926973"
      ]
     },
     "execution_count": 89,
     "metadata": {},
     "output_type": "execute_result"
    }
   ],
   "source": [
    "mean_squared_error(df.garch ** 0.5, df.ActualPercent)"
   ]
  },
  {
   "cell_type": "code",
   "execution_count": 40,
   "id": "641f54fa-b819-48be-adb1-82da3bedc44b",
   "metadata": {},
   "outputs": [
    {
     "data": {
      "text/plain": [
       "3.2556234171227607"
      ]
     },
     "execution_count": 40,
     "metadata": {},
     "output_type": "execute_result"
    }
   ],
   "source": [
    "mean_squared_error(df.svr, df.ActualPercent)"
   ]
  },
  {
   "cell_type": "code",
   "execution_count": 41,
   "id": "3f8cb146-2221-49a8-a800-ba841973491a",
   "metadata": {},
   "outputs": [
    {
     "data": {
      "text/plain": [
       "2.8191002436477577"
      ]
     },
     "execution_count": 41,
     "metadata": {},
     "output_type": "execute_result"
    }
   ],
   "source": [
    "mean_squared_error(df.mlp, df.ActualPercent)"
   ]
  },
  {
   "cell_type": "code",
   "execution_count": 42,
   "id": "e6a9e951-d78c-4aa0-b777-775ed385977f",
   "metadata": {},
   "outputs": [
    {
     "data": {
      "text/plain": [
       "142.02571278119512"
      ]
     },
     "execution_count": 42,
     "metadata": {},
     "output_type": "execute_result"
    }
   ],
   "source": [
    "mean_squared_error(df.LSTM_vol, df.ActualPercent)"
   ]
  },
  {
   "cell_type": "markdown",
   "id": "b27cd044-a48f-41db-8e6f-91b99ec52415",
   "metadata": {},
   "source": [
    "## New Aggregation"
   ]
  },
  {
   "cell_type": "code",
   "execution_count": 96,
   "id": "4c99f2a2-0965-4a52-85ab-1980c0058969",
   "metadata": {},
   "outputs": [],
   "source": [
    "df[\"new_vol\"] = df[['new_garch', 'svr', 'mlp']].mean(axis=1) # ML"
   ]
  },
  {
   "cell_type": "code",
   "execution_count": 97,
   "id": "19861cbd-b61e-450b-b8f9-42189d18365c",
   "metadata": {},
   "outputs": [
    {
     "data": {
      "text/plain": [
       "2.0945577462971112"
      ]
     },
     "execution_count": 97,
     "metadata": {},
     "output_type": "execute_result"
    }
   ],
   "source": [
    "mean_squared_error(df.new_vol, df.ActualPercent)"
   ]
  },
  {
   "cell_type": "code",
   "execution_count": 98,
   "id": "a58565b7-3589-441a-bbbf-5593bab1b5a6",
   "metadata": {},
   "outputs": [],
   "source": [
    "def get_price_movement(change):\n",
    "    if change > 0:\n",
    "        return 1\n",
    "    elif change < 0:\n",
    "        return -1\n",
    "    else:\n",
    "        return 0\n",
    "\n",
    "def get_above_threshold(volatility, threshold):\n",
    "    if volatility > threshold:\n",
    "        return True\n",
    "    else:\n",
    "        return False\n",
    "\n",
    "def get_prediction(df):\n",
    "    if df[\"new_price_movement\"] == 1 and df[\"new_above_threshold\"]:\n",
    "        return 1 \n",
    "    elif df[\"new_price_movement\"] == -1 and df[\"new_above_threshold\"]:\n",
    "        return -1 \n",
    "    else:\n",
    "        return 0"
   ]
  },
  {
   "cell_type": "code",
   "execution_count": 101,
   "id": "b7da26fd-c805-4afa-b005-f6adb8cdc499",
   "metadata": {},
   "outputs": [],
   "source": [
    "df[\"new_price_movement\"] = (df.LSTM - df.prev_Close).apply(get_price_movement)\n",
    "threshold = 2\n",
    "df[\"new_above_threshold\"] = df.new_vol.apply(lambda x: get_above_threshold(x, threshold))\n",
    "df[\"new_prediction\"] = df.apply(get_prediction, axis=1)"
   ]
  },
  {
   "cell_type": "code",
   "execution_count": 102,
   "id": "8cad33bf-4048-48e2-8cf5-70f4bb77fdc1",
   "metadata": {},
   "outputs": [
    {
     "data": {
      "text/html": [
       "<div>\n",
       "<style scoped>\n",
       "    .dataframe tbody tr th:only-of-type {\n",
       "        vertical-align: middle;\n",
       "    }\n",
       "\n",
       "    .dataframe tbody tr th {\n",
       "        vertical-align: top;\n",
       "    }\n",
       "\n",
       "    .dataframe thead th {\n",
       "        text-align: right;\n",
       "    }\n",
       "</style>\n",
       "<table border=\"1\" class=\"dataframe\">\n",
       "  <thead>\n",
       "    <tr style=\"text-align: right;\">\n",
       "      <th></th>\n",
       "      <th>Date</th>\n",
       "      <th>Symbol</th>\n",
       "      <th>Exchange</th>\n",
       "      <th>garch</th>\n",
       "      <th>svr</th>\n",
       "      <th>mlp</th>\n",
       "      <th>LSTM</th>\n",
       "      <th>prev_Close</th>\n",
       "      <th>prediction</th>\n",
       "      <th>volatility</th>\n",
       "      <th>...</th>\n",
       "      <th>ActualPercent</th>\n",
       "      <th>ActualTrend</th>\n",
       "      <th>LSTM_vol</th>\n",
       "      <th>new_vol</th>\n",
       "      <th>new_price_movement</th>\n",
       "      <th>new_above_threshold</th>\n",
       "      <th>new_prediction</th>\n",
       "      <th>actual_price_movement</th>\n",
       "      <th>actual_above_threshold</th>\n",
       "      <th>new_garch</th>\n",
       "    </tr>\n",
       "  </thead>\n",
       "  <tbody>\n",
       "    <tr>\n",
       "      <th>0</th>\n",
       "      <td>2022-04-04</td>\n",
       "      <td>AAL</td>\n",
       "      <td>NASDAQ</td>\n",
       "      <td>9.28532</td>\n",
       "      <td>2.47927</td>\n",
       "      <td>2.28121</td>\n",
       "      <td>16.6536</td>\n",
       "      <td>18.23</td>\n",
       "      <td>-1</td>\n",
       "      <td>4.68193</td>\n",
       "      <td>...</td>\n",
       "      <td>2.139331</td>\n",
       "      <td>-1</td>\n",
       "      <td>-8.647285</td>\n",
       "      <td>2.602554</td>\n",
       "      <td>-1</td>\n",
       "      <td>True</td>\n",
       "      <td>-1</td>\n",
       "      <td>-1</td>\n",
       "      <td>True</td>\n",
       "      <td>3.047182</td>\n",
       "    </tr>\n",
       "    <tr>\n",
       "      <th>1</th>\n",
       "      <td>2022-04-04</td>\n",
       "      <td>AAPL</td>\n",
       "      <td>NASDAQ</td>\n",
       "      <td>2.79687</td>\n",
       "      <td>1.75485</td>\n",
       "      <td>1.60878</td>\n",
       "      <td>159.0210</td>\n",
       "      <td>178.44</td>\n",
       "      <td>-1</td>\n",
       "      <td>2.05350</td>\n",
       "      <td>...</td>\n",
       "      <td>1.894194</td>\n",
       "      <td>0</td>\n",
       "      <td>-10.882650</td>\n",
       "      <td>1.678672</td>\n",
       "      <td>-1</td>\n",
       "      <td>False</td>\n",
       "      <td>0</td>\n",
       "      <td>-1</td>\n",
       "      <td>False</td>\n",
       "      <td>1.672385</td>\n",
       "    </tr>\n",
       "    <tr>\n",
       "      <th>2</th>\n",
       "      <td>2022-04-04</td>\n",
       "      <td>AMAT</td>\n",
       "      <td>NASDAQ</td>\n",
       "      <td>6.81057</td>\n",
       "      <td>3.11612</td>\n",
       "      <td>3.11230</td>\n",
       "      <td>131.5450</td>\n",
       "      <td>129.44</td>\n",
       "      <td>1</td>\n",
       "      <td>4.34633</td>\n",
       "      <td>...</td>\n",
       "      <td>5.971879</td>\n",
       "      <td>-1</td>\n",
       "      <td>1.626236</td>\n",
       "      <td>2.946042</td>\n",
       "      <td>1</td>\n",
       "      <td>True</td>\n",
       "      <td>1</td>\n",
       "      <td>-1</td>\n",
       "      <td>True</td>\n",
       "      <td>2.609707</td>\n",
       "    </tr>\n",
       "    <tr>\n",
       "      <th>3</th>\n",
       "      <td>2022-04-04</td>\n",
       "      <td>AMC</td>\n",
       "      <td>NYSE</td>\n",
       "      <td>101.91800</td>\n",
       "      <td>5.43978</td>\n",
       "      <td>5.71697</td>\n",
       "      <td>16.0923</td>\n",
       "      <td>23.31</td>\n",
       "      <td>-1</td>\n",
       "      <td>37.69170</td>\n",
       "      <td>...</td>\n",
       "      <td>9.009009</td>\n",
       "      <td>-1</td>\n",
       "      <td>-30.963964</td>\n",
       "      <td>7.084065</td>\n",
       "      <td>-1</td>\n",
       "      <td>True</td>\n",
       "      <td>-1</td>\n",
       "      <td>-1</td>\n",
       "      <td>True</td>\n",
       "      <td>10.095445</td>\n",
       "    </tr>\n",
       "    <tr>\n",
       "      <th>4</th>\n",
       "      <td>2022-04-04</td>\n",
       "      <td>AMD</td>\n",
       "      <td>NASDAQ</td>\n",
       "      <td>16.30120</td>\n",
       "      <td>4.39617</td>\n",
       "      <td>4.43730</td>\n",
       "      <td>110.4540</td>\n",
       "      <td>110.53</td>\n",
       "      <td>-1</td>\n",
       "      <td>8.37822</td>\n",
       "      <td>...</td>\n",
       "      <td>3.356555</td>\n",
       "      <td>-1</td>\n",
       "      <td>-0.068760</td>\n",
       "      <td>4.290315</td>\n",
       "      <td>-1</td>\n",
       "      <td>True</td>\n",
       "      <td>-1</td>\n",
       "      <td>-1</td>\n",
       "      <td>True</td>\n",
       "      <td>4.037474</td>\n",
       "    </tr>\n",
       "  </tbody>\n",
       "</table>\n",
       "<p>5 rows × 22 columns</p>\n",
       "</div>"
      ],
      "text/plain": [
       "         Date Symbol Exchange      garch      svr      mlp      LSTM  \\\n",
       "0  2022-04-04    AAL   NASDAQ    9.28532  2.47927  2.28121   16.6536   \n",
       "1  2022-04-04   AAPL   NASDAQ    2.79687  1.75485  1.60878  159.0210   \n",
       "2  2022-04-04   AMAT   NASDAQ    6.81057  3.11612  3.11230  131.5450   \n",
       "3  2022-04-04    AMC     NYSE  101.91800  5.43978  5.71697   16.0923   \n",
       "4  2022-04-04    AMD   NASDAQ   16.30120  4.39617  4.43730  110.4540   \n",
       "\n",
       "   prev_Close  prediction  volatility  ... ActualPercent  ActualTrend  \\\n",
       "0       18.23          -1     4.68193  ...      2.139331           -1   \n",
       "1      178.44          -1     2.05350  ...      1.894194            0   \n",
       "2      129.44           1     4.34633  ...      5.971879           -1   \n",
       "3       23.31          -1    37.69170  ...      9.009009           -1   \n",
       "4      110.53          -1     8.37822  ...      3.356555           -1   \n",
       "\n",
       "    LSTM_vol   new_vol  new_price_movement  new_above_threshold  \\\n",
       "0  -8.647285  2.602554                  -1                 True   \n",
       "1 -10.882650  1.678672                  -1                False   \n",
       "2   1.626236  2.946042                   1                 True   \n",
       "3 -30.963964  7.084065                  -1                 True   \n",
       "4  -0.068760  4.290315                  -1                 True   \n",
       "\n",
       "   new_prediction  actual_price_movement  actual_above_threshold  new_garch  \n",
       "0              -1                     -1                    True   3.047182  \n",
       "1               0                     -1                   False   1.672385  \n",
       "2               1                     -1                    True   2.609707  \n",
       "3              -1                     -1                    True  10.095445  \n",
       "4              -1                     -1                    True   4.037474  \n",
       "\n",
       "[5 rows x 22 columns]"
      ]
     },
     "execution_count": 102,
     "metadata": {},
     "output_type": "execute_result"
    }
   ],
   "source": [
    "df.head()"
   ]
  },
  {
   "cell_type": "markdown",
   "id": "61ca497a-1bdc-4c91-8b11-cf24d0d81ac9",
   "metadata": {},
   "source": [
    "## Price Movement"
   ]
  },
  {
   "cell_type": "code",
   "execution_count": 103,
   "id": "beaa2a07-4ec5-4d45-b90e-64678866201b",
   "metadata": {},
   "outputs": [
    {
     "data": {
      "text/plain": [
       "559.2308316781093"
      ]
     },
     "execution_count": 103,
     "metadata": {},
     "output_type": "execute_result"
    }
   ],
   "source": [
    "mean_squared_error(df.LSTM, df.ActualClose)"
   ]
  },
  {
   "cell_type": "code",
   "execution_count": 104,
   "id": "c8f7cb32-ab2e-413a-9ad2-838563913b91",
   "metadata": {},
   "outputs": [],
   "source": [
    "df[\"actual_price_movement\"] = (df.ActualClose - df.prev_Close).apply(get_price_movement)"
   ]
  },
  {
   "cell_type": "code",
   "execution_count": 105,
   "id": "8e9a690b-5ab6-4620-aaba-9cd851d06e6f",
   "metadata": {},
   "outputs": [
    {
     "data": {
      "text/plain": [
       "0.6794871794871795"
      ]
     },
     "execution_count": 105,
     "metadata": {},
     "output_type": "execute_result"
    }
   ],
   "source": [
    "accuracy_score(df.actual_price_movement, df.new_price_movement, normalize=True)"
   ]
  },
  {
   "cell_type": "code",
   "execution_count": 106,
   "id": "8780e640-49bd-4882-a0fb-6b1110ab5431",
   "metadata": {},
   "outputs": [
    {
     "data": {
      "text/plain": [
       "0.4705403203909856"
      ]
     },
     "execution_count": 106,
     "metadata": {},
     "output_type": "execute_result"
    }
   ],
   "source": [
    "f1_score(y_true=df.actual_price_movement, y_pred=df.new_price_movement, average='macro')"
   ]
  },
  {
   "cell_type": "code",
   "execution_count": 107,
   "id": "3e533b26-2813-41e4-91ed-5336e1c030cf",
   "metadata": {},
   "outputs": [
    {
     "data": {
      "text/plain": [
       "0.6794871794871795"
      ]
     },
     "execution_count": 107,
     "metadata": {},
     "output_type": "execute_result"
    }
   ],
   "source": [
    "f1_score(y_true=df.actual_price_movement, y_pred=df.new_price_movement, average='micro')"
   ]
  },
  {
   "cell_type": "code",
   "execution_count": 108,
   "id": "501c3daf-a308-4af3-b2ef-baadf7d197a5",
   "metadata": {},
   "outputs": [
    {
     "data": {
      "text/plain": [
       "0.7008082875582196"
      ]
     },
     "execution_count": 108,
     "metadata": {},
     "output_type": "execute_result"
    }
   ],
   "source": [
    "f1_score(y_true=df.actual_price_movement, y_pred=df.new_price_movement, average='weighted')"
   ]
  },
  {
   "cell_type": "markdown",
   "id": "04d10309-d44c-46d0-8304-a68c3efbecb5",
   "metadata": {},
   "source": [
    "## Above Threshold"
   ]
  },
  {
   "cell_type": "code",
   "execution_count": 109,
   "id": "0ed1c51e-c690-4e68-925e-13491c9542c7",
   "metadata": {},
   "outputs": [],
   "source": [
    "df[\"actual_above_threshold\"] = df.ActualPercent.apply(lambda x: get_above_threshold(x, threshold))"
   ]
  },
  {
   "cell_type": "code",
   "execution_count": 110,
   "id": "1c2d3de4-0a4d-4576-884a-677fb7cbaec7",
   "metadata": {},
   "outputs": [
    {
     "data": {
      "text/plain": [
       "0.782051282051282"
      ]
     },
     "execution_count": 110,
     "metadata": {},
     "output_type": "execute_result"
    }
   ],
   "source": [
    "accuracy_score(df.actual_above_threshold, df.new_above_threshold, normalize=True)"
   ]
  },
  {
   "cell_type": "code",
   "execution_count": 111,
   "id": "ced0cec7-841f-4d10-aa86-c828c2092154",
   "metadata": {},
   "outputs": [
    {
     "data": {
      "text/plain": [
       "0.7817283950617284"
      ]
     },
     "execution_count": 111,
     "metadata": {},
     "output_type": "execute_result"
    }
   ],
   "source": [
    "f1_score(y_true=df.actual_above_threshold, y_pred=df.new_above_threshold, average='macro')"
   ]
  },
  {
   "cell_type": "code",
   "execution_count": 112,
   "id": "78de960a-e057-452c-bc35-96cac932255e",
   "metadata": {},
   "outputs": [
    {
     "data": {
      "text/plain": [
       "0.782051282051282"
      ]
     },
     "execution_count": 112,
     "metadata": {},
     "output_type": "execute_result"
    }
   ],
   "source": [
    "f1_score(y_true=df.actual_above_threshold, y_pred=df.new_above_threshold, average='micro')"
   ]
  },
  {
   "cell_type": "code",
   "execution_count": 113,
   "id": "132060f9-b500-4a1c-be1f-b83730e0652f",
   "metadata": {},
   "outputs": [
    {
     "data": {
      "text/plain": [
       "0.7815131370686925"
      ]
     },
     "execution_count": 113,
     "metadata": {},
     "output_type": "execute_result"
    }
   ],
   "source": [
    "f1_score(y_true=df.actual_above_threshold, y_pred=df.new_above_threshold, average='weighted')"
   ]
  },
  {
   "cell_type": "markdown",
   "id": "0867955b-9f82-454a-9c5b-1bdd7a12fde8",
   "metadata": {},
   "source": [
    "## Performance Metrics"
   ]
  },
  {
   "cell_type": "code",
   "execution_count": 114,
   "id": "126156ed-937a-46e4-ba72-31311159b2f1",
   "metadata": {},
   "outputs": [
    {
     "data": {
      "text/plain": [
       "0.6794871794871795"
      ]
     },
     "execution_count": 114,
     "metadata": {},
     "output_type": "execute_result"
    }
   ],
   "source": [
    "accuracy_score(df.ActualTrend, df.new_prediction, normalize=True)"
   ]
  },
  {
   "cell_type": "code",
   "execution_count": 115,
   "id": "43f7136a-f23c-4837-b92b-4a087e93cd49",
   "metadata": {},
   "outputs": [
    {
     "data": {
      "text/plain": [
       "0.4754956977179199"
      ]
     },
     "execution_count": 115,
     "metadata": {},
     "output_type": "execute_result"
    }
   ],
   "source": [
    "f1_score(y_true=df.ActualTrend, y_pred=df.new_prediction, average='macro')"
   ]
  },
  {
   "cell_type": "code",
   "execution_count": 116,
   "id": "d5dc184d-a193-453f-9d73-3ba87da530f4",
   "metadata": {},
   "outputs": [
    {
     "data": {
      "text/plain": [
       "0.6794871794871795"
      ]
     },
     "execution_count": 116,
     "metadata": {},
     "output_type": "execute_result"
    }
   ],
   "source": [
    "f1_score(y_true=df.ActualTrend, y_pred=df.new_prediction, average='micro')"
   ]
  },
  {
   "cell_type": "code",
   "execution_count": 117,
   "id": "025d869b-b947-4f1e-8d36-920032b668dd",
   "metadata": {},
   "outputs": [
    {
     "data": {
      "text/plain": [
       "0.694955250510806"
      ]
     },
     "execution_count": 117,
     "metadata": {},
     "output_type": "execute_result"
    }
   ],
   "source": [
    "f1_score(y_true=df.ActualTrend, y_pred=df.new_prediction, average='weighted')"
   ]
  },
  {
   "cell_type": "code",
   "execution_count": null,
   "id": "072895ab-354a-4575-8583-ebfe8587435d",
   "metadata": {},
   "outputs": [],
   "source": []
  },
  {
   "cell_type": "code",
   "execution_count": null,
   "id": "25042575-5b99-4533-885e-5b13b6a08d51",
   "metadata": {},
   "outputs": [],
   "source": []
  }
 ],
 "metadata": {
  "kernelspec": {
   "display_name": "Python 3 (ipykernel)",
   "language": "python",
   "name": "python3"
  },
  "language_info": {
   "codemirror_mode": {
    "name": "ipython",
    "version": 3
   },
   "file_extension": ".py",
   "mimetype": "text/x-python",
   "name": "python",
   "nbconvert_exporter": "python",
   "pygments_lexer": "ipython3",
   "version": "3.8.12"
  }
 },
 "nbformat": 4,
 "nbformat_minor": 5
}
