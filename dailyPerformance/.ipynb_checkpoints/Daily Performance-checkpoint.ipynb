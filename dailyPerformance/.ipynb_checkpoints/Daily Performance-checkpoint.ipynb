{
 "cells": [
  {
   "cell_type": "markdown",
   "id": "14761749-c8be-47c4-8277-9182612b51e6",
   "metadata": {},
   "source": [
    "# Daily Performance - dailyPerf_2022-01-01_2022-04-14"
   ]
  },
  {
   "cell_type": "code",
   "execution_count": 11,
   "id": "7251caf4-3db8-4482-ba3a-c10a73aac5d3",
   "metadata": {},
   "outputs": [],
   "source": [
    "import pandas as pd\n",
    "import numpy as np\n",
    "import matplotlib.pyplot as plt\n",
    "import seaborn as sns\n",
    "from sklearn.metrics import accuracy_score, f1_score\n",
    "from sklearn.metrics import mean_squared_error as MSE\n",
    "import os"
   ]
  },
  {
   "cell_type": "code",
   "execution_count": 12,
   "id": "9b12dfa1-5274-409e-adf1-1676349e7f39",
   "metadata": {},
   "outputs": [
    {
     "data": {
      "text/html": [
       "<div>\n",
       "<style scoped>\n",
       "    .dataframe tbody tr th:only-of-type {\n",
       "        vertical-align: middle;\n",
       "    }\n",
       "\n",
       "    .dataframe tbody tr th {\n",
       "        vertical-align: top;\n",
       "    }\n",
       "\n",
       "    .dataframe thead th {\n",
       "        text-align: right;\n",
       "    }\n",
       "</style>\n",
       "<table border=\"1\" class=\"dataframe\">\n",
       "  <thead>\n",
       "    <tr style=\"text-align: right;\">\n",
       "      <th></th>\n",
       "      <th>Date</th>\n",
       "      <th>Symbol</th>\n",
       "      <th>Exchange</th>\n",
       "      <th>garch</th>\n",
       "      <th>svr</th>\n",
       "      <th>mlp</th>\n",
       "      <th>LSTM</th>\n",
       "      <th>prev_Close</th>\n",
       "      <th>prediction</th>\n",
       "      <th>volatility</th>\n",
       "      <th>ActualDate</th>\n",
       "      <th>ActualClose</th>\n",
       "      <th>ActualPercent</th>\n",
       "      <th>ActualStd</th>\n",
       "      <th>ActualTrend</th>\n",
       "    </tr>\n",
       "  </thead>\n",
       "  <tbody>\n",
       "    <tr>\n",
       "      <th>0</th>\n",
       "      <td>2022-01-03</td>\n",
       "      <td>AAL</td>\n",
       "      <td>NASDAQ</td>\n",
       "      <td>7.80073</td>\n",
       "      <td>2.68296</td>\n",
       "      <td>2.67993</td>\n",
       "      <td>19.2347</td>\n",
       "      <td>18.75</td>\n",
       "      <td>1.0</td>\n",
       "      <td>2.68144</td>\n",
       "      <td>2022-01-04</td>\n",
       "      <td>19.02</td>\n",
       "      <td>1.440000</td>\n",
       "      <td>NaN</td>\n",
       "      <td>0.0</td>\n",
       "    </tr>\n",
       "    <tr>\n",
       "      <th>1</th>\n",
       "      <td>2022-01-03</td>\n",
       "      <td>AAPL</td>\n",
       "      <td>NASDAQ</td>\n",
       "      <td>2.24893</td>\n",
       "      <td>1.38374</td>\n",
       "      <td>1.34301</td>\n",
       "      <td>161.6390</td>\n",
       "      <td>182.01</td>\n",
       "      <td>0.0</td>\n",
       "      <td>1.36338</td>\n",
       "      <td>2022-01-04</td>\n",
       "      <td>179.70</td>\n",
       "      <td>1.269161</td>\n",
       "      <td>NaN</td>\n",
       "      <td>0.0</td>\n",
       "    </tr>\n",
       "    <tr>\n",
       "      <th>2</th>\n",
       "      <td>2022-01-03</td>\n",
       "      <td>AMAT</td>\n",
       "      <td>NASDAQ</td>\n",
       "      <td>4.97567</td>\n",
       "      <td>1.58561</td>\n",
       "      <td>1.55923</td>\n",
       "      <td>141.7830</td>\n",
       "      <td>159.93</td>\n",
       "      <td>0.0</td>\n",
       "      <td>1.57242</td>\n",
       "      <td>2022-01-04</td>\n",
       "      <td>158.36</td>\n",
       "      <td>0.981679</td>\n",
       "      <td>NaN</td>\n",
       "      <td>0.0</td>\n",
       "    </tr>\n",
       "    <tr>\n",
       "      <th>3</th>\n",
       "      <td>2022-01-03</td>\n",
       "      <td>AMC</td>\n",
       "      <td>NYSE</td>\n",
       "      <td>30.51760</td>\n",
       "      <td>3.79159</td>\n",
       "      <td>4.79857</td>\n",
       "      <td>37.5044</td>\n",
       "      <td>26.52</td>\n",
       "      <td>1.0</td>\n",
       "      <td>4.29508</td>\n",
       "      <td>2022-01-04</td>\n",
       "      <td>25.49</td>\n",
       "      <td>3.883861</td>\n",
       "      <td>NaN</td>\n",
       "      <td>-1.0</td>\n",
       "    </tr>\n",
       "    <tr>\n",
       "      <th>4</th>\n",
       "      <td>2022-01-03</td>\n",
       "      <td>AMD</td>\n",
       "      <td>NASDAQ</td>\n",
       "      <td>8.68112</td>\n",
       "      <td>3.00354</td>\n",
       "      <td>2.91554</td>\n",
       "      <td>138.2090</td>\n",
       "      <td>150.24</td>\n",
       "      <td>-1.0</td>\n",
       "      <td>2.95954</td>\n",
       "      <td>2022-01-04</td>\n",
       "      <td>144.42</td>\n",
       "      <td>3.873802</td>\n",
       "      <td>NaN</td>\n",
       "      <td>-1.0</td>\n",
       "    </tr>\n",
       "  </tbody>\n",
       "</table>\n",
       "</div>"
      ],
      "text/plain": [
       "         Date Symbol Exchange     garch      svr      mlp      LSTM  \\\n",
       "0  2022-01-03    AAL   NASDAQ   7.80073  2.68296  2.67993   19.2347   \n",
       "1  2022-01-03   AAPL   NASDAQ   2.24893  1.38374  1.34301  161.6390   \n",
       "2  2022-01-03   AMAT   NASDAQ   4.97567  1.58561  1.55923  141.7830   \n",
       "3  2022-01-03    AMC     NYSE  30.51760  3.79159  4.79857   37.5044   \n",
       "4  2022-01-03    AMD   NASDAQ   8.68112  3.00354  2.91554  138.2090   \n",
       "\n",
       "   prev_Close  prediction  volatility  ActualDate  ActualClose  ActualPercent  \\\n",
       "0       18.75         1.0     2.68144  2022-01-04        19.02       1.440000   \n",
       "1      182.01         0.0     1.36338  2022-01-04       179.70       1.269161   \n",
       "2      159.93         0.0     1.57242  2022-01-04       158.36       0.981679   \n",
       "3       26.52         1.0     4.29508  2022-01-04        25.49       3.883861   \n",
       "4      150.24        -1.0     2.95954  2022-01-04       144.42       3.873802   \n",
       "\n",
       "   ActualStd  ActualTrend  \n",
       "0        NaN          0.0  \n",
       "1        NaN          0.0  \n",
       "2        NaN          0.0  \n",
       "3        NaN         -1.0  \n",
       "4        NaN         -1.0  "
      ]
     },
     "execution_count": 12,
     "metadata": {},
     "output_type": "execute_result"
    }
   ],
   "source": [
    "file = \"dailyPerf_2022-01-01_2022-04-14.csv\"\n",
    "df = pd.read_csv(file)\n",
    "df.head()"
   ]
  },
  {
   "cell_type": "code",
   "execution_count": 13,
   "id": "90f303de-3fd5-4546-ba89-88e7c36d9efb",
   "metadata": {},
   "outputs": [],
   "source": [
    "from sklearn.preprocessing import StandardScaler\n",
    "from sklearn.pipeline import Pipeline\n",
    "from sklearn.linear_model import ElasticNet\n",
    "from sklearn.model_selection import train_test_split, GridSearchCV\n",
    "import warnings\n",
    "warnings.filterwarnings('ignore')"
   ]
  },
  {
   "cell_type": "code",
   "execution_count": 14,
   "id": "f0ae1f53-3483-4cf6-9fbf-b6100c6168c8",
   "metadata": {},
   "outputs": [],
   "source": [
    "X = df[[\"garch\", \"svr\", \"mlp\"]]\n",
    "y = df[\"ActualPercent\"]"
   ]
  },
  {
   "cell_type": "code",
   "execution_count": 15,
   "id": "c83859c4-c0fb-49ae-84eb-7a82b16274e5",
   "metadata": {},
   "outputs": [
    {
     "name": "stdout",
     "output_type": "stream",
     "text": [
      "Tuned ElasticNet Alpha: {'elasticnet__l1_ratio': 0.13793103448275862}\n",
      "Tuned ElasticNet R squared: 0.08153587733133816\n",
      "Tuned ElasticNet MSE: 8.271451498604332\n"
     ]
    }
   ],
   "source": [
    "# Setup the pipeline steps: steps\n",
    "steps = [('scaler', StandardScaler()),\n",
    "         ('elasticnet', ElasticNet())]\n",
    "\n",
    "# Create the pipeline: pipeline \n",
    "pipeline = Pipeline(steps)\n",
    "\n",
    "# Specify the hyperparameter space\n",
    "parameters = {'elasticnet__l1_ratio':np.linspace(0,1,30)}\n",
    "\n",
    "# Create train and test sets\n",
    "X_train, X_test, y_train, y_test = train_test_split(X, y, test_size=0.1)\n",
    "\n",
    "# Create the GridSearchCV object: gm_cv\n",
    "gm_cv = GridSearchCV(pipeline, parameters)\n",
    "\n",
    "# Fit to the training set\n",
    "gm_cv.fit(X_train, y_train)\n",
    "\n",
    "# Compute and print the metrics\n",
    "r2 = gm_cv.score(X_test, y_test)\n",
    "y_pred = gm_cv.predict(X_test)\n",
    "mse = MSE(y_pred, y_test)\n",
    "print(\"Tuned ElasticNet Alpha: {}\".format(gm_cv.best_params_))\n",
    "print(\"Tuned ElasticNet R squared: {}\".format(r2))\n",
    "print(\"Tuned ElasticNet MSE: {}\".format(mse))"
   ]
  },
  {
   "cell_type": "code",
   "execution_count": 16,
   "id": "ffb7cf75-a135-4047-836c-3236b817b539",
   "metadata": {},
   "outputs": [],
   "source": [
    "df[\"ElasticNet_vol\"] = gm_cv.predict(X)"
   ]
  },
  {
   "cell_type": "code",
   "execution_count": 17,
   "id": "af0e5d13-fc2e-4d7a-855f-63db70e66e04",
   "metadata": {},
   "outputs": [],
   "source": [
    "def get_price_movement(change):\n",
    "    if change > 0:\n",
    "        return 1\n",
    "    elif change < 0:\n",
    "        return -1\n",
    "    else:\n",
    "        return 0\n",
    "\n",
    "def get_above_threshold(volatility, threshold):\n",
    "    if volatility > threshold:\n",
    "        return True\n",
    "    else:\n",
    "        return False\n",
    "\n",
    "def get_prediction(df):\n",
    "    if df[\"new_price_movement\"] == 1 and df[\"new_above_threshold\"]:\n",
    "        return 1 \n",
    "    elif df[\"new_price_movement\"] == -1 and df[\"new_above_threshold\"]:\n",
    "        return -1 \n",
    "    else:\n",
    "        return 0"
   ]
  },
  {
   "cell_type": "code",
   "execution_count": 8,
   "id": "62f561f8-8385-4ad9-8cc8-cc5fa5fc9157",
   "metadata": {},
   "outputs": [],
   "source": [
    "threshold = 2\n",
    "df[\"actual_above_threshold\"] = df.ActualPercent.apply(lambda x: get_above_threshold(x, threshold))\n",
    "df[\"en_above_threshold\"] = df[\"ElasticNet_vol\"].apply(lambda x: get_above_threshold(x, threshold))"
   ]
  },
  {
   "cell_type": "code",
   "execution_count": 9,
   "id": "d2d78199-33f8-4578-aa25-88ec2532740e",
   "metadata": {},
   "outputs": [
    {
     "data": {
      "text/plain": [
       "0.6758608573436402"
      ]
     },
     "execution_count": 9,
     "metadata": {},
     "output_type": "execute_result"
    }
   ],
   "source": [
    "accuracy_score(df.actual_above_threshold, df.en_above_threshold, normalize=True)"
   ]
  },
  {
   "cell_type": "code",
   "execution_count": null,
   "id": "506fe08b-f815-4b21-9e93-736eeb433c57",
   "metadata": {},
   "outputs": [],
   "source": [
    "from sklearn.metrics import accuracy_score"
   ]
  },
  {
   "cell_type": "markdown",
   "id": "ce7eee39-ae84-405d-8004-8e8fd5d1aac2",
   "metadata": {},
   "source": [
    "## Performance"
   ]
  },
  {
   "cell_type": "code",
   "execution_count": 50,
   "id": "0bd7aef2-72cb-49ae-9812-30711dd5ccb8",
   "metadata": {},
   "outputs": [
    {
     "data": {
      "text/plain": [
       "5.71199751693596"
      ]
     },
     "execution_count": 50,
     "metadata": {},
     "output_type": "execute_result"
    }
   ],
   "source": [
    "MSE(df[\"ElasticNet_vol\"], df.ActualPercent)"
   ]
  },
  {
   "cell_type": "code",
   "execution_count": 51,
   "id": "fab72b01-5ff1-4d84-b6d0-40001ce8702c",
   "metadata": {},
   "outputs": [
    {
     "name": "stdout",
     "output_type": "stream",
     "text": [
      "0.0774054222346882\n"
     ]
    }
   ],
   "source": [
    "from sklearn.model_selection import cross_val_score\n",
    "cvscores_3 = cross_val_score(gm_cv, X, y,cv=3)\n",
    "print(np.mean(cvscores_3))"
   ]
  },
  {
   "cell_type": "code",
   "execution_count": null,
   "id": "bde1ec1c-f1aa-4824-bc41-39fc84d601d1",
   "metadata": {},
   "outputs": [],
   "source": []
  },
  {
   "cell_type": "code",
   "execution_count": null,
   "id": "eb583155-09c3-4140-ae42-2646ba1edfba",
   "metadata": {},
   "outputs": [],
   "source": []
  }
 ],
 "metadata": {
  "kernelspec": {
   "display_name": "Python 3 (ipykernel)",
   "language": "python",
   "name": "python3"
  },
  "language_info": {
   "codemirror_mode": {
    "name": "ipython",
    "version": 3
   },
   "file_extension": ".py",
   "mimetype": "text/x-python",
   "name": "python",
   "nbconvert_exporter": "python",
   "pygments_lexer": "ipython3",
   "version": "3.8.12"
  }
 },
 "nbformat": 4,
 "nbformat_minor": 5
}
