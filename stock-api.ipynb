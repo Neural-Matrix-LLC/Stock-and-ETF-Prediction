{
 "cells": [
  {
   "cell_type": "markdown",
   "id": "e9fb74b3-804c-4b24-94ef-ce645a332342",
   "metadata": {},
   "source": [
    "# Stock API\n",
    "Using [Yahoo Finance API](https://python-yahoofinance.readthedocs.io/en/latest/api.html) to get stock information."
   ]
  },
  {
   "cell_type": "markdown",
   "id": "49702f73-1764-4f3f-93a5-75c4851c22ee",
   "metadata": {},
   "source": [
    "# Import Libraries"
   ]
  },
  {
   "cell_type": "code",
   "execution_count": 114,
   "id": "8b275045-34eb-408c-9744-4841a627c713",
   "metadata": {},
   "outputs": [],
   "source": [
    "import pandas as pd\n",
    "import numpy as np\n",
    "import matplotlib.pyplot as plt\n",
    "import seaborn as sns\n",
    "from datetime import datetime\n",
    "import math\n",
    "from os import walk\n",
    "\n",
    "import yfinance as yf"
   ]
  },
  {
   "cell_type": "markdown",
   "id": "6bbeb089-3b52-4646-87bb-b7c986900619",
   "metadata": {},
   "source": [
    "# Data"
   ]
  },
  {
   "cell_type": "code",
   "execution_count": 115,
   "id": "51262eec-3bcc-44e1-9f87-b9dc3c578529",
   "metadata": {},
   "outputs": [
    {
     "name": "stdout",
     "output_type": "stream",
     "text": [
      "Number of Stocks: 43\n"
     ]
    }
   ],
   "source": [
    "path = \"Sample Data/\"\n",
    "filenames = next(walk(path), (None, None, []))[2]\n",
    "print(\"Number of Stocks:\", len(filenames))"
   ]
  },
  {
   "cell_type": "code",
   "execution_count": 116,
   "id": "ab08a28c-a2d9-4c93-9d69-5e9cfae7f2d8",
   "metadata": {},
   "outputs": [
    {
     "data": {
      "text/plain": [
       "['TSLA', 'AAPL', 'JNJ', 'JPM', 'AMZN']"
      ]
     },
     "execution_count": 116,
     "metadata": {},
     "output_type": "execute_result"
    }
   ],
   "source": [
    "tickerSymbols = [file.split(\"_\", 1)[0] for file in filenames]\n",
    "tickerSymbols[0:5]"
   ]
  },
  {
   "cell_type": "code",
   "execution_count": 117,
   "id": "e7def7d6-ef91-4ab9-9581-3aa13a87352f",
   "metadata": {},
   "outputs": [
    {
     "data": {
      "text/plain": [
       "'TSLA'"
      ]
     },
     "execution_count": 117,
     "metadata": {},
     "output_type": "execute_result"
    }
   ],
   "source": [
    "index = 0\n",
    "tickerSymbol = tickerSymbols[index]\n",
    "tickerSymbol"
   ]
  },
  {
   "cell_type": "markdown",
   "id": "84999afe-7528-4343-a7ea-01786df91f7d",
   "metadata": {},
   "source": [
    "## Fetch stock data from yahoo finance"
   ]
  },
  {
   "cell_type": "code",
   "execution_count": 122,
   "id": "0389b4af-8565-4a7c-ba93-2d4bd17db194",
   "metadata": {},
   "outputs": [
    {
     "name": "stdout",
     "output_type": "stream",
     "text": [
      "[*********************100%***********************]  1 of 1 completed\n"
     ]
    }
   ],
   "source": [
    "start = \"2020-09-08\"\n",
    "end = \"2021-01-29\"\n",
    "stock_data = yf.download(tickerSymbol, start=\"2016-01-04\", end=\"2021-04-30\")"
   ]
  },
  {
   "cell_type": "code",
   "execution_count": 123,
   "id": "a1a54564-7cc4-4b18-aa36-439b3f2f7cf6",
   "metadata": {},
   "outputs": [],
   "source": [
    "stock_data['Return'] = 100 * (stock_data['Close'].pct_change())"
   ]
  },
  {
   "cell_type": "code",
   "execution_count": null,
   "id": "e41c5504-4843-461e-bf7f-2669e6b75c9e",
   "metadata": {},
   "outputs": [],
   "source": []
  },
  {
   "cell_type": "code",
   "execution_count": null,
   "id": "e46ba890-99b7-4ab7-b047-43ef08dc9b81",
   "metadata": {},
   "outputs": [],
   "source": []
  },
  {
   "cell_type": "code",
   "execution_count": null,
   "id": "ebe1a9ca-5115-4cfd-9cb9-34199968de66",
   "metadata": {},
   "outputs": [],
   "source": []
  }
 ],
 "metadata": {
  "kernelspec": {
   "display_name": "Python 3",
   "language": "python",
   "name": "python3"
  },
  "language_info": {
   "codemirror_mode": {
    "name": "ipython",
    "version": 3
   },
   "file_extension": ".py",
   "mimetype": "text/x-python",
   "name": "python",
   "nbconvert_exporter": "python",
   "pygments_lexer": "ipython3",
   "version": "3.8.10"
  }
 },
 "nbformat": 4,
 "nbformat_minor": 5
}
