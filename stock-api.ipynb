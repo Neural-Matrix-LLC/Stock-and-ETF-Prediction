{
 "cells": [
  {
   "cell_type": "markdown",
   "id": "e9fb74b3-804c-4b24-94ef-ce645a332342",
   "metadata": {},
   "source": [
    "# Stock API\n",
    "Using [Yahoo Finance API](https://python-yahoofinance.readthedocs.io/en/latest/api.html) to get stock information."
   ]
  },
  {
   "cell_type": "markdown",
   "id": "49702f73-1764-4f3f-93a5-75c4851c22ee",
   "metadata": {},
   "source": [
    "# Import Libraries"
   ]
  },
  {
   "cell_type": "code",
   "execution_count": null,
   "id": "00f817ac-4743-49b2-9021-abd9003f30d1",
   "metadata": {},
   "outputs": [
    {
     "name": "stdout",
     "output_type": "stream",
     "text": [
      "Collecting fastai\n",
      "  Downloading fastai-2.5.2-py3-none-any.whl (186 kB)\n",
      "\u001b[K     |████████████████████████████████| 186 kB 5.7 MB/s eta 0:00:01\n",
      "\u001b[?25hRequirement already satisfied: pillow>6.0.0 in /Users/simplypatrickg/anaconda3/lib/python3.8/site-packages (from fastai) (8.2.0)\n",
      "Collecting torch<1.10,>=1.7.0\n",
      "  Downloading torch-1.9.0-cp38-none-macosx_10_9_x86_64.whl (127.9 MB)\n",
      "\u001b[K     |████████████████████████████████| 127.9 MB 82.9 MB/s eta 0:00:01\n",
      "\u001b[?25hRequirement already satisfied: requests in /Users/simplypatrickg/anaconda3/lib/python3.8/site-packages (from fastai) (2.26.0)\n",
      "Requirement already satisfied: scipy in /Users/simplypatrickg/anaconda3/lib/python3.8/site-packages (from fastai) (1.6.2)\n",
      "Requirement already satisfied: scikit-learn in /Users/simplypatrickg/anaconda3/lib/python3.8/site-packages (from fastai) (0.23.2)\n",
      "Requirement already satisfied: packaging in /Users/simplypatrickg/anaconda3/lib/python3.8/site-packages (from fastai) (20.9)\n",
      "Collecting spacy<4\n",
      "  Downloading spacy-3.1.2-cp38-cp38-macosx_10_9_x86_64.whl (6.0 MB)\n",
      "\u001b[K     |████████████████████████████████| 6.0 MB 12.6 MB/s eta 0:00:01\n",
      "\u001b[?25hRequirement already satisfied: pip in /Users/simplypatrickg/anaconda3/lib/python3.8/site-packages (from fastai) (21.2.4)\n",
      "Collecting torchvision>=0.8.2\n",
      "  Downloading torchvision-0.10.0-cp38-cp38-macosx_10_9_x86_64.whl (13.9 MB)\n",
      "\u001b[K     |████████████████████████████████| 13.9 MB 16.9 MB/s eta 0:00:01\n",
      "\u001b[?25hCollecting fastdownload<2,>=0.0.5\n",
      "  Downloading fastdownload-0.0.5-py3-none-any.whl (13 kB)\n",
      "Collecting fastprogress>=0.2.4\n",
      "  Downloading fastprogress-1.0.0-py3-none-any.whl (12 kB)\n",
      "Requirement already satisfied: pyyaml in /Users/simplypatrickg/anaconda3/lib/python3.8/site-packages (from fastai) (5.4.1)\n",
      "Requirement already satisfied: matplotlib in /Users/simplypatrickg/anaconda3/lib/python3.8/site-packages (from fastai) (3.3.4)\n",
      "Requirement already satisfied: pandas in /Users/simplypatrickg/anaconda3/lib/python3.8/site-packages (from fastai) (1.2.4)\n",
      "Collecting fastcore<1.4,>=1.3.8\n",
      "  Downloading fastcore-1.3.26-py3-none-any.whl (56 kB)\n",
      "\u001b[K     |████████████████████████████████| 56 kB 13.4 MB/s eta 0:00:01\n",
      "\u001b[?25hRequirement already satisfied: numpy in /Users/simplypatrickg/anaconda3/lib/python3.8/site-packages (from fastprogress>=0.2.4->fastai) (1.19.5)\n",
      "Collecting spacy-legacy<3.1.0,>=3.0.7\n",
      "  Downloading spacy_legacy-3.0.8-py2.py3-none-any.whl (14 kB)\n",
      "Requirement already satisfied: tqdm<5.0.0,>=4.38.0 in /Users/simplypatrickg/anaconda3/lib/python3.8/site-packages (from spacy<4->fastai) (4.59.0)\n",
      "Collecting srsly<3.0.0,>=2.4.1\n",
      "  Downloading srsly-2.4.1-cp38-cp38-macosx_10_9_x86_64.whl (450 kB)\n",
      "\u001b[K     |████████████████████████████████| 450 kB 74.7 MB/s eta 0:00:01\n",
      "\u001b[?25hCollecting blis<0.8.0,>=0.4.0\n",
      "  Downloading blis-0.7.4-cp38-cp38-macosx_10_9_x86_64.whl (5.8 MB)\n",
      "\u001b[K     |████████████████████████████████| 5.8 MB 19.0 MB/s eta 0:00:01\n",
      "\u001b[?25hCollecting catalogue<2.1.0,>=2.0.4\n"
     ]
    }
   ],
   "source": [
    "!pip install fastai"
   ]
  },
  {
   "cell_type": "code",
   "execution_count": 62,
   "id": "8b275045-34eb-408c-9744-4841a627c713",
   "metadata": {},
   "outputs": [
    {
     "ename": "ModuleNotFoundError",
     "evalue": "No module named 'fastai'",
     "output_type": "error",
     "traceback": [
      "\u001b[0;31m---------------------------------------------------------------------------\u001b[0m",
      "\u001b[0;31mModuleNotFoundError\u001b[0m                       Traceback (most recent call last)",
      "\u001b[0;32m<ipython-input-62-a921a811fd85>\u001b[0m in \u001b[0;36m<module>\u001b[0;34m\u001b[0m\n\u001b[1;32m      9\u001b[0m \u001b[0;32mimport\u001b[0m \u001b[0myfinance\u001b[0m \u001b[0;32mas\u001b[0m \u001b[0myf\u001b[0m\u001b[0;34m\u001b[0m\u001b[0;34m\u001b[0m\u001b[0m\n\u001b[1;32m     10\u001b[0m \u001b[0;32mfrom\u001b[0m \u001b[0mta\u001b[0m \u001b[0;32mimport\u001b[0m \u001b[0madd_all_ta_features\u001b[0m\u001b[0;34m\u001b[0m\u001b[0;34m\u001b[0m\u001b[0m\n\u001b[0;32m---> 11\u001b[0;31m \u001b[0;32mimport\u001b[0m \u001b[0mfastai\u001b[0m\u001b[0;34m.\u001b[0m\u001b[0mtabular\u001b[0m\u001b[0;34m\u001b[0m\u001b[0;34m\u001b[0m\u001b[0m\n\u001b[0m",
      "\u001b[0;31mModuleNotFoundError\u001b[0m: No module named 'fastai'"
     ]
    }
   ],
   "source": [
    "import pandas as pd\n",
    "import numpy as np\n",
    "import matplotlib.pyplot as plt\n",
    "import seaborn as sns\n",
    "from datetime import datetime\n",
    "import math\n",
    "from os import walk\n",
    "\n",
    "import yfinance as yf\n",
    "from ta import add_all_ta_features\n",
    "import fastai.tabular"
   ]
  },
  {
   "cell_type": "markdown",
   "id": "6bbeb089-3b52-4646-87bb-b7c986900619",
   "metadata": {},
   "source": [
    "# Data"
   ]
  },
  {
   "cell_type": "code",
   "execution_count": 54,
   "id": "51262eec-3bcc-44e1-9f87-b9dc3c578529",
   "metadata": {},
   "outputs": [
    {
     "name": "stdout",
     "output_type": "stream",
     "text": [
      "Number of Stocks: 43\n"
     ]
    }
   ],
   "source": [
    "path = \"Sample Data/\"\n",
    "filenames = next(walk(path), (None, None, []))[2]\n",
    "print(\"Number of Stocks:\", len(filenames))"
   ]
  },
  {
   "cell_type": "code",
   "execution_count": 55,
   "id": "ab08a28c-a2d9-4c93-9d69-5e9cfae7f2d8",
   "metadata": {},
   "outputs": [
    {
     "data": {
      "text/plain": [
       "['TSLA', 'AAPL', 'JNJ', 'JPM', 'AMZN']"
      ]
     },
     "execution_count": 55,
     "metadata": {},
     "output_type": "execute_result"
    }
   ],
   "source": [
    "tickerSymbols = [file.split(\"_\", 1)[0] for file in filenames]\n",
    "tickerSymbols[0:5]"
   ]
  },
  {
   "cell_type": "code",
   "execution_count": 56,
   "id": "e7def7d6-ef91-4ab9-9581-3aa13a87352f",
   "metadata": {},
   "outputs": [
    {
     "data": {
      "text/plain": [
       "'TSLA'"
      ]
     },
     "execution_count": 56,
     "metadata": {},
     "output_type": "execute_result"
    }
   ],
   "source": [
    "index = 0\n",
    "tickerSymbol = tickerSymbols[index]\n",
    "tickerSymbol"
   ]
  },
  {
   "cell_type": "code",
   "execution_count": 57,
   "id": "f207554e-583b-48cb-828d-ed6e8b6d914f",
   "metadata": {},
   "outputs": [
    {
     "data": {
      "text/html": [
       "<div>\n",
       "<style scoped>\n",
       "    .dataframe tbody tr th:only-of-type {\n",
       "        vertical-align: middle;\n",
       "    }\n",
       "\n",
       "    .dataframe tbody tr th {\n",
       "        vertical-align: top;\n",
       "    }\n",
       "\n",
       "    .dataframe thead th {\n",
       "        text-align: right;\n",
       "    }\n",
       "</style>\n",
       "<table border=\"1\" class=\"dataframe\">\n",
       "  <thead>\n",
       "    <tr style=\"text-align: right;\">\n",
       "      <th></th>\n",
       "      <th>date</th>\n",
       "      <th>symbol</th>\n",
       "      <th>open</th>\n",
       "      <th>high</th>\n",
       "      <th>low</th>\n",
       "      <th>close</th>\n",
       "      <th>volume</th>\n",
       "      <th>turnover</th>\n",
       "      <th>preclose</th>\n",
       "      <th>risefall</th>\n",
       "      <th>risefallratio</th>\n",
       "    </tr>\n",
       "  </thead>\n",
       "  <tbody>\n",
       "    <tr>\n",
       "      <th>0</th>\n",
       "      <td>2021-01-29 00:00:00</td>\n",
       "      <td>TSLA</td>\n",
       "      <td>830.00</td>\n",
       "      <td>842.41</td>\n",
       "      <td>780.10</td>\n",
       "      <td>793.53</td>\n",
       "      <td>2.817083e+10</td>\n",
       "      <td>0</td>\n",
       "      <td>835.43</td>\n",
       "      <td>-41.90</td>\n",
       "      <td>-5.02</td>\n",
       "    </tr>\n",
       "    <tr>\n",
       "      <th>1</th>\n",
       "      <td>2021-01-28 00:00:00</td>\n",
       "      <td>TSLA</td>\n",
       "      <td>820.00</td>\n",
       "      <td>848.00</td>\n",
       "      <td>801.00</td>\n",
       "      <td>835.43</td>\n",
       "      <td>2.193008e+10</td>\n",
       "      <td>0</td>\n",
       "      <td>864.16</td>\n",
       "      <td>-28.73</td>\n",
       "      <td>-3.32</td>\n",
       "    </tr>\n",
       "    <tr>\n",
       "      <th>2</th>\n",
       "      <td>2021-01-27 00:00:00</td>\n",
       "      <td>TSLA</td>\n",
       "      <td>870.35</td>\n",
       "      <td>891.50</td>\n",
       "      <td>858.66</td>\n",
       "      <td>864.16</td>\n",
       "      <td>2.375123e+10</td>\n",
       "      <td>0</td>\n",
       "      <td>883.09</td>\n",
       "      <td>-18.93</td>\n",
       "      <td>-2.14</td>\n",
       "    </tr>\n",
       "    <tr>\n",
       "      <th>3</th>\n",
       "      <td>2021-01-26 00:00:00</td>\n",
       "      <td>TSLA</td>\n",
       "      <td>891.38</td>\n",
       "      <td>895.90</td>\n",
       "      <td>871.60</td>\n",
       "      <td>883.09</td>\n",
       "      <td>2.052623e+10</td>\n",
       "      <td>0</td>\n",
       "      <td>880.80</td>\n",
       "      <td>2.29</td>\n",
       "      <td>0.26</td>\n",
       "    </tr>\n",
       "    <tr>\n",
       "      <th>4</th>\n",
       "      <td>2021-01-25 00:00:00</td>\n",
       "      <td>TSLA</td>\n",
       "      <td>855.00</td>\n",
       "      <td>900.40</td>\n",
       "      <td>838.82</td>\n",
       "      <td>880.80</td>\n",
       "      <td>3.611176e+10</td>\n",
       "      <td>0</td>\n",
       "      <td>846.64</td>\n",
       "      <td>34.16</td>\n",
       "      <td>4.03</td>\n",
       "    </tr>\n",
       "    <tr>\n",
       "      <th>...</th>\n",
       "      <td>...</td>\n",
       "      <td>...</td>\n",
       "      <td>...</td>\n",
       "      <td>...</td>\n",
       "      <td>...</td>\n",
       "      <td>...</td>\n",
       "      <td>...</td>\n",
       "      <td>...</td>\n",
       "      <td>...</td>\n",
       "      <td>...</td>\n",
       "      <td>...</td>\n",
       "    </tr>\n",
       "    <tr>\n",
       "      <th>95</th>\n",
       "      <td>2020-09-14 00:00:00</td>\n",
       "      <td>TSLA</td>\n",
       "      <td>380.95</td>\n",
       "      <td>420.00</td>\n",
       "      <td>373.30</td>\n",
       "      <td>419.62</td>\n",
       "      <td>3.330614e+10</td>\n",
       "      <td>0</td>\n",
       "      <td>372.72</td>\n",
       "      <td>46.90</td>\n",
       "      <td>12.58</td>\n",
       "    </tr>\n",
       "    <tr>\n",
       "      <th>96</th>\n",
       "      <td>2020-09-11 00:00:00</td>\n",
       "      <td>TSLA</td>\n",
       "      <td>381.94</td>\n",
       "      <td>382.50</td>\n",
       "      <td>360.50</td>\n",
       "      <td>372.72</td>\n",
       "      <td>2.248211e+10</td>\n",
       "      <td>0</td>\n",
       "      <td>371.34</td>\n",
       "      <td>1.38</td>\n",
       "      <td>0.37</td>\n",
       "    </tr>\n",
       "    <tr>\n",
       "      <th>97</th>\n",
       "      <td>2020-09-10 00:00:00</td>\n",
       "      <td>TSLA</td>\n",
       "      <td>386.21</td>\n",
       "      <td>398.99</td>\n",
       "      <td>360.56</td>\n",
       "      <td>371.34</td>\n",
       "      <td>3.244167e+10</td>\n",
       "      <td>0</td>\n",
       "      <td>366.28</td>\n",
       "      <td>5.06</td>\n",
       "      <td>1.38</td>\n",
       "    </tr>\n",
       "    <tr>\n",
       "      <th>98</th>\n",
       "      <td>2020-09-09 00:00:00</td>\n",
       "      <td>TSLA</td>\n",
       "      <td>356.60</td>\n",
       "      <td>369.00</td>\n",
       "      <td>341.51</td>\n",
       "      <td>366.28</td>\n",
       "      <td>2.825391e+10</td>\n",
       "      <td>0</td>\n",
       "      <td>330.21</td>\n",
       "      <td>36.07</td>\n",
       "      <td>10.92</td>\n",
       "    </tr>\n",
       "    <tr>\n",
       "      <th>99</th>\n",
       "      <td>2020-09-08 00:00:00</td>\n",
       "      <td>TSLA</td>\n",
       "      <td>356.00</td>\n",
       "      <td>368.74</td>\n",
       "      <td>329.88</td>\n",
       "      <td>330.21</td>\n",
       "      <td>4.018356e+10</td>\n",
       "      <td>0</td>\n",
       "      <td>418.32</td>\n",
       "      <td>-88.11</td>\n",
       "      <td>-21.06</td>\n",
       "    </tr>\n",
       "  </tbody>\n",
       "</table>\n",
       "<p>100 rows × 11 columns</p>\n",
       "</div>"
      ],
      "text/plain": [
       "                   date symbol    open    high     low   close        volume  \\\n",
       "0   2021-01-29 00:00:00   TSLA  830.00  842.41  780.10  793.53  2.817083e+10   \n",
       "1   2021-01-28 00:00:00   TSLA  820.00  848.00  801.00  835.43  2.193008e+10   \n",
       "2   2021-01-27 00:00:00   TSLA  870.35  891.50  858.66  864.16  2.375123e+10   \n",
       "3   2021-01-26 00:00:00   TSLA  891.38  895.90  871.60  883.09  2.052623e+10   \n",
       "4   2021-01-25 00:00:00   TSLA  855.00  900.40  838.82  880.80  3.611176e+10   \n",
       "..                  ...    ...     ...     ...     ...     ...           ...   \n",
       "95  2020-09-14 00:00:00   TSLA  380.95  420.00  373.30  419.62  3.330614e+10   \n",
       "96  2020-09-11 00:00:00   TSLA  381.94  382.50  360.50  372.72  2.248211e+10   \n",
       "97  2020-09-10 00:00:00   TSLA  386.21  398.99  360.56  371.34  3.244167e+10   \n",
       "98  2020-09-09 00:00:00   TSLA  356.60  369.00  341.51  366.28  2.825391e+10   \n",
       "99  2020-09-08 00:00:00   TSLA  356.00  368.74  329.88  330.21  4.018356e+10   \n",
       "\n",
       "    turnover  preclose  risefall  risefallratio  \n",
       "0          0    835.43    -41.90          -5.02  \n",
       "1          0    864.16    -28.73          -3.32  \n",
       "2          0    883.09    -18.93          -2.14  \n",
       "3          0    880.80      2.29           0.26  \n",
       "4          0    846.64     34.16           4.03  \n",
       "..       ...       ...       ...            ...  \n",
       "95         0    372.72     46.90          12.58  \n",
       "96         0    371.34      1.38           0.37  \n",
       "97         0    366.28      5.06           1.38  \n",
       "98         0    330.21     36.07          10.92  \n",
       "99         0    418.32    -88.11         -21.06  \n",
       "\n",
       "[100 rows x 11 columns]"
      ]
     },
     "execution_count": 57,
     "metadata": {},
     "output_type": "execute_result"
    }
   ],
   "source": [
    "stock = pd.read_csv(path + filenames[index])\n",
    "stock"
   ]
  },
  {
   "cell_type": "code",
   "execution_count": 58,
   "id": "0389b4af-8565-4a7c-ba93-2d4bd17db194",
   "metadata": {},
   "outputs": [
    {
     "name": "stdout",
     "output_type": "stream",
     "text": [
      "Date range: 2020-09-08 to 2021-01-29\n"
     ]
    }
   ],
   "source": [
    "stock['date']  = pd.to_datetime(stock['date']).astype(str)\n",
    "stock['date']\n",
    "endDate = max(stock[\"date\"])\n",
    "startDate = min(stock[\"date\"])\n",
    "print(\"Date range:\", startDate, \"to\", endDate)"
   ]
  },
  {
   "cell_type": "code",
   "execution_count": 59,
   "id": "a1a54564-7cc4-4b18-aa36-439b3f2f7cf6",
   "metadata": {},
   "outputs": [
    {
     "name": "stdout",
     "output_type": "stream",
     "text": [
      "                  Open       High         Low       Close     Volume  \\\n",
      "Date                                                                   \n",
      "2020-09-08  356.000000  368.73999  329.880005  330.209991  115465700   \n",
      "2020-09-09  356.600006  369.00000  341.510010  366.279999   79465800   \n",
      "2020-09-10  386.209991  398.98999  360.559998  371.339996   84930600   \n",
      "2020-09-11  381.940002  382.50000  360.500000  372.720001   60717500   \n",
      "2020-09-14  380.950012  420.00000  373.299988  419.619995   83020600   \n",
      "\n",
      "            Dividends  Stock Splits  \n",
      "Date                                 \n",
      "2020-09-08          0             0  \n",
      "2020-09-09          0             0  \n",
      "2020-09-10          0             0  \n",
      "2020-09-11          0             0  \n",
      "2020-09-14          0             0  \n"
     ]
    }
   ],
   "source": [
    "# Create ticker yfinance object\n",
    "tickerData = yf.Ticker(tickerSymbol)\n",
    "\n",
    "# Create historic data dataframe and fetch the data for the dates given. \n",
    "df = tickerData.history(start = startDate, end = endDate)\n",
    "\n",
    "# The dataframe has:\n",
    "#   - Date (YYY-MM-DD) as an index\n",
    "#   - Open (price the stock started as)\n",
    "#   - High (highest price stock reached that day)\n",
    "#   - Low (lowest price stock reached that day)\n",
    "#   - Close (price the stock ended the day as)\n",
    "#   - Volume (how many shares were traded that day)\n",
    "#   - Dividends (any earnings shared to shareholders)\n",
    "#   - Stock Splits (any stock price changes)\n",
    "\n",
    "print(df.head())"
   ]
  },
  {
   "cell_type": "code",
   "execution_count": 60,
   "id": "da5ec11a-bd98-4fb5-83e5-2d8f378c77ed",
   "metadata": {},
   "outputs": [],
   "source": [
    "# Change the date column to a pandas date time column \n",
    "\n",
    "# Define string format\n",
    "date_change = '%Y-%m-%d'\n",
    "\n",
    "# Create a new date column from the index\n",
    "df['Date'] = df.index\n",
    "\n",
    "# Perform the date type change\n",
    "df['Date'] = pd.to_datetime(df['Date'], format = date_change)\n",
    "\n",
    "# Create a variable that is the date column\n",
    "Dates = df['Date']"
   ]
  },
  {
   "cell_type": "code",
   "execution_count": 61,
   "id": "3b8ae3fa-d604-427a-9eb5-6dcbc1c22572",
   "metadata": {},
   "outputs": [
    {
     "name": "stdout",
     "output_type": "stream",
     "text": [
      "Index(['Open', 'High', 'Low', 'Close', 'Volume', 'Dividends', 'Stock Splits',\n",
      "       'Date', 'volume_adi', 'volume_obv', 'volume_cmf', 'volume_fi',\n",
      "       'volume_mfi', 'volume_em', 'volume_sma_em', 'volume_vpt', 'volume_nvi',\n",
      "       'volume_vwap', 'volatility_atr', 'volatility_bbm', 'volatility_bbh',\n",
      "       'volatility_bbl', 'volatility_bbw', 'volatility_bbp', 'volatility_bbhi',\n",
      "       'volatility_bbli', 'volatility_kcc', 'volatility_kch', 'volatility_kcl',\n",
      "       'volatility_kcw', 'volatility_kcp', 'volatility_kchi',\n",
      "       'volatility_kcli', 'volatility_dcl', 'volatility_dch', 'volatility_dcm',\n",
      "       'volatility_dcw', 'volatility_dcp', 'volatility_ui', 'trend_macd',\n",
      "       'trend_macd_signal', 'trend_macd_diff', 'trend_sma_fast',\n",
      "       'trend_sma_slow', 'trend_ema_fast', 'trend_ema_slow', 'trend_adx',\n",
      "       'trend_adx_pos', 'trend_adx_neg', 'trend_vortex_ind_pos',\n",
      "       'trend_vortex_ind_neg', 'trend_vortex_ind_diff', 'trend_trix',\n",
      "       'trend_mass_index', 'trend_cci', 'trend_dpo', 'trend_kst',\n",
      "       'trend_kst_sig', 'trend_kst_diff', 'trend_ichimoku_conv',\n",
      "       'trend_ichimoku_base', 'trend_ichimoku_a', 'trend_ichimoku_b',\n",
      "       'trend_visual_ichimoku_a', 'trend_visual_ichimoku_b', 'trend_aroon_up',\n",
      "       'trend_aroon_down', 'trend_aroon_ind', 'trend_psar_up',\n",
      "       'trend_psar_down', 'trend_psar_up_indicator',\n",
      "       'trend_psar_down_indicator', 'trend_stc', 'momentum_rsi',\n",
      "       'momentum_stoch_rsi', 'momentum_stoch_rsi_k', 'momentum_stoch_rsi_d',\n",
      "       'momentum_tsi', 'momentum_uo', 'momentum_stoch',\n",
      "       'momentum_stoch_signal', 'momentum_wr', 'momentum_ao', 'momentum_kama',\n",
      "       'momentum_roc', 'momentum_ppo', 'momentum_ppo_signal',\n",
      "       'momentum_ppo_hist', 'others_dr', 'others_dlr', 'others_cr'],\n",
      "      dtype='object')\n"
     ]
    },
    {
     "name": "stderr",
     "output_type": "stream",
     "text": [
      "/Users/simplypatrickg/anaconda3/lib/python3.8/site-packages/ta/trend.py:768: RuntimeWarning: invalid value encountered in double_scalars\n",
      "  dip[i] = 100 * (self._dip[i] / self._trs[i])\n",
      "/Users/simplypatrickg/anaconda3/lib/python3.8/site-packages/ta/trend.py:772: RuntimeWarning: invalid value encountered in double_scalars\n",
      "  din[i] = 100 * (self._din[i] / self._trs[i])\n"
     ]
    }
   ],
   "source": [
    "# Add all technical analysis to the dataframe we've already loaded\n",
    "df = add_all_ta_features(df, \"Open\", \"High\", \"Low\", \"Close\", \"Volume\", fillna=True) \n",
    "\n",
    "print(df.columns)"
   ]
  },
  {
   "cell_type": "code",
   "execution_count": null,
   "id": "7fbb69e6-5146-45e3-aa03-0e4a006a8eab",
   "metadata": {},
   "outputs": [],
   "source": []
  }
 ],
 "metadata": {
  "kernelspec": {
   "display_name": "Python 3",
   "language": "python",
   "name": "python3"
  },
  "language_info": {
   "codemirror_mode": {
    "name": "ipython",
    "version": 3
   },
   "file_extension": ".py",
   "mimetype": "text/x-python",
   "name": "python",
   "nbconvert_exporter": "python",
   "pygments_lexer": "ipython3",
   "version": "3.8.10"
  }
 },
 "nbformat": 4,
 "nbformat_minor": 5
}
