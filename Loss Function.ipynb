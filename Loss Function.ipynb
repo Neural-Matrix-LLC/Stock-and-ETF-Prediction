{
 "cells": [
  {
   "cell_type": "markdown",
   "id": "9f6f7912-3dea-4268-8900-16d0d9169746",
   "metadata": {},
   "source": [
    "# Custom Loss\n",
    "\n",
    "MSE mainly focuses on the difference between real price and predicted price without considering whether the predicted direction is correct. This is problematic when applied to trading stategies, so correctness in direction should be emphasized.\n",
    "\n",
    "\n",
    "Customize loss function by taking account of directional loss."
   ]
  },
  {
   "cell_type": "code",
   "execution_count": null,
   "id": "fc6b187c-9e9e-4d1d-aff4-bbcbe612bfe5",
   "metadata": {},
   "outputs": [],
   "source": []
  }
 ],
 "metadata": {
  "kernelspec": {
   "display_name": "Python 3 (ipykernel)",
   "language": "python",
   "name": "python3"
  },
  "language_info": {
   "codemirror_mode": {
    "name": "ipython",
    "version": 3
   },
   "file_extension": ".py",
   "mimetype": "text/x-python",
   "name": "python",
   "nbconvert_exporter": "python",
   "pygments_lexer": "ipython3",
   "version": "3.8.12"
  }
 },
 "nbformat": 4,
 "nbformat_minor": 5
}
