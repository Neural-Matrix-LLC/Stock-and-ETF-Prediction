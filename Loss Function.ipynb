{
 "cells": [
  {
   "cell_type": "markdown",
   "id": "9f6f7912-3dea-4268-8900-16d0d9169746",
   "metadata": {},
   "source": [
    "# Custom Loss\n",
    "\n",
    "MSE mainly focuses on the difference between real price and predicted price without considering whether the predicted direction is correct. This is problematic when applied to trading stategies, so correctness in direction should be emphasized.\n",
    "\n",
    "\n",
    "Customize loss function by taking account of directional loss."
   ]
  },
  {
   "cell_type": "code",
   "execution_count": 1,
   "id": "fc6b187c-9e9e-4d1d-aff4-bbcbe612bfe5",
   "metadata": {},
   "outputs": [],
   "source": [
    "import keras.backend as K\n",
    "import tensorflow as tf\n",
    "import time\n",
    "import os\n",
    "import pickle\n",
    "import numpy as np\n",
    "from keras.models import Sequential, load_model\n",
    "from keras.layers import LSTM, Dense\n",
    "from keras.callbacks import ModelCheckpoint\n",
    "from keras import optimizers\n",
    "from sklearn.preprocessing import MinMaxScaler\n",
    "from sklearn.model_selection import train_test_split\n",
    "from sklearn.metrics import mean_squared_error, mean_absolute_error\n",
    "import logging"
   ]
  },
  {
   "cell_type": "code",
   "execution_count": 2,
   "id": "9921f384-513c-4b16-92ed-51f16a2c4759",
   "metadata": {},
   "outputs": [],
   "source": [
    "import keras.backend as K\n",
    "import tensorflow as tf\n",
    "\n",
    "def custom_loss(y_true, y_pred):\n",
    "    \"\"\"Customized loss function that takes into account directional loss.\n",
    "    \n",
    "    ARGS:\n",
    "    y_true: tensor of true price\n",
    "    y_pred: tensor of predicted price\n",
    "    \n",
    "    RETURN:\n",
    "    custom loss output\n",
    "    \"\"\"\n",
    "    try:\n",
    "        #the \"next day's price\" of tensor\n",
    "        y_true_next = y_true[1:]\n",
    "        y_pred_next = y_pred[1:]\n",
    "\n",
    "        #the \"today's price\" of tensor\n",
    "        y_true_tdy = y_true[:-1]\n",
    "        y_pred_tdy = y_pred[:-1]\n",
    "\n",
    "        #substract to get up/down movement of the two tensors\n",
    "        y_true_diff = tf.subtract(y_true_next, y_true_tdy)\n",
    "        y_pred_diff = tf.subtract(y_pred_next, y_pred_tdy)\n",
    "\n",
    "        #create a standard tensor with zero value for comparison\n",
    "        standard = tf.zeros_like(y_pred_diff)\n",
    "\n",
    "        #compare with the standard; if true, UP; else DOWN\n",
    "        y_true_move = tf.greater_equal(y_true_diff, standard)\n",
    "        y_pred_move = tf.greater_equal(y_pred_diff, standard)\n",
    "        y_true_move = tf.reshape(y_true_move, [-1])\n",
    "        y_pred_move = tf.reshape(y_pred_move, [-1])\n",
    "\n",
    "\n",
    "        #find indices where the directions are not the same\n",
    "        condition = tf.not_equal(y_true_move, y_pred_move)\n",
    "        indices = tf.where(condition)\n",
    "\n",
    "        #move one position later\n",
    "        ones = tf.ones_like(indices)\n",
    "        indices = tf.add(indices, ones)\n",
    "        indices = K.cast(indices, dtype='int32')\n",
    "\n",
    "\n",
    "        #create a tensor to store directional loss and put it into custom loss output\n",
    "        direction_loss = tf.Variable(tf.ones_like(y_pred), dtype='float32')\n",
    "        updates = K.cast(tf.ones_like(indices), dtype='float32')\n",
    "        alpha = 1000\n",
    "        direction_loss = tf.scatter_nd_update(direction_loss, indices, alpha*updates)\n",
    "\n",
    "        custom_loss = K.mean(tf.multiply(K.square(y_true - y_pred), direction_loss), axis=-1)\n",
    "\n",
    "        return custom_loss\n",
    "    except Exception as e:\n",
    "        logging.error(\"Exception occurred at get_price_movement()\", exc_info=True)"
   ]
  },
  {
   "cell_type": "code",
   "execution_count": null,
   "id": "6c502839-4897-4126-880e-a5fd9c5f080c",
   "metadata": {},
   "outputs": [],
   "source": []
  }
 ],
 "metadata": {
  "kernelspec": {
   "display_name": "Python 3 (ipykernel)",
   "language": "python",
   "name": "python3"
  },
  "language_info": {
   "codemirror_mode": {
    "name": "ipython",
    "version": 3
   },
   "file_extension": ".py",
   "mimetype": "text/x-python",
   "name": "python",
   "nbconvert_exporter": "python",
   "pygments_lexer": "ipython3",
   "version": "3.8.12"
  }
 },
 "nbformat": 4,
 "nbformat_minor": 5
}
