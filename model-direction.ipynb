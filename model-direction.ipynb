{
 "cells": [
  {
   "cell_type": "markdown",
   "id": "8bc79168-58c4-41d5-8ec1-52155bb310c1",
   "metadata": {},
   "source": [
    "# Prediction of Stock Direction \n",
    "This notebook aims to predict market prices with machine learning.\n",
    "\n",
    "Data from ```'HKEX', 'NYSE', 'NASDAQ', 'AMEX'``` during ```1998-01-01 to 2021-09-07``` was employed."
   ]
  },
  {
   "cell_type": "code",
   "execution_count": 42,
   "id": "2701a139-9c44-4723-9e94-8af60503ec1a",
   "metadata": {},
   "outputs": [
    {
     "name": "stdout",
     "output_type": "stream",
     "text": [
      "Machine: Darwin x86_64\n",
      "\n",
      "3.8.12 | packaged by conda-forge | (default, Sep 16 2021, 01:59:00) \n",
      "[Clang 11.1.0 ]\n"
     ]
    }
   ],
   "source": [
    "# Environment variables\n",
    "from dotenv import load_dotenv\n",
    "load_dotenv(\"mysql.env\")\n",
    "\n",
    "import os\n",
    "import sys\n",
    "import mysql.connector\n",
    "\n",
    "import pandas as pd\n",
    "import numpy as np\n",
    "import time\n",
    "import math\n",
    "\n",
    "import matplotlib.pyplot as plt\n",
    "\n",
    "import sklearn.preprocessing as prep\n",
    "from sklearn.preprocessing import MinMaxScaler\n",
    "\n",
    "from keras.models import Sequential\n",
    "from keras.layers.core import Dense, Dropout, Activation\n",
    "from keras.layers.recurrent import LSTM\n",
    "\n",
    "print('Machine: {} {}\\n'.format(os.uname().sysname,os.uname().machine))\n",
    "print(sys.version)"
   ]
  },
  {
   "cell_type": "markdown",
   "id": "8d8cb8c1-860e-4d4a-a47d-280f7f70866b",
   "metadata": {},
   "source": [
    "# List of Stocks and ETFs\n",
    "Provided by Thomas Choi."
   ]
  },
  {
   "cell_type": "code",
   "execution_count": 2,
   "id": "0d45b4a1-04c3-4218-bd5f-76a0f1227193",
   "metadata": {},
   "outputs": [],
   "source": [
    "stock_list = pd.read_csv(\"stocks_and_etfs/stock_list.csv\")\n",
    "etf_list = pd.read_csv(\"stocks_and_etfs/etf_list.csv\")"
   ]
  },
  {
   "cell_type": "code",
   "execution_count": 3,
   "id": "a9734fa7-fa6e-42d6-96ac-3850a5b64d32",
   "metadata": {},
   "outputs": [
    {
     "data": {
      "text/plain": [
       "'MSFT'"
      ]
     },
     "execution_count": 3,
     "metadata": {},
     "output_type": "execute_result"
    }
   ],
   "source": [
    "stock_symbol = stock_list.iloc[0,0]\n",
    "stock_symbol"
   ]
  },
  {
   "cell_type": "markdown",
   "id": "941125ba-4bbb-4683-b258-d9601d07f30b",
   "metadata": {},
   "source": [
    "## MySQL connection\n",
    "Choosing one stock from SQL query to reduce query time."
   ]
  },
  {
   "cell_type": "code",
   "execution_count": 4,
   "id": "5e51c074-9fea-4d42-9430-3dba5bdc3271",
   "metadata": {},
   "outputs": [],
   "source": [
    "HOST=os.environ.get(\"HOST\")\n",
    "PORT=os.environ.get(\"PORT\")\n",
    "USER=os.environ.get(\"USER\")\n",
    "PASSWORD=os.environ.get(\"PASSWORD\")\n",
    "\n",
    "try: \n",
    "    conn = mysql.connector.connect(\n",
    "        host=HOST,\n",
    "        port=PORT,\n",
    "        user=USER,\n",
    "        password=PASSWORD,\n",
    "        database=\"GlobalMarketData\"\n",
    "    )\n",
    "    query = f\"SELECT Date, Close, Open, High, Low, Volume from histdailyprice3 WHERE Symbol='{stock_symbol}';\"\n",
    "    histdailyprice3 = pd.read_sql(query, conn)\n",
    "    conn.close()\n",
    "except Exception as e:\n",
    "    conn.close()\n",
    "    print(str(e))"
   ]
  },
  {
   "cell_type": "markdown",
   "id": "bacd3cf6-c3f7-4c00-8a58-374e170326c9",
   "metadata": {},
   "source": [
    "# Load Data"
   ]
  },
  {
   "cell_type": "code",
   "execution_count": 50,
   "id": "9636e1a0-46a4-433a-bd60-641f3742a2c1",
   "metadata": {},
   "outputs": [],
   "source": [
    "df = histdailyprice3.copy()\n",
    "df.set_index(\"Date\", drop=True, inplace=True)"
   ]
  },
  {
   "cell_type": "markdown",
   "id": "0c116742-248e-4cf3-9a31-c7052ab8fd1e",
   "metadata": {},
   "source": [
    "# Stock Dataset"
   ]
  },
  {
   "cell_type": "code",
   "execution_count": 51,
   "id": "5d5acb22-7287-489d-949d-a616f62830c9",
   "metadata": {},
   "outputs": [
    {
     "data": {
      "text/html": [
       "<div>\n",
       "<style scoped>\n",
       "    .dataframe tbody tr th:only-of-type {\n",
       "        vertical-align: middle;\n",
       "    }\n",
       "\n",
       "    .dataframe tbody tr th {\n",
       "        vertical-align: top;\n",
       "    }\n",
       "\n",
       "    .dataframe thead th {\n",
       "        text-align: right;\n",
       "    }\n",
       "</style>\n",
       "<table border=\"1\" class=\"dataframe\">\n",
       "  <thead>\n",
       "    <tr style=\"text-align: right;\">\n",
       "      <th></th>\n",
       "      <th>Close</th>\n",
       "      <th>Open</th>\n",
       "      <th>High</th>\n",
       "      <th>Low</th>\n",
       "      <th>Volume</th>\n",
       "    </tr>\n",
       "    <tr>\n",
       "      <th>Date</th>\n",
       "      <th></th>\n",
       "      <th></th>\n",
       "      <th></th>\n",
       "      <th></th>\n",
       "      <th></th>\n",
       "    </tr>\n",
       "  </thead>\n",
       "  <tbody>\n",
       "    <tr>\n",
       "      <th>1998-01-01</th>\n",
       "      <td>16.157</td>\n",
       "      <td>16.157</td>\n",
       "      <td>16.157</td>\n",
       "      <td>16.157</td>\n",
       "      <td>0</td>\n",
       "    </tr>\n",
       "    <tr>\n",
       "      <th>1998-01-02</th>\n",
       "      <td>16.204</td>\n",
       "      <td>16.438</td>\n",
       "      <td>16.188</td>\n",
       "      <td>16.392</td>\n",
       "      <td>4973300</td>\n",
       "    </tr>\n",
       "    <tr>\n",
       "      <th>1998-01-05</th>\n",
       "      <td>16.407</td>\n",
       "      <td>16.704</td>\n",
       "      <td>15.984</td>\n",
       "      <td>16.298</td>\n",
       "      <td>10051300</td>\n",
       "    </tr>\n",
       "    <tr>\n",
       "      <th>1998-01-06</th>\n",
       "      <td>16.219</td>\n",
       "      <td>16.625</td>\n",
       "      <td>16.157</td>\n",
       "      <td>16.392</td>\n",
       "      <td>8484500</td>\n",
       "    </tr>\n",
       "    <tr>\n",
       "      <th>1998-01-07</th>\n",
       "      <td>16.235</td>\n",
       "      <td>16.399</td>\n",
       "      <td>15.938</td>\n",
       "      <td>16.195</td>\n",
       "      <td>7690300</td>\n",
       "    </tr>\n",
       "  </tbody>\n",
       "</table>\n",
       "</div>"
      ],
      "text/plain": [
       "             Close    Open    High     Low    Volume\n",
       "Date                                                \n",
       "1998-01-01  16.157  16.157  16.157  16.157         0\n",
       "1998-01-02  16.204  16.438  16.188  16.392   4973300\n",
       "1998-01-05  16.407  16.704  15.984  16.298  10051300\n",
       "1998-01-06  16.219  16.625  16.157  16.392   8484500\n",
       "1998-01-07  16.235  16.399  15.938  16.195   7690300"
      ]
     },
     "execution_count": 51,
     "metadata": {},
     "output_type": "execute_result"
    }
   ],
   "source": [
    "df.head()"
   ]
  },
  {
   "cell_type": "code",
   "execution_count": 52,
   "id": "3dd66a78-7fb9-432c-868c-707fcf0d5239",
   "metadata": {},
   "outputs": [
    {
     "name": "stdout",
     "output_type": "stream",
     "text": [
      "<class 'pandas.core.frame.DataFrame'>\n",
      "Index: 6147 entries, 1998-01-01 to 2021-09-03\n",
      "Data columns (total 5 columns):\n",
      " #   Column  Non-Null Count  Dtype  \n",
      "---  ------  --------------  -----  \n",
      " 0   Close   6147 non-null   float64\n",
      " 1   Open    6147 non-null   float64\n",
      " 2   High    6147 non-null   float64\n",
      " 3   Low     6147 non-null   float64\n",
      " 4   Volume  6147 non-null   int64  \n",
      "dtypes: float64(4), int64(1)\n",
      "memory usage: 288.1+ KB\n"
     ]
    }
   ],
   "source": [
    "df.info()"
   ]
  },
  {
   "cell_type": "code",
   "execution_count": 53,
   "id": "2e8f2765-6cd9-4667-87ad-f8782b0a1c71",
   "metadata": {},
   "outputs": [
    {
     "name": "stdout",
     "output_type": "stream",
     "text": [
      "Percentage of Missing Values:\n",
      " Close     0.0\n",
      "Open      0.0\n",
      "High      0.0\n",
      "Low       0.0\n",
      "Volume    0.0\n",
      "dtype: float64\n"
     ]
    }
   ],
   "source": [
    "# Percentage of nullity by column\n",
    "missing_perc = df.isnull().mean() * 100\n",
    "print('Percentage of Missing Values:\\n', missing_perc)"
   ]
  },
  {
   "cell_type": "code",
   "execution_count": 54,
   "id": "a5876039-7e6d-4b6c-a2d0-2bf7594383d3",
   "metadata": {},
   "outputs": [
    {
     "data": {
      "text/html": [
       "<div>\n",
       "<style scoped>\n",
       "    .dataframe tbody tr th:only-of-type {\n",
       "        vertical-align: middle;\n",
       "    }\n",
       "\n",
       "    .dataframe tbody tr th {\n",
       "        vertical-align: top;\n",
       "    }\n",
       "\n",
       "    .dataframe thead th {\n",
       "        text-align: right;\n",
       "    }\n",
       "</style>\n",
       "<table border=\"1\" class=\"dataframe\">\n",
       "  <thead>\n",
       "    <tr style=\"text-align: right;\">\n",
       "      <th></th>\n",
       "      <th>Close</th>\n",
       "      <th>Open</th>\n",
       "      <th>High</th>\n",
       "      <th>Low</th>\n",
       "      <th>Volume</th>\n",
       "    </tr>\n",
       "  </thead>\n",
       "  <tbody>\n",
       "    <tr>\n",
       "      <th>count</th>\n",
       "      <td>6147.000000</td>\n",
       "      <td>6147.000000</td>\n",
       "      <td>6147.000000</td>\n",
       "      <td>6147.000000</td>\n",
       "      <td>6.147000e+03</td>\n",
       "    </tr>\n",
       "    <tr>\n",
       "      <th>mean</th>\n",
       "      <td>53.160964</td>\n",
       "      <td>53.700698</td>\n",
       "      <td>52.619410</td>\n",
       "      <td>53.179159</td>\n",
       "      <td>4.411060e+07</td>\n",
       "    </tr>\n",
       "    <tr>\n",
       "      <th>std</th>\n",
       "      <td>51.896527</td>\n",
       "      <td>52.360775</td>\n",
       "      <td>51.438644</td>\n",
       "      <td>51.941706</td>\n",
       "      <td>2.894696e+07</td>\n",
       "    </tr>\n",
       "    <tr>\n",
       "      <th>min</th>\n",
       "      <td>15.200000</td>\n",
       "      <td>15.620000</td>\n",
       "      <td>14.870000</td>\n",
       "      <td>15.150000</td>\n",
       "      <td>0.000000e+00</td>\n",
       "    </tr>\n",
       "    <tr>\n",
       "      <th>25%</th>\n",
       "      <td>26.690000</td>\n",
       "      <td>26.950000</td>\n",
       "      <td>26.400000</td>\n",
       "      <td>26.665000</td>\n",
       "      <td>2.517020e+07</td>\n",
       "    </tr>\n",
       "    <tr>\n",
       "      <th>50%</th>\n",
       "      <td>30.640000</td>\n",
       "      <td>30.945000</td>\n",
       "      <td>30.345000</td>\n",
       "      <td>30.660000</td>\n",
       "      <td>3.865060e+07</td>\n",
       "    </tr>\n",
       "    <tr>\n",
       "      <th>75%</th>\n",
       "      <td>49.905000</td>\n",
       "      <td>50.570000</td>\n",
       "      <td>49.525000</td>\n",
       "      <td>49.955000</td>\n",
       "      <td>5.709925e+07</td>\n",
       "    </tr>\n",
       "    <tr>\n",
       "      <th>max</th>\n",
       "      <td>305.020000</td>\n",
       "      <td>305.840000</td>\n",
       "      <td>302.004000</td>\n",
       "      <td>304.650000</td>\n",
       "      <td>5.910786e+08</td>\n",
       "    </tr>\n",
       "  </tbody>\n",
       "</table>\n",
       "</div>"
      ],
      "text/plain": [
       "             Close         Open         High          Low        Volume\n",
       "count  6147.000000  6147.000000  6147.000000  6147.000000  6.147000e+03\n",
       "mean     53.160964    53.700698    52.619410    53.179159  4.411060e+07\n",
       "std      51.896527    52.360775    51.438644    51.941706  2.894696e+07\n",
       "min      15.200000    15.620000    14.870000    15.150000  0.000000e+00\n",
       "25%      26.690000    26.950000    26.400000    26.665000  2.517020e+07\n",
       "50%      30.640000    30.945000    30.345000    30.660000  3.865060e+07\n",
       "75%      49.905000    50.570000    49.525000    49.955000  5.709925e+07\n",
       "max     305.020000   305.840000   302.004000   304.650000  5.910786e+08"
      ]
     },
     "execution_count": 54,
     "metadata": {},
     "output_type": "execute_result"
    }
   ],
   "source": [
    "# Descriptive statistics\n",
    "df.describe()"
   ]
  },
  {
   "cell_type": "markdown",
   "id": "3a0f4e0f-ba36-413d-a48c-a15b9f9bf170",
   "metadata": {},
   "source": [
    "# Data Preprocessing"
   ]
  },
  {
   "cell_type": "code",
   "execution_count": 55,
   "id": "691208bc-2119-45a6-a570-6b64ad5dfafb",
   "metadata": {},
   "outputs": [],
   "source": [
    "# Normalize data\n",
    "scaler = MinMaxScaler(feature_range=(-1, 1))\n",
    "df[\"Close\"] = scaler.fit_transform(df['Close'].values.reshape(-1,1))"
   ]
  },
  {
   "cell_type": "code",
   "execution_count": 13,
   "id": "18ba8887-23be-4205-9d64-141443f5c1f1",
   "metadata": {},
   "outputs": [],
   "source": [
    "# Normalize data\n",
    "def standard_scaler(X_train, X_test):\n",
    "    train_samples, train_nx, train_ny = X_train.shape\n",
    "    test_samples, test_nx, test_ny = X_test.shape\n",
    "    \n",
    "    X_train = X_train.reshape((train_samples, train_nx * train_ny))\n",
    "    X_test = X_test.reshape((test_samples, test_nx * test_ny))\n",
    "    \n",
    "    preprocessor = prep.StandardScaler().fit(X_train)\n",
    "    X_train = preprocessor.transform(X_train)\n",
    "    X_test = preprocessor.transform(X_test)\n",
    "    \n",
    "    X_train = X_train.reshape((train_samples, train_nx, train_ny))\n",
    "    X_test = X_test.reshape((test_samples, test_nx, test_ny))\n",
    "    \n",
    "    return X_train, X_test"
   ]
  },
  {
   "cell_type": "code",
   "execution_count": 14,
   "id": "c55de9ab-3764-45b2-891e-bbf1e13f381c",
   "metadata": {},
   "outputs": [],
   "source": [
    "# Split the data to X_train, y_train, X_test, y_test\n",
    "def preprocess_data(stock, seq_len):\n",
    "    amount_of_features = len(stock.columns)\n",
    "    data = stock.values\n",
    "    \n",
    "    sequence_length = seq_len + 1\n",
    "    result = []\n",
    "    for index in range(len(data) - sequence_length):\n",
    "        result.append(data[index : index + sequence_length])\n",
    "        \n",
    "    result = np.array(result)\n",
    "    row = round(0.9 * result.shape[0])\n",
    "    train = result[: int(row), :]\n",
    "    \n",
    "    train, result = standard_scaler(train, result)\n",
    "    \n",
    "    X_train = train[:, : -1]\n",
    "    y_train = train[:, -1][: ,-1]\n",
    "    X_test = result[int(row) :, : -1]\n",
    "    y_test = result[int(row) :, -1][ : ,-1]\n",
    "\n",
    "    X_train = np.reshape(X_train, (X_train.shape[0], X_train.shape[1], amount_of_features))\n",
    "    X_test = np.reshape(X_test, (X_test.shape[0], X_test.shape[1], amount_of_features))  \n",
    "\n",
    "    return [X_train, y_train, X_test, y_test]"
   ]
  },
  {
   "cell_type": "markdown",
   "id": "b2c37bf7-ef31-41f0-b516-67852d5725b6",
   "metadata": {},
   "source": [
    "# Build LSTM Network\n",
    "LSTM --> Dropout --> LSTM --> Dropout --> Fully-Conneted(Dense)"
   ]
  },
  {
   "cell_type": "code",
   "execution_count": 30,
   "id": "4370da5f-b437-4b28-84bb-b87c83979191",
   "metadata": {},
   "outputs": [],
   "source": [
    "def build_model(layers):\n",
    "    model = Sequential()\n",
    "\n",
    "    # By setting return_sequences to True we are able to stack another LSTM layer\n",
    "    model.add(LSTM(\n",
    "        layers[1],\n",
    "        return_sequences=True))\n",
    "    model.add(Dropout(0.4))\n",
    "\n",
    "    model.add(LSTM(\n",
    "        layers[2],\n",
    "        return_sequences=False))\n",
    "    model.add(Dropout(0.3))\n",
    "\n",
    "    model.add(Dense(\n",
    "        layers[3]))\n",
    "    model.add(Activation(\"linear\"))\n",
    "\n",
    "    start = time.time()\n",
    "    model.compile(loss=\"mse\", optimizer=\"rmsprop\", metrics=['accuracy'])\n",
    "    print(\"Compilation Time : \", time.time() - start)\n",
    "    return model"
   ]
  },
  {
   "cell_type": "code",
   "execution_count": 31,
   "id": "0f8120a9-6594-426b-b6e1-a28b2b21f677",
   "metadata": {},
   "outputs": [
    {
     "name": "stdout",
     "output_type": "stream",
     "text": [
      "X_train (5513, 20, 5)\n",
      "y_train (5513,)\n",
      "X_test (613, 20, 5)\n",
      "y_test (613,)\n"
     ]
    }
   ],
   "source": [
    "window = 20\n",
    "X_train, y_train, X_test, y_test = preprocess_data(df[:: -1], window)\n",
    "print(\"X_train\", X_train.shape)\n",
    "print(\"y_train\", y_train.shape)\n",
    "print(\"X_test\", X_test.shape)\n",
    "print(\"y_test\", y_test.shape)"
   ]
  },
  {
   "cell_type": "code",
   "execution_count": 32,
   "id": "7684c088-26e3-4067-8e78-ade534eaab3d",
   "metadata": {},
   "outputs": [
    {
     "name": "stdout",
     "output_type": "stream",
     "text": [
      "Compilation Time :  0.011245012283325195\n"
     ]
    }
   ],
   "source": [
    "model = build_model([X_train.shape[2], window, 100, 1])"
   ]
  },
  {
   "cell_type": "markdown",
   "id": "c31c412d-1696-4ef0-9a40-b19f0b8c2ba3",
   "metadata": {},
   "source": [
    "# Train the network"
   ]
  },
  {
   "cell_type": "code",
   "execution_count": 33,
   "id": "fd747371-4fe8-47e4-a999-7900c08e2565",
   "metadata": {},
   "outputs": [
    {
     "name": "stderr",
     "output_type": "stream",
     "text": [
      "2021-10-29 14:03:59.006072: I tensorflow/compiler/mlir/mlir_graph_optimization_pass.cc:185] None of the MLIR Optimization Passes are enabled (registered 2)\n"
     ]
    },
    {
     "data": {
      "text/plain": [
       "<keras.callbacks.History at 0x7faaee92e220>"
      ]
     },
     "execution_count": 33,
     "metadata": {},
     "output_type": "execute_result"
    }
   ],
   "source": [
    "model.fit(\n",
    "    X_train,\n",
    "    y_train,\n",
    "    batch_size=768,\n",
    "    epochs=5,\n",
    "    validation_split=0.1,\n",
    "    verbose=0)"
   ]
  },
  {
   "cell_type": "code",
   "execution_count": 35,
   "id": "b2167868-ca47-4568-88f4-be98f0fb798c",
   "metadata": {},
   "outputs": [
    {
     "name": "stdout",
     "output_type": "stream",
     "text": [
      "Train Score: 0.62 MSE (0.79 RMSE)\n",
      "Test Score: 0.32 MSE (0.57 RMSE)\n"
     ]
    }
   ],
   "source": [
    "trainScore = model.evaluate(X_train, y_train, verbose=0)\n",
    "print('Train Score: %.2f MSE (%.2f RMSE)' % (trainScore[0], math.sqrt(trainScore[0])))\n",
    "\n",
    "testScore = model.evaluate(X_test, y_test, verbose=0)\n",
    "print('Test Score: %.2f MSE (%.2f RMSE)' % (testScore[0], math.sqrt(testScore[0])))"
   ]
  },
  {
   "cell_type": "markdown",
   "id": "449f2a42-b593-40a6-8088-6077451427b2",
   "metadata": {},
   "source": [
    "# Visualize the Prediction"
   ]
  },
  {
   "cell_type": "code",
   "execution_count": 36,
   "id": "8c4aa67f-87d9-4b37-a123-d20467aa8275",
   "metadata": {},
   "outputs": [],
   "source": [
    "diff = []\n",
    "ratio = []\n",
    "pred = model.predict(X_test)\n",
    "for u in range(len(y_test)):\n",
    "    pr = pred[u][0]\n",
    "    ratio.append((y_test[u] / pr) - 1)\n",
    "    diff.append(abs(y_test[u] - pr))"
   ]
  },
  {
   "cell_type": "code",
   "execution_count": 40,
   "id": "33862e2a-c4fd-44e6-a639-d21eb3f78425",
   "metadata": {},
   "outputs": [
    {
     "data": {
      "image/png": "[encoded data removed]",
      "text/plain": [
       "<Figure size 432x288 with 1 Axes>"
      ]
     },
     "metadata": {
      "needs_background": "light"
     },
     "output_type": "display_data"
    }
   ],
   "source": [
    "plt.plot(pred, color='red', label='Prediction')\n",
    "plt.plot(y_test, color='blue', label='Ground Truth')\n",
    "plt.legend(loc='upper left')\n",
    "plt.show()"
   ]
  },
  {
   "cell_type": "code",
   "execution_count": null,
   "id": "db661e0f-a390-4736-b402-6b75a00be8ad",
   "metadata": {},
   "outputs": [],
   "source": []
  }
 ],
 "metadata": {
  "kernelspec": {
   "display_name": "Python 3 (ipykernel)",
   "language": "python",
   "name": "python3"
  },
  "language_info": {
   "codemirror_mode": {
    "name": "ipython",
    "version": 3
   },
   "file_extension": ".py",
   "mimetype": "text/x-python",
   "name": "python",
   "nbconvert_exporter": "python",
   "pygments_lexer": "ipython3",
   "version": "3.8.12"
  }
 },
 "nbformat": 4,
 "nbformat_minor": 5
}
