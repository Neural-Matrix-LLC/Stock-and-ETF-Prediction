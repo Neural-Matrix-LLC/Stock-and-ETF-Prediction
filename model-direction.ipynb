{
 "cells": [
  {
   "cell_type": "markdown",
   "id": "8bc79168-58c4-41d5-8ec1-52155bb310c1",
   "metadata": {},
   "source": [
    "# Prediction of Stock Direction \n",
    "This notebook aims to predict market prices with machine learning.\n",
    "\n",
    "Data from ```'HKEX', 'NYSE', 'NASDAQ', 'AMEX'``` during ```1998-01-01 to 2021-09-07``` was employed."
   ]
  },
  {
   "cell_type": "code",
   "execution_count": null,
   "id": "2701a139-9c44-4723-9e94-8af60503ec1a",
   "metadata": {},
   "outputs": [],
   "source": []
  }
 ],
 "metadata": {
  "kernelspec": {
   "display_name": "Python 3 (ipykernel)",
   "language": "python",
   "name": "python3"
  },
  "language_info": {
   "codemirror_mode": {
    "name": "ipython",
    "version": 3
   },
   "file_extension": ".py",
   "mimetype": "text/x-python",
   "name": "python",
   "nbconvert_exporter": "python",
   "pygments_lexer": "ipython3",
   "version": "3.8.12"
  }
 },
 "nbformat": 4,
 "nbformat_minor": 5
}
