{
 "cells": [
  {
   "cell_type": "markdown",
   "id": "aea6b643-de8c-44bc-b257-362612f202d8",
   "metadata": {},
   "source": [
    "# Predict Volatility\n",
    "\n",
    "Implementing the code from ```mysql-garch.ipynd``` on list of stocks and efts in ```stocks_and_etfs/```."
   ]
  },
  {
   "cell_type": "code",
   "execution_count": 1,
   "id": "89d4eb97-6860-45eb-bf2a-5fa8b12d97ca",
   "metadata": {},
   "outputs": [
    {
     "name": "stdout",
     "output_type": "stream",
     "text": [
      "Machine: Darwin x86_64\n",
      "\n",
      "3.8.12 | packaged by conda-forge | (default, Sep 16 2021, 01:59:00) \n",
      "[Clang 11.1.0 ]\n"
     ]
    }
   ],
   "source": [
    "import os\n",
    "import sys\n",
    "import mysql.connector\n",
    "\n",
    "import pandas as pd\n",
    "import numpy as np\n",
    "import math\n",
    "import timeit\n",
    "import warnings\n",
    "\n",
    "# Environment variables\n",
    "from dotenv import load_dotenv\n",
    "load_dotenv(\"mysql.env\")\n",
    "\n",
    "# Visualization + diagnositic\n",
    "import matplotlib.pyplot as plt\n",
    "%matplotlib inline\n",
    "import seaborn as sns\n",
    "from statsmodels.graphics.tsaplots import plot_acf, plot_pacf\n",
    "from statsmodels.stats.diagnostic import acorr_ljungbox, het_arch\n",
    "from scipy.stats import probplot, shapiro\n",
    "\n",
    "warnings.filterwarnings('ignore')\n",
    "\n",
    "import statsmodels.formula.api as smf\n",
    "import statsmodels.tsa.api as smt\n",
    "import statsmodels.api as sm\n",
    "import scipy.stats as scs\n",
    "\n",
    "# Model\n",
    "from arch import arch_model\n",
    "from arch.__future__ import reindexing\n",
    "\n",
    "\n",
    "# Performance\n",
    "from sklearn.metrics import confusion_matrix\n",
    "from sklearn.metrics import precision_score\n",
    "from sklearn.metrics import f1_score\n",
    "\n",
    "print('Machine: {} {}\\n'.format(os.uname().sysname,os.uname().machine))\n",
    "print(sys.version)"
   ]
  },
  {
   "cell_type": "code",
   "execution_count": 2,
   "id": "b4acb28b-f762-450e-8c11-21b02907262b",
   "metadata": {},
   "outputs": [],
   "source": [
    "HOST=os.environ.get(\"HOST\")\n",
    "PORT=os.environ.get(\"PORT\")\n",
    "USER=os.environ.get(\"USER\")\n",
    "PASSWORD=os.environ.get(\"PASSWORD\")\n",
    "\n",
    "try: \n",
    "    conn = mysql.connector.connect(\n",
    "        host=HOST,\n",
    "        port=PORT,\n",
    "        user=USER,\n",
    "        password=PASSWORD,\n",
    "        database=\"GlobalMarketData\"\n",
    "    )\n",
    "    query = f\"SELECT Date, Symbol, Close from histdailyprice3;\"\n",
    "    histdailyprice3 = pd.read_sql(query, conn)\n",
    "    conn.close()\n",
    "except Exception as e:\n",
    "    conn.close()\n",
    "    print(str(e))"
   ]
  },
  {
   "cell_type": "code",
   "execution_count": 27,
   "id": "ca107c73-e3dd-41d6-b3ee-6f86c78dee07",
   "metadata": {},
   "outputs": [],
   "source": [
    "df = histdailyprice3.copy()\n",
    "df.set_index(\"Date\", drop=True, inplace=True)"
   ]
  },
  {
   "cell_type": "code",
   "execution_count": 21,
   "id": "3231d773-c9b7-49b3-a8aa-138ccc0a954f",
   "metadata": {},
   "outputs": [],
   "source": [
    "stock_list = pd.read_csv(\"stocks_and_etfs/stock_list.csv\")\n",
    "etf_list = pd.read_csv(\"stocks_and_etfs/etf_list.csv\")\n",
    "symbol_list = stock_list.append(etf_list).rename({\"0\": \"Symbol\"}, axis=1).reset_index(drop=True)"
   ]
  },
  {
   "cell_type": "code",
   "execution_count": 30,
   "id": "80892a91-c46f-4c58-8dfd-f2d708e4524b",
   "metadata": {},
   "outputs": [],
   "source": [
    "def gridsearch(data, p_rng, q_rng):\n",
    "    top_score, top_results = float('inf'), None\n",
    "    top_models = []\n",
    "    for p in p_rng:\n",
    "        for q in q_rng:\n",
    "            try:\n",
    "                model = arch_model(data, vol='GARCH', p=p, q=q, dist='normal')\n",
    "                model_fit = model.fit(disp='off')\n",
    "                resid = model_fit.resid\n",
    "                st_resid = np.divide(resid, model_fit.conditional_volatility)\n",
    "                results = evaluate_model(resid, st_resid)\n",
    "                results['AIC'] = model_fit.aic\n",
    "                results['params']['p'] = p\n",
    "                results['params']['q'] = q\n",
    "                if results['AIC'] < top_score: \n",
    "                    top_score = results['AIC']\n",
    "                    top_results = results\n",
    "                elif results['LM_pvalue'][1] is False:\n",
    "                    top_models.append(results)\n",
    "            except:\n",
    "                continue\n",
    "    top_models.append(top_results)\n",
    "    return top_models"
   ]
  },
  {
   "cell_type": "code",
   "execution_count": 33,
   "id": "3034bb13-3cfe-410d-b9e1-db4997de0a56",
   "metadata": {},
   "outputs": [
    {
     "data": {
      "text/html": [
       "<div>\n",
       "<style scoped>\n",
       "    .dataframe tbody tr th:only-of-type {\n",
       "        vertical-align: middle;\n",
       "    }\n",
       "\n",
       "    .dataframe tbody tr th {\n",
       "        vertical-align: top;\n",
       "    }\n",
       "\n",
       "    .dataframe thead th {\n",
       "        text-align: right;\n",
       "    }\n",
       "</style>\n",
       "<table border=\"1\" class=\"dataframe\">\n",
       "  <thead>\n",
       "    <tr style=\"text-align: right;\">\n",
       "      <th></th>\n",
       "      <th>Symbol</th>\n",
       "      <th>Precision Macro</th>\n",
       "      <th>Precision Micro</th>\n",
       "      <th>F1 Macro</th>\n",
       "      <th>F1 Micro</th>\n",
       "    </tr>\n",
       "  </thead>\n",
       "  <tbody>\n",
       "  </tbody>\n",
       "</table>\n",
       "</div>"
      ],
      "text/plain": [
       "Empty DataFrame\n",
       "Columns: [Symbol, Precision Macro, Precision Micro, F1 Macro, F1 Micro]\n",
       "Index: []"
      ]
     },
     "execution_count": 33,
     "metadata": {},
     "output_type": "execute_result"
    }
   ],
   "source": [
    "columns = [\"Symbol\", \"Precision Macro\", \"Precision Micro\", \"F1 Macro\", \"F1 Micro\"]\n",
    "garch_performance = pd.DataFrame(columns=columns)\n",
    "garch_performance"
   ]
  },
  {
   "cell_type": "markdown",
   "id": "d7995644-4e64-467d-84f4-da296de8c638",
   "metadata": {},
   "source": [
    "# Loop through stocks and etfs"
   ]
  },
  {
   "cell_type": "code",
   "execution_count": null,
   "id": "204e16a4-79c2-47e0-91eb-d0e1f8c05ad0",
   "metadata": {},
   "outputs": [],
   "source": [
    "p_rng = range(0,30)\n",
    "q_rng = range(0,40)\n",
    "\n",
    "for symbol in symbol_list.Symbol[:2]:\n",
    "    try:\n",
    "        symbol_df = df[df.Symbol == symbol]\n",
    "        symbol_df['pct_change'] = 100 * symbol_df['Close'].pct_change()\n",
    "        symbol_df.dropna(inplace=True)\n",
    "\n",
    "        top_models = gridsearch(symbol_df['pct_change'], p_rng, q_rng)\n",
    "\n",
    "        p = top_models[0]['params']['p']\n",
    "        q = top_models[0]['params']['q']\n",
    "\n",
    "        rolling_predictions = []\n",
    "        test_size = 365\n",
    "        for i in range(test_size):\n",
    "            train = symbol_df['pct_change'][:-(test_size-i)]\n",
    "            model = arch_model(symbol_df['pct_change'], p = p, q = q, mean = 'constant', vol = 'GARCH', dist = 'normal')\n",
    "            model_fit = model.fit(disp='off')\n",
    "            pred = model_fit.forecast(horizon=1)\n",
    "            rolling_predictions.append(np.sqrt(pred.variance.values[-1,:][0]))\n",
    "\n",
    "        rolling_predictions = pd.Series(rolling_predictions, index=symbol_df['pct_change'].index[-test_size:])\n",
    "\n",
    "        y_pred = np.array(rolling_predictions >= 2)\n",
    "        y_true = np.array(abs(symbol_df['pct_change'][-test_size:]) >= 2)\n",
    "\n",
    "        precision_macro = precision_score(y_true, y_pred, average='macro')\n",
    "        precision_micro = precision_score(y_true, y_pred, average='micro')\n",
    "        f1_macro = f1_score(y_true, y_pred, average='macro')\n",
    "        f1_micro = f1_score(y_true, y_pred, average='micro')\n",
    "\n",
    "        garch_performance.loc[len(garch_performance.index)] = [stock_symbol, precision_macro, precision_micro, f1_macro, f1_micro]\n",
    "    except:\n",
    "        continue"
   ]
  },
  {
   "cell_type": "code",
   "execution_count": null,
   "id": "0e98d76b-53a3-4c1f-a67c-848cae9654b3",
   "metadata": {},
   "outputs": [],
   "source": [
    "garch_performance.to_csv(\"reports/GARCH_performance.csv\")"
   ]
  }
 ],
 "metadata": {
  "kernelspec": {
   "display_name": "Python 3 (ipykernel)",
   "language": "python",
   "name": "python3"
  },
  "language_info": {
   "codemirror_mode": {
    "name": "ipython",
    "version": 3
   },
   "file_extension": ".py",
   "mimetype": "text/x-python",
   "name": "python",
   "nbconvert_exporter": "python",
   "pygments_lexer": "ipython3",
   "version": "3.8.12"
  }
 },
 "nbformat": 4,
 "nbformat_minor": 5
}
