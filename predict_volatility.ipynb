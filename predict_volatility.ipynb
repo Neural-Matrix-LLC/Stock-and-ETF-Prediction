{
 "cells": [
  {
   "cell_type": "markdown",
   "id": "aea6b643-de8c-44bc-b257-362612f202d8",
   "metadata": {},
   "source": [
    "# Predict Volatility\n",
    "\n",
    "Implementing the code from ```mysql-garch.ipynd``` on list of stocks and efts in ```stocks_and_etfs/```."
   ]
  },
  {
   "cell_type": "code",
   "execution_count": 1,
   "id": "89d4eb97-6860-45eb-bf2a-5fa8b12d97ca",
   "metadata": {},
   "outputs": [
    {
     "name": "stdout",
     "output_type": "stream",
     "text": [
      "Machine: Darwin x86_64\n",
      "\n",
      "3.8.12 | packaged by conda-forge | (default, Sep 16 2021, 01:59:00) \n",
      "[Clang 11.1.0 ]\n"
     ]
    }
   ],
   "source": [
    "import os\n",
    "import sys\n",
    "import mysql.connector\n",
    "\n",
    "import pandas as pd\n",
    "import numpy as np\n",
    "import math\n",
    "import timeit\n",
    "import warnings\n",
    "\n",
    "# Environment variables\n",
    "from dotenv import load_dotenv\n",
    "load_dotenv(\"mysql.env\")\n",
    "\n",
    "# Visualization + diagnositic\n",
    "import matplotlib.pyplot as plt\n",
    "%matplotlib inline\n",
    "import seaborn as sns\n",
    "from statsmodels.graphics.tsaplots import plot_acf, plot_pacf\n",
    "from statsmodels.stats.diagnostic import acorr_ljungbox, het_arch\n",
    "from scipy.stats import probplot, shapiro\n",
    "\n",
    "warnings.filterwarnings('ignore')\n",
    "\n",
    "import statsmodels.formula.api as smf\n",
    "import statsmodels.tsa.api as smt\n",
    "import statsmodels.api as sm\n",
    "import scipy.stats as scs\n",
    "\n",
    "# Model\n",
    "from arch import arch_model\n",
    "from arch.__future__ import reindexing\n",
    "\n",
    "\n",
    "# Performance\n",
    "from sklearn.metrics import confusion_matrix\n",
    "from sklearn.metrics import precision_score\n",
    "from sklearn.metrics import f1_score\n",
    "\n",
    "print('Machine: {} {}\\n'.format(os.uname().sysname,os.uname().machine))\n",
    "print(sys.version)"
   ]
  },
  {
   "cell_type": "code",
   "execution_count": 2,
   "id": "b4acb28b-f762-450e-8c11-21b02907262b",
   "metadata": {},
   "outputs": [],
   "source": [
    "HOST=os.environ.get(\"HOST\")\n",
    "PORT=os.environ.get(\"PORT\")\n",
    "USER=os.environ.get(\"USER\")\n",
    "PASSWORD=os.environ.get(\"PASSWORD\")\n",
    "\n",
    "try: \n",
    "    conn = mysql.connector.connect(\n",
    "        host=HOST,\n",
    "        port=PORT,\n",
    "        user=USER,\n",
    "        password=PASSWORD,\n",
    "        database=\"GlobalMarketData\"\n",
    "    )\n",
    "    query = f\"SELECT Date, Symbol, Close from histdailyprice3;\"\n",
    "    histdailyprice3 = pd.read_sql(query, conn)\n",
    "    conn.close()\n",
    "except Exception as e:\n",
    "    conn.close()\n",
    "    print(str(e))"
   ]
  },
  {
   "cell_type": "code",
   "execution_count": 27,
   "id": "ca107c73-e3dd-41d6-b3ee-6f86c78dee07",
   "metadata": {},
   "outputs": [],
   "source": [
    "df = histdailyprice3.copy()\n",
    "df.set_index(\"Date\", drop=True, inplace=True)"
   ]
  },
  {
   "cell_type": "code",
   "execution_count": 21,
   "id": "3231d773-c9b7-49b3-a8aa-138ccc0a954f",
   "metadata": {},
   "outputs": [],
   "source": [
    "stock_list = pd.read_csv(\"stocks_and_etfs/stock_list.csv\")\n",
    "etf_list = pd.read_csv(\"stocks_and_etfs/etf_list.csv\")\n",
    "symbol_list = stock_list.append(etf_list).rename({\"0\": \"Symbol\"}, axis=1).reset_index(drop=True)"
   ]
  },
  {
   "cell_type": "markdown",
   "id": "d7995644-4e64-467d-84f4-da296de8c638",
   "metadata": {},
   "source": [
    "# Loop through stocks and etfs"
   ]
  },
  {
   "cell_type": "code",
   "execution_count": 23,
   "id": "204e16a4-79c2-47e0-91eb-d0e1f8c05ad0",
   "metadata": {},
   "outputs": [
    {
     "data": {
      "text/plain": [
       "'MSFT'"
      ]
     },
     "execution_count": 23,
     "metadata": {},
     "output_type": "execute_result"
    }
   ],
   "source": [
    "#for symbol in symbol_list.Symbol:\n",
    "#    df[df.Symbol == symbol]\n",
    "symbol = symbol_list.Symbol[0]\n",
    "symbol"
   ]
  },
  {
   "cell_type": "code",
   "execution_count": 29,
   "id": "7e3e5998-8f1a-402f-9109-6594ac761920",
   "metadata": {},
   "outputs": [],
   "source": [
    "symbol_df = df[df.Symbol == symbol]\n",
    "symbol_df['pct_change'] = 100 * symbol_df['Close'].pct_change()\n",
    "symbol_df.dropna(inplace=True)"
   ]
  },
  {
   "cell_type": "code",
   "execution_count": null,
   "id": "c0dcd39e-9653-4d43-9873-396b20298600",
   "metadata": {},
   "outputs": [],
   "source": []
  },
  {
   "cell_type": "code",
   "execution_count": null,
   "id": "b47e7b00-428d-47cb-ad36-fcc7d847b5cc",
   "metadata": {},
   "outputs": [],
   "source": [
    "def gridsearch(data, p_rng, q_rng):\n",
    "    top_score, top_results = float('inf'), None\n",
    "    top_models = []\n",
    "    for p in p_rng:\n",
    "        for q in q_rng:\n",
    "            try:\n",
    "                model = arch_model(data, vol='GARCH', p=p, q=q, dist='normal')\n",
    "                model_fit = model.fit(disp='off')\n",
    "                resid = model_fit.resid\n",
    "                st_resid = np.divide(resid, model_fit.conditional_volatility)\n",
    "                results = evaluate_model(resid, st_resid)\n",
    "                results['AIC'] = model_fit.aic\n",
    "                results['params']['p'] = p\n",
    "                results['params']['q'] = q\n",
    "                if results['AIC'] < top_score: \n",
    "                    top_score = results['AIC']\n",
    "                    top_results = results\n",
    "                elif results['LM_pvalue'][1] is False:\n",
    "                    top_models.append(results)\n",
    "            except:\n",
    "                continue\n",
    "    top_models.append(top_results)\n",
    "    return top_models"
   ]
  },
  {
   "cell_type": "code",
   "execution_count": null,
   "id": "3c751e43-1166-4893-937e-5ffa1a35f21e",
   "metadata": {},
   "outputs": [],
   "source": [
    "def evaluate_model(residuals, st_residuals, lags=50):\n",
    "    results = {\n",
    "        'LM_pvalue': None,\n",
    "        'F_pvalue': None,\n",
    "        'SW_pvalue': None,\n",
    "        'AIC': None,\n",
    "        'params': {'p': None, 'q': None}\n",
    "    }\n",
    "    arch_test = het_arch(residuals, nlags=lags)\n",
    "    shap_test = shapiro(st_residuals)\n",
    "    # We want falsey values for each of these hypothesis tests\n",
    "    results['LM_pvalue'] = [arch_test[1], arch_test[1] < .05]\n",
    "    results['F_pvalue'] = [arch_test[3], arch_test[3] < .05]\n",
    "    results['SW_pvalue'] = [shap_test[1], shap_test[1] < .05]\n",
    "    return results"
   ]
  },
  {
   "cell_type": "code",
   "execution_count": null,
   "id": "1b7c8d70-020c-4c1c-91f0-173b32a074b5",
   "metadata": {},
   "outputs": [],
   "source": [
    "p_rng = range(0,30)\n",
    "q_rng = range(0,40)\n",
    "df['dif_pct_change'] = df['pct_change']#.diff()\n",
    "\n",
    "# Time the grid search\n",
    "start = timeit.default_timer()\n",
    "\n",
    "top_models = gridsearch(df['dif_pct_change'], p_rng, q_rng)\n",
    "\n",
    "stop = timeit.default_timer()\n",
    "print('Time: ', stop - start)\n",
    "\n",
    "print(top_models)"
   ]
  },
  {
   "cell_type": "code",
   "execution_count": null,
   "id": "ce43d09b-483b-4325-ba4b-e122a2c8e008",
   "metadata": {},
   "outputs": [],
   "source": [
    "p = top_models[0]['params']['p']\n",
    "q = top_models[0]['params']['q']\n",
    "garch = arch_model(df['pct_change'], vol='GARCH', p=p, q=q, dist='normal')\n",
    "fgarch = garch.fit(disp='off') \n",
    "resid = fgarch.resid\n",
    "st_resid = np.divide(resid, fgarch.conditional_volatility)\n",
    "ts_plot(resid, st_resid)\n",
    "arch_test = het_arch(resid, nlags=50)\n",
    "shapiro_test = shapiro(st_resid)\n",
    "print(f'Lagrange mulitplier p-value: {arch_test[1]}')\n",
    "print(f'F test p-value: {arch_test[3]}')\n",
    "print(f'Shapiro-Wilks p-value: {shapiro_test[1]}')\n",
    "fgarch.summary()"
   ]
  },
  {
   "cell_type": "code",
   "execution_count": null,
   "id": "f4719308-267c-4013-afe2-5c76bdf41506",
   "metadata": {},
   "outputs": [],
   "source": [
    "garch_model = arch_model(df['pct_change'], p = p, q = q,\n",
    "                      mean = 'constant', vol = 'GARCH', dist = 'normal')\n",
    "\n",
    "gm_result = garch_model.fit(disp='off')\n",
    "print(gm_result.params)\n",
    "\n",
    "print('\\n')\n",
    "\n",
    "gm_forecast = gm_result.forecast(horizon = 5)\n",
    "print(gm_forecast.variance[-1:])"
   ]
  },
  {
   "cell_type": "code",
   "execution_count": null,
   "id": "8a43a0cb-18b9-4fb4-b4c4-dfb8d0004670",
   "metadata": {},
   "outputs": [],
   "source": [
    "rolling_predictions = []\n",
    "test_size =365\n",
    "for i in range(test_size):\n",
    "    train = df['pct_change'][:-(test_size-i)]\n",
    "    model = arch_model(train, p=p, q=q)\n",
    "    model_fit = model.fit(disp='off')\n",
    "    pred = model_fit.forecast(horizon=1)\n",
    "    rolling_predictions.append(np.sqrt(pred.variance.values[-1,:][0]))\n",
    "    \n",
    "rolling_predictions = pd.Series(rolling_predictions, index=df['pct_change'].index[-test_size:])\n",
    "\n",
    "plt.figure(figsize=(10,4))\n",
    "plt.plot(rolling_predictions)\n",
    "plt.title('Rolling Prediction')\n",
    "plt.show()"
   ]
  },
  {
   "cell_type": "code",
   "execution_count": null,
   "id": "78bdad59-8626-46e6-b0c0-695094b746d1",
   "metadata": {},
   "outputs": [],
   "source": [
    "y_pred = np.array(rolling_predictions >= 2)\n",
    "y_true = np.array(abs(df['pct_change'][-test_size:]) >= 2)\n",
    "\n",
    "# Confusion Matrix\n",
    "tn, fp, fn, tp = confusion_matrix(y_true, y_pred).ravel()\n",
    "print(\"tn:\", tn, \"fp:\", fp, \"fn:\", fn, \"tp:\", tp)\n",
    "\n",
    "# Precision score\n",
    "precision_macro = precision_score(y_true, y_pred, average='macro')\n",
    "precision_micro = precision_score(y_true, y_pred, average='micro')\n",
    "print(\"Macro precision score:\", precision_macro)\n",
    "print(\"Micro precision score:\", precision_micro)\n",
    "\n",
    "# f1 score\n",
    "f1_macro = f1_score(y_true, y_pred, average='macro')\n",
    "f1_micro = f1_score(y_true, y_pred, average='micro')\n",
    "print(\"Macro f1 score:\", f1_macro)\n",
    "print(\"Micro f1 score:\", f1_micro)"
   ]
  }
 ],
 "metadata": {
  "kernelspec": {
   "display_name": "Python 3 (ipykernel)",
   "language": "python",
   "name": "python3"
  },
  "language_info": {
   "codemirror_mode": {
    "name": "ipython",
    "version": 3
   },
   "file_extension": ".py",
   "mimetype": "text/x-python",
   "name": "python",
   "nbconvert_exporter": "python",
   "pygments_lexer": "ipython3",
   "version": "3.8.12"
  }
 },
 "nbformat": 4,
 "nbformat_minor": 5
}
