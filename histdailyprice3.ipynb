{
 "cells": [
  {
   "cell_type": "markdown",
   "id": "858e511c-5326-43dd-b57a-023b4de7acb4",
   "metadata": {},
   "source": [
    "# MySQL Database connection"
   ]
  },
  {
   "cell_type": "markdown",
   "id": "0cdf58cc-3c0d-4a23-8041-21eee49cd962",
   "metadata": {
    "tags": []
   },
   "source": [
    "# Import Libraries"
   ]
  },
  {
   "cell_type": "code",
   "execution_count": 5,
   "id": "f289c1d4-118b-410d-9dc2-16ebaf6023c3",
   "metadata": {},
   "outputs": [],
   "source": [
    "#!pip install mysql-connector-python\n",
    "#!pip install python-dotenv\n",
    "#!pip install pymysql"
   ]
  },
  {
   "cell_type": "code",
   "execution_count": 21,
   "id": "f7897f9f-2675-467c-a6f2-7edd720d130f",
   "metadata": {},
   "outputs": [
    {
     "data": {
      "text/plain": [
       "True"
      ]
     },
     "execution_count": 21,
     "metadata": {},
     "output_type": "execute_result"
    }
   ],
   "source": [
    "import config as cfg\n",
    "import pandas as pd\n",
    "import mysql.connector\n",
    "import os\n",
    "from datetime import datetime\n",
    "\n",
    "from dotenv import load_dotenv\n",
    "load_dotenv(\"mysql.env\")"
   ]
  },
  {
   "cell_type": "markdown",
   "id": "d7c7d7f7-34dc-4d9b-a903-f04373d3aeba",
   "metadata": {},
   "source": [
    "# MySQL connection"
   ]
  },
  {
   "cell_type": "code",
   "execution_count": 9,
   "id": "b11eadee-32d8-4b1e-bb2b-a44ba3fff636",
   "metadata": {},
   "outputs": [],
   "source": [
    "HOST=os.environ.get(\"HOST\")\n",
    "PORT=os.environ.get(\"PORT\")\n",
    "USER=os.environ.get(\"USER\")\n",
    "PASSWORD=os.environ.get(\"PASSWORD\")\n",
    "\n",
    "try: \n",
    "    conn = mysql.connector.connect(\n",
    "        host=HOST,\n",
    "        port=PORT,\n",
    "        user=USER,\n",
    "        password=PASSWORD,\n",
    "        database=\"GlobalMarketData\"\n",
    "    )\n",
    "    query = \"SELECT * from histdailyprice3;\"\n",
    "    df = pd.read_sql(query, conn)\n",
    "    conn.close()\n",
    "except Exception as e:\n",
    "    conn.close()\n",
    "    print(str(e))"
   ]
  },
  {
   "cell_type": "markdown",
   "id": "dcc9fb88-f89d-4802-b3a6-b1d8e6111653",
   "metadata": {},
   "source": [
    "# Data"
   ]
  },
  {
   "cell_type": "code",
   "execution_count": 10,
   "id": "591b376c-30f7-4a2d-9e8b-6cc317c4110a",
   "metadata": {},
   "outputs": [
    {
     "data": {
      "text/html": [
       "<div>\n",
       "<style scoped>\n",
       "    .dataframe tbody tr th:only-of-type {\n",
       "        vertical-align: middle;\n",
       "    }\n",
       "\n",
       "    .dataframe tbody tr th {\n",
       "        vertical-align: top;\n",
       "    }\n",
       "\n",
       "    .dataframe thead th {\n",
       "        text-align: right;\n",
       "    }\n",
       "</style>\n",
       "<table border=\"1\" class=\"dataframe\">\n",
       "  <thead>\n",
       "    <tr style=\"text-align: right;\">\n",
       "      <th></th>\n",
       "      <th>Date</th>\n",
       "      <th>Symbol</th>\n",
       "      <th>Exchange</th>\n",
       "      <th>Close</th>\n",
       "      <th>Open</th>\n",
       "      <th>High</th>\n",
       "      <th>Low</th>\n",
       "      <th>Volume</th>\n",
       "    </tr>\n",
       "  </thead>\n",
       "  <tbody>\n",
       "    <tr>\n",
       "      <th>0</th>\n",
       "      <td>1998-01-01</td>\n",
       "      <td>00001.HK</td>\n",
       "      <td>HKEX</td>\n",
       "      <td>50.750</td>\n",
       "      <td>50.750</td>\n",
       "      <td>50.750</td>\n",
       "      <td>50.750</td>\n",
       "      <td>0</td>\n",
       "    </tr>\n",
       "    <tr>\n",
       "      <th>1</th>\n",
       "      <td>1998-01-01</td>\n",
       "      <td>00002.HK</td>\n",
       "      <td>HKEX</td>\n",
       "      <td>34.043</td>\n",
       "      <td>34.043</td>\n",
       "      <td>34.043</td>\n",
       "      <td>34.043</td>\n",
       "      <td>0</td>\n",
       "    </tr>\n",
       "    <tr>\n",
       "      <th>2</th>\n",
       "      <td>1998-01-01</td>\n",
       "      <td>00003.HK</td>\n",
       "      <td>HKEX</td>\n",
       "      <td>9.314</td>\n",
       "      <td>9.314</td>\n",
       "      <td>9.314</td>\n",
       "      <td>9.314</td>\n",
       "      <td>0</td>\n",
       "    </tr>\n",
       "    <tr>\n",
       "      <th>3</th>\n",
       "      <td>1998-01-01</td>\n",
       "      <td>00004.HK</td>\n",
       "      <td>HKEX</td>\n",
       "      <td>16.821</td>\n",
       "      <td>16.821</td>\n",
       "      <td>16.821</td>\n",
       "      <td>16.821</td>\n",
       "      <td>0</td>\n",
       "    </tr>\n",
       "    <tr>\n",
       "      <th>4</th>\n",
       "      <td>1998-01-01</td>\n",
       "      <td>00005.HK</td>\n",
       "      <td>HKEX</td>\n",
       "      <td>63.666</td>\n",
       "      <td>63.666</td>\n",
       "      <td>63.666</td>\n",
       "      <td>63.666</td>\n",
       "      <td>0</td>\n",
       "    </tr>\n",
       "  </tbody>\n",
       "</table>\n",
       "</div>"
      ],
      "text/plain": [
       "         Date    Symbol Exchange   Close    Open    High     Low  Volume\n",
       "0  1998-01-01  00001.HK     HKEX  50.750  50.750  50.750  50.750       0\n",
       "1  1998-01-01  00002.HK     HKEX  34.043  34.043  34.043  34.043       0\n",
       "2  1998-01-01  00003.HK     HKEX   9.314   9.314   9.314   9.314       0\n",
       "3  1998-01-01  00004.HK     HKEX  16.821  16.821  16.821  16.821       0\n",
       "4  1998-01-01  00005.HK     HKEX  63.666  63.666  63.666  63.666       0"
      ]
     },
     "execution_count": 10,
     "metadata": {},
     "output_type": "execute_result"
    }
   ],
   "source": [
    "df.head()"
   ]
  },
  {
   "cell_type": "code",
   "execution_count": 11,
   "id": "143ccc1e-aa30-48dc-8d57-a7206c1ca363",
   "metadata": {},
   "outputs": [
    {
     "name": "stdout",
     "output_type": "stream",
     "text": [
      "Dimensions: (29270724, 8)\n"
     ]
    }
   ],
   "source": [
    "print(\"Dimensions:\", df.shape)"
   ]
  },
  {
   "cell_type": "code",
   "execution_count": 12,
   "id": "952fa8de-06d0-42df-a020-f1219abf8a03",
   "metadata": {},
   "outputs": [
    {
     "data": {
      "text/html": [
       "<div>\n",
       "<style scoped>\n",
       "    .dataframe tbody tr th:only-of-type {\n",
       "        vertical-align: middle;\n",
       "    }\n",
       "\n",
       "    .dataframe tbody tr th {\n",
       "        vertical-align: top;\n",
       "    }\n",
       "\n",
       "    .dataframe thead th {\n",
       "        text-align: right;\n",
       "    }\n",
       "</style>\n",
       "<table border=\"1\" class=\"dataframe\">\n",
       "  <thead>\n",
       "    <tr style=\"text-align: right;\">\n",
       "      <th></th>\n",
       "      <th>Close</th>\n",
       "      <th>Open</th>\n",
       "      <th>High</th>\n",
       "      <th>Low</th>\n",
       "      <th>Volume</th>\n",
       "    </tr>\n",
       "  </thead>\n",
       "  <tbody>\n",
       "    <tr>\n",
       "      <th>count</th>\n",
       "      <td>2.927072e+07</td>\n",
       "      <td>2.927072e+07</td>\n",
       "      <td>2.927072e+07</td>\n",
       "      <td>2.927072e+07</td>\n",
       "      <td>2.927072e+07</td>\n",
       "    </tr>\n",
       "    <tr>\n",
       "      <th>mean</th>\n",
       "      <td>2.706945e+04</td>\n",
       "      <td>2.770904e+04</td>\n",
       "      <td>2.633463e+04</td>\n",
       "      <td>2.692689e+04</td>\n",
       "      <td>2.267096e+06</td>\n",
       "    </tr>\n",
       "    <tr>\n",
       "      <th>std</th>\n",
       "      <td>4.412140e+06</td>\n",
       "      <td>4.512667e+06</td>\n",
       "      <td>4.299817e+06</td>\n",
       "      <td>4.393168e+06</td>\n",
       "      <td>2.128552e+07</td>\n",
       "    </tr>\n",
       "    <tr>\n",
       "      <th>min</th>\n",
       "      <td>-1.634510e+03</td>\n",
       "      <td>0.000000e+00</td>\n",
       "      <td>-1.764960e+03</td>\n",
       "      <td>0.000000e+00</td>\n",
       "      <td>-2.140735e+09</td>\n",
       "    </tr>\n",
       "    <tr>\n",
       "      <th>25%</th>\n",
       "      <td>6.070000e+00</td>\n",
       "      <td>6.190000e+00</td>\n",
       "      <td>5.955000e+00</td>\n",
       "      <td>6.070000e+00</td>\n",
       "      <td>1.450000e+04</td>\n",
       "    </tr>\n",
       "    <tr>\n",
       "      <th>50%</th>\n",
       "      <td>1.747000e+01</td>\n",
       "      <td>1.770000e+01</td>\n",
       "      <td>1.721000e+01</td>\n",
       "      <td>1.746000e+01</td>\n",
       "      <td>1.258000e+05</td>\n",
       "    </tr>\n",
       "    <tr>\n",
       "      <th>75%</th>\n",
       "      <td>3.479000e+01</td>\n",
       "      <td>3.519000e+01</td>\n",
       "      <td>3.435000e+01</td>\n",
       "      <td>3.478000e+01</td>\n",
       "      <td>7.554000e+05</td>\n",
       "    </tr>\n",
       "    <tr>\n",
       "      <th>max</th>\n",
       "      <td>1.555500e+09</td>\n",
       "      <td>1.572000e+09</td>\n",
       "      <td>1.365000e+09</td>\n",
       "      <td>1.536000e+09</td>\n",
       "      <td>1.977816e+10</td>\n",
       "    </tr>\n",
       "  </tbody>\n",
       "</table>\n",
       "</div>"
      ],
      "text/plain": [
       "              Close          Open          High           Low        Volume\n",
       "count  2.927072e+07  2.927072e+07  2.927072e+07  2.927072e+07  2.927072e+07\n",
       "mean   2.706945e+04  2.770904e+04  2.633463e+04  2.692689e+04  2.267096e+06\n",
       "std    4.412140e+06  4.512667e+06  4.299817e+06  4.393168e+06  2.128552e+07\n",
       "min   -1.634510e+03  0.000000e+00 -1.764960e+03  0.000000e+00 -2.140735e+09\n",
       "25%    6.070000e+00  6.190000e+00  5.955000e+00  6.070000e+00  1.450000e+04\n",
       "50%    1.747000e+01  1.770000e+01  1.721000e+01  1.746000e+01  1.258000e+05\n",
       "75%    3.479000e+01  3.519000e+01  3.435000e+01  3.478000e+01  7.554000e+05\n",
       "max    1.555500e+09  1.572000e+09  1.365000e+09  1.536000e+09  1.977816e+10"
      ]
     },
     "execution_count": 12,
     "metadata": {},
     "output_type": "execute_result"
    }
   ],
   "source": [
    "df.describe()"
   ]
  },
  {
   "cell_type": "code",
   "execution_count": 13,
   "id": "1d401e9b-d2e9-4abe-9b18-9960493a43f9",
   "metadata": {},
   "outputs": [
    {
     "data": {
      "text/plain": [
       "Index(['Date', 'Symbol', 'Exchange', 'Close', 'Open', 'High', 'Low', 'Volume'], dtype='object')"
      ]
     },
     "execution_count": 13,
     "metadata": {},
     "output_type": "execute_result"
    }
   ],
   "source": [
    "df.columns"
   ]
  },
  {
   "cell_type": "markdown",
   "id": "34c4147f-ad7a-4126-9a9e-adb1dabcb8b2",
   "metadata": {},
   "source": [
    "# EDA"
   ]
  },
  {
   "cell_type": "markdown",
   "id": "850f6686-3f51-42ab-8263-c8eed8be4c57",
   "metadata": {},
   "source": [
    "## Date"
   ]
  },
  {
   "cell_type": "code",
   "execution_count": 14,
   "id": "ce957838-287c-4a88-8db7-6b6ba17c3007",
   "metadata": {},
   "outputs": [
    {
     "name": "stdout",
     "output_type": "stream",
     "text": [
      "Date range: 1998-01-01 to 2021-09-07\n"
     ]
    }
   ],
   "source": [
    "print(\"Date range:\", min(df.Date), \"to\", max(df.Date))"
   ]
  },
  {
   "cell_type": "markdown",
   "id": "02a5e62e-6a21-486f-99c5-24882a4dfe0d",
   "metadata": {},
   "source": [
    "## Exchange"
   ]
  },
  {
   "cell_type": "code",
   "execution_count": 15,
   "id": "484d49f4-0e31-484f-9a2e-fcced3ac0a55",
   "metadata": {},
   "outputs": [
    {
     "data": {
      "text/plain": [
       "array(['HKEX', 'NYSE', 'NASDAQ', 'AMEX'], dtype=object)"
      ]
     },
     "execution_count": 15,
     "metadata": {},
     "output_type": "execute_result"
    }
   ],
   "source": [
    "df.Exchange.unique()"
   ]
  },
  {
   "cell_type": "markdown",
   "id": "35f021a9-79ac-4fe9-82d0-3bb27cacb51e",
   "metadata": {},
   "source": [
    "HKEX - The Stock Exchange of Hong Kong Limited <br>\n",
    "NYSE - The New York Stock Exchange <br>\n",
    "NASDAQ - Nasdaq Composite <br>\n",
    "AMEX - American Stock Exchange"
   ]
  },
  {
   "cell_type": "markdown",
   "id": "9b61c071-faa3-475c-974f-b18184e1a3ea",
   "metadata": {},
   "source": [
    "## Symbol"
   ]
  },
  {
   "cell_type": "code",
   "execution_count": 16,
   "id": "36c4bfa4-d27c-4584-ae57-5cd2cbc4c3fa",
   "metadata": {},
   "outputs": [
    {
     "data": {
      "text/plain": [
       "0        00001.HK\n",
       "1        00002.HK\n",
       "2        00003.HK\n",
       "3        00004.HK\n",
       "4        00005.HK\n",
       "           ...   \n",
       "13908        SLGC\n",
       "13909       SLGCW\n",
       "13910       OPP.P\n",
       "13911       RCO.W\n",
       "13912        RCOR\n",
       "Length: 13913, dtype: object"
      ]
     },
     "execution_count": 16,
     "metadata": {},
     "output_type": "execute_result"
    }
   ],
   "source": [
    "pd.Series(df.Symbol.unique())"
   ]
  },
  {
   "cell_type": "code",
   "execution_count": 17,
   "id": "aea110f8-ad2a-4f71-a80a-1a24931c1468",
   "metadata": {},
   "outputs": [
    {
     "data": {
      "text/html": [
       "<div>\n",
       "<style scoped>\n",
       "    .dataframe tbody tr th:only-of-type {\n",
       "        vertical-align: middle;\n",
       "    }\n",
       "\n",
       "    .dataframe tbody tr th {\n",
       "        vertical-align: top;\n",
       "    }\n",
       "\n",
       "    .dataframe thead th {\n",
       "        text-align: right;\n",
       "    }\n",
       "</style>\n",
       "<table border=\"1\" class=\"dataframe\">\n",
       "  <thead>\n",
       "    <tr style=\"text-align: right;\">\n",
       "      <th></th>\n",
       "      <th>Date</th>\n",
       "      <th>Symbol</th>\n",
       "      <th>Exchange</th>\n",
       "      <th>Close</th>\n",
       "      <th>Open</th>\n",
       "      <th>High</th>\n",
       "      <th>Low</th>\n",
       "      <th>Volume</th>\n",
       "    </tr>\n",
       "  </thead>\n",
       "  <tbody>\n",
       "    <tr>\n",
       "      <th>510</th>\n",
       "      <td>1998-01-01</td>\n",
       "      <td>AAPL</td>\n",
       "      <td>NASDAQ</td>\n",
       "      <td>0.1172</td>\n",
       "      <td>0.1172</td>\n",
       "      <td>0.1172</td>\n",
       "      <td>0.1172</td>\n",
       "      <td>0</td>\n",
       "    </tr>\n",
       "    <tr>\n",
       "      <th>2687</th>\n",
       "      <td>1998-01-02</td>\n",
       "      <td>AAPL</td>\n",
       "      <td>NASDAQ</td>\n",
       "      <td>0.1217</td>\n",
       "      <td>0.1451</td>\n",
       "      <td>0.1205</td>\n",
       "      <td>0.1451</td>\n",
       "      <td>25646800</td>\n",
       "    </tr>\n",
       "    <tr>\n",
       "      <th>4865</th>\n",
       "      <td>1998-01-05</td>\n",
       "      <td>AAPL</td>\n",
       "      <td>NASDAQ</td>\n",
       "      <td>0.1473</td>\n",
       "      <td>0.1479</td>\n",
       "      <td>0.1356</td>\n",
       "      <td>0.1418</td>\n",
       "      <td>23277200</td>\n",
       "    </tr>\n",
       "    <tr>\n",
       "      <th>7043</th>\n",
       "      <td>1998-01-06</td>\n",
       "      <td>AAPL</td>\n",
       "      <td>NASDAQ</td>\n",
       "      <td>0.1423</td>\n",
       "      <td>0.1786</td>\n",
       "      <td>0.1317</td>\n",
       "      <td>0.1691</td>\n",
       "      <td>64766000</td>\n",
       "    </tr>\n",
       "    <tr>\n",
       "      <th>9221</th>\n",
       "      <td>1998-01-07</td>\n",
       "      <td>AAPL</td>\n",
       "      <td>NASDAQ</td>\n",
       "      <td>0.1680</td>\n",
       "      <td>0.1697</td>\n",
       "      <td>0.1546</td>\n",
       "      <td>0.1563</td>\n",
       "      <td>37200800</td>\n",
       "    </tr>\n",
       "    <tr>\n",
       "      <th>...</th>\n",
       "      <td>...</td>\n",
       "      <td>...</td>\n",
       "      <td>...</td>\n",
       "      <td>...</td>\n",
       "      <td>...</td>\n",
       "      <td>...</td>\n",
       "      <td>...</td>\n",
       "      <td>...</td>\n",
       "    </tr>\n",
       "    <tr>\n",
       "      <th>29215717</th>\n",
       "      <td>2021-08-30</td>\n",
       "      <td>AAPL</td>\n",
       "      <td>NASDAQ</td>\n",
       "      <td>149.0000</td>\n",
       "      <td>153.4900</td>\n",
       "      <td>148.6100</td>\n",
       "      <td>153.1200</td>\n",
       "      <td>90956700</td>\n",
       "    </tr>\n",
       "    <tr>\n",
       "      <th>29226256</th>\n",
       "      <td>2021-08-31</td>\n",
       "      <td>AAPL</td>\n",
       "      <td>NASDAQ</td>\n",
       "      <td>152.6600</td>\n",
       "      <td>152.8000</td>\n",
       "      <td>151.2900</td>\n",
       "      <td>151.8300</td>\n",
       "      <td>86453100</td>\n",
       "    </tr>\n",
       "    <tr>\n",
       "      <th>29236873</th>\n",
       "      <td>2021-09-01</td>\n",
       "      <td>AAPL</td>\n",
       "      <td>NASDAQ</td>\n",
       "      <td>152.8300</td>\n",
       "      <td>154.9800</td>\n",
       "      <td>152.3400</td>\n",
       "      <td>152.5100</td>\n",
       "      <td>80313700</td>\n",
       "    </tr>\n",
       "    <tr>\n",
       "      <th>29247492</th>\n",
       "      <td>2021-09-02</td>\n",
       "      <td>AAPL</td>\n",
       "      <td>NASDAQ</td>\n",
       "      <td>153.8700</td>\n",
       "      <td>154.7200</td>\n",
       "      <td>152.4000</td>\n",
       "      <td>153.6500</td>\n",
       "      <td>71171300</td>\n",
       "    </tr>\n",
       "    <tr>\n",
       "      <th>29258015</th>\n",
       "      <td>2021-09-03</td>\n",
       "      <td>AAPL</td>\n",
       "      <td>NASDAQ</td>\n",
       "      <td>153.7600</td>\n",
       "      <td>154.6300</td>\n",
       "      <td>153.0900</td>\n",
       "      <td>154.3000</td>\n",
       "      <td>57866000</td>\n",
       "    </tr>\n",
       "  </tbody>\n",
       "</table>\n",
       "<p>6147 rows × 8 columns</p>\n",
       "</div>"
      ],
      "text/plain": [
       "                Date Symbol Exchange     Close      Open      High       Low  \\\n",
       "510       1998-01-01   AAPL   NASDAQ    0.1172    0.1172    0.1172    0.1172   \n",
       "2687      1998-01-02   AAPL   NASDAQ    0.1217    0.1451    0.1205    0.1451   \n",
       "4865      1998-01-05   AAPL   NASDAQ    0.1473    0.1479    0.1356    0.1418   \n",
       "7043      1998-01-06   AAPL   NASDAQ    0.1423    0.1786    0.1317    0.1691   \n",
       "9221      1998-01-07   AAPL   NASDAQ    0.1680    0.1697    0.1546    0.1563   \n",
       "...              ...    ...      ...       ...       ...       ...       ...   \n",
       "29215717  2021-08-30   AAPL   NASDAQ  149.0000  153.4900  148.6100  153.1200   \n",
       "29226256  2021-08-31   AAPL   NASDAQ  152.6600  152.8000  151.2900  151.8300   \n",
       "29236873  2021-09-01   AAPL   NASDAQ  152.8300  154.9800  152.3400  152.5100   \n",
       "29247492  2021-09-02   AAPL   NASDAQ  153.8700  154.7200  152.4000  153.6500   \n",
       "29258015  2021-09-03   AAPL   NASDAQ  153.7600  154.6300  153.0900  154.3000   \n",
       "\n",
       "            Volume  \n",
       "510              0  \n",
       "2687      25646800  \n",
       "4865      23277200  \n",
       "7043      64766000  \n",
       "9221      37200800  \n",
       "...            ...  \n",
       "29215717  90956700  \n",
       "29226256  86453100  \n",
       "29236873  80313700  \n",
       "29247492  71171300  \n",
       "29258015  57866000  \n",
       "\n",
       "[6147 rows x 8 columns]"
      ]
     },
     "execution_count": 17,
     "metadata": {},
     "output_type": "execute_result"
    }
   ],
   "source": [
    "df[df.Symbol == \"AAPL\"]"
   ]
  },
  {
   "cell_type": "markdown",
   "id": "07da4752-f282-46bd-8237-b1384b465b13",
   "metadata": {
    "jp-MarkdownHeadingCollapsed": true,
    "tags": []
   },
   "source": [
    "# Whether Daily Volatiltiy is above 2%"
   ]
  },
  {
   "cell_type": "code",
   "execution_count": 77,
   "id": "66abd143-e592-48d4-9c61-2a9977291f99",
   "metadata": {},
   "outputs": [
    {
     "data": {
      "text/html": [
       "<div>\n",
       "<style scoped>\n",
       "    .dataframe tbody tr th:only-of-type {\n",
       "        vertical-align: middle;\n",
       "    }\n",
       "\n",
       "    .dataframe tbody tr th {\n",
       "        vertical-align: top;\n",
       "    }\n",
       "\n",
       "    .dataframe thead th {\n",
       "        text-align: right;\n",
       "    }\n",
       "</style>\n",
       "<table border=\"1\" class=\"dataframe\">\n",
       "  <thead>\n",
       "    <tr style=\"text-align: right;\">\n",
       "      <th></th>\n",
       "      <th>Symbol</th>\n",
       "      <th>Daily Volatility</th>\n",
       "    </tr>\n",
       "  </thead>\n",
       "  <tbody>\n",
       "  </tbody>\n",
       "</table>\n",
       "</div>"
      ],
      "text/plain": [
       "Empty DataFrame\n",
       "Columns: [Symbol, Daily Volatility]\n",
       "Index: []"
      ]
     },
     "execution_count": 77,
     "metadata": {},
     "output_type": "execute_result"
    }
   ],
   "source": [
    "columns = [\"Symbol\",\n",
    "           \"Daily Volatility\"\n",
    "          ]\n",
    "daily_volatility = pd.DataFrame(columns = columns)\n",
    "daily_volatility"
   ]
  },
  {
   "cell_type": "code",
   "execution_count": 78,
   "id": "55236e4d-e5e9-4bcd-b998-515e641a899f",
   "metadata": {
    "tags": []
   },
   "outputs": [
    {
     "name": "stdout",
     "output_type": "stream",
     "text": [
      "13913\n"
     ]
    }
   ],
   "source": [
    "symbols = df.Symbol.unique()\n",
    "print(len(symbols))"
   ]
  },
  {
   "cell_type": "code",
   "execution_count": 79,
   "id": "c29e8507-f0c2-45ec-98a1-54dfbb574f2e",
   "metadata": {},
   "outputs": [],
   "source": [
    "for symbol in symbols:\n",
    "    pct_change = df[df.Symbol == symbol][\"Close\"].pct_change() * 100\n",
    "    pct_change.dropna(inplace=True)\n",
    "    std = pct_change.std()\n",
    "    daily_volatility = daily_volatility.append({\"Symbol\": symbol, \"Daily Volatility\": std}, ignore_index=True)"
   ]
  },
  {
   "cell_type": "code",
   "execution_count": 80,
   "id": "421fb905-188f-43f4-8867-22173a78c215",
   "metadata": {},
   "outputs": [
    {
     "data": {
      "text/html": [
       "<div>\n",
       "<style scoped>\n",
       "    .dataframe tbody tr th:only-of-type {\n",
       "        vertical-align: middle;\n",
       "    }\n",
       "\n",
       "    .dataframe tbody tr th {\n",
       "        vertical-align: top;\n",
       "    }\n",
       "\n",
       "    .dataframe thead th {\n",
       "        text-align: right;\n",
       "    }\n",
       "</style>\n",
       "<table border=\"1\" class=\"dataframe\">\n",
       "  <thead>\n",
       "    <tr style=\"text-align: right;\">\n",
       "      <th></th>\n",
       "      <th>Symbol</th>\n",
       "      <th>Daily Volatility</th>\n",
       "    </tr>\n",
       "  </thead>\n",
       "  <tbody>\n",
       "    <tr>\n",
       "      <th>0</th>\n",
       "      <td>00001.HK</td>\n",
       "      <td>2.208503</td>\n",
       "    </tr>\n",
       "    <tr>\n",
       "      <th>1</th>\n",
       "      <td>00002.HK</td>\n",
       "      <td>1.356810</td>\n",
       "    </tr>\n",
       "    <tr>\n",
       "      <th>2</th>\n",
       "      <td>00003.HK</td>\n",
       "      <td>2.111346</td>\n",
       "    </tr>\n",
       "    <tr>\n",
       "      <th>3</th>\n",
       "      <td>00004.HK</td>\n",
       "      <td>2.500953</td>\n",
       "    </tr>\n",
       "    <tr>\n",
       "      <th>4</th>\n",
       "      <td>00005.HK</td>\n",
       "      <td>1.639771</td>\n",
       "    </tr>\n",
       "  </tbody>\n",
       "</table>\n",
       "</div>"
      ],
      "text/plain": [
       "     Symbol  Daily Volatility\n",
       "0  00001.HK          2.208503\n",
       "1  00002.HK          1.356810\n",
       "2  00003.HK          2.111346\n",
       "3  00004.HK          2.500953\n",
       "4  00005.HK          1.639771"
      ]
     },
     "execution_count": 80,
     "metadata": {},
     "output_type": "execute_result"
    }
   ],
   "source": [
    "daily_volatility.head()"
   ]
  },
  {
   "cell_type": "code",
   "execution_count": 81,
   "id": "e2ae2c6d-7ef9-4e72-9c42-2aa74bdbb9e4",
   "metadata": {},
   "outputs": [
    {
     "data": {
      "text/html": [
       "<div>\n",
       "<style scoped>\n",
       "    .dataframe tbody tr th:only-of-type {\n",
       "        vertical-align: middle;\n",
       "    }\n",
       "\n",
       "    .dataframe tbody tr th {\n",
       "        vertical-align: top;\n",
       "    }\n",
       "\n",
       "    .dataframe thead th {\n",
       "        text-align: right;\n",
       "    }\n",
       "</style>\n",
       "<table border=\"1\" class=\"dataframe\">\n",
       "  <thead>\n",
       "    <tr style=\"text-align: right;\">\n",
       "      <th></th>\n",
       "      <th>Symbol</th>\n",
       "      <th>Daily Volatility</th>\n",
       "      <th>Exchange</th>\n",
       "    </tr>\n",
       "  </thead>\n",
       "  <tbody>\n",
       "    <tr>\n",
       "      <th>0</th>\n",
       "      <td>00001.HK</td>\n",
       "      <td>2.208503</td>\n",
       "      <td>HKEX</td>\n",
       "    </tr>\n",
       "    <tr>\n",
       "      <th>1</th>\n",
       "      <td>00002.HK</td>\n",
       "      <td>1.356810</td>\n",
       "      <td>HKEX</td>\n",
       "    </tr>\n",
       "    <tr>\n",
       "      <th>2</th>\n",
       "      <td>00003.HK</td>\n",
       "      <td>2.111346</td>\n",
       "      <td>HKEX</td>\n",
       "    </tr>\n",
       "    <tr>\n",
       "      <th>3</th>\n",
       "      <td>00004.HK</td>\n",
       "      <td>2.500953</td>\n",
       "      <td>HKEX</td>\n",
       "    </tr>\n",
       "    <tr>\n",
       "      <th>4</th>\n",
       "      <td>00005.HK</td>\n",
       "      <td>1.639771</td>\n",
       "      <td>HKEX</td>\n",
       "    </tr>\n",
       "    <tr>\n",
       "      <th>...</th>\n",
       "      <td>...</td>\n",
       "      <td>...</td>\n",
       "      <td>...</td>\n",
       "    </tr>\n",
       "    <tr>\n",
       "      <th>13908</th>\n",
       "      <td>SLGC</td>\n",
       "      <td>NaN</td>\n",
       "      <td>NASDAQ</td>\n",
       "    </tr>\n",
       "    <tr>\n",
       "      <th>13909</th>\n",
       "      <td>SLGCW</td>\n",
       "      <td>NaN</td>\n",
       "      <td>NASDAQ</td>\n",
       "    </tr>\n",
       "    <tr>\n",
       "      <th>13910</th>\n",
       "      <td>OPP.P</td>\n",
       "      <td>NaN</td>\n",
       "      <td>NYSE</td>\n",
       "    </tr>\n",
       "    <tr>\n",
       "      <th>13911</th>\n",
       "      <td>RCO.W</td>\n",
       "      <td>NaN</td>\n",
       "      <td>AMEX</td>\n",
       "    </tr>\n",
       "    <tr>\n",
       "      <th>13912</th>\n",
       "      <td>RCOR</td>\n",
       "      <td>NaN</td>\n",
       "      <td>AMEX</td>\n",
       "    </tr>\n",
       "  </tbody>\n",
       "</table>\n",
       "<p>13913 rows × 3 columns</p>\n",
       "</div>"
      ],
      "text/plain": [
       "         Symbol  Daily Volatility Exchange\n",
       "0      00001.HK          2.208503     HKEX\n",
       "1      00002.HK          1.356810     HKEX\n",
       "2      00003.HK          2.111346     HKEX\n",
       "3      00004.HK          2.500953     HKEX\n",
       "4      00005.HK          1.639771     HKEX\n",
       "...         ...               ...      ...\n",
       "13908      SLGC               NaN   NASDAQ\n",
       "13909     SLGCW               NaN   NASDAQ\n",
       "13910     OPP.P               NaN     NYSE\n",
       "13911     RCO.W               NaN     AMEX\n",
       "13912      RCOR               NaN     AMEX\n",
       "\n",
       "[13913 rows x 3 columns]"
      ]
     },
     "execution_count": 81,
     "metadata": {},
     "output_type": "execute_result"
    }
   ],
   "source": [
    "# Join with Exchange\n",
    "ex = df[[\"Symbol\", \"Exchange\"]]\n",
    "ex = ex.groupby(\"Symbol\").first()\n",
    "daily_volatility = daily_volatility.join(ex, on=\"Symbol\", how=\"left\")\n",
    "daily_volatility"
   ]
  },
  {
   "cell_type": "code",
   "execution_count": 87,
   "id": "9dbf91f3-662b-4079-a723-ebfcd383b7e4",
   "metadata": {},
   "outputs": [
    {
     "data": {
      "text/plain": [
       "107"
      ]
     },
     "execution_count": 87,
     "metadata": {},
     "output_type": "execute_result"
    }
   ],
   "source": [
    "daily_volatility[\"Daily Volatility\"].isnull().sum()"
   ]
  },
  {
   "cell_type": "code",
   "execution_count": 89,
   "id": "f1cd22ca-3d55-4b14-862c-20ae6e6a5afc",
   "metadata": {},
   "outputs": [
    {
     "data": {
      "text/html": [
       "<div>\n",
       "<style scoped>\n",
       "    .dataframe tbody tr th:only-of-type {\n",
       "        vertical-align: middle;\n",
       "    }\n",
       "\n",
       "    .dataframe tbody tr th {\n",
       "        vertical-align: top;\n",
       "    }\n",
       "\n",
       "    .dataframe thead th {\n",
       "        text-align: right;\n",
       "    }\n",
       "</style>\n",
       "<table border=\"1\" class=\"dataframe\">\n",
       "  <thead>\n",
       "    <tr style=\"text-align: right;\">\n",
       "      <th></th>\n",
       "      <th>Date</th>\n",
       "      <th>Symbol</th>\n",
       "      <th>Exchange</th>\n",
       "      <th>Close</th>\n",
       "      <th>Open</th>\n",
       "      <th>High</th>\n",
       "      <th>Low</th>\n",
       "      <th>Volume</th>\n",
       "    </tr>\n",
       "  </thead>\n",
       "  <tbody>\n",
       "    <tr>\n",
       "      <th>29265867</th>\n",
       "      <td>2021-09-03</td>\n",
       "      <td>RCOR</td>\n",
       "      <td>AMEX</td>\n",
       "      <td>8.15</td>\n",
       "      <td>8.22</td>\n",
       "      <td>7.49</td>\n",
       "      <td>7.73</td>\n",
       "      <td>117700</td>\n",
       "    </tr>\n",
       "    <tr>\n",
       "      <th>29270094</th>\n",
       "      <td>2021-09-07</td>\n",
       "      <td>RCOR</td>\n",
       "      <td>AMEX</td>\n",
       "      <td>7.89</td>\n",
       "      <td>8.59</td>\n",
       "      <td>7.70</td>\n",
       "      <td>8.53</td>\n",
       "      <td>76169</td>\n",
       "    </tr>\n",
       "  </tbody>\n",
       "</table>\n",
       "</div>"
      ],
      "text/plain": [
       "                Date Symbol Exchange  Close  Open  High   Low  Volume\n",
       "29265867  2021-09-03   RCOR     AMEX   8.15  8.22  7.49  7.73  117700\n",
       "29270094  2021-09-07   RCOR     AMEX   7.89  8.59  7.70  8.53   76169"
      ]
     },
     "execution_count": 89,
     "metadata": {},
     "output_type": "execute_result"
    }
   ],
   "source": [
    "df[df.Symbol == \"RCOR\"]"
   ]
  },
  {
   "cell_type": "code",
   "execution_count": 82,
   "id": "b5e8c3be-7446-42ff-b23f-5caf1359e241",
   "metadata": {},
   "outputs": [
    {
     "data": {
      "text/html": [
       "<div>\n",
       "<style scoped>\n",
       "    .dataframe tbody tr th:only-of-type {\n",
       "        vertical-align: middle;\n",
       "    }\n",
       "\n",
       "    .dataframe tbody tr th {\n",
       "        vertical-align: top;\n",
       "    }\n",
       "\n",
       "    .dataframe thead th {\n",
       "        text-align: right;\n",
       "    }\n",
       "</style>\n",
       "<table border=\"1\" class=\"dataframe\">\n",
       "  <thead>\n",
       "    <tr style=\"text-align: right;\">\n",
       "      <th></th>\n",
       "      <th>Symbol</th>\n",
       "      <th>Daily Volatility</th>\n",
       "      <th>Exchange</th>\n",
       "    </tr>\n",
       "  </thead>\n",
       "  <tbody>\n",
       "    <tr>\n",
       "      <th>0</th>\n",
       "      <td>00001.HK</td>\n",
       "      <td>2.208503</td>\n",
       "      <td>HKEX</td>\n",
       "    </tr>\n",
       "    <tr>\n",
       "      <th>2</th>\n",
       "      <td>00003.HK</td>\n",
       "      <td>2.111346</td>\n",
       "      <td>HKEX</td>\n",
       "    </tr>\n",
       "    <tr>\n",
       "      <th>3</th>\n",
       "      <td>00004.HK</td>\n",
       "      <td>2.500953</td>\n",
       "      <td>HKEX</td>\n",
       "    </tr>\n",
       "    <tr>\n",
       "      <th>6</th>\n",
       "      <td>00008.HK</td>\n",
       "      <td>17.548385</td>\n",
       "      <td>HKEX</td>\n",
       "    </tr>\n",
       "    <tr>\n",
       "      <th>7</th>\n",
       "      <td>00010.HK</td>\n",
       "      <td>2.377736</td>\n",
       "      <td>HKEX</td>\n",
       "    </tr>\n",
       "    <tr>\n",
       "      <th>...</th>\n",
       "      <td>...</td>\n",
       "      <td>...</td>\n",
       "      <td>...</td>\n",
       "    </tr>\n",
       "    <tr>\n",
       "      <th>13898</th>\n",
       "      <td>INCR</td>\n",
       "      <td>7.665985</td>\n",
       "      <td>NASDAQ</td>\n",
       "    </tr>\n",
       "    <tr>\n",
       "      <th>13899</th>\n",
       "      <td>JXN.P</td>\n",
       "      <td>19.650539</td>\n",
       "      <td>NYSE</td>\n",
       "    </tr>\n",
       "    <tr>\n",
       "      <th>13900</th>\n",
       "      <td>LWLG</td>\n",
       "      <td>2.104484</td>\n",
       "      <td>NASDAQ</td>\n",
       "    </tr>\n",
       "    <tr>\n",
       "      <th>13901</th>\n",
       "      <td>RICOW</td>\n",
       "      <td>14.269076</td>\n",
       "      <td>NASDAQ</td>\n",
       "    </tr>\n",
       "    <tr>\n",
       "      <th>13902</th>\n",
       "      <td>STAB</td>\n",
       "      <td>19.949600</td>\n",
       "      <td>NASDAQ</td>\n",
       "    </tr>\n",
       "  </tbody>\n",
       "</table>\n",
       "<p>8892 rows × 3 columns</p>\n",
       "</div>"
      ],
      "text/plain": [
       "         Symbol  Daily Volatility Exchange\n",
       "0      00001.HK          2.208503     HKEX\n",
       "2      00003.HK          2.111346     HKEX\n",
       "3      00004.HK          2.500953     HKEX\n",
       "6      00008.HK         17.548385     HKEX\n",
       "7      00010.HK          2.377736     HKEX\n",
       "...         ...               ...      ...\n",
       "13898      INCR          7.665985   NASDAQ\n",
       "13899     JXN.P         19.650539     NYSE\n",
       "13900      LWLG          2.104484   NASDAQ\n",
       "13901     RICOW         14.269076   NASDAQ\n",
       "13902      STAB         19.949600   NASDAQ\n",
       "\n",
       "[8892 rows x 3 columns]"
      ]
     },
     "execution_count": 82,
     "metadata": {},
     "output_type": "execute_result"
    }
   ],
   "source": [
    "threshold = 2\n",
    "daily_volatility_above_2 = daily_volatility[daily_volatility[\"Daily Volatility\"] >= threshold]\n",
    "daily_volatility_above_2"
   ]
  },
  {
   "cell_type": "code",
   "execution_count": 90,
   "id": "ff8b0c3d-f8b0-4e84-b934-663c3c62d31b",
   "metadata": {},
   "outputs": [],
   "source": [
    "daily_volatility_above_2.to_csv(\"daily_volatility.csv\", index=False)"
   ]
  },
  {
   "cell_type": "markdown",
   "id": "08992238-891d-48ae-b3fc-eaa24d67a207",
   "metadata": {},
   "source": [
    "# Whether Average stock price is below 20%\n",
    "Check if Average stock price (mode) <br>\n",
    "If most of the time it is below $20 [\"Close\"] <br>\n",
    "Nearest 2 years only"
   ]
  },
  {
   "cell_type": "code",
   "execution_count": 43,
   "id": "6126d097-847a-41ea-aeaf-b3297d3e04be",
   "metadata": {},
   "outputs": [],
   "source": [
    "currentYear = datetime.now().year\n",
    "year_band = currentYear - 2\n",
    "average = df.copy()\n",
    "average.Date = pd.to_datetime(average.Date)"
   ]
  },
  {
   "cell_type": "code",
   "execution_count": 42,
   "id": "88a4f594-950c-4c77-b1c9-f5cebf84ddd9",
   "metadata": {},
   "outputs": [
    {
     "data": {
      "text/html": [
       "<div>\n",
       "<style scoped>\n",
       "    .dataframe tbody tr th:only-of-type {\n",
       "        vertical-align: middle;\n",
       "    }\n",
       "\n",
       "    .dataframe tbody tr th {\n",
       "        vertical-align: top;\n",
       "    }\n",
       "\n",
       "    .dataframe thead th {\n",
       "        text-align: right;\n",
       "    }\n",
       "</style>\n",
       "<table border=\"1\" class=\"dataframe\">\n",
       "  <thead>\n",
       "    <tr style=\"text-align: right;\">\n",
       "      <th></th>\n",
       "      <th>Date</th>\n",
       "      <th>Symbol</th>\n",
       "      <th>Exchange</th>\n",
       "      <th>Close</th>\n",
       "      <th>Open</th>\n",
       "      <th>High</th>\n",
       "      <th>Low</th>\n",
       "      <th>Volume</th>\n",
       "    </tr>\n",
       "  </thead>\n",
       "  <tbody>\n",
       "    <tr>\n",
       "      <th>0</th>\n",
       "      <td>1998-01-01</td>\n",
       "      <td>00001.HK</td>\n",
       "      <td>HKEX</td>\n",
       "      <td>50.7500</td>\n",
       "      <td>50.750</td>\n",
       "      <td>50.750</td>\n",
       "      <td>50.7500</td>\n",
       "      <td>0</td>\n",
       "    </tr>\n",
       "    <tr>\n",
       "      <th>1</th>\n",
       "      <td>1998-01-01</td>\n",
       "      <td>00002.HK</td>\n",
       "      <td>HKEX</td>\n",
       "      <td>34.0430</td>\n",
       "      <td>34.043</td>\n",
       "      <td>34.043</td>\n",
       "      <td>34.0430</td>\n",
       "      <td>0</td>\n",
       "    </tr>\n",
       "    <tr>\n",
       "      <th>2</th>\n",
       "      <td>1998-01-01</td>\n",
       "      <td>00003.HK</td>\n",
       "      <td>HKEX</td>\n",
       "      <td>9.3140</td>\n",
       "      <td>9.314</td>\n",
       "      <td>9.314</td>\n",
       "      <td>9.3140</td>\n",
       "      <td>0</td>\n",
       "    </tr>\n",
       "    <tr>\n",
       "      <th>3</th>\n",
       "      <td>1998-01-01</td>\n",
       "      <td>00004.HK</td>\n",
       "      <td>HKEX</td>\n",
       "      <td>16.8210</td>\n",
       "      <td>16.821</td>\n",
       "      <td>16.821</td>\n",
       "      <td>16.8210</td>\n",
       "      <td>0</td>\n",
       "    </tr>\n",
       "    <tr>\n",
       "      <th>4</th>\n",
       "      <td>1998-01-01</td>\n",
       "      <td>00005.HK</td>\n",
       "      <td>HKEX</td>\n",
       "      <td>63.6660</td>\n",
       "      <td>63.666</td>\n",
       "      <td>63.666</td>\n",
       "      <td>63.6660</td>\n",
       "      <td>0</td>\n",
       "    </tr>\n",
       "    <tr>\n",
       "      <th>...</th>\n",
       "      <td>...</td>\n",
       "      <td>...</td>\n",
       "      <td>...</td>\n",
       "      <td>...</td>\n",
       "      <td>...</td>\n",
       "      <td>...</td>\n",
       "      <td>...</td>\n",
       "      <td>...</td>\n",
       "    </tr>\n",
       "    <tr>\n",
       "      <th>29270719</th>\n",
       "      <td>2021-09-07</td>\n",
       "      <td>ZHDG</td>\n",
       "      <td>AMEX</td>\n",
       "      <td>20.5000</td>\n",
       "      <td>20.560</td>\n",
       "      <td>20.450</td>\n",
       "      <td>20.5400</td>\n",
       "      <td>51255</td>\n",
       "    </tr>\n",
       "    <tr>\n",
       "      <th>29270720</th>\n",
       "      <td>2021-09-07</td>\n",
       "      <td>ZIG</td>\n",
       "      <td>AMEX</td>\n",
       "      <td>29.1200</td>\n",
       "      <td>29.120</td>\n",
       "      <td>28.670</td>\n",
       "      <td>28.7200</td>\n",
       "      <td>191481</td>\n",
       "    </tr>\n",
       "    <tr>\n",
       "      <th>29270721</th>\n",
       "      <td>2021-09-07</td>\n",
       "      <td>ZOM</td>\n",
       "      <td>AMEX</td>\n",
       "      <td>0.6037</td>\n",
       "      <td>0.610</td>\n",
       "      <td>0.562</td>\n",
       "      <td>0.5805</td>\n",
       "      <td>22233655</td>\n",
       "    </tr>\n",
       "    <tr>\n",
       "      <th>29270722</th>\n",
       "      <td>2021-09-07</td>\n",
       "      <td>ZROZ</td>\n",
       "      <td>AMEX</td>\n",
       "      <td>149.5400</td>\n",
       "      <td>149.760</td>\n",
       "      <td>148.650</td>\n",
       "      <td>149.6500</td>\n",
       "      <td>128195</td>\n",
       "    </tr>\n",
       "    <tr>\n",
       "      <th>29270723</th>\n",
       "      <td>2021-09-07</td>\n",
       "      <td>ZSL</td>\n",
       "      <td>AMEX</td>\n",
       "      <td>25.8100</td>\n",
       "      <td>26.400</td>\n",
       "      <td>25.640</td>\n",
       "      <td>26.0000</td>\n",
       "      <td>334349</td>\n",
       "    </tr>\n",
       "  </tbody>\n",
       "</table>\n",
       "<p>29270724 rows × 8 columns</p>\n",
       "</div>"
      ],
      "text/plain": [
       "               Date    Symbol Exchange     Close     Open     High       Low  \\\n",
       "0        1998-01-01  00001.HK     HKEX   50.7500   50.750   50.750   50.7500   \n",
       "1        1998-01-01  00002.HK     HKEX   34.0430   34.043   34.043   34.0430   \n",
       "2        1998-01-01  00003.HK     HKEX    9.3140    9.314    9.314    9.3140   \n",
       "3        1998-01-01  00004.HK     HKEX   16.8210   16.821   16.821   16.8210   \n",
       "4        1998-01-01  00005.HK     HKEX   63.6660   63.666   63.666   63.6660   \n",
       "...             ...       ...      ...       ...      ...      ...       ...   \n",
       "29270719 2021-09-07      ZHDG     AMEX   20.5000   20.560   20.450   20.5400   \n",
       "29270720 2021-09-07       ZIG     AMEX   29.1200   29.120   28.670   28.7200   \n",
       "29270721 2021-09-07       ZOM     AMEX    0.6037    0.610    0.562    0.5805   \n",
       "29270722 2021-09-07      ZROZ     AMEX  149.5400  149.760  148.650  149.6500   \n",
       "29270723 2021-09-07       ZSL     AMEX   25.8100   26.400   25.640   26.0000   \n",
       "\n",
       "            Volume  \n",
       "0                0  \n",
       "1                0  \n",
       "2                0  \n",
       "3                0  \n",
       "4                0  \n",
       "...            ...  \n",
       "29270719     51255  \n",
       "29270720    191481  \n",
       "29270721  22233655  \n",
       "29270722    128195  \n",
       "29270723    334349  \n",
       "\n",
       "[29270724 rows x 8 columns]"
      ]
     },
     "execution_count": 42,
     "metadata": {},
     "output_type": "execute_result"
    }
   ],
   "source": []
  },
  {
   "cell_type": "code",
   "execution_count": 13,
   "id": "1e30e868-2e77-475d-96ad-7a4d98c235ac",
   "metadata": {},
   "outputs": [],
   "source": [
    "# Close cursor\n",
    "#cursor.close()\n",
    "\n",
    "# Close connection\n",
    "conn.close()"
   ]
  },
  {
   "cell_type": "markdown",
   "id": "1ed14a75-d2ee-470b-bffe-372af4d4cf09",
   "metadata": {},
   "source": [
    "TODO: Check if Average stock price (mode) <br>\n",
    "If most of the time it is below $20 [\"Close\"] <br>\n",
    "Nearest 2 years only\n",
    "\n",
    "TODO: Replicate GARCH model process on multiple stocks\n"
   ]
  },
  {
   "cell_type": "code",
   "execution_count": null,
   "id": "7c1ce760-1609-4c96-997f-101d9cfb609d",
   "metadata": {},
   "outputs": [],
   "source": []
  }
 ],
 "metadata": {
  "kernelspec": {
   "display_name": "Python 3 (ipykernel)",
   "language": "python",
   "name": "python3"
  },
  "language_info": {
   "codemirror_mode": {
    "name": "ipython",
    "version": 3
   },
   "file_extension": ".py",
   "mimetype": "text/x-python",
   "name": "python",
   "nbconvert_exporter": "python",
   "pygments_lexer": "ipython3",
   "version": "3.8.12"
  }
 },
 "nbformat": 4,
 "nbformat_minor": 5
}
