{
 "cells": [
  {
   "cell_type": "markdown",
   "id": "7f2c0ed0-d421-4e82-be8d-abed2f1b61fd",
   "metadata": {},
   "source": [
    "# Stock-and-ETF-Prediction\n",
    "Authors: Patrick Guo\n",
    "\n",
    "Looking into a set of features that are based on market data to predict a stock is going to up or down stock price at least by +2% or -2% on next trading day.\n",
    "\n",
    "Input features:\n",
    "1. Daily price of a set of stock of OPEN, HIGH, LOW, CLOSE, (ADJ-CLOSE)\n",
    "2. The key indexes: S&P 500, Nasdaq 100, Hang Seng Index,\n",
    "3. may put additional features of technical indicators based on stock price\n",
    "\n",
    "Performance Metric:\n",
    "- Multi-Class log loss\n",
    "- Accuracy\n",
    "- Precision Recall, F1 Score"
   ]
  },
  {
   "cell_type": "markdown",
   "id": "72fc8367-eaea-44aa-9aff-ad7e56695294",
   "metadata": {},
   "source": [
    "# Import Libraries\n",
    "[Stock CSVs on Google Drive](https://drive.google.com/file/d/1KJWGDK7rCGNb97JzJn4odw2EgVlyS350/view?usp=sharing)"
   ]
  },
  {
   "cell_type": "code",
   "execution_count": 35,
   "id": "48fbf7db-18c2-434a-8c69-a12eebe7d7f3",
   "metadata": {},
   "outputs": [],
   "source": [
    "import pandas as pd\n",
    "import numpy as np\n",
    "from datetime import datetime\n",
    "import math\n",
    "from os import walk\n",
    "import sys\n",
    "\n",
    "import yfinance as yf\n",
    "\n",
    "# Data Visualization\n",
    "import matplotlib.pyplot as plt\n",
    "import seaborn as sns\n",
    "sns.set_style('whitegrid')\n",
    "plt.style.use(\"fivethirtyeight\")\n",
    "%matplotlib inline\n",
    "\n",
    "import matplotlib.dates as mdates\n",
    "from matplotlib.dates import DateFormatter\n",
    "myFmt = mdates.DateFormatter('%d')\n",
    "\n",
    "# Preprocessing + Feature Selection\n",
    "from sklearn import preprocessing\n",
    "from sklearn.linear_model import LogisticRegression\n",
    "from sklearn.preprocessing import MinMaxScaler\n",
    "from sklearn.ensemble import RandomForestRegressor\n",
    "from sklearn.metrics import r2_score\n",
    "from mlxtend.feature_selection import SequentialFeatureSelector as SFS\n",
    "\n",
    "# Feature Selection\n",
    "from sklearn.model_selection import train_test_split\n",
    "from sklearn.linear_model import Lasso\n",
    "from sklearn.feature_selection import SelectFromModel\n",
    "from sklearn.preprocessing import StandardScaler\n",
    "\n",
    "# Model Building\n",
    "from keras.models import Sequential\n",
    "from keras.layers import Dense, LSTM\n",
    "import lightgbm as lgb\n",
    "from sklearn.tree import DecisionTreeClassifier\n",
    "\n",
    "# Metrics\n",
    "from sklearn.metrics import classification_report\n",
    "from sklearn.metrics import accuracy_score"
   ]
  },
  {
   "cell_type": "markdown",
   "id": "1091f098-07ad-4aee-8a42-2c038e64b132",
   "metadata": {},
   "source": [
    "# Data"
   ]
  },
  {
   "cell_type": "code",
   "execution_count": 7,
   "id": "999b86ee-1d37-40a0-9bcd-194bfc5123f7",
   "metadata": {},
   "outputs": [
    {
     "name": "stdout",
     "output_type": "stream",
     "text": [
      "Number of Stocks: 43\n"
     ]
    },
    {
     "data": {
      "text/plain": [
       "['TSLA_.csv', 'AAPL_.csv', 'JNJ_.csv', 'JPM_.csv', 'AMZN_.csv']"
      ]
     },
     "execution_count": 7,
     "metadata": {},
     "output_type": "execute_result"
    }
   ],
   "source": [
    "path = \"Sample Data/\"\n",
    "filenames = next(walk(path), (None, None, []))[2]\n",
    "print(\"Number of Stocks:\", len(filenames))\n",
    "filenames[0:5]"
   ]
  },
  {
   "cell_type": "code",
   "execution_count": 8,
   "id": "dc6c53f4-82b9-440c-80bf-a8ab0d2777c0",
   "metadata": {},
   "outputs": [
    {
     "data": {
      "text/html": [
       "<div>\n",
       "<style scoped>\n",
       "    .dataframe tbody tr th:only-of-type {\n",
       "        vertical-align: middle;\n",
       "    }\n",
       "\n",
       "    .dataframe tbody tr th {\n",
       "        vertical-align: top;\n",
       "    }\n",
       "\n",
       "    .dataframe thead th {\n",
       "        text-align: right;\n",
       "    }\n",
       "</style>\n",
       "<table border=\"1\" class=\"dataframe\">\n",
       "  <thead>\n",
       "    <tr style=\"text-align: right;\">\n",
       "      <th></th>\n",
       "      <th>date</th>\n",
       "      <th>symbol</th>\n",
       "      <th>open</th>\n",
       "      <th>high</th>\n",
       "      <th>low</th>\n",
       "      <th>close</th>\n",
       "      <th>volume</th>\n",
       "      <th>turnover</th>\n",
       "      <th>preclose</th>\n",
       "      <th>risefall</th>\n",
       "      <th>risefallratio</th>\n",
       "    </tr>\n",
       "  </thead>\n",
       "  <tbody>\n",
       "    <tr>\n",
       "      <th>0</th>\n",
       "      <td>2021-01-29 00:00:00</td>\n",
       "      <td>AAPL</td>\n",
       "      <td>135.83</td>\n",
       "      <td>136.74</td>\n",
       "      <td>130.21</td>\n",
       "      <td>131.96</td>\n",
       "      <td>2.356907e+10</td>\n",
       "      <td>0</td>\n",
       "      <td>137.09</td>\n",
       "      <td>-5.13</td>\n",
       "      <td>-3.74</td>\n",
       "    </tr>\n",
       "    <tr>\n",
       "      <th>1</th>\n",
       "      <td>2021-01-28 00:00:00</td>\n",
       "      <td>AAPL</td>\n",
       "      <td>139.52</td>\n",
       "      <td>141.99</td>\n",
       "      <td>136.70</td>\n",
       "      <td>137.09</td>\n",
       "      <td>1.985112e+10</td>\n",
       "      <td>0</td>\n",
       "      <td>142.06</td>\n",
       "      <td>-4.97</td>\n",
       "      <td>-3.50</td>\n",
       "    </tr>\n",
       "    <tr>\n",
       "      <th>2</th>\n",
       "      <td>2021-01-27 00:00:00</td>\n",
       "      <td>AAPL</td>\n",
       "      <td>143.43</td>\n",
       "      <td>144.30</td>\n",
       "      <td>140.41</td>\n",
       "      <td>142.06</td>\n",
       "      <td>2.008244e+10</td>\n",
       "      <td>0</td>\n",
       "      <td>143.16</td>\n",
       "      <td>-1.10</td>\n",
       "      <td>-0.77</td>\n",
       "    </tr>\n",
       "    <tr>\n",
       "      <th>3</th>\n",
       "      <td>2021-01-26 00:00:00</td>\n",
       "      <td>AAPL</td>\n",
       "      <td>143.60</td>\n",
       "      <td>144.30</td>\n",
       "      <td>141.37</td>\n",
       "      <td>143.16</td>\n",
       "      <td>1.405457e+10</td>\n",
       "      <td>0</td>\n",
       "      <td>142.92</td>\n",
       "      <td>0.24</td>\n",
       "      <td>0.17</td>\n",
       "    </tr>\n",
       "    <tr>\n",
       "      <th>4</th>\n",
       "      <td>2021-01-25 00:00:00</td>\n",
       "      <td>AAPL</td>\n",
       "      <td>143.07</td>\n",
       "      <td>145.09</td>\n",
       "      <td>136.54</td>\n",
       "      <td>142.92</td>\n",
       "      <td>2.248438e+10</td>\n",
       "      <td>0</td>\n",
       "      <td>139.07</td>\n",
       "      <td>3.85</td>\n",
       "      <td>2.77</td>\n",
       "    </tr>\n",
       "    <tr>\n",
       "      <th>...</th>\n",
       "      <td>...</td>\n",
       "      <td>...</td>\n",
       "      <td>...</td>\n",
       "      <td>...</td>\n",
       "      <td>...</td>\n",
       "      <td>...</td>\n",
       "      <td>...</td>\n",
       "      <td>...</td>\n",
       "      <td>...</td>\n",
       "      <td>...</td>\n",
       "      <td>...</td>\n",
       "    </tr>\n",
       "    <tr>\n",
       "      <th>195</th>\n",
       "      <td>2020-06-09 00:00:00</td>\n",
       "      <td>AAPL</td>\n",
       "      <td>332.14</td>\n",
       "      <td>345.61</td>\n",
       "      <td>332.01</td>\n",
       "      <td>343.99</td>\n",
       "      <td>1.260915e+10</td>\n",
       "      <td>0</td>\n",
       "      <td>333.46</td>\n",
       "      <td>10.53</td>\n",
       "      <td>3.16</td>\n",
       "    </tr>\n",
       "    <tr>\n",
       "      <th>196</th>\n",
       "      <td>2020-06-08 00:00:00</td>\n",
       "      <td>AAPL</td>\n",
       "      <td>330.25</td>\n",
       "      <td>333.60</td>\n",
       "      <td>327.32</td>\n",
       "      <td>333.46</td>\n",
       "      <td>7.917189e+09</td>\n",
       "      <td>0</td>\n",
       "      <td>331.50</td>\n",
       "      <td>1.96</td>\n",
       "      <td>0.59</td>\n",
       "    </tr>\n",
       "    <tr>\n",
       "      <th>197</th>\n",
       "      <td>2020-06-05 00:00:00</td>\n",
       "      <td>AAPL</td>\n",
       "      <td>323.35</td>\n",
       "      <td>331.75</td>\n",
       "      <td>323.23</td>\n",
       "      <td>331.50</td>\n",
       "      <td>1.042715e+10</td>\n",
       "      <td>0</td>\n",
       "      <td>322.32</td>\n",
       "      <td>9.18</td>\n",
       "      <td>2.85</td>\n",
       "    </tr>\n",
       "    <tr>\n",
       "      <th>198</th>\n",
       "      <td>2020-06-04 00:00:00</td>\n",
       "      <td>AAPL</td>\n",
       "      <td>324.39</td>\n",
       "      <td>325.62</td>\n",
       "      <td>320.78</td>\n",
       "      <td>322.32</td>\n",
       "      <td>7.077746e+09</td>\n",
       "      <td>0</td>\n",
       "      <td>325.12</td>\n",
       "      <td>-2.80</td>\n",
       "      <td>-0.86</td>\n",
       "    </tr>\n",
       "    <tr>\n",
       "      <th>199</th>\n",
       "      <td>2020-06-03 00:00:00</td>\n",
       "      <td>AAPL</td>\n",
       "      <td>324.66</td>\n",
       "      <td>326.20</td>\n",
       "      <td>322.30</td>\n",
       "      <td>325.12</td>\n",
       "      <td>8.472648e+09</td>\n",
       "      <td>0</td>\n",
       "      <td>323.34</td>\n",
       "      <td>1.78</td>\n",
       "      <td>0.55</td>\n",
       "    </tr>\n",
       "  </tbody>\n",
       "</table>\n",
       "<p>200 rows × 11 columns</p>\n",
       "</div>"
      ],
      "text/plain": [
       "                    date symbol    open    high     low   close        volume  \\\n",
       "0    2021-01-29 00:00:00   AAPL  135.83  136.74  130.21  131.96  2.356907e+10   \n",
       "1    2021-01-28 00:00:00   AAPL  139.52  141.99  136.70  137.09  1.985112e+10   \n",
       "2    2021-01-27 00:00:00   AAPL  143.43  144.30  140.41  142.06  2.008244e+10   \n",
       "3    2021-01-26 00:00:00   AAPL  143.60  144.30  141.37  143.16  1.405457e+10   \n",
       "4    2021-01-25 00:00:00   AAPL  143.07  145.09  136.54  142.92  2.248438e+10   \n",
       "..                   ...    ...     ...     ...     ...     ...           ...   \n",
       "195  2020-06-09 00:00:00   AAPL  332.14  345.61  332.01  343.99  1.260915e+10   \n",
       "196  2020-06-08 00:00:00   AAPL  330.25  333.60  327.32  333.46  7.917189e+09   \n",
       "197  2020-06-05 00:00:00   AAPL  323.35  331.75  323.23  331.50  1.042715e+10   \n",
       "198  2020-06-04 00:00:00   AAPL  324.39  325.62  320.78  322.32  7.077746e+09   \n",
       "199  2020-06-03 00:00:00   AAPL  324.66  326.20  322.30  325.12  8.472648e+09   \n",
       "\n",
       "     turnover  preclose  risefall  risefallratio  \n",
       "0           0    137.09     -5.13          -3.74  \n",
       "1           0    142.06     -4.97          -3.50  \n",
       "2           0    143.16     -1.10          -0.77  \n",
       "3           0    142.92      0.24           0.17  \n",
       "4           0    139.07      3.85           2.77  \n",
       "..        ...       ...       ...            ...  \n",
       "195         0    333.46     10.53           3.16  \n",
       "196         0    331.50      1.96           0.59  \n",
       "197         0    322.32      9.18           2.85  \n",
       "198         0    325.12     -2.80          -0.86  \n",
       "199         0    323.34      1.78           0.55  \n",
       "\n",
       "[200 rows x 11 columns]"
      ]
     },
     "execution_count": 8,
     "metadata": {},
     "output_type": "execute_result"
    }
   ],
   "source": [
    "stock = pd.read_csv(path + filenames[1])\n",
    "stock"
   ]
  },
  {
   "cell_type": "code",
   "execution_count": 9,
   "id": "178b7344-b367-4cc5-9cc5-6d604ec09784",
   "metadata": {},
   "outputs": [
    {
     "name": "stdout",
     "output_type": "stream",
     "text": [
      "Dimensions: (200, 11)\n"
     ]
    }
   ],
   "source": [
    "print(\"Dimensions:\", stock.shape)"
   ]
  },
  {
   "cell_type": "code",
   "execution_count": 10,
   "id": "da3b6c98-01a7-4d03-b707-6e07f4992e05",
   "metadata": {},
   "outputs": [
    {
     "data": {
      "text/plain": [
       "'AAPL'"
      ]
     },
     "execution_count": 10,
     "metadata": {},
     "output_type": "execute_result"
    }
   ],
   "source": [
    "tickerSymbol = stock[\"symbol\"][0]\n",
    "tickerSymbol"
   ]
  },
  {
   "cell_type": "code",
   "execution_count": 11,
   "id": "b0216b83-0156-41fa-91b9-4ba77e13fe1e",
   "metadata": {},
   "outputs": [],
   "source": [
    "stock['date']  = pd.to_datetime(stock['date'])\n",
    "stock.sort_values('date', inplace=True)\n",
    "stock.set_index(\"date\", inplace=True)"
   ]
  },
  {
   "cell_type": "markdown",
   "id": "ded7d110-6046-47ce-b133-16f0c6ce35d6",
   "metadata": {},
   "source": [
    "# EDA"
   ]
  },
  {
   "cell_type": "code",
   "execution_count": 12,
   "id": "f6d5524d-ca89-4da8-b343-209880a09e0e",
   "metadata": {},
   "outputs": [
    {
     "data": {
      "text/html": [
       "<div>\n",
       "<style scoped>\n",
       "    .dataframe tbody tr th:only-of-type {\n",
       "        vertical-align: middle;\n",
       "    }\n",
       "\n",
       "    .dataframe tbody tr th {\n",
       "        vertical-align: top;\n",
       "    }\n",
       "\n",
       "    .dataframe thead th {\n",
       "        text-align: right;\n",
       "    }\n",
       "</style>\n",
       "<table border=\"1\" class=\"dataframe\">\n",
       "  <thead>\n",
       "    <tr style=\"text-align: right;\">\n",
       "      <th></th>\n",
       "      <th>open</th>\n",
       "      <th>high</th>\n",
       "      <th>low</th>\n",
       "      <th>close</th>\n",
       "      <th>volume</th>\n",
       "      <th>turnover</th>\n",
       "      <th>preclose</th>\n",
       "      <th>risefall</th>\n",
       "      <th>risefallratio</th>\n",
       "    </tr>\n",
       "  </thead>\n",
       "  <tbody>\n",
       "    <tr>\n",
       "      <th>count</th>\n",
       "      <td>200.000000</td>\n",
       "      <td>200.00000</td>\n",
       "      <td>200.000000</td>\n",
       "      <td>200.000000</td>\n",
       "      <td>2.000000e+02</td>\n",
       "      <td>200.0</td>\n",
       "      <td>200.00000</td>\n",
       "      <td>200.000000</td>\n",
       "      <td>200.000000</td>\n",
       "    </tr>\n",
       "    <tr>\n",
       "      <th>mean</th>\n",
       "      <td>206.251095</td>\n",
       "      <td>209.03587</td>\n",
       "      <td>203.339945</td>\n",
       "      <td>206.353525</td>\n",
       "      <td>1.625934e+10</td>\n",
       "      <td>0.0</td>\n",
       "      <td>207.33655</td>\n",
       "      <td>-0.982950</td>\n",
       "      <td>-0.132900</td>\n",
       "    </tr>\n",
       "    <tr>\n",
       "      <th>std</th>\n",
       "      <td>132.046944</td>\n",
       "      <td>133.65529</td>\n",
       "      <td>130.682837</td>\n",
       "      <td>132.550937</td>\n",
       "      <td>6.563588e+09</td>\n",
       "      <td>0.0</td>\n",
       "      <td>132.68429</td>\n",
       "      <td>26.857223</td>\n",
       "      <td>5.818932</td>\n",
       "    </tr>\n",
       "    <tr>\n",
       "      <th>min</th>\n",
       "      <td>104.540000</td>\n",
       "      <td>110.19000</td>\n",
       "      <td>103.100000</td>\n",
       "      <td>106.840000</td>\n",
       "      <td>5.455899e+09</td>\n",
       "      <td>0.0</td>\n",
       "      <td>106.84000</td>\n",
       "      <td>-370.190000</td>\n",
       "      <td>-74.150000</td>\n",
       "    </tr>\n",
       "    <tr>\n",
       "      <th>25%</th>\n",
       "      <td>116.200000</td>\n",
       "      <td>117.56500</td>\n",
       "      <td>114.130000</td>\n",
       "      <td>115.795000</td>\n",
       "      <td>1.166493e+10</td>\n",
       "      <td>0.0</td>\n",
       "      <td>115.81000</td>\n",
       "      <td>-1.770000</td>\n",
       "      <td>-1.207500</td>\n",
       "    </tr>\n",
       "    <tr>\n",
       "      <th>50%</th>\n",
       "      <td>124.355000</td>\n",
       "      <td>125.28500</td>\n",
       "      <td>121.530000</td>\n",
       "      <td>123.495000</td>\n",
       "      <td>1.480426e+10</td>\n",
       "      <td>0.0</td>\n",
       "      <td>123.49500</td>\n",
       "      <td>0.212500</td>\n",
       "      <td>0.160000</td>\n",
       "    </tr>\n",
       "    <tr>\n",
       "      <th>75%</th>\n",
       "      <td>351.907500</td>\n",
       "      <td>355.69000</td>\n",
       "      <td>349.687500</td>\n",
       "      <td>352.270000</td>\n",
       "      <td>1.956503e+10</td>\n",
       "      <td>0.0</td>\n",
       "      <td>352.27000</td>\n",
       "      <td>3.268750</td>\n",
       "      <td>1.700000</td>\n",
       "    </tr>\n",
       "    <tr>\n",
       "      <th>max</th>\n",
       "      <td>514.790000</td>\n",
       "      <td>515.14000</td>\n",
       "      <td>500.330000</td>\n",
       "      <td>506.090000</td>\n",
       "      <td>4.370332e+10</td>\n",
       "      <td>0.0</td>\n",
       "      <td>506.09000</td>\n",
       "      <td>40.280000</td>\n",
       "      <td>10.470000</td>\n",
       "    </tr>\n",
       "  </tbody>\n",
       "</table>\n",
       "</div>"
      ],
      "text/plain": [
       "             open       high         low       close        volume  turnover  \\\n",
       "count  200.000000  200.00000  200.000000  200.000000  2.000000e+02     200.0   \n",
       "mean   206.251095  209.03587  203.339945  206.353525  1.625934e+10       0.0   \n",
       "std    132.046944  133.65529  130.682837  132.550937  6.563588e+09       0.0   \n",
       "min    104.540000  110.19000  103.100000  106.840000  5.455899e+09       0.0   \n",
       "25%    116.200000  117.56500  114.130000  115.795000  1.166493e+10       0.0   \n",
       "50%    124.355000  125.28500  121.530000  123.495000  1.480426e+10       0.0   \n",
       "75%    351.907500  355.69000  349.687500  352.270000  1.956503e+10       0.0   \n",
       "max    514.790000  515.14000  500.330000  506.090000  4.370332e+10       0.0   \n",
       "\n",
       "        preclose    risefall  risefallratio  \n",
       "count  200.00000  200.000000     200.000000  \n",
       "mean   207.33655   -0.982950      -0.132900  \n",
       "std    132.68429   26.857223       5.818932  \n",
       "min    106.84000 -370.190000     -74.150000  \n",
       "25%    115.81000   -1.770000      -1.207500  \n",
       "50%    123.49500    0.212500       0.160000  \n",
       "75%    352.27000    3.268750       1.700000  \n",
       "max    506.09000   40.280000      10.470000  "
      ]
     },
     "execution_count": 12,
     "metadata": {},
     "output_type": "execute_result"
    }
   ],
   "source": [
    "# Summary Stats\n",
    "stock.describe()"
   ]
  },
  {
   "cell_type": "code",
   "execution_count": 13,
   "id": "93580055-cef9-4bf7-8c2d-d32a42ece2a6",
   "metadata": {},
   "outputs": [
    {
     "name": "stdout",
     "output_type": "stream",
     "text": [
      "<class 'pandas.core.frame.DataFrame'>\n",
      "DatetimeIndex: 200 entries, 2020-06-03 to 2021-01-29\n",
      "Data columns (total 10 columns):\n",
      " #   Column         Non-Null Count  Dtype  \n",
      "---  ------         --------------  -----  \n",
      " 0   symbol         200 non-null    object \n",
      " 1   open           200 non-null    float64\n",
      " 2   high           200 non-null    float64\n",
      " 3   low            200 non-null    float64\n",
      " 4   close          200 non-null    float64\n",
      " 5   volume         200 non-null    float64\n",
      " 6   turnover       200 non-null    int64  \n",
      " 7   preclose       200 non-null    float64\n",
      " 8   risefall       200 non-null    float64\n",
      " 9   risefallratio  200 non-null    float64\n",
      "dtypes: float64(8), int64(1), object(1)\n",
      "memory usage: 17.2+ KB\n"
     ]
    }
   ],
   "source": [
    "# General Info\n",
    "stock.info()"
   ]
  },
  {
   "cell_type": "markdown",
   "id": "a7409820-bec6-49b1-b18f-2b7dae67ea56",
   "metadata": {},
   "source": [
    "## Closing Price"
   ]
  },
  {
   "cell_type": "code",
   "execution_count": 15,
   "id": "305a1a87-6794-4e99-8a1c-a9cd407e99e9",
   "metadata": {},
   "outputs": [
    {
     "data": {
      "image/png": "[encoded data removed]",
      "text/plain": [
       "<Figure size 432x288 with 1 Axes>"
      ]
     },
     "metadata": {
      "needs_background": "light"
     },
     "output_type": "display_data"
    }
   ],
   "source": [
    "stock[\"close\"].plot()\n",
    "plt.ylabel(\"Close\")\n",
    "plt.xlabel(\"Date\")\n",
    "plt.title(f\"Closing Price of {tickerSymbol}\")\n",
    "plt.show()"
   ]
  },
  {
   "cell_type": "markdown",
   "id": "ae3ab48a-730e-4774-aad1-db441a2f4b1c",
   "metadata": {},
   "source": [
    "## Volume Traded"
   ]
  },
  {
   "cell_type": "code",
   "execution_count": 16,
   "id": "d65e7d0b-76f3-4ec2-a85f-8ffa9dc64b37",
   "metadata": {},
   "outputs": [
    {
     "data": {
      "image/png": "[encoded data removed]",
      "text/plain": [
       "<Figure size 432x288 with 1 Axes>"
      ]
     },
     "metadata": {
      "needs_background": "light"
     },
     "output_type": "display_data"
    }
   ],
   "source": [
    "stock[\"volume\"].plot()\n",
    "plt.ylabel(\"Volume\")\n",
    "plt.xlabel(\"Date\")\n",
    "plt.title(f\"Volume of {tickerSymbol}\")\n",
    "plt.show()"
   ]
  },
  {
   "cell_type": "markdown",
   "id": "6557de86-da71-4e31-8798-a2caf5a18187",
   "metadata": {},
   "source": [
    "## Moving Average for Stock"
   ]
  },
  {
   "cell_type": "code",
   "execution_count": 17,
   "id": "de34197a-f0e6-4284-8233-bb3c491bc701",
   "metadata": {},
   "outputs": [],
   "source": [
    "ma_stock = stock.copy()\n",
    "\n",
    "ma_day = [10, 20, 50]\n",
    "\n",
    "for ma in ma_day:\n",
    "    column_name = f\"MA for {ma} days\"\n",
    "    ma_stock[column_name] = ma_stock['close'].rolling(ma).mean()"
   ]
  },
  {
   "cell_type": "code",
   "execution_count": 18,
   "id": "62e69517-ca7d-4ae4-99ae-7907c3e5e91a",
   "metadata": {},
   "outputs": [
    {
     "data": {
      "image/png": "[encoded data removed]",
      "text/plain": [
       "<Figure size 432x288 with 1 Axes>"
      ]
     },
     "metadata": {
      "needs_background": "light"
     },
     "output_type": "display_data"
    }
   ],
   "source": [
    "ma_stock[['close', 'MA for 10 days', 'MA for 20 days', 'MA for 50 days']].plot()\n",
    "plt.ylabel(\"Close\")\n",
    "plt.xlabel(\"Date\")\n",
    "plt.title(f\"MA of {tickerSymbol}\")\n",
    "plt.show()"
   ]
  },
  {
   "cell_type": "markdown",
   "id": "c1e5ae03-3b20-4ab6-b6e9-07addebf39eb",
   "metadata": {},
   "source": [
    "## Daily Returns of Stock"
   ]
  },
  {
   "cell_type": "code",
   "execution_count": 19,
   "id": "757f74aa-33cf-4832-a0fe-cbcdfabbfe29",
   "metadata": {},
   "outputs": [
    {
     "data": {
      "image/png": "[encoded data removed]",
      "text/plain": [
       "<Figure size 432x288 with 1 Axes>"
      ]
     },
     "metadata": {
      "needs_background": "light"
     },
     "output_type": "display_data"
    }
   ],
   "source": [
    "dr_stock = stock.copy()\n",
    "\n",
    "# pct_change to find the percent change for each day\n",
    "dr_stock['Daily Return'] = dr_stock['close'].pct_change()\n",
    "\n",
    "dr_stock['Daily Return'].plot(legend=True, linestyle='--', marker='o')\n",
    "plt.ylabel(\"Daily Return\")\n",
    "plt.xlabel(\"Date\")\n",
    "plt.title(f\"Daily Returns of {tickerSymbol}\")\n",
    "plt.show()"
   ]
  },
  {
   "cell_type": "code",
   "execution_count": 20,
   "id": "7240cacc-3a6e-4759-9e0b-b317e05a32fe",
   "metadata": {},
   "outputs": [
    {
     "data": {
      "image/png": "[encoded data removed]",
      "text/plain": [
       "<Figure size 432x288 with 1 Axes>"
      ]
     },
     "metadata": {
      "needs_background": "light"
     },
     "output_type": "display_data"
    }
   ],
   "source": [
    "# Average Daily Returns\n",
    "sns.histplot(dr_stock['Daily Return'].dropna(), bins=100, color='purple', kde=True)\n",
    "plt.show()"
   ]
  },
  {
   "cell_type": "markdown",
   "id": "c3144ac1-dbf7-47ce-9229-402cc515acdd",
   "metadata": {},
   "source": [
    "# Data Labeling\n",
    "Label whether stock price goes up or down."
   ]
  },
  {
   "cell_type": "code",
   "execution_count": 27,
   "id": "75dabbbd-3bb0-46e7-ba8e-0068f197a19a",
   "metadata": {},
   "outputs": [
    {
     "data": {
      "text/html": [
       "<div>\n",
       "<style scoped>\n",
       "    .dataframe tbody tr th:only-of-type {\n",
       "        vertical-align: middle;\n",
       "    }\n",
       "\n",
       "    .dataframe tbody tr th {\n",
       "        vertical-align: top;\n",
       "    }\n",
       "\n",
       "    .dataframe thead th {\n",
       "        text-align: right;\n",
       "    }\n",
       "</style>\n",
       "<table border=\"1\" class=\"dataframe\">\n",
       "  <thead>\n",
       "    <tr style=\"text-align: right;\">\n",
       "      <th></th>\n",
       "      <th>open</th>\n",
       "      <th>high</th>\n",
       "      <th>low</th>\n",
       "      <th>close</th>\n",
       "      <th>volume</th>\n",
       "      <th>turnover</th>\n",
       "      <th>preclose</th>\n",
       "      <th>risefall</th>\n",
       "      <th>risefallratio</th>\n",
       "      <th>Price_Up</th>\n",
       "    </tr>\n",
       "    <tr>\n",
       "      <th>date</th>\n",
       "      <th></th>\n",
       "      <th></th>\n",
       "      <th></th>\n",
       "      <th></th>\n",
       "      <th></th>\n",
       "      <th></th>\n",
       "      <th></th>\n",
       "      <th></th>\n",
       "      <th></th>\n",
       "      <th></th>\n",
       "    </tr>\n",
       "  </thead>\n",
       "  <tbody>\n",
       "    <tr>\n",
       "      <th>2020-06-03</th>\n",
       "      <td>324.66</td>\n",
       "      <td>326.20</td>\n",
       "      <td>322.30</td>\n",
       "      <td>325.12</td>\n",
       "      <td>8.472648e+09</td>\n",
       "      <td>0</td>\n",
       "      <td>323.34</td>\n",
       "      <td>1.78</td>\n",
       "      <td>0.55</td>\n",
       "      <td>0</td>\n",
       "    </tr>\n",
       "    <tr>\n",
       "      <th>2020-06-04</th>\n",
       "      <td>324.39</td>\n",
       "      <td>325.62</td>\n",
       "      <td>320.78</td>\n",
       "      <td>322.32</td>\n",
       "      <td>7.077746e+09</td>\n",
       "      <td>0</td>\n",
       "      <td>325.12</td>\n",
       "      <td>-2.80</td>\n",
       "      <td>-0.86</td>\n",
       "      <td>1</td>\n",
       "    </tr>\n",
       "    <tr>\n",
       "      <th>2020-06-05</th>\n",
       "      <td>323.35</td>\n",
       "      <td>331.75</td>\n",
       "      <td>323.23</td>\n",
       "      <td>331.50</td>\n",
       "      <td>1.042715e+10</td>\n",
       "      <td>0</td>\n",
       "      <td>322.32</td>\n",
       "      <td>9.18</td>\n",
       "      <td>2.85</td>\n",
       "      <td>1</td>\n",
       "    </tr>\n",
       "    <tr>\n",
       "      <th>2020-06-08</th>\n",
       "      <td>330.25</td>\n",
       "      <td>333.60</td>\n",
       "      <td>327.32</td>\n",
       "      <td>333.46</td>\n",
       "      <td>7.917189e+09</td>\n",
       "      <td>0</td>\n",
       "      <td>331.50</td>\n",
       "      <td>1.96</td>\n",
       "      <td>0.59</td>\n",
       "      <td>1</td>\n",
       "    </tr>\n",
       "    <tr>\n",
       "      <th>2020-06-09</th>\n",
       "      <td>332.14</td>\n",
       "      <td>345.61</td>\n",
       "      <td>332.01</td>\n",
       "      <td>343.99</td>\n",
       "      <td>1.260915e+10</td>\n",
       "      <td>0</td>\n",
       "      <td>333.46</td>\n",
       "      <td>10.53</td>\n",
       "      <td>3.16</td>\n",
       "      <td>1</td>\n",
       "    </tr>\n",
       "    <tr>\n",
       "      <th>...</th>\n",
       "      <td>...</td>\n",
       "      <td>...</td>\n",
       "      <td>...</td>\n",
       "      <td>...</td>\n",
       "      <td>...</td>\n",
       "      <td>...</td>\n",
       "      <td>...</td>\n",
       "      <td>...</td>\n",
       "      <td>...</td>\n",
       "      <td>...</td>\n",
       "    </tr>\n",
       "    <tr>\n",
       "      <th>2021-01-25</th>\n",
       "      <td>143.07</td>\n",
       "      <td>145.09</td>\n",
       "      <td>136.54</td>\n",
       "      <td>142.92</td>\n",
       "      <td>2.248438e+10</td>\n",
       "      <td>0</td>\n",
       "      <td>139.07</td>\n",
       "      <td>3.85</td>\n",
       "      <td>2.77</td>\n",
       "      <td>1</td>\n",
       "    </tr>\n",
       "    <tr>\n",
       "      <th>2021-01-26</th>\n",
       "      <td>143.60</td>\n",
       "      <td>144.30</td>\n",
       "      <td>141.37</td>\n",
       "      <td>143.16</td>\n",
       "      <td>1.405457e+10</td>\n",
       "      <td>0</td>\n",
       "      <td>142.92</td>\n",
       "      <td>0.24</td>\n",
       "      <td>0.17</td>\n",
       "      <td>0</td>\n",
       "    </tr>\n",
       "    <tr>\n",
       "      <th>2021-01-27</th>\n",
       "      <td>143.43</td>\n",
       "      <td>144.30</td>\n",
       "      <td>140.41</td>\n",
       "      <td>142.06</td>\n",
       "      <td>2.008244e+10</td>\n",
       "      <td>0</td>\n",
       "      <td>143.16</td>\n",
       "      <td>-1.10</td>\n",
       "      <td>-0.77</td>\n",
       "      <td>0</td>\n",
       "    </tr>\n",
       "    <tr>\n",
       "      <th>2021-01-28</th>\n",
       "      <td>139.52</td>\n",
       "      <td>141.99</td>\n",
       "      <td>136.70</td>\n",
       "      <td>137.09</td>\n",
       "      <td>1.985112e+10</td>\n",
       "      <td>0</td>\n",
       "      <td>142.06</td>\n",
       "      <td>-4.97</td>\n",
       "      <td>-3.50</td>\n",
       "      <td>0</td>\n",
       "    </tr>\n",
       "    <tr>\n",
       "      <th>2021-01-29</th>\n",
       "      <td>135.83</td>\n",
       "      <td>136.74</td>\n",
       "      <td>130.21</td>\n",
       "      <td>131.96</td>\n",
       "      <td>2.356907e+10</td>\n",
       "      <td>0</td>\n",
       "      <td>137.09</td>\n",
       "      <td>-5.13</td>\n",
       "      <td>-3.74</td>\n",
       "      <td>0</td>\n",
       "    </tr>\n",
       "  </tbody>\n",
       "</table>\n",
       "<p>200 rows × 10 columns</p>\n",
       "</div>"
      ],
      "text/plain": [
       "              open    high     low   close        volume  turnover  preclose  \\\n",
       "date                                                                           \n",
       "2020-06-03  324.66  326.20  322.30  325.12  8.472648e+09         0    323.34   \n",
       "2020-06-04  324.39  325.62  320.78  322.32  7.077746e+09         0    325.12   \n",
       "2020-06-05  323.35  331.75  323.23  331.50  1.042715e+10         0    322.32   \n",
       "2020-06-08  330.25  333.60  327.32  333.46  7.917189e+09         0    331.50   \n",
       "2020-06-09  332.14  345.61  332.01  343.99  1.260915e+10         0    333.46   \n",
       "...            ...     ...     ...     ...           ...       ...       ...   \n",
       "2021-01-25  143.07  145.09  136.54  142.92  2.248438e+10         0    139.07   \n",
       "2021-01-26  143.60  144.30  141.37  143.16  1.405457e+10         0    142.92   \n",
       "2021-01-27  143.43  144.30  140.41  142.06  2.008244e+10         0    143.16   \n",
       "2021-01-28  139.52  141.99  136.70  137.09  1.985112e+10         0    142.06   \n",
       "2021-01-29  135.83  136.74  130.21  131.96  2.356907e+10         0    137.09   \n",
       "\n",
       "            risefall  risefallratio  Price_Up  \n",
       "date                                           \n",
       "2020-06-03      1.78           0.55         0  \n",
       "2020-06-04     -2.80          -0.86         1  \n",
       "2020-06-05      9.18           2.85         1  \n",
       "2020-06-08      1.96           0.59         1  \n",
       "2020-06-09     10.53           3.16         1  \n",
       "...              ...            ...       ...  \n",
       "2021-01-25      3.85           2.77         1  \n",
       "2021-01-26      0.24           0.17         0  \n",
       "2021-01-27     -1.10          -0.77         0  \n",
       "2021-01-28     -4.97          -3.50         0  \n",
       "2021-01-29     -5.13          -3.74         0  \n",
       "\n",
       "[200 rows x 10 columns]"
      ]
     },
     "execution_count": 27,
     "metadata": {},
     "output_type": "execute_result"
    }
   ],
   "source": [
    "df = stock.copy()\n",
    "\n",
    "# Create the target column\n",
    "df['Price_Up'] = np.where(df['close'].shift(-1) > df['close'], 1, 0)\n",
    "df = df.drop(\"symbol\", axis=1)\n",
    "# Show the data\n",
    "df"
   ]
  },
  {
   "cell_type": "code",
   "execution_count": 29,
   "id": "f3042ad3-f61a-4b29-ad71-db297ebdb829",
   "metadata": {},
   "outputs": [
    {
     "data": {
      "image/png": "[encoded data removed]",
      "text/plain": [
       "<Figure size 864x720 with 2 Axes>"
      ]
     },
     "metadata": {
      "needs_background": "light"
     },
     "output_type": "display_data"
    }
   ],
   "source": [
    "# Correlation between different variables\n",
    "corr = df.corr()\n",
    "# Set up the matplotlib plot configuration\n",
    "f, ax = plt.subplots(figsize=(12, 10))\n",
    "# Generate a mask for upper traingle\n",
    "mask = np.triu(np.ones_like(corr, dtype=bool))\n",
    "# Configure a custom diverging colormap\n",
    "cmap = sns.diverging_palette(230, 20, as_cmap=True)\n",
    "# Draw the heatmap\n",
    "sns.heatmap(corr, annot=True, mask = mask, cmap=cmap)\n",
    "plt.title(\"Correlation Matrix\")\n",
    "plt.show()"
   ]
  },
  {
   "cell_type": "markdown",
   "id": "d78393f0-f174-4da0-aa83-02674a743a27",
   "metadata": {},
   "source": [
    "# Data Processing"
   ]
  },
  {
   "cell_type": "code",
   "execution_count": 30,
   "id": "925a5156-d16d-400b-95c5-f91a440a0db8",
   "metadata": {},
   "outputs": [
    {
     "data": {
      "text/html": [
       "<div>\n",
       "<style scoped>\n",
       "    .dataframe tbody tr th:only-of-type {\n",
       "        vertical-align: middle;\n",
       "    }\n",
       "\n",
       "    .dataframe tbody tr th {\n",
       "        vertical-align: top;\n",
       "    }\n",
       "\n",
       "    .dataframe thead th {\n",
       "        text-align: right;\n",
       "    }\n",
       "</style>\n",
       "<table border=\"1\" class=\"dataframe\">\n",
       "  <thead>\n",
       "    <tr style=\"text-align: right;\">\n",
       "      <th></th>\n",
       "      <th>open</th>\n",
       "      <th>high</th>\n",
       "      <th>low</th>\n",
       "      <th>close</th>\n",
       "      <th>volume</th>\n",
       "      <th>turnover</th>\n",
       "      <th>preclose</th>\n",
       "      <th>risefall</th>\n",
       "      <th>risefallratio</th>\n",
       "      <th>Price_Up</th>\n",
       "    </tr>\n",
       "  </thead>\n",
       "  <tbody>\n",
       "    <tr>\n",
       "      <th>0</th>\n",
       "      <td>0.536551</td>\n",
       "      <td>0.533424</td>\n",
       "      <td>0.551821</td>\n",
       "      <td>0.546725</td>\n",
       "      <td>0.078875</td>\n",
       "      <td>0.0</td>\n",
       "      <td>0.542267</td>\n",
       "      <td>0.906205</td>\n",
       "      <td>0.882770</td>\n",
       "      <td>0.0</td>\n",
       "    </tr>\n",
       "    <tr>\n",
       "      <th>1</th>\n",
       "      <td>0.535893</td>\n",
       "      <td>0.531992</td>\n",
       "      <td>0.547995</td>\n",
       "      <td>0.539712</td>\n",
       "      <td>0.042404</td>\n",
       "      <td>0.0</td>\n",
       "      <td>0.546725</td>\n",
       "      <td>0.895047</td>\n",
       "      <td>0.866107</td>\n",
       "      <td>1.0</td>\n",
       "    </tr>\n",
       "    <tr>\n",
       "      <th>2</th>\n",
       "      <td>0.533358</td>\n",
       "      <td>0.547129</td>\n",
       "      <td>0.554163</td>\n",
       "      <td>0.562705</td>\n",
       "      <td>0.129976</td>\n",
       "      <td>0.0</td>\n",
       "      <td>0.539712</td>\n",
       "      <td>0.924233</td>\n",
       "      <td>0.909950</td>\n",
       "      <td>1.0</td>\n",
       "    </tr>\n",
       "    <tr>\n",
       "      <th>3</th>\n",
       "      <td>0.550177</td>\n",
       "      <td>0.551698</td>\n",
       "      <td>0.564459</td>\n",
       "      <td>0.567614</td>\n",
       "      <td>0.064352</td>\n",
       "      <td>0.0</td>\n",
       "      <td>0.562705</td>\n",
       "      <td>0.906644</td>\n",
       "      <td>0.883243</td>\n",
       "      <td>1.0</td>\n",
       "    </tr>\n",
       "    <tr>\n",
       "      <th>4</th>\n",
       "      <td>0.554784</td>\n",
       "      <td>0.581356</td>\n",
       "      <td>0.576266</td>\n",
       "      <td>0.593989</td>\n",
       "      <td>0.187026</td>\n",
       "      <td>0.0</td>\n",
       "      <td>0.567614</td>\n",
       "      <td>0.927522</td>\n",
       "      <td>0.913614</td>\n",
       "      <td>1.0</td>\n",
       "    </tr>\n",
       "    <tr>\n",
       "      <th>...</th>\n",
       "      <td>...</td>\n",
       "      <td>...</td>\n",
       "      <td>...</td>\n",
       "      <td>...</td>\n",
       "      <td>...</td>\n",
       "      <td>...</td>\n",
       "      <td>...</td>\n",
       "      <td>...</td>\n",
       "      <td>...</td>\n",
       "      <td>...</td>\n",
       "    </tr>\n",
       "    <tr>\n",
       "      <th>195</th>\n",
       "      <td>0.093918</td>\n",
       "      <td>0.086183</td>\n",
       "      <td>0.084183</td>\n",
       "      <td>0.090369</td>\n",
       "      <td>0.445219</td>\n",
       "      <td>0.0</td>\n",
       "      <td>0.080726</td>\n",
       "      <td>0.911248</td>\n",
       "      <td>0.909005</td>\n",
       "      <td>1.0</td>\n",
       "    </tr>\n",
       "    <tr>\n",
       "      <th>196</th>\n",
       "      <td>0.095210</td>\n",
       "      <td>0.084233</td>\n",
       "      <td>0.096342</td>\n",
       "      <td>0.090971</td>\n",
       "      <td>0.224817</td>\n",
       "      <td>0.0</td>\n",
       "      <td>0.090369</td>\n",
       "      <td>0.902453</td>\n",
       "      <td>0.878279</td>\n",
       "      <td>0.0</td>\n",
       "    </tr>\n",
       "    <tr>\n",
       "      <th>197</th>\n",
       "      <td>0.094796</td>\n",
       "      <td>0.084233</td>\n",
       "      <td>0.093925</td>\n",
       "      <td>0.088215</td>\n",
       "      <td>0.382419</td>\n",
       "      <td>0.0</td>\n",
       "      <td>0.090971</td>\n",
       "      <td>0.899189</td>\n",
       "      <td>0.867171</td>\n",
       "      <td>0.0</td>\n",
       "    </tr>\n",
       "    <tr>\n",
       "      <th>198</th>\n",
       "      <td>0.085265</td>\n",
       "      <td>0.078528</td>\n",
       "      <td>0.084586</td>\n",
       "      <td>0.075767</td>\n",
       "      <td>0.376371</td>\n",
       "      <td>0.0</td>\n",
       "      <td>0.088215</td>\n",
       "      <td>0.889761</td>\n",
       "      <td>0.834909</td>\n",
       "      <td>0.0</td>\n",
       "    </tr>\n",
       "    <tr>\n",
       "      <th>199</th>\n",
       "      <td>0.076271</td>\n",
       "      <td>0.065564</td>\n",
       "      <td>0.068248</td>\n",
       "      <td>0.062918</td>\n",
       "      <td>0.473579</td>\n",
       "      <td>0.0</td>\n",
       "      <td>0.075767</td>\n",
       "      <td>0.889371</td>\n",
       "      <td>0.832073</td>\n",
       "      <td>0.0</td>\n",
       "    </tr>\n",
       "  </tbody>\n",
       "</table>\n",
       "<p>200 rows × 10 columns</p>\n",
       "</div>"
      ],
      "text/plain": [
       "         open      high       low     close    volume  turnover  preclose  \\\n",
       "0    0.536551  0.533424  0.551821  0.546725  0.078875       0.0  0.542267   \n",
       "1    0.535893  0.531992  0.547995  0.539712  0.042404       0.0  0.546725   \n",
       "2    0.533358  0.547129  0.554163  0.562705  0.129976       0.0  0.539712   \n",
       "3    0.550177  0.551698  0.564459  0.567614  0.064352       0.0  0.562705   \n",
       "4    0.554784  0.581356  0.576266  0.593989  0.187026       0.0  0.567614   \n",
       "..        ...       ...       ...       ...       ...       ...       ...   \n",
       "195  0.093918  0.086183  0.084183  0.090369  0.445219       0.0  0.080726   \n",
       "196  0.095210  0.084233  0.096342  0.090971  0.224817       0.0  0.090369   \n",
       "197  0.094796  0.084233  0.093925  0.088215  0.382419       0.0  0.090971   \n",
       "198  0.085265  0.078528  0.084586  0.075767  0.376371       0.0  0.088215   \n",
       "199  0.076271  0.065564  0.068248  0.062918  0.473579       0.0  0.075767   \n",
       "\n",
       "     risefall  risefallratio  Price_Up  \n",
       "0    0.906205       0.882770       0.0  \n",
       "1    0.895047       0.866107       1.0  \n",
       "2    0.924233       0.909950       1.0  \n",
       "3    0.906644       0.883243       1.0  \n",
       "4    0.927522       0.913614       1.0  \n",
       "..        ...            ...       ...  \n",
       "195  0.911248       0.909005       1.0  \n",
       "196  0.902453       0.878279       0.0  \n",
       "197  0.899189       0.867171       0.0  \n",
       "198  0.889761       0.834909       0.0  \n",
       "199  0.889371       0.832073       0.0  \n",
       "\n",
       "[200 rows x 10 columns]"
      ]
     },
     "execution_count": 30,
     "metadata": {},
     "output_type": "execute_result"
    }
   ],
   "source": [
    "# Scale the data\n",
    "scaler = MinMaxScaler(feature_range=(0, 1))\n",
    "scaled_data = scaler.fit_transform(df)\n",
    "\n",
    "stock_scaled = pd.DataFrame(scaled_data, columns=df.columns)\n",
    "stock_scaled"
   ]
  },
  {
   "cell_type": "markdown",
   "id": "54faa7e2-6c74-4e8c-a756-4aac890c15eb",
   "metadata": {},
   "source": [
    "# Test Train Split\n",
    "\n",
    "The features are closely related to the time. Therefore, we do not use cross-validation or random splitting here. Otherwise, future information will leak into the training data, and we will get a model that performs very good on the training data but is not useful in predicting future unseen data."
   ]
  },
  {
   "cell_type": "code",
   "execution_count": 41,
   "id": "749c0403-343d-47e6-9e5e-b92178a6bda7",
   "metadata": {},
   "outputs": [],
   "source": [
    "#Split the data set into a feature or independent data set (X) and a target or dependent data set (Y)\n",
    "X = df.iloc[:, 0:df.shape[1]-1].values\n",
    "Y = df.iloc[:, df.shape[1]-1].values"
   ]
  },
  {
   "cell_type": "code",
   "execution_count": 32,
   "id": "eea3196e-e08d-48ea-8bbf-8f222f469fe1",
   "metadata": {},
   "outputs": [],
   "source": [
    "#Split the data again but this time into 80% training and 20% testing data sets\n",
    "X_train, X_test, Y_train, Y_test = train_test_split(X, Y, test_size = 0.2)"
   ]
  },
  {
   "cell_type": "markdown",
   "id": "9cc08471-80cc-488f-aa36-47dc39380be1",
   "metadata": {},
   "source": [
    "# Build Model"
   ]
  },
  {
   "cell_type": "code",
   "execution_count": 36,
   "id": "7b46ff28-2fb7-4ea1-b551-c05e15f60d8f",
   "metadata": {},
   "outputs": [],
   "source": [
    "#Create and train the decision tree Classifier model\n",
    "tree = DecisionTreeClassifier().fit(X_train, Y_train)"
   ]
  },
  {
   "cell_type": "code",
   "execution_count": 39,
   "id": "bb0603b9-7eeb-43a4-abc5-0577d0006906",
   "metadata": {},
   "outputs": [
    {
     "name": "stdout",
     "output_type": "stream",
     "text": [
      "0.925\n"
     ]
    }
   ],
   "source": [
    "#Check how well the model did on the training data set\n",
    "print(tree.score(X_train, Y_train))"
   ]
  },
  {
   "cell_type": "code",
   "execution_count": 40,
   "id": "83936ee5-3a06-40b0-923e-a0632118208b",
   "metadata": {},
   "outputs": [
    {
     "name": "stdout",
     "output_type": "stream",
     "text": [
      "0.5\n"
     ]
    }
   ],
   "source": [
    "#Check how well the model did on the test data set\n",
    "print(tree.score(X_test, Y_test))"
   ]
  },
  {
   "cell_type": "markdown",
   "id": "176fe4c2-f9cc-435d-95d6-2119bc976323",
   "metadata": {},
   "source": [
    "# Identify feature importance"
   ]
  },
  {
   "cell_type": "markdown",
   "id": "f80f0c6f-1760-4244-9ed9-aa18d51a7495",
   "metadata": {},
   "source": [
    "# Next Steps\n",
    "- More feature engineering\n",
    "- Further parameter tuning\n",
    "- Stacking ensemble ML models"
   ]
  },
  {
   "cell_type": "code",
   "execution_count": null,
   "id": "857acbb8-d1e3-40e5-b74a-79aa5c5964b3",
   "metadata": {},
   "outputs": [],
   "source": []
  }
 ],
 "metadata": {
  "kernelspec": {
   "display_name": "Python 3 (ipykernel)",
   "language": "python",
   "name": "python3"
  },
  "language_info": {
   "codemirror_mode": {
    "name": "ipython",
    "version": 3
   },
   "file_extension": ".py",
   "mimetype": "text/x-python",
   "name": "python",
   "nbconvert_exporter": "python",
   "pygments_lexer": "ipython3",
   "version": "3.8.10"
  }
 },
 "nbformat": 4,
 "nbformat_minor": 5
}
