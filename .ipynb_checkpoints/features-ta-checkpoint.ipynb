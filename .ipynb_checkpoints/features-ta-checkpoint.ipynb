{
 "cells": [
  {
   "cell_type": "markdown",
   "id": "94a21257-ba97-482c-bb7e-368cfd071fd9",
   "metadata": {},
   "source": [
    "# Feature Engineering"
   ]
  },
  {
   "cell_type": "code",
   "execution_count": null,
   "id": "da63576e-e911-47bb-b966-a0bfadc10efb",
   "metadata": {},
   "outputs": [],
   "source": [
    "# Environment variables\n",
    "from dotenv import load_dotenv\n",
    "load_dotenv(\"mysql.env\")\n",
    "\n",
    "import os\n",
    "import sys\n",
    "import mysql.connector\n",
    "\n",
    "# Data Manipulation\n",
    "import pandas as pd\n",
    "import numpy as np\n",
    "\n",
    "# Data Visualization\n",
    "import matplotlib.pyplot as plt\n",
    "import seaborn as sns\n",
    "\n",
    "# Feature Engineering - Technical Analysis\n",
    "from ta import add_all_ta_features\n",
    "from ta.utils import dropna\n",
    "\n",
    "# Feature Selection\n",
    "from sklearn.model_selection import train_test_split\n",
    "from sklearn.linear_model import Lasso\n",
    "from sklearn.feature_selection import SelectFromModel\n",
    "from sklearn.preprocessing import StandardScaler\n",
    "from sklearn import model_selection, preprocessing\n",
    "import xgboost as xgb\n",
    "\n",
    "# ignore warnings from pandas\n",
    "import warnings\n",
    "warnings.filterwarnings('ignore')"
   ]
  },
  {
   "cell_type": "markdown",
   "id": "08dc2109-c45c-4dff-85ef-cb94b2b9d041",
   "metadata": {},
   "source": [
    "# List of Stocks and ETFs\n",
    "Provided by Thomas Choi."
   ]
  },
  {
   "cell_type": "code",
   "execution_count": null,
   "id": "211e30a8-2e7e-4a40-bad9-5ac2b8206308",
   "metadata": {},
   "outputs": [],
   "source": [
    "stock_list = pd.read_csv(\"stocks_and_etfs/stock_list.csv\")\n",
    "etf_list = pd.read_csv(\"stocks_and_etfs/etf_list.csv\")\n",
    "exchange_list = ['HKEX', 'NYSE', 'NASDAQ', 'AMEX']"
   ]
  },
  {
   "cell_type": "code",
   "execution_count": null,
   "id": "01cfec06-51e0-423b-9e94-dc556f95ac2b",
   "metadata": {},
   "outputs": [],
   "source": [
    "stock_symbol = stock_list.iloc[20,0]\n",
    "stock_symbol"
   ]
  },
  {
   "cell_type": "markdown",
   "id": "61fbaf4c-deb7-4ebd-9596-c5db89884a15",
   "metadata": {},
   "source": [
    "# MySQL connection"
   ]
  },
  {
   "cell_type": "code",
   "execution_count": null,
   "id": "ceeee4a9-c11d-48ff-b672-a124d485e9d9",
   "metadata": {},
   "outputs": [],
   "source": [
    "HOST=os.environ.get(\"HOST\")\n",
    "PORT=os.environ.get(\"PORT\")\n",
    "USER=os.environ.get(\"USER\")\n",
    "PASSWORD=os.environ.get(\"PASSWORD\")\n",
    "\n",
    "try: \n",
    "    conn = mysql.connector.connect(\n",
    "        host=HOST,\n",
    "        port=PORT,\n",
    "        user=USER,\n",
    "        password=PASSWORD,\n",
    "        database=\"GlobalMarketData\"\n",
    "    )\n",
    "    query = f\"SELECT Date, Close, Open, High, Low, Volume from histdailyprice3 WHERE Symbol='{stock_symbol}';\"\n",
    "    #query = f\"SELECT Symbol, Date, Close, Open, High, Low, Volume from histdailyprice3 WHERE Exchange='{exchange_list[1]}';\"\n",
    "    histdailyprice3 = pd.read_sql(query, conn)\n",
    "    conn.close()\n",
    "except Exception as e:\n",
    "    conn.close()\n",
    "    print(str(e))"
   ]
  },
  {
   "cell_type": "markdown",
   "id": "30b7cf30-c0f1-43d4-ad36-c9a083bcf832",
   "metadata": {},
   "source": [
    "# Load Data"
   ]
  },
  {
   "cell_type": "code",
   "execution_count": null,
   "id": "62ba2392-0d50-4e6c-8e88-d9f0cba71fc2",
   "metadata": {},
   "outputs": [],
   "source": [
    "df = histdailyprice3.copy()\n",
    "#df.set_index(\"Date\", drop=True, inplace=True)\n",
    "\n",
    "# Clean NaN values\n",
    "df = dropna(df)"
   ]
  },
  {
   "cell_type": "markdown",
   "id": "0a5c6a8e-b9ef-4185-a61c-65ba9585851c",
   "metadata": {},
   "source": [
    "# Stock Dataset with Technical Analysis"
   ]
  },
  {
   "cell_type": "code",
   "execution_count": null,
   "id": "307ffc43-f404-4f3b-89f8-0ff926f25ff8",
   "metadata": {},
   "outputs": [],
   "source": [
    "df = add_all_ta_features(df, open=\"Open\", high=\"High\", low=\"Low\", close=\"Close\", volume=\"Volume\", fillna=True)"
   ]
  },
  {
   "cell_type": "code",
   "execution_count": null,
   "id": "e6957166-0101-49f8-88b0-fc6f715c18a4",
   "metadata": {},
   "outputs": [],
   "source": [
    "df.head()"
   ]
  },
  {
   "cell_type": "code",
   "execution_count": null,
   "id": "cd166e12-1cde-4fc6-86e8-7181c7039fdc",
   "metadata": {},
   "outputs": [],
   "source": [
    "df.columns"
   ]
  },
  {
   "cell_type": "code",
   "execution_count": null,
   "id": "c43c98fe-e2dd-4c93-a1ac-f9142c1b59c5",
   "metadata": {},
   "outputs": [],
   "source": [
    "df.info()"
   ]
  },
  {
   "cell_type": "code",
   "execution_count": null,
   "id": "8a925766-d621-4c3d-9fdc-86ef31aacfe4",
   "metadata": {},
   "outputs": [],
   "source": [
    "# Descriptive statistics\n",
    "df.describe()"
   ]
  },
  {
   "cell_type": "markdown",
   "id": "08ac5001-c955-4e0b-b269-18dcd0305c5a",
   "metadata": {},
   "source": [
    "# Feature Engineering"
   ]
  },
  {
   "cell_type": "code",
   "execution_count": null,
   "id": "7e333d09-7c74-4003-8b3a-320d37fd5483",
   "metadata": {},
   "outputs": [],
   "source": [
    "for f in df.columns:\n",
    "    if df[f].dtype=='object':\n",
    "        lbl = preprocessing.LabelEncoder()\n",
    "        lbl.fit(list(df[f].values)) \n",
    "        df[f] = lbl.transform(list(df[f].values))\n",
    "dtype_df = df.dtypes.reset_index()\n",
    "dtype_df.columns = [\"Count\", \"Column Type\"]\n",
    "dtype_df.groupby(\"Column Type\").aggregate('count').reset_index()"
   ]
  },
  {
   "cell_type": "code",
   "execution_count": null,
   "id": "5ce78cc3-3997-4b2b-80e7-fc19fb3bf847",
   "metadata": {},
   "outputs": [],
   "source": [
    "corrmat = df.drop([\"Date\"], axis=1).corr(method='pearson', min_periods=1000)\n",
    "# plot absolute values\n",
    "corrmat = np.abs(corrmat)\n",
    "sns.set(context=\"paper\", font=\"monospace\")\n",
    "f, ax = plt.subplots(figsize=(12, 9))\n",
    "sns.heatmap(corrmat, vmax=.8, square=True, xticklabels = False, yticklabels = False)\n",
    "plt.show()"
   ]
  },
  {
   "cell_type": "code",
   "execution_count": null,
   "id": "d86520a4-e425-4a77-bd77-3de2ea2be772",
   "metadata": {},
   "outputs": [],
   "source": [
    "remain_num = 50\n",
    "corr_target = corrmat['Close'].reset_index()[:-2]\n",
    "corr_target.columns = ['feature','abs_corr']\n",
    "corr_target = corr_target.sort_values(by = 'abs_corr', ascending = True)[:remain_num].loc[corr_target['abs_corr'] >0.01]\n",
    "ind = np.arange(corr_target.shape[0])\n",
    "width = 0.9\n",
    "fig, ax = plt.subplots(figsize=(10,18))\n",
    "rects = ax.barh(ind, corr_target.abs_corr.values, color='r')\n",
    "ax.set_yticks(ind)\n",
    "ax.set_yticklabels(corr_target.feature.values, rotation='horizontal')\n",
    "ax.set_xlabel(\"absolute corr\", fontsize = 14)\n",
    "ax.set_title(\"Correlations between features and Close pirce\", fontsize = 18)\n",
    "plt.show()"
   ]
  },
  {
   "cell_type": "code",
   "execution_count": null,
   "id": "fb1ce672-bf8d-4686-859a-7e6fd428c4c0",
   "metadata": {},
   "outputs": [],
   "source": [
    "corr_target_f = list(corr_target.feature.values)"
   ]
  },
  {
   "cell_type": "markdown",
   "id": "8402f2c9-40fa-4405-a4f5-6b73494eac2c",
   "metadata": {},
   "source": [
    "# Correlation between features"
   ]
  },
  {
   "cell_type": "code",
   "execution_count": null,
   "id": "7556dcc9-9f76-4450-bf89-ba674357b476",
   "metadata": {},
   "outputs": [],
   "source": [
    "corr_target_f2 = corr_target_f\n",
    "corr_target_f2.append('Close')\n",
    "high_corr = df[corr_target_f2].corr(method='pearson', min_periods=1000)\n",
    "high_corr = np.abs(high_corr)*100\n",
    "f, ax = plt.subplots(figsize=(11, 11))\n",
    "sns.heatmap(high_corr, cbar=False, annot=True, square=True, fmt='.0f', \n",
    "            annot_kws={'size': 8})\n",
    "plt.title('High-corrlation Features')\n",
    "plt.show()"
   ]
  },
  {
   "cell_type": "code",
   "execution_count": null,
   "id": "b599ac93-e272-437a-b366-2cc5b8481e2a",
   "metadata": {},
   "outputs": [],
   "source": [
    "df_y = df.Close.values\n",
    "df_X = df.drop([\"Date\", \"Close\"], axis=1)\n",
    "xgb_params = {\n",
    "    'eta': 0.05,\n",
    "    'max_depth': 10,\n",
    "    'subsample': 1.0,\n",
    "    'colsample_bytree': 0.7,\n",
    "    'objective': 'reg:linear',\n",
    "    'eval_metric': 'rmse',\n",
    "    'silent': 1\n",
    "}\n",
    "dtrain = xgb.DMatrix(df_X, df_y, feature_names=df_X.columns.values)\n",
    "model = xgb.train(dict(xgb_params, silent=0), dtrain, num_boost_round=100)\n",
    "remain_num = 99"
   ]
  },
  {
   "cell_type": "code",
   "execution_count": null,
   "id": "017b3d3e-b4db-482a-b5c4-09017d407f5c",
   "metadata": {},
   "outputs": [],
   "source": [
    "fig, ax = plt.subplots(figsize=(10,18))\n",
    "xgb.plot_importance(model, max_num_features=remain_num, height=0.8, ax=ax)\n",
    "plt.show()"
   ]
  },
  {
   "cell_type": "code",
   "execution_count": null,
   "id": "0651347f-1e51-471b-a950-ed2aeebc92da",
   "metadata": {},
   "outputs": [],
   "source": [
    "importance = model.get_score(importance_type='weight')\n",
    "tuples = sorted([(k, importance[k]) for k in importance], key=lambda x: x[1], reverse=True)[:remain_num]\n",
    "xgb_imp_f = [x[0] for x in tuples]"
   ]
  },
  {
   "cell_type": "code",
   "execution_count": null,
   "id": "ced5e1b3-cff8-4c75-b401-ff975cc0df9f",
   "metadata": {},
   "outputs": [],
   "source": []
  }
 ],
 "metadata": {
  "kernelspec": {
   "display_name": "Python 3 (ipykernel)",
   "language": "python",
   "name": "python3"
  },
  "language_info": {
   "codemirror_mode": {
    "name": "ipython",
    "version": 3
   },
   "file_extension": ".py",
   "mimetype": "text/x-python",
   "name": "python",
   "nbconvert_exporter": "python",
   "pygments_lexer": "ipython3",
   "version": "3.8.12"
  }
 },
 "nbformat": 4,
 "nbformat_minor": 5
}
