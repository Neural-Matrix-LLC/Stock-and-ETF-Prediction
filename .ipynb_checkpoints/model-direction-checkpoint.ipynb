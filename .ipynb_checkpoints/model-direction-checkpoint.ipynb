{
 "cells": [
  {
   "cell_type": "markdown",
   "id": "8bc79168-58c4-41d5-8ec1-52155bb310c1",
   "metadata": {},
   "source": [
    "# Prediction of Stock Direction \n",
    "This notebook aims to predict market prices with machine learning.\n",
    "\n",
    "Data from ```'HKEX', 'NYSE', 'NASDAQ', 'AMEX'``` during ```1998-01-01 to 2021-09-07``` was employed."
   ]
  },
  {
   "cell_type": "code",
   "execution_count": 1,
   "id": "2701a139-9c44-4723-9e94-8af60503ec1a",
   "metadata": {},
   "outputs": [
    {
     "name": "stdout",
     "output_type": "stream",
     "text": [
      "Machine: Darwin x86_64\n",
      "\n",
      "3.8.12 | packaged by conda-forge | (default, Sep 16 2021, 01:59:00) \n",
      "[Clang 11.1.0 ]\n"
     ]
    }
   ],
   "source": [
    "# Environment variables\n",
    "from dotenv import load_dotenv\n",
    "load_dotenv(\"mysql.env\")\n",
    "\n",
    "import os\n",
    "import sys\n",
    "import mysql.connector\n",
    "\n",
    "import pandas as pd\n",
    "import numpy as np\n",
    "\n",
    "print('Machine: {} {}\\n'.format(os.uname().sysname,os.uname().machine))\n",
    "print(sys.version)"
   ]
  },
  {
   "cell_type": "markdown",
   "id": "8d8cb8c1-860e-4d4a-a47d-280f7f70866b",
   "metadata": {},
   "source": [
    "# List of Stocks and ETFs\n",
    "Provided by Thomas Choi."
   ]
  },
  {
   "cell_type": "code",
   "execution_count": 2,
   "id": "0d45b4a1-04c3-4218-bd5f-76a0f1227193",
   "metadata": {},
   "outputs": [],
   "source": [
    "stock_list = pd.read_csv(\"stocks_and_etfs/stock_list.csv\")\n",
    "etf_list = pd.read_csv(\"stocks_and_etfs/etf_list.csv\")"
   ]
  },
  {
   "cell_type": "code",
   "execution_count": 3,
   "id": "a9734fa7-fa6e-42d6-96ac-3850a5b64d32",
   "metadata": {},
   "outputs": [
    {
     "data": {
      "text/plain": [
       "'MSFT'"
      ]
     },
     "execution_count": 3,
     "metadata": {},
     "output_type": "execute_result"
    }
   ],
   "source": [
    "stock_symbol = stock_list.iloc[0,0]\n",
    "stock_symbol"
   ]
  },
  {
   "cell_type": "markdown",
   "id": "941125ba-4bbb-4683-b258-d9601d07f30b",
   "metadata": {},
   "source": [
    "## MySQL connection\n",
    "Choosing one stock from SQL query to reduce query time."
   ]
  },
  {
   "cell_type": "code",
   "execution_count": 4,
   "id": "5e51c074-9fea-4d42-9430-3dba5bdc3271",
   "metadata": {},
   "outputs": [],
   "source": [
    "HOST=os.environ.get(\"HOST\")\n",
    "PORT=os.environ.get(\"PORT\")\n",
    "USER=os.environ.get(\"USER\")\n",
    "PASSWORD=os.environ.get(\"PASSWORD\")\n",
    "\n",
    "try: \n",
    "    conn = mysql.connector.connect(\n",
    "        host=HOST,\n",
    "        port=PORT,\n",
    "        user=USER,\n",
    "        password=PASSWORD,\n",
    "        database=\"GlobalMarketData\"\n",
    "    )\n",
    "    query = f\"SELECT Date, Close, Open, High, Low, Volume from histdailyprice3 WHERE Symbol='{stock_symbol}';\"\n",
    "    histdailyprice3 = pd.read_sql(query, conn)\n",
    "    conn.close()\n",
    "except Exception as e:\n",
    "    conn.close()\n",
    "    print(str(e))"
   ]
  },
  {
   "cell_type": "markdown",
   "id": "bacd3cf6-c3f7-4c00-8a58-374e170326c9",
   "metadata": {},
   "source": [
    "# Load Data"
   ]
  },
  {
   "cell_type": "code",
   "execution_count": 5,
   "id": "9636e1a0-46a4-433a-bd60-641f3742a2c1",
   "metadata": {},
   "outputs": [
    {
     "data": {
      "text/html": [
       "<div>\n",
       "<style scoped>\n",
       "    .dataframe tbody tr th:only-of-type {\n",
       "        vertical-align: middle;\n",
       "    }\n",
       "\n",
       "    .dataframe tbody tr th {\n",
       "        vertical-align: top;\n",
       "    }\n",
       "\n",
       "    .dataframe thead th {\n",
       "        text-align: right;\n",
       "    }\n",
       "</style>\n",
       "<table border=\"1\" class=\"dataframe\">\n",
       "  <thead>\n",
       "    <tr style=\"text-align: right;\">\n",
       "      <th></th>\n",
       "      <th>Close</th>\n",
       "      <th>Open</th>\n",
       "      <th>High</th>\n",
       "      <th>Low</th>\n",
       "      <th>Volume</th>\n",
       "    </tr>\n",
       "    <tr>\n",
       "      <th>Date</th>\n",
       "      <th></th>\n",
       "      <th></th>\n",
       "      <th></th>\n",
       "      <th></th>\n",
       "      <th></th>\n",
       "    </tr>\n",
       "  </thead>\n",
       "  <tbody>\n",
       "    <tr>\n",
       "      <th>1998-01-01</th>\n",
       "      <td>16.157</td>\n",
       "      <td>16.157</td>\n",
       "      <td>16.157</td>\n",
       "      <td>16.157</td>\n",
       "      <td>0</td>\n",
       "    </tr>\n",
       "    <tr>\n",
       "      <th>1998-01-02</th>\n",
       "      <td>16.204</td>\n",
       "      <td>16.438</td>\n",
       "      <td>16.188</td>\n",
       "      <td>16.392</td>\n",
       "      <td>4973300</td>\n",
       "    </tr>\n",
       "    <tr>\n",
       "      <th>1998-01-05</th>\n",
       "      <td>16.407</td>\n",
       "      <td>16.704</td>\n",
       "      <td>15.984</td>\n",
       "      <td>16.298</td>\n",
       "      <td>10051300</td>\n",
       "    </tr>\n",
       "    <tr>\n",
       "      <th>1998-01-06</th>\n",
       "      <td>16.219</td>\n",
       "      <td>16.625</td>\n",
       "      <td>16.157</td>\n",
       "      <td>16.392</td>\n",
       "      <td>8484500</td>\n",
       "    </tr>\n",
       "    <tr>\n",
       "      <th>1998-01-07</th>\n",
       "      <td>16.235</td>\n",
       "      <td>16.399</td>\n",
       "      <td>15.938</td>\n",
       "      <td>16.195</td>\n",
       "      <td>7690300</td>\n",
       "    </tr>\n",
       "  </tbody>\n",
       "</table>\n",
       "</div>"
      ],
      "text/plain": [
       "             Close    Open    High     Low    Volume\n",
       "Date                                                \n",
       "1998-01-01  16.157  16.157  16.157  16.157         0\n",
       "1998-01-02  16.204  16.438  16.188  16.392   4973300\n",
       "1998-01-05  16.407  16.704  15.984  16.298  10051300\n",
       "1998-01-06  16.219  16.625  16.157  16.392   8484500\n",
       "1998-01-07  16.235  16.399  15.938  16.195   7690300"
      ]
     },
     "execution_count": 5,
     "metadata": {},
     "output_type": "execute_result"
    }
   ],
   "source": [
    "df = histdailyprice3.copy()\n",
    "df.set_index(\"Date\", drop=True, inplace=True)"
   ]
  },
  {
   "cell_type": "markdown",
   "id": "0c116742-248e-4cf3-9a31-c7052ab8fd1e",
   "metadata": {},
   "source": [
    "# Stock Dataset"
   ]
  },
  {
   "cell_type": "code",
   "execution_count": 7,
   "id": "5d5acb22-7287-489d-949d-a616f62830c9",
   "metadata": {},
   "outputs": [
    {
     "data": {
      "text/html": [
       "<div>\n",
       "<style scoped>\n",
       "    .dataframe tbody tr th:only-of-type {\n",
       "        vertical-align: middle;\n",
       "    }\n",
       "\n",
       "    .dataframe tbody tr th {\n",
       "        vertical-align: top;\n",
       "    }\n",
       "\n",
       "    .dataframe thead th {\n",
       "        text-align: right;\n",
       "    }\n",
       "</style>\n",
       "<table border=\"1\" class=\"dataframe\">\n",
       "  <thead>\n",
       "    <tr style=\"text-align: right;\">\n",
       "      <th></th>\n",
       "      <th>Close</th>\n",
       "      <th>Open</th>\n",
       "      <th>High</th>\n",
       "      <th>Low</th>\n",
       "      <th>Volume</th>\n",
       "    </tr>\n",
       "    <tr>\n",
       "      <th>Date</th>\n",
       "      <th></th>\n",
       "      <th></th>\n",
       "      <th></th>\n",
       "      <th></th>\n",
       "      <th></th>\n",
       "    </tr>\n",
       "  </thead>\n",
       "  <tbody>\n",
       "    <tr>\n",
       "      <th>1998-01-01</th>\n",
       "      <td>16.157</td>\n",
       "      <td>16.157</td>\n",
       "      <td>16.157</td>\n",
       "      <td>16.157</td>\n",
       "      <td>0</td>\n",
       "    </tr>\n",
       "    <tr>\n",
       "      <th>1998-01-02</th>\n",
       "      <td>16.204</td>\n",
       "      <td>16.438</td>\n",
       "      <td>16.188</td>\n",
       "      <td>16.392</td>\n",
       "      <td>4973300</td>\n",
       "    </tr>\n",
       "    <tr>\n",
       "      <th>1998-01-05</th>\n",
       "      <td>16.407</td>\n",
       "      <td>16.704</td>\n",
       "      <td>15.984</td>\n",
       "      <td>16.298</td>\n",
       "      <td>10051300</td>\n",
       "    </tr>\n",
       "    <tr>\n",
       "      <th>1998-01-06</th>\n",
       "      <td>16.219</td>\n",
       "      <td>16.625</td>\n",
       "      <td>16.157</td>\n",
       "      <td>16.392</td>\n",
       "      <td>8484500</td>\n",
       "    </tr>\n",
       "    <tr>\n",
       "      <th>1998-01-07</th>\n",
       "      <td>16.235</td>\n",
       "      <td>16.399</td>\n",
       "      <td>15.938</td>\n",
       "      <td>16.195</td>\n",
       "      <td>7690300</td>\n",
       "    </tr>\n",
       "  </tbody>\n",
       "</table>\n",
       "</div>"
      ],
      "text/plain": [
       "             Close    Open    High     Low    Volume\n",
       "Date                                                \n",
       "1998-01-01  16.157  16.157  16.157  16.157         0\n",
       "1998-01-02  16.204  16.438  16.188  16.392   4973300\n",
       "1998-01-05  16.407  16.704  15.984  16.298  10051300\n",
       "1998-01-06  16.219  16.625  16.157  16.392   8484500\n",
       "1998-01-07  16.235  16.399  15.938  16.195   7690300"
      ]
     },
     "execution_count": 7,
     "metadata": {},
     "output_type": "execute_result"
    }
   ],
   "source": [
    "df.head()"
   ]
  },
  {
   "cell_type": "code",
   "execution_count": 6,
   "id": "3dd66a78-7fb9-432c-868c-707fcf0d5239",
   "metadata": {},
   "outputs": [
    {
     "name": "stdout",
     "output_type": "stream",
     "text": [
      "<class 'pandas.core.frame.DataFrame'>\n",
      "Index: 6147 entries, 1998-01-01 to 2021-09-03\n",
      "Data columns (total 5 columns):\n",
      " #   Column  Non-Null Count  Dtype  \n",
      "---  ------  --------------  -----  \n",
      " 0   Close   6147 non-null   float64\n",
      " 1   Open    6147 non-null   float64\n",
      " 2   High    6147 non-null   float64\n",
      " 3   Low     6147 non-null   float64\n",
      " 4   Volume  6147 non-null   int64  \n",
      "dtypes: float64(4), int64(1)\n",
      "memory usage: 288.1+ KB\n"
     ]
    }
   ],
   "source": [
    "df.info()"
   ]
  },
  {
   "cell_type": "code",
   "execution_count": 8,
   "id": "2e8f2765-6cd9-4667-87ad-f8782b0a1c71",
   "metadata": {},
   "outputs": [
    {
     "name": "stdout",
     "output_type": "stream",
     "text": [
      "Percentage of Missing Values:\n",
      " Close     0.0\n",
      "Open      0.0\n",
      "High      0.0\n",
      "Low       0.0\n",
      "Volume    0.0\n",
      "dtype: float64\n"
     ]
    }
   ],
   "source": [
    "# Percentage of nullity by column\n",
    "missing_perc = df.isnull().mean() * 100\n",
    "print('Percentage of Missing Values:\\n', missing_perc)"
   ]
  },
  {
   "cell_type": "code",
   "execution_count": 9,
   "id": "a5876039-7e6d-4b6c-a2d0-2bf7594383d3",
   "metadata": {},
   "outputs": [
    {
     "data": {
      "text/html": [
       "<div>\n",
       "<style scoped>\n",
       "    .dataframe tbody tr th:only-of-type {\n",
       "        vertical-align: middle;\n",
       "    }\n",
       "\n",
       "    .dataframe tbody tr th {\n",
       "        vertical-align: top;\n",
       "    }\n",
       "\n",
       "    .dataframe thead th {\n",
       "        text-align: right;\n",
       "    }\n",
       "</style>\n",
       "<table border=\"1\" class=\"dataframe\">\n",
       "  <thead>\n",
       "    <tr style=\"text-align: right;\">\n",
       "      <th></th>\n",
       "      <th>Close</th>\n",
       "      <th>Open</th>\n",
       "      <th>High</th>\n",
       "      <th>Low</th>\n",
       "      <th>Volume</th>\n",
       "    </tr>\n",
       "  </thead>\n",
       "  <tbody>\n",
       "    <tr>\n",
       "      <th>count</th>\n",
       "      <td>6147.000000</td>\n",
       "      <td>6147.000000</td>\n",
       "      <td>6147.000000</td>\n",
       "      <td>6147.000000</td>\n",
       "      <td>6.147000e+03</td>\n",
       "    </tr>\n",
       "    <tr>\n",
       "      <th>mean</th>\n",
       "      <td>53.160964</td>\n",
       "      <td>53.700698</td>\n",
       "      <td>52.619410</td>\n",
       "      <td>53.179159</td>\n",
       "      <td>4.411060e+07</td>\n",
       "    </tr>\n",
       "    <tr>\n",
       "      <th>std</th>\n",
       "      <td>51.896527</td>\n",
       "      <td>52.360775</td>\n",
       "      <td>51.438644</td>\n",
       "      <td>51.941706</td>\n",
       "      <td>2.894696e+07</td>\n",
       "    </tr>\n",
       "    <tr>\n",
       "      <th>min</th>\n",
       "      <td>15.200000</td>\n",
       "      <td>15.620000</td>\n",
       "      <td>14.870000</td>\n",
       "      <td>15.150000</td>\n",
       "      <td>0.000000e+00</td>\n",
       "    </tr>\n",
       "    <tr>\n",
       "      <th>25%</th>\n",
       "      <td>26.690000</td>\n",
       "      <td>26.950000</td>\n",
       "      <td>26.400000</td>\n",
       "      <td>26.665000</td>\n",
       "      <td>2.517020e+07</td>\n",
       "    </tr>\n",
       "    <tr>\n",
       "      <th>50%</th>\n",
       "      <td>30.640000</td>\n",
       "      <td>30.945000</td>\n",
       "      <td>30.345000</td>\n",
       "      <td>30.660000</td>\n",
       "      <td>3.865060e+07</td>\n",
       "    </tr>\n",
       "    <tr>\n",
       "      <th>75%</th>\n",
       "      <td>49.905000</td>\n",
       "      <td>50.570000</td>\n",
       "      <td>49.525000</td>\n",
       "      <td>49.955000</td>\n",
       "      <td>5.709925e+07</td>\n",
       "    </tr>\n",
       "    <tr>\n",
       "      <th>max</th>\n",
       "      <td>305.020000</td>\n",
       "      <td>305.840000</td>\n",
       "      <td>302.004000</td>\n",
       "      <td>304.650000</td>\n",
       "      <td>5.910786e+08</td>\n",
       "    </tr>\n",
       "  </tbody>\n",
       "</table>\n",
       "</div>"
      ],
      "text/plain": [
       "             Close         Open         High          Low        Volume\n",
       "count  6147.000000  6147.000000  6147.000000  6147.000000  6.147000e+03\n",
       "mean     53.160964    53.700698    52.619410    53.179159  4.411060e+07\n",
       "std      51.896527    52.360775    51.438644    51.941706  2.894696e+07\n",
       "min      15.200000    15.620000    14.870000    15.150000  0.000000e+00\n",
       "25%      26.690000    26.950000    26.400000    26.665000  2.517020e+07\n",
       "50%      30.640000    30.945000    30.345000    30.660000  3.865060e+07\n",
       "75%      49.905000    50.570000    49.525000    49.955000  5.709925e+07\n",
       "max     305.020000   305.840000   302.004000   304.650000  5.910786e+08"
      ]
     },
     "execution_count": 9,
     "metadata": {},
     "output_type": "execute_result"
    }
   ],
   "source": [
    "# Descriptive statistics\n",
    "df.describe()"
   ]
  },
  {
   "cell_type": "code",
   "execution_count": null,
   "id": "657c79d3-92c0-41f4-a38d-95ef372c6722",
   "metadata": {},
   "outputs": [],
   "source": []
  }
 ],
 "metadata": {
  "kernelspec": {
   "display_name": "Python 3 (ipykernel)",
   "language": "python",
   "name": "python3"
  },
  "language_info": {
   "codemirror_mode": {
    "name": "ipython",
    "version": 3
   },
   "file_extension": ".py",
   "mimetype": "text/x-python",
   "name": "python",
   "nbconvert_exporter": "python",
   "pygments_lexer": "ipython3",
   "version": "3.8.12"
  }
 },
 "nbformat": 4,
 "nbformat_minor": 5
}
