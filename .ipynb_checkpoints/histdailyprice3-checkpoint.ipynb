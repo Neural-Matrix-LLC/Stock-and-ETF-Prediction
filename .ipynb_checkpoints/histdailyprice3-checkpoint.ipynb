{
 "cells": [
  {
   "cell_type": "markdown",
   "id": "858e511c-5326-43dd-b57a-023b4de7acb4",
   "metadata": {},
   "source": [
    "# MySQL Database connection"
   ]
  },
  {
   "cell_type": "markdown",
   "id": "0cdf58cc-3c0d-4a23-8041-21eee49cd962",
   "metadata": {
    "tags": []
   },
   "source": [
    "# Import Libraries"
   ]
  },
  {
   "cell_type": "code",
   "execution_count": 3,
   "id": "f289c1d4-118b-410d-9dc2-16ebaf6023c3",
   "metadata": {},
   "outputs": [],
   "source": [
    "#!pip install mysql-connector-python\n",
    "#!pip install python-dotenv\n",
    "#!pip install pymysql"
   ]
  },
  {
   "cell_type": "code",
   "execution_count": 4,
   "id": "f7897f9f-2675-467c-a6f2-7edd720d130f",
   "metadata": {},
   "outputs": [
    {
     "data": {
      "text/plain": [
       "True"
      ]
     },
     "execution_count": 4,
     "metadata": {},
     "output_type": "execute_result"
    }
   ],
   "source": [
    "import config as cfg\n",
    "import pandas as pd\n",
    "import mysql.connector\n",
    "import os\n",
    "\n",
    "from dotenv import load_dotenv\n",
    "load_dotenv(\"mysql.env\")"
   ]
  },
  {
   "cell_type": "markdown",
   "id": "d7c7d7f7-34dc-4d9b-a903-f04373d3aeba",
   "metadata": {},
   "source": [
    "# MySQL connection"
   ]
  },
  {
   "cell_type": "code",
   "execution_count": 5,
   "id": "b11eadee-32d8-4b1e-bb2b-a44ba3fff636",
   "metadata": {},
   "outputs": [],
   "source": [
    "HOST=os.environ.get(\"HOST\")\n",
    "PORT=os.environ.get(\"PORT\")\n",
    "USER=os.environ.get(\"USER\")\n",
    "PASSWORD=os.environ.get(\"PASSWORD\")\n",
    "\n",
    "try: \n",
    "    conn = mysql.connector.connect(\n",
    "        host=HOST,\n",
    "        port=PORT,\n",
    "        user=USER,\n",
    "        password=PASSWORD,\n",
    "        database=\"GlobalMarketData\"\n",
    "    )\n",
    "    query = \"SELECT * from histdailyprice3;\"\n",
    "    df = pd.read_sql(query, conn)\n",
    "    conn.close()\n",
    "except Exception as e:\n",
    "    mydb.close()\n",
    "    print(str(e))"
   ]
  },
  {
   "cell_type": "markdown",
   "id": "dcc9fb88-f89d-4802-b3a6-b1d8e6111653",
   "metadata": {},
   "source": [
    "# Data"
   ]
  },
  {
   "cell_type": "code",
   "execution_count": 6,
   "id": "591b376c-30f7-4a2d-9e8b-6cc317c4110a",
   "metadata": {},
   "outputs": [
    {
     "data": {
      "text/html": [
       "<div>\n",
       "<style scoped>\n",
       "    .dataframe tbody tr th:only-of-type {\n",
       "        vertical-align: middle;\n",
       "    }\n",
       "\n",
       "    .dataframe tbody tr th {\n",
       "        vertical-align: top;\n",
       "    }\n",
       "\n",
       "    .dataframe thead th {\n",
       "        text-align: right;\n",
       "    }\n",
       "</style>\n",
       "<table border=\"1\" class=\"dataframe\">\n",
       "  <thead>\n",
       "    <tr style=\"text-align: right;\">\n",
       "      <th></th>\n",
       "      <th>Date</th>\n",
       "      <th>Symbol</th>\n",
       "      <th>Exchange</th>\n",
       "      <th>Close</th>\n",
       "      <th>Open</th>\n",
       "      <th>High</th>\n",
       "      <th>Low</th>\n",
       "      <th>Volume</th>\n",
       "    </tr>\n",
       "  </thead>\n",
       "  <tbody>\n",
       "    <tr>\n",
       "      <th>0</th>\n",
       "      <td>1998-01-01</td>\n",
       "      <td>00001.HK</td>\n",
       "      <td>HKEX</td>\n",
       "      <td>50.750</td>\n",
       "      <td>50.750</td>\n",
       "      <td>50.750</td>\n",
       "      <td>50.750</td>\n",
       "      <td>0</td>\n",
       "    </tr>\n",
       "    <tr>\n",
       "      <th>1</th>\n",
       "      <td>1998-01-01</td>\n",
       "      <td>00002.HK</td>\n",
       "      <td>HKEX</td>\n",
       "      <td>34.043</td>\n",
       "      <td>34.043</td>\n",
       "      <td>34.043</td>\n",
       "      <td>34.043</td>\n",
       "      <td>0</td>\n",
       "    </tr>\n",
       "    <tr>\n",
       "      <th>2</th>\n",
       "      <td>1998-01-01</td>\n",
       "      <td>00003.HK</td>\n",
       "      <td>HKEX</td>\n",
       "      <td>9.314</td>\n",
       "      <td>9.314</td>\n",
       "      <td>9.314</td>\n",
       "      <td>9.314</td>\n",
       "      <td>0</td>\n",
       "    </tr>\n",
       "    <tr>\n",
       "      <th>3</th>\n",
       "      <td>1998-01-01</td>\n",
       "      <td>00004.HK</td>\n",
       "      <td>HKEX</td>\n",
       "      <td>16.821</td>\n",
       "      <td>16.821</td>\n",
       "      <td>16.821</td>\n",
       "      <td>16.821</td>\n",
       "      <td>0</td>\n",
       "    </tr>\n",
       "    <tr>\n",
       "      <th>4</th>\n",
       "      <td>1998-01-01</td>\n",
       "      <td>00005.HK</td>\n",
       "      <td>HKEX</td>\n",
       "      <td>63.666</td>\n",
       "      <td>63.666</td>\n",
       "      <td>63.666</td>\n",
       "      <td>63.666</td>\n",
       "      <td>0</td>\n",
       "    </tr>\n",
       "  </tbody>\n",
       "</table>\n",
       "</div>"
      ],
      "text/plain": [
       "         Date    Symbol Exchange   Close    Open    High     Low  Volume\n",
       "0  1998-01-01  00001.HK     HKEX  50.750  50.750  50.750  50.750       0\n",
       "1  1998-01-01  00002.HK     HKEX  34.043  34.043  34.043  34.043       0\n",
       "2  1998-01-01  00003.HK     HKEX   9.314   9.314   9.314   9.314       0\n",
       "3  1998-01-01  00004.HK     HKEX  16.821  16.821  16.821  16.821       0\n",
       "4  1998-01-01  00005.HK     HKEX  63.666  63.666  63.666  63.666       0"
      ]
     },
     "execution_count": 6,
     "metadata": {},
     "output_type": "execute_result"
    }
   ],
   "source": [
    "df.head()"
   ]
  },
  {
   "cell_type": "code",
   "execution_count": 7,
   "id": "143ccc1e-aa30-48dc-8d57-a7206c1ca363",
   "metadata": {},
   "outputs": [
    {
     "name": "stdout",
     "output_type": "stream",
     "text": [
      "Dimensions: (29270724, 8)\n"
     ]
    }
   ],
   "source": [
    "print(\"Dimensions:\", df.shape)"
   ]
  },
  {
   "cell_type": "code",
   "execution_count": 8,
   "id": "952fa8de-06d0-42df-a020-f1219abf8a03",
   "metadata": {},
   "outputs": [
    {
     "data": {
      "text/html": [
       "<div>\n",
       "<style scoped>\n",
       "    .dataframe tbody tr th:only-of-type {\n",
       "        vertical-align: middle;\n",
       "    }\n",
       "\n",
       "    .dataframe tbody tr th {\n",
       "        vertical-align: top;\n",
       "    }\n",
       "\n",
       "    .dataframe thead th {\n",
       "        text-align: right;\n",
       "    }\n",
       "</style>\n",
       "<table border=\"1\" class=\"dataframe\">\n",
       "  <thead>\n",
       "    <tr style=\"text-align: right;\">\n",
       "      <th></th>\n",
       "      <th>Close</th>\n",
       "      <th>Open</th>\n",
       "      <th>High</th>\n",
       "      <th>Low</th>\n",
       "      <th>Volume</th>\n",
       "    </tr>\n",
       "  </thead>\n",
       "  <tbody>\n",
       "    <tr>\n",
       "      <th>count</th>\n",
       "      <td>2.927072e+07</td>\n",
       "      <td>2.927072e+07</td>\n",
       "      <td>2.927072e+07</td>\n",
       "      <td>2.927072e+07</td>\n",
       "      <td>2.927072e+07</td>\n",
       "    </tr>\n",
       "    <tr>\n",
       "      <th>mean</th>\n",
       "      <td>2.706945e+04</td>\n",
       "      <td>2.770904e+04</td>\n",
       "      <td>2.633463e+04</td>\n",
       "      <td>2.692689e+04</td>\n",
       "      <td>2.267096e+06</td>\n",
       "    </tr>\n",
       "    <tr>\n",
       "      <th>std</th>\n",
       "      <td>4.412140e+06</td>\n",
       "      <td>4.512667e+06</td>\n",
       "      <td>4.299817e+06</td>\n",
       "      <td>4.393168e+06</td>\n",
       "      <td>2.128552e+07</td>\n",
       "    </tr>\n",
       "    <tr>\n",
       "      <th>min</th>\n",
       "      <td>-1.634510e+03</td>\n",
       "      <td>0.000000e+00</td>\n",
       "      <td>-1.764960e+03</td>\n",
       "      <td>0.000000e+00</td>\n",
       "      <td>-2.140735e+09</td>\n",
       "    </tr>\n",
       "    <tr>\n",
       "      <th>25%</th>\n",
       "      <td>6.070000e+00</td>\n",
       "      <td>6.190000e+00</td>\n",
       "      <td>5.955000e+00</td>\n",
       "      <td>6.070000e+00</td>\n",
       "      <td>1.450000e+04</td>\n",
       "    </tr>\n",
       "    <tr>\n",
       "      <th>50%</th>\n",
       "      <td>1.747000e+01</td>\n",
       "      <td>1.770000e+01</td>\n",
       "      <td>1.721000e+01</td>\n",
       "      <td>1.746000e+01</td>\n",
       "      <td>1.258000e+05</td>\n",
       "    </tr>\n",
       "    <tr>\n",
       "      <th>75%</th>\n",
       "      <td>3.479000e+01</td>\n",
       "      <td>3.519000e+01</td>\n",
       "      <td>3.435000e+01</td>\n",
       "      <td>3.478000e+01</td>\n",
       "      <td>7.554000e+05</td>\n",
       "    </tr>\n",
       "    <tr>\n",
       "      <th>max</th>\n",
       "      <td>1.555500e+09</td>\n",
       "      <td>1.572000e+09</td>\n",
       "      <td>1.365000e+09</td>\n",
       "      <td>1.536000e+09</td>\n",
       "      <td>1.977816e+10</td>\n",
       "    </tr>\n",
       "  </tbody>\n",
       "</table>\n",
       "</div>"
      ],
      "text/plain": [
       "              Close          Open          High           Low        Volume\n",
       "count  2.927072e+07  2.927072e+07  2.927072e+07  2.927072e+07  2.927072e+07\n",
       "mean   2.706945e+04  2.770904e+04  2.633463e+04  2.692689e+04  2.267096e+06\n",
       "std    4.412140e+06  4.512667e+06  4.299817e+06  4.393168e+06  2.128552e+07\n",
       "min   -1.634510e+03  0.000000e+00 -1.764960e+03  0.000000e+00 -2.140735e+09\n",
       "25%    6.070000e+00  6.190000e+00  5.955000e+00  6.070000e+00  1.450000e+04\n",
       "50%    1.747000e+01  1.770000e+01  1.721000e+01  1.746000e+01  1.258000e+05\n",
       "75%    3.479000e+01  3.519000e+01  3.435000e+01  3.478000e+01  7.554000e+05\n",
       "max    1.555500e+09  1.572000e+09  1.365000e+09  1.536000e+09  1.977816e+10"
      ]
     },
     "execution_count": 8,
     "metadata": {},
     "output_type": "execute_result"
    }
   ],
   "source": [
    "df.describe()"
   ]
  },
  {
   "cell_type": "code",
   "execution_count": 9,
   "id": "1d401e9b-d2e9-4abe-9b18-9960493a43f9",
   "metadata": {},
   "outputs": [
    {
     "data": {
      "text/plain": [
       "Index(['Date', 'Symbol', 'Exchange', 'Close', 'Open', 'High', 'Low', 'Volume'], dtype='object')"
      ]
     },
     "execution_count": 9,
     "metadata": {},
     "output_type": "execute_result"
    }
   ],
   "source": [
    "df.columns"
   ]
  },
  {
   "cell_type": "markdown",
   "id": "34c4147f-ad7a-4126-9a9e-adb1dabcb8b2",
   "metadata": {},
   "source": [
    "# EDA"
   ]
  },
  {
   "cell_type": "markdown",
   "id": "850f6686-3f51-42ab-8263-c8eed8be4c57",
   "metadata": {},
   "source": [
    "## Date"
   ]
  },
  {
   "cell_type": "code",
   "execution_count": 11,
   "id": "ce957838-287c-4a88-8db7-6b6ba17c3007",
   "metadata": {},
   "outputs": [
    {
     "name": "stdout",
     "output_type": "stream",
     "text": [
      "Date range: 1998-01-01 to 2021-09-07\n"
     ]
    }
   ],
   "source": [
    "print(\"Date range:\", min(df.Date), \"to\", max(df.Date))"
   ]
  },
  {
   "cell_type": "markdown",
   "id": "02a5e62e-6a21-486f-99c5-24882a4dfe0d",
   "metadata": {},
   "source": [
    "## Exchange"
   ]
  },
  {
   "cell_type": "code",
   "execution_count": 16,
   "id": "484d49f4-0e31-484f-9a2e-fcced3ac0a55",
   "metadata": {},
   "outputs": [
    {
     "data": {
      "text/plain": [
       "array(['HKEX', 'NYSE', 'NASDAQ', 'AMEX'], dtype=object)"
      ]
     },
     "execution_count": 16,
     "metadata": {},
     "output_type": "execute_result"
    }
   ],
   "source": [
    "df.Exchange.unique()"
   ]
  },
  {
   "cell_type": "markdown",
   "id": "35f021a9-79ac-4fe9-82d0-3bb27cacb51e",
   "metadata": {},
   "source": [
    "HKEX - The Stock Exchange of Hong Kong Limited <br>\n",
    "NYSE - The New York Stock Exchange <br>\n",
    "NASDAQ - Nasdaq Composite <br>\n",
    "AMEX - American Stock Exchange"
   ]
  },
  {
   "cell_type": "markdown",
   "id": "9b61c071-faa3-475c-974f-b18184e1a3ea",
   "metadata": {},
   "source": [
    "## Symbol"
   ]
  },
  {
   "cell_type": "code",
   "execution_count": 13,
   "id": "36c4bfa4-d27c-4584-ae57-5cd2cbc4c3fa",
   "metadata": {},
   "outputs": [
    {
     "data": {
      "text/plain": [
       "0        00001.HK\n",
       "1        00002.HK\n",
       "2        00003.HK\n",
       "3        00004.HK\n",
       "4        00005.HK\n",
       "           ...   \n",
       "13908        SLGC\n",
       "13909       SLGCW\n",
       "13910       OPP.P\n",
       "13911       RCO.W\n",
       "13912        RCOR\n",
       "Length: 13913, dtype: object"
      ]
     },
     "execution_count": 13,
     "metadata": {},
     "output_type": "execute_result"
    }
   ],
   "source": [
    "pd.Series(df.Symbol.unique())"
   ]
  },
  {
   "cell_type": "code",
   "execution_count": 19,
   "id": "aea110f8-ad2a-4f71-a80a-1a24931c1468",
   "metadata": {},
   "outputs": [
    {
     "data": {
      "text/plain": [
       "array(['AA', 'ABC', 'ABM', ..., 'INA.U', 'OPAD', 'OPP.P'], dtype=object)"
      ]
     },
     "execution_count": 19,
     "metadata": {},
     "output_type": "execute_result"
    }
   ],
   "source": [
    "df[df.Exchange == \"NYSE\"].Symbol.unique()"
   ]
  },
  {
   "cell_type": "code",
   "execution_count": 69,
   "id": "1e30e868-2e77-475d-96ad-7a4d98c235ac",
   "metadata": {},
   "outputs": [],
   "source": [
    "# Close cursor\n",
    "cursor.close()\n",
    "\n",
    "# Close connection\n",
    "conn.close()"
   ]
  }
 ],
 "metadata": {
  "kernelspec": {
   "display_name": "Python 3 (ipykernel)",
   "language": "python",
   "name": "python3"
  },
  "language_info": {
   "codemirror_mode": {
    "name": "ipython",
    "version": 3
   },
   "file_extension": ".py",
   "mimetype": "text/x-python",
   "name": "python",
   "nbconvert_exporter": "python",
   "pygments_lexer": "ipython3",
   "version": "3.8.12"
  }
 },
 "nbformat": 4,
 "nbformat_minor": 5
}
