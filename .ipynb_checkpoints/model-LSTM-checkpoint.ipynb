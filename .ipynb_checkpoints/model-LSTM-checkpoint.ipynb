{
 "cells": [
  {
   "cell_type": "markdown",
   "id": "1fcaa16d-5cd1-40e0-99c3-5c751d68e436",
   "metadata": {},
   "source": [
    "# LSTM"
   ]
  },
  {
   "cell_type": "code",
   "execution_count": 48,
   "id": "bf33a97a-ecaf-4b9a-9950-70917a7ddf0a",
   "metadata": {},
   "outputs": [],
   "source": [
    "# Environment variables\n",
    "from dotenv import load_dotenv\n",
    "load_dotenv(\"mysql.env\")\n",
    "\n",
    "import os\n",
    "import sys\n",
    "import mysql.connector\n",
    "\n",
    "import numpy as np \n",
    "import pandas as pd \n",
    "\n",
    "from subprocess import check_output\n",
    "from keras.layers.core import Dense, Activation, Dropout\n",
    "from keras.layers.recurrent import LSTM\n",
    "from keras.models import Sequential\n",
    "from sklearn.model_selection import train_test_split\n",
    "import time \n",
    "from sklearn.preprocessing import MinMaxScaler\n",
    "import matplotlib.pyplot as plt\n",
    "from numpy import newaxis\n",
    "\n",
    "import warnings\n",
    "warnings.filterwarnings(\"ignore\")"
   ]
  },
  {
   "cell_type": "markdown",
   "id": "cc044caa-023e-44ee-a02f-fc53b9ed3673",
   "metadata": {},
   "source": [
    "# List of Stocks and ETFs\n",
    "Provided by Thomas Choi."
   ]
  },
  {
   "cell_type": "code",
   "execution_count": 11,
   "id": "2417c5d4-93f7-4b46-947d-848bf38cee97",
   "metadata": {},
   "outputs": [],
   "source": [
    "stock_list = pd.read_csv(\"stocks_and_etfs/stock_list.csv\")\n",
    "etf_list = pd.read_csv(\"stocks_and_etfs/etf_list.csv\")"
   ]
  },
  {
   "cell_type": "code",
   "execution_count": 12,
   "id": "ba724783-0167-4871-b939-d050a25fb429",
   "metadata": {},
   "outputs": [
    {
     "data": {
      "text/plain": [
       "'MSFT'"
      ]
     },
     "execution_count": 12,
     "metadata": {},
     "output_type": "execute_result"
    }
   ],
   "source": [
    "stock_symbol = stock_list.iloc[0,0]\n",
    "stock_symbol"
   ]
  },
  {
   "cell_type": "markdown",
   "id": "6c21e3c1-264c-4b77-8fcd-d1e4a3d07657",
   "metadata": {},
   "source": [
    "## MySQL connection\n",
    "Choosing one stock from SQL query to reduce query time."
   ]
  },
  {
   "cell_type": "code",
   "execution_count": 13,
   "id": "3299a583-9be4-40ab-b36d-81c5372b3b39",
   "metadata": {},
   "outputs": [],
   "source": [
    "HOST=os.environ.get(\"HOST\")\n",
    "PORT=os.environ.get(\"PORT\")\n",
    "USER=os.environ.get(\"USER\")\n",
    "PASSWORD=os.environ.get(\"PASSWORD\")\n",
    "\n",
    "try: \n",
    "    conn = mysql.connector.connect(\n",
    "        host=HOST,\n",
    "        port=PORT,\n",
    "        user=USER,\n",
    "        password=PASSWORD,\n",
    "        database=\"GlobalMarketData\"\n",
    "    )\n",
    "    query = f\"SELECT Date, Close, Open, High, Low, Volume from histdailyprice3 WHERE Symbol='{stock_symbol}';\"\n",
    "    histdailyprice3 = pd.read_sql(query, conn)\n",
    "    conn.close()\n",
    "except Exception as e:\n",
    "    conn.close()\n",
    "    print(str(e))"
   ]
  },
  {
   "cell_type": "code",
   "execution_count": 31,
   "id": "d8f7514c-e8e0-4bf2-b4e4-52d41a241b85",
   "metadata": {},
   "outputs": [
    {
     "data": {
      "text/plain": [
       "(6147, 1)"
      ]
     },
     "execution_count": 31,
     "metadata": {},
     "output_type": "execute_result"
    }
   ],
   "source": [
    "df = histdailyprice3.copy()\n",
    "stock_prices = df.Close.values.astype('float32')\n",
    "stock_prices = stock_prices.reshape(len(stock_prices), 1)\n",
    "stock_prices.shape"
   ]
  },
  {
   "cell_type": "markdown",
   "id": "0a3c303f-3d8e-4e5c-9b93-c2a9c9a9d17a",
   "metadata": {},
   "source": [
    "# Normalization"
   ]
  },
  {
   "cell_type": "code",
   "execution_count": 32,
   "id": "6d2c2ed2-099a-4d32-a8ce-9913e4f83549",
   "metadata": {},
   "outputs": [],
   "source": [
    "scaler = MinMaxScaler(feature_range=(0, 1))\n",
    "stock_prices = scaler.fit_transform(stock_prices)"
   ]
  },
  {
   "cell_type": "markdown",
   "id": "43c60fd6-27d6-4924-8903-e20b2f272865",
   "metadata": {},
   "source": [
    "# Test Train Split"
   ]
  },
  {
   "cell_type": "code",
   "execution_count": 35,
   "id": "3c2ddb0b-e3b8-4224-a346-473f484f7f0b",
   "metadata": {},
   "outputs": [
    {
     "name": "stdout",
     "output_type": "stream",
     "text": [
      "Train: 4917 Test: 1230\n"
     ]
    }
   ],
   "source": [
    "train_size = int(len(stock_prices) * 0.80)\n",
    "test_size = len(stock_prices) - train_size\n",
    "train, test = stock_prices[0:train_size,:], stock_prices[train_size:len(stock_prices),:]\n",
    "print(\"Train:\", len(train), \"Test:\", len(test))"
   ]
  },
  {
   "cell_type": "code",
   "execution_count": 37,
   "id": "096ba637-c5dd-4259-99e2-c3e734c1b2aa",
   "metadata": {},
   "outputs": [],
   "source": [
    "# convert an array of values into a dataset matrix\n",
    "def create_dataset(dataset, look_back=1):\n",
    "    dataX, dataY = [], []\n",
    "    for i in range(len(dataset)-look_back-1):\n",
    "        a = dataset[i:(i+look_back), 0]\n",
    "        dataX.append(a)\n",
    "        dataY.append(dataset[i + look_back, 0])\n",
    "    return np.array(dataX), np.array(dataY)"
   ]
  },
  {
   "cell_type": "code",
   "execution_count": 38,
   "id": "eeceff33-df19-478f-898f-715990667c01",
   "metadata": {},
   "outputs": [],
   "source": [
    "# reshape into X=t and Y=t+1\n",
    "look_back = 1\n",
    "trainX, trainY = create_dataset(train, look_back)\n",
    "testX, testY = create_dataset(test, look_back)"
   ]
  },
  {
   "cell_type": "code",
   "execution_count": 39,
   "id": "80e41e78-32dd-4eca-a011-4908d9756b71",
   "metadata": {},
   "outputs": [],
   "source": [
    "trainX = np.reshape(trainX, (trainX.shape[0], 1, trainX.shape[1]))\n",
    "testX = np.reshape(testX, (testX.shape[0], 1, testX.shape[1]))"
   ]
  },
  {
   "cell_type": "markdown",
   "id": "9ee156c0-4b8f-4b7f-b495-18a3ea7d3b06",
   "metadata": {},
   "source": [
    "# Build Model"
   ]
  },
  {
   "cell_type": "code",
   "execution_count": 52,
   "id": "4bc6714b-d22f-4598-94f9-78f057be08a4",
   "metadata": {},
   "outputs": [],
   "source": [
    "model = Sequential()\n",
    "\n",
    "# add first layer with dropout\n",
    "model.add(LSTM(units=50, return_sequences=True, input_shape=(train.shape[1],1)))\n",
    "model.add(Dropout(0.2))\n",
    "\n",
    "# add second layer\n",
    "model.add(LSTM(units=50, return_sequences=True))\n",
    "model.add(Dropout(0.2))\n",
    "\n",
    "# add third layer\n",
    "model.add(LSTM(units=50, return_sequences=True))\n",
    "model.add(Dropout(0.2))\n",
    "\n",
    "# add fourth layer\n",
    "model.add(LSTM(units=50))\n",
    "model.add(Dropout(0.2))\n",
    "\n",
    "# the output layer\n",
    "model.add(Dense(units=1))"
   ]
  },
  {
   "cell_type": "markdown",
   "id": "6c24aab9-b742-4b30-8be6-6c91acf18445",
   "metadata": {},
   "source": [
    "# Compile Model"
   ]
  },
  {
   "cell_type": "code",
   "execution_count": 53,
   "id": "b3e90e65-e728-4d88-80df-e9aa32c092c1",
   "metadata": {},
   "outputs": [
    {
     "name": "stdout",
     "output_type": "stream",
     "text": [
      "compilation time :  0.005137920379638672\n"
     ]
    }
   ],
   "source": [
    "start = time.time()\n",
    "model.compile(loss='mse', optimizer='rmsprop')\n",
    "print ('compilation time : ', time.time() - start)"
   ]
  },
  {
   "cell_type": "markdown",
   "id": "b0677034-ed5c-45b3-9500-926413f660cb",
   "metadata": {},
   "source": [
    "# Fit Model"
   ]
  },
  {
   "cell_type": "code",
   "execution_count": 54,
   "id": "7d77af5d-bead-4f02-9854-3cd1b184f8da",
   "metadata": {},
   "outputs": [
    {
     "name": "stdout",
     "output_type": "stream",
     "text": [
      "Epoch 1/10\n",
      "37/37 [==============================] - 11s 55ms/step - loss: 9.1045e-04 - val_loss: 0.0064\n",
      "Epoch 2/10\n",
      "37/37 [==============================] - 0s 10ms/step - loss: 6.6996e-04 - val_loss: 0.0056\n",
      "Epoch 3/10\n",
      "37/37 [==============================] - 0s 10ms/step - loss: 5.5568e-04 - val_loss: 0.0024\n",
      "Epoch 4/10\n",
      "37/37 [==============================] - 0s 11ms/step - loss: 2.4147e-04 - val_loss: 1.2762e-05\n",
      "Epoch 5/10\n",
      "37/37 [==============================] - 0s 11ms/step - loss: 1.0516e-04 - val_loss: 7.2890e-06\n",
      "Epoch 6/10\n",
      "37/37 [==============================] - 0s 11ms/step - loss: 8.4308e-05 - val_loss: 1.5728e-04\n",
      "Epoch 7/10\n",
      "37/37 [==============================] - 0s 9ms/step - loss: 8.0274e-05 - val_loss: 2.7411e-05\n",
      "Epoch 8/10\n",
      "37/37 [==============================] - 0s 9ms/step - loss: 8.0387e-05 - val_loss: 7.3097e-06\n",
      "Epoch 9/10\n",
      "37/37 [==============================] - 0s 11ms/step - loss: 7.2186e-05 - val_loss: 9.3958e-05\n",
      "Epoch 10/10\n",
      "37/37 [==============================] - 0s 11ms/step - loss: 6.6051e-05 - val_loss: 8.9584e-06\n"
     ]
    },
    {
     "data": {
      "text/plain": [
       "<keras.callbacks.History at 0x7fd1fc6ddac0>"
      ]
     },
     "execution_count": 54,
     "metadata": {},
     "output_type": "execute_result"
    }
   ],
   "source": [
    "model.fit(\n",
    "    trainX,\n",
    "    trainY,\n",
    "    batch_size=128,\n",
    "    epochs=10,\n",
    "    validation_split=0.05)"
   ]
  },
  {
   "cell_type": "markdown",
   "id": "122df902-e9e1-4597-a477-457f356ac1b2",
   "metadata": {},
   "source": [
    "# Prediction"
   ]
  },
  {
   "cell_type": "code",
   "execution_count": 55,
   "id": "42984223-a617-43ed-956a-b1df639e0b53",
   "metadata": {},
   "outputs": [],
   "source": [
    "predicted = model.predict(testX)\n",
    "predicted = scaler.inverse_transform(predicted)"
   ]
  },
  {
   "cell_type": "code",
   "execution_count": 62,
   "id": "bb6ccb24-0289-433f-ac2c-c10208d94388",
   "metadata": {},
   "outputs": [
    {
     "data": {
      "image/png": "[encoded data removed]",
      "text/plain": [
       "<Figure size 432x288 with 1 Axes>"
      ]
     },
     "metadata": {
      "needs_background": "light"
     },
     "output_type": "display_data"
    }
   ],
   "source": [
    "# visualizing the results: predicted vs test\n",
    "plt.plot(test, color=\"red\", label=\"real stock price\")\n",
    "plt.plot(predicted, color=\"blue\", label=\"predicted stock price\")\n",
    "plt.title(\"stock price prediction\")\n",
    "plt.xlabel(\"time\")\n",
    "plt.ylabel(\"real stock price\")\n",
    "plt.legend()\n",
    "plt.show()"
   ]
  },
  {
   "cell_type": "code",
   "execution_count": 63,
   "id": "20125d04-a4ff-4aaf-8e34-7136f3695184",
   "metadata": {},
   "outputs": [
    {
     "data": {
      "text/plain": [
       "array([[0.15381962],\n",
       "       [0.15647645],\n",
       "       [0.15457873],\n",
       "       ...,\n",
       "       [0.99254715],\n",
       "       [0.99027   ],\n",
       "       [0.98609483]], dtype=float32)"
      ]
     },
     "execution_count": 63,
     "metadata": {},
     "output_type": "execute_result"
    }
   ],
   "source": [
    "scaler.inverse_transform(predicted)"
   ]
  },
  {
   "cell_type": "code",
   "execution_count": null,
   "id": "3a25fb28-9e61-4271-acde-19718e47544f",
   "metadata": {},
   "outputs": [],
   "source": []
  }
 ],
 "metadata": {
  "kernelspec": {
   "display_name": "Python 3 (ipykernel)",
   "language": "python",
   "name": "python3"
  },
  "language_info": {
   "codemirror_mode": {
    "name": "ipython",
    "version": 3
   },
   "file_extension": ".py",
   "mimetype": "text/x-python",
   "name": "python",
   "nbconvert_exporter": "python",
   "pygments_lexer": "ipython3",
   "version": "3.8.12"
  }
 },
 "nbformat": 4,
 "nbformat_minor": 5
}
