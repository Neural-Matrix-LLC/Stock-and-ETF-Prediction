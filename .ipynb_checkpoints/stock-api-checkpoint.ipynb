{
 "cells": [
  {
   "cell_type": "markdown",
   "id": "e9fb74b3-804c-4b24-94ef-ce645a332342",
   "metadata": {},
   "source": [
    "# Stock API\n",
    "Using [Yahoo Finance API](https://python-yahoofinance.readthedocs.io/en/latest/api.html) to get stock information."
   ]
  },
  {
   "cell_type": "markdown",
   "id": "49702f73-1764-4f3f-93a5-75c4851c22ee",
   "metadata": {},
   "source": [
    "# Import Libraries"
   ]
  },
  {
   "cell_type": "code",
   "execution_count": 114,
   "id": "8b275045-34eb-408c-9744-4841a627c713",
   "metadata": {},
   "outputs": [],
   "source": [
    "import pandas as pd\n",
    "import numpy as np\n",
    "import matplotlib.pyplot as plt\n",
    "import seaborn as sns\n",
    "from datetime import datetime\n",
    "import math\n",
    "from os import walk\n",
    "\n",
    "import yfinance as yf"
   ]
  },
  {
   "cell_type": "markdown",
   "id": "6bbeb089-3b52-4646-87bb-b7c986900619",
   "metadata": {},
   "source": [
    "# Data"
   ]
  },
  {
   "cell_type": "code",
   "execution_count": 115,
   "id": "51262eec-3bcc-44e1-9f87-b9dc3c578529",
   "metadata": {},
   "outputs": [
    {
     "name": "stdout",
     "output_type": "stream",
     "text": [
      "Number of Stocks: 43\n"
     ]
    }
   ],
   "source": [
    "path = \"Sample Data/\"\n",
    "filenames = next(walk(path), (None, None, []))[2]\n",
    "print(\"Number of Stocks:\", len(filenames))"
   ]
  },
  {
   "cell_type": "code",
   "execution_count": 116,
   "id": "ab08a28c-a2d9-4c93-9d69-5e9cfae7f2d8",
   "metadata": {},
   "outputs": [
    {
     "data": {
      "text/plain": [
       "['TSLA', 'AAPL', 'JNJ', 'JPM', 'AMZN']"
      ]
     },
     "execution_count": 116,
     "metadata": {},
     "output_type": "execute_result"
    }
   ],
   "source": [
    "tickerSymbols = [file.split(\"_\", 1)[0] for file in filenames]\n",
    "tickerSymbols[0:5]"
   ]
  },
  {
   "cell_type": "code",
   "execution_count": 117,
   "id": "e7def7d6-ef91-4ab9-9581-3aa13a87352f",
   "metadata": {},
   "outputs": [
    {
     "data": {
      "text/plain": [
       "'TSLA'"
      ]
     },
     "execution_count": 117,
     "metadata": {},
     "output_type": "execute_result"
    }
   ],
   "source": [
    "index = 0\n",
    "tickerSymbol = tickerSymbols[index]\n",
    "tickerSymbol"
   ]
  },
  {
   "cell_type": "code",
   "execution_count": 99,
   "id": "f207554e-583b-48cb-828d-ed6e8b6d914f",
   "metadata": {},
   "outputs": [
    {
     "data": {
      "text/html": [
       "<div>\n",
       "<style scoped>\n",
       "    .dataframe tbody tr th:only-of-type {\n",
       "        vertical-align: middle;\n",
       "    }\n",
       "\n",
       "    .dataframe tbody tr th {\n",
       "        vertical-align: top;\n",
       "    }\n",
       "\n",
       "    .dataframe thead th {\n",
       "        text-align: right;\n",
       "    }\n",
       "</style>\n",
       "<table border=\"1\" class=\"dataframe\">\n",
       "  <thead>\n",
       "    <tr style=\"text-align: right;\">\n",
       "      <th></th>\n",
       "      <th>date</th>\n",
       "      <th>symbol</th>\n",
       "      <th>open</th>\n",
       "      <th>high</th>\n",
       "      <th>low</th>\n",
       "      <th>close</th>\n",
       "      <th>volume</th>\n",
       "      <th>turnover</th>\n",
       "      <th>preclose</th>\n",
       "      <th>risefall</th>\n",
       "      <th>risefallratio</th>\n",
       "    </tr>\n",
       "  </thead>\n",
       "  <tbody>\n",
       "    <tr>\n",
       "      <th>0</th>\n",
       "      <td>2021-01-29 00:00:00</td>\n",
       "      <td>TSLA</td>\n",
       "      <td>830.00</td>\n",
       "      <td>842.41</td>\n",
       "      <td>780.10</td>\n",
       "      <td>793.53</td>\n",
       "      <td>2.817083e+10</td>\n",
       "      <td>0</td>\n",
       "      <td>835.43</td>\n",
       "      <td>-41.90</td>\n",
       "      <td>-5.02</td>\n",
       "    </tr>\n",
       "    <tr>\n",
       "      <th>1</th>\n",
       "      <td>2021-01-28 00:00:00</td>\n",
       "      <td>TSLA</td>\n",
       "      <td>820.00</td>\n",
       "      <td>848.00</td>\n",
       "      <td>801.00</td>\n",
       "      <td>835.43</td>\n",
       "      <td>2.193008e+10</td>\n",
       "      <td>0</td>\n",
       "      <td>864.16</td>\n",
       "      <td>-28.73</td>\n",
       "      <td>-3.32</td>\n",
       "    </tr>\n",
       "    <tr>\n",
       "      <th>2</th>\n",
       "      <td>2021-01-27 00:00:00</td>\n",
       "      <td>TSLA</td>\n",
       "      <td>870.35</td>\n",
       "      <td>891.50</td>\n",
       "      <td>858.66</td>\n",
       "      <td>864.16</td>\n",
       "      <td>2.375123e+10</td>\n",
       "      <td>0</td>\n",
       "      <td>883.09</td>\n",
       "      <td>-18.93</td>\n",
       "      <td>-2.14</td>\n",
       "    </tr>\n",
       "    <tr>\n",
       "      <th>3</th>\n",
       "      <td>2021-01-26 00:00:00</td>\n",
       "      <td>TSLA</td>\n",
       "      <td>891.38</td>\n",
       "      <td>895.90</td>\n",
       "      <td>871.60</td>\n",
       "      <td>883.09</td>\n",
       "      <td>2.052623e+10</td>\n",
       "      <td>0</td>\n",
       "      <td>880.80</td>\n",
       "      <td>2.29</td>\n",
       "      <td>0.26</td>\n",
       "    </tr>\n",
       "    <tr>\n",
       "      <th>4</th>\n",
       "      <td>2021-01-25 00:00:00</td>\n",
       "      <td>TSLA</td>\n",
       "      <td>855.00</td>\n",
       "      <td>900.40</td>\n",
       "      <td>838.82</td>\n",
       "      <td>880.80</td>\n",
       "      <td>3.611176e+10</td>\n",
       "      <td>0</td>\n",
       "      <td>846.64</td>\n",
       "      <td>34.16</td>\n",
       "      <td>4.03</td>\n",
       "    </tr>\n",
       "    <tr>\n",
       "      <th>...</th>\n",
       "      <td>...</td>\n",
       "      <td>...</td>\n",
       "      <td>...</td>\n",
       "      <td>...</td>\n",
       "      <td>...</td>\n",
       "      <td>...</td>\n",
       "      <td>...</td>\n",
       "      <td>...</td>\n",
       "      <td>...</td>\n",
       "      <td>...</td>\n",
       "      <td>...</td>\n",
       "    </tr>\n",
       "    <tr>\n",
       "      <th>95</th>\n",
       "      <td>2020-09-14 00:00:00</td>\n",
       "      <td>TSLA</td>\n",
       "      <td>380.95</td>\n",
       "      <td>420.00</td>\n",
       "      <td>373.30</td>\n",
       "      <td>419.62</td>\n",
       "      <td>3.330614e+10</td>\n",
       "      <td>0</td>\n",
       "      <td>372.72</td>\n",
       "      <td>46.90</td>\n",
       "      <td>12.58</td>\n",
       "    </tr>\n",
       "    <tr>\n",
       "      <th>96</th>\n",
       "      <td>2020-09-11 00:00:00</td>\n",
       "      <td>TSLA</td>\n",
       "      <td>381.94</td>\n",
       "      <td>382.50</td>\n",
       "      <td>360.50</td>\n",
       "      <td>372.72</td>\n",
       "      <td>2.248211e+10</td>\n",
       "      <td>0</td>\n",
       "      <td>371.34</td>\n",
       "      <td>1.38</td>\n",
       "      <td>0.37</td>\n",
       "    </tr>\n",
       "    <tr>\n",
       "      <th>97</th>\n",
       "      <td>2020-09-10 00:00:00</td>\n",
       "      <td>TSLA</td>\n",
       "      <td>386.21</td>\n",
       "      <td>398.99</td>\n",
       "      <td>360.56</td>\n",
       "      <td>371.34</td>\n",
       "      <td>3.244167e+10</td>\n",
       "      <td>0</td>\n",
       "      <td>366.28</td>\n",
       "      <td>5.06</td>\n",
       "      <td>1.38</td>\n",
       "    </tr>\n",
       "    <tr>\n",
       "      <th>98</th>\n",
       "      <td>2020-09-09 00:00:00</td>\n",
       "      <td>TSLA</td>\n",
       "      <td>356.60</td>\n",
       "      <td>369.00</td>\n",
       "      <td>341.51</td>\n",
       "      <td>366.28</td>\n",
       "      <td>2.825391e+10</td>\n",
       "      <td>0</td>\n",
       "      <td>330.21</td>\n",
       "      <td>36.07</td>\n",
       "      <td>10.92</td>\n",
       "    </tr>\n",
       "    <tr>\n",
       "      <th>99</th>\n",
       "      <td>2020-09-08 00:00:00</td>\n",
       "      <td>TSLA</td>\n",
       "      <td>356.00</td>\n",
       "      <td>368.74</td>\n",
       "      <td>329.88</td>\n",
       "      <td>330.21</td>\n",
       "      <td>4.018356e+10</td>\n",
       "      <td>0</td>\n",
       "      <td>418.32</td>\n",
       "      <td>-88.11</td>\n",
       "      <td>-21.06</td>\n",
       "    </tr>\n",
       "  </tbody>\n",
       "</table>\n",
       "<p>100 rows × 11 columns</p>\n",
       "</div>"
      ],
      "text/plain": [
       "                   date symbol    open    high     low   close        volume  \\\n",
       "0   2021-01-29 00:00:00   TSLA  830.00  842.41  780.10  793.53  2.817083e+10   \n",
       "1   2021-01-28 00:00:00   TSLA  820.00  848.00  801.00  835.43  2.193008e+10   \n",
       "2   2021-01-27 00:00:00   TSLA  870.35  891.50  858.66  864.16  2.375123e+10   \n",
       "3   2021-01-26 00:00:00   TSLA  891.38  895.90  871.60  883.09  2.052623e+10   \n",
       "4   2021-01-25 00:00:00   TSLA  855.00  900.40  838.82  880.80  3.611176e+10   \n",
       "..                  ...    ...     ...     ...     ...     ...           ...   \n",
       "95  2020-09-14 00:00:00   TSLA  380.95  420.00  373.30  419.62  3.330614e+10   \n",
       "96  2020-09-11 00:00:00   TSLA  381.94  382.50  360.50  372.72  2.248211e+10   \n",
       "97  2020-09-10 00:00:00   TSLA  386.21  398.99  360.56  371.34  3.244167e+10   \n",
       "98  2020-09-09 00:00:00   TSLA  356.60  369.00  341.51  366.28  2.825391e+10   \n",
       "99  2020-09-08 00:00:00   TSLA  356.00  368.74  329.88  330.21  4.018356e+10   \n",
       "\n",
       "    turnover  preclose  risefall  risefallratio  \n",
       "0          0    835.43    -41.90          -5.02  \n",
       "1          0    864.16    -28.73          -3.32  \n",
       "2          0    883.09    -18.93          -2.14  \n",
       "3          0    880.80      2.29           0.26  \n",
       "4          0    846.64     34.16           4.03  \n",
       "..       ...       ...       ...            ...  \n",
       "95         0    372.72     46.90          12.58  \n",
       "96         0    371.34      1.38           0.37  \n",
       "97         0    366.28      5.06           1.38  \n",
       "98         0    330.21     36.07          10.92  \n",
       "99         0    418.32    -88.11         -21.06  \n",
       "\n",
       "[100 rows x 11 columns]"
      ]
     },
     "execution_count": 99,
     "metadata": {},
     "output_type": "execute_result"
    }
   ],
   "source": [
    "stock = pd.read_csv(path + filenames[index])\n",
    "stock"
   ]
  },
  {
   "cell_type": "code",
   "execution_count": 100,
   "id": "0389b4af-8565-4a7c-ba93-2d4bd17db194",
   "metadata": {},
   "outputs": [
    {
     "name": "stdout",
     "output_type": "stream",
     "text": [
      "Date range: 2020-09-08 to 2021-01-29\n"
     ]
    }
   ],
   "source": [
    "stock['date']  = pd.to_datetime(stock['date']).astype(str)\n",
    "stock['date']\n",
    "endDate = max(stock[\"date\"])\n",
    "startDate = min(stock[\"date\"])\n",
    "print(\"Date range:\", startDate, \"to\", endDate)"
   ]
  },
  {
   "cell_type": "code",
   "execution_count": 101,
   "id": "a1a54564-7cc4-4b18-aa36-439b3f2f7cf6",
   "metadata": {},
   "outputs": [
    {
     "name": "stdout",
     "output_type": "stream",
     "text": [
      "                  Open       High         Low       Close     Volume  \\\n",
      "Date                                                                   \n",
      "2020-09-08  356.000000  368.73999  329.880005  330.209991  115465700   \n",
      "2020-09-09  356.600006  369.00000  341.510010  366.279999   79465800   \n",
      "2020-09-10  386.209991  398.98999  360.559998  371.339996   84930600   \n",
      "2020-09-11  381.940002  382.50000  360.500000  372.720001   60717500   \n",
      "2020-09-14  380.950012  420.00000  373.299988  419.619995   83020600   \n",
      "\n",
      "            Dividends  Stock Splits  \n",
      "Date                                 \n",
      "2020-09-08          0             0  \n",
      "2020-09-09          0             0  \n",
      "2020-09-10          0             0  \n",
      "2020-09-11          0             0  \n",
      "2020-09-14          0             0  \n"
     ]
    }
   ],
   "source": [
    "# Create ticker yfinance object\n",
    "tickerData = yf.Ticker(tickerSymbol)\n",
    "\n",
    "# Create historic data dataframe and fetch the data for the dates given. \n",
    "df = tickerData.history(start = startDate, end = endDate)\n",
    "\n",
    "# The dataframe has:\n",
    "#   - Date (YYY-MM-DD) as an index\n",
    "#   - Open (price the stock started as)\n",
    "#   - High (highest price stock reached that day)\n",
    "#   - Low (lowest price stock reached that day)\n",
    "#   - Close (price the stock ended the day as)\n",
    "#   - Volume (how many shares were traded that day)\n",
    "#   - Dividends (any earnings shared to shareholders)\n",
    "#   - Stock Splits (any stock price changes)\n",
    "\n",
    "print(df.head())"
   ]
  },
  {
   "cell_type": "code",
   "execution_count": null,
   "id": "e41c5504-4843-461e-bf7f-2669e6b75c9e",
   "metadata": {},
   "outputs": [],
   "source": []
  },
  {
   "cell_type": "code",
   "execution_count": null,
   "id": "e46ba890-99b7-4ab7-b047-43ef08dc9b81",
   "metadata": {},
   "outputs": [],
   "source": []
  },
  {
   "cell_type": "code",
   "execution_count": null,
   "id": "ebe1a9ca-5115-4cfd-9cb9-34199968de66",
   "metadata": {},
   "outputs": [],
   "source": []
  }
 ],
 "metadata": {
  "kernelspec": {
   "display_name": "Python 3",
   "language": "python",
   "name": "python3"
  },
  "language_info": {
   "codemirror_mode": {
    "name": "ipython",
    "version": 3
   },
   "file_extension": ".py",
   "mimetype": "text/x-python",
   "name": "python",
   "nbconvert_exporter": "python",
   "pygments_lexer": "ipython3",
   "version": "3.8.10"
  }
 },
 "nbformat": 4,
 "nbformat_minor": 5
}
