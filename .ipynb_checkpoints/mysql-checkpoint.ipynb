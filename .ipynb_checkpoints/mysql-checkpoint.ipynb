{
 "cells": [
  {
   "cell_type": "markdown",
   "id": "858e511c-5326-43dd-b57a-023b4de7acb4",
   "metadata": {},
   "source": [
    "# MySQL Database connection"
   ]
  },
  {
   "cell_type": "markdown",
   "id": "0cdf58cc-3c0d-4a23-8041-21eee49cd962",
   "metadata": {
    "tags": []
   },
   "source": [
    "# Import Libraries"
   ]
  },
  {
   "cell_type": "code",
   "execution_count": 11,
   "id": "f289c1d4-118b-410d-9dc2-16ebaf6023c3",
   "metadata": {},
   "outputs": [],
   "source": [
    "#!pip install mysql-connector-python\n",
    "#!pip install config\n",
    "#!pip install pymysql\n",
    "#!pip install sshtunnel"
   ]
  },
  {
   "cell_type": "code",
   "execution_count": 12,
   "id": "f7897f9f-2675-467c-a6f2-7edd720d130f",
   "metadata": {},
   "outputs": [],
   "source": [
    "import config as cfg\n",
    "import pandas as pd\n",
    "import pymysql\n",
    "import logging\n",
    "import sshtunnel\n",
    "from sshtunnel import SSHTunnelForwarder"
   ]
  },
  {
   "cell_type": "code",
   "execution_count": 13,
   "id": "d0987d0c-e3e6-46b0-ba4f-e6a61782c62d",
   "metadata": {},
   "outputs": [],
   "source": [
    "def open_ssh_tunnel(verbose=False):\n",
    "    \"\"\"Open an SSH tunnel and connect using a username and password.\n",
    "    \n",
    "    :param verbose: Set to True to show logging\n",
    "    :return tunnel: Global SSH tunnel connection\n",
    "    \"\"\"\n",
    "    \n",
    "    if verbose:\n",
    "        sshtunnel.DEFAULT_LOGLEVEL = logging.DEBUG\n",
    "    \n",
    "    global tunnel\n",
    "    tunnel = SSHTunnelForwarder(\n",
    "        (ssh_host, 22),\n",
    "        ssh_username = ssh_username,\n",
    "        ssh_password = ssh_password,\n",
    "        remote_bind_address = ('127.0.0.1', 3306)\n",
    "    )\n",
    "    \n",
    "    tunnel.start()"
   ]
  },
  {
   "cell_type": "code",
   "execution_count": 14,
   "id": "299b9689-c273-4522-b30f-d19d92b6a0fc",
   "metadata": {},
   "outputs": [],
   "source": [
    "def mysql_connect():\n",
    "    \"\"\"Connect to a MySQL server using the SSH tunnel connection\n",
    "    \n",
    "    :return connection: Global MySQL database connection\n",
    "    \"\"\"\n",
    "    \n",
    "    global connection\n",
    "    \n",
    "    connection = pymysql.connect(\n",
    "        host='127.0.0.1',\n",
    "        user=database_username,\n",
    "        passwd=database_password,\n",
    "        db=database_name,\n",
    "        port=tunnel.local_bind_port\n",
    "    )"
   ]
  },
  {
   "cell_type": "code",
   "execution_count": 15,
   "id": "1440b942-6f4d-49a7-89a0-34fd033436df",
   "metadata": {},
   "outputs": [],
   "source": [
    "def run_query(sql):\n",
    "    \"\"\"Runs a given SQL query via the global database connection.\n",
    "    \n",
    "    :param sql: MySQL query\n",
    "    :return: Pandas dataframe containing results\n",
    "    \"\"\"\n",
    "    \n",
    "    return pd.read_sql_query(sql, connection)"
   ]
  },
  {
   "cell_type": "code",
   "execution_count": 16,
   "id": "2c1ebd74-76aa-467b-b5b1-8d5480f7b13f",
   "metadata": {},
   "outputs": [],
   "source": [
    "def mysql_disconnect():\n",
    "    \"\"\"Closes the MySQL database connection.\n",
    "    \"\"\"\n",
    "    \n",
    "    connection.close()"
   ]
  },
  {
   "cell_type": "code",
   "execution_count": 17,
   "id": "05cbf940-9e08-49ed-95f6-71b2d15b2603",
   "metadata": {},
   "outputs": [],
   "source": [
    "def close_ssh_tunnel():\n",
    "    \"\"\"Closes the SSH tunnel connection.\n",
    "    \"\"\"\n",
    "    \n",
    "    tunnel.close"
   ]
  },
  {
   "cell_type": "code",
   "execution_count": null,
   "id": "4b9fb520-4bfa-4316-8685-3937817be18c",
   "metadata": {},
   "outputs": [],
   "source": [
    "open_ssh_tunnel()\n",
    "mysql_connect()\n",
    "df = run_query(\"SELECT * FROM orders ORDER BY id DESC LIMIT 100\")\n",
    "df.head()"
   ]
  },
  {
   "cell_type": "code",
   "execution_count": null,
   "id": "3eba8916-fa28-4d30-882e-fe7f3cdc2bba",
   "metadata": {},
   "outputs": [],
   "source": [
    "mysql_disconnect()\n",
    "close_ssh_tunnel()"
   ]
  }
 ],
 "metadata": {
  "kernelspec": {
   "display_name": "Python 3 (ipykernel)",
   "language": "python",
   "name": "python3"
  },
  "language_info": {
   "codemirror_mode": {
    "name": "ipython",
    "version": 3
   },
   "file_extension": ".py",
   "mimetype": "text/x-python",
   "name": "python",
   "nbconvert_exporter": "python",
   "pygments_lexer": "ipython3",
   "version": "3.8.12"
  }
 },
 "nbformat": 4,
 "nbformat_minor": 5
}
