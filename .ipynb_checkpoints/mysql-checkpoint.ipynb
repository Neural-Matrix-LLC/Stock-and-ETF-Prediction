{
 "cells": [
  {
   "cell_type": "markdown",
   "id": "858e511c-5326-43dd-b57a-023b4de7acb4",
   "metadata": {},
   "source": [
    "# MySQL Database connection"
   ]
  },
  {
   "cell_type": "markdown",
   "id": "0cdf58cc-3c0d-4a23-8041-21eee49cd962",
   "metadata": {
    "tags": []
   },
   "source": [
    "# Import Libraries"
   ]
  },
  {
   "cell_type": "code",
   "execution_count": 11,
   "id": "f289c1d4-118b-410d-9dc2-16ebaf6023c3",
   "metadata": {},
   "outputs": [],
   "source": [
    "#!pip install mysql-connector-python\n",
    "#!pip install python-dotenv"
   ]
  },
  {
   "cell_type": "code",
   "execution_count": 25,
   "id": "f7897f9f-2675-467c-a6f2-7edd720d130f",
   "metadata": {},
   "outputs": [
    {
     "data": {
      "text/plain": [
       "True"
      ]
     },
     "execution_count": 25,
     "metadata": {},
     "output_type": "execute_result"
    }
   ],
   "source": [
    "import config as cfg\n",
    "import pandas as pd\n",
    "import mysql.connector\n",
    "import os\n",
    "\n",
    "from dotenv import load_dotenv\n",
    "load_dotenv(\"mysql.env\")"
   ]
  },
  {
   "cell_type": "markdown",
   "id": "d7c7d7f7-34dc-4d9b-a903-f04373d3aeba",
   "metadata": {},
   "source": [
    "# MySQL connection"
   ]
  },
  {
   "cell_type": "code",
   "execution_count": 45,
   "id": "b11eadee-32d8-4b1e-bb2b-a44ba3fff636",
   "metadata": {},
   "outputs": [],
   "source": [
    "HOST=os.environ.get(\"HOST\")\n",
    "PORT=os.environ.get(\"PORT\")\n",
    "USER=os.environ.get(\"USER\")\n",
    "PASSWORD=os.environ.get(\"PASSWORD\")\n",
    "\n",
    "\n",
    "mydb = mysql.connector.connect(\n",
    "    host=HOST,\n",
    "    port=PORT,\n",
    "    user=USER,\n",
    "    password=PASSWORD\n",
    ")"
   ]
  },
  {
   "cell_type": "markdown",
   "id": "ee71af26-e37f-4080-b22b-410ced80b9d5",
   "metadata": {},
   "source": [
    "# List all Tables"
   ]
  },
  {
   "cell_type": "code",
   "execution_count": 44,
   "id": "b720d0d2-d3b7-416e-a137-600c9f2d1120",
   "metadata": {},
   "outputs": [
    {
     "name": "stdout",
     "output_type": "stream",
     "text": [
      "('histdailyprice3',)\n",
      "('ADMINISTRABLE_ROLE_AUTHORIZATIONS',)\n",
      "('APPLICABLE_ROLES',)\n",
      "('CHARACTER_SETS',)\n",
      "('CHECK_CONSTRAINTS',)\n",
      "('COLLATIONS',)\n",
      "('COLLATION_CHARACTER_SET_APPLICABILITY',)\n",
      "('COLUMNS',)\n",
      "('COLUMNS_EXTENSIONS',)\n",
      "('COLUMN_PRIVILEGES',)\n",
      "('COLUMN_STATISTICS',)\n",
      "('ENABLED_ROLES',)\n",
      "('ENGINES',)\n",
      "('EVENTS',)\n",
      "('FILES',)\n",
      "('INNODB_BUFFER_PAGE',)\n",
      "('INNODB_BUFFER_PAGE_LRU',)\n",
      "('INNODB_BUFFER_POOL_STATS',)\n",
      "('INNODB_CACHED_INDEXES',)\n",
      "('INNODB_CMP',)\n",
      "('INNODB_CMPMEM',)\n",
      "('INNODB_CMPMEM_RESET',)\n",
      "('INNODB_CMP_PER_INDEX',)\n",
      "('INNODB_CMP_PER_INDEX_RESET',)\n",
      "('INNODB_CMP_RESET',)\n",
      "('INNODB_COLUMNS',)\n",
      "('INNODB_DATAFILES',)\n",
      "('INNODB_FIELDS',)\n",
      "('INNODB_FOREIGN',)\n",
      "('INNODB_FOREIGN_COLS',)\n",
      "('INNODB_FT_BEING_DELETED',)\n",
      "('INNODB_FT_CONFIG',)\n",
      "('INNODB_FT_DEFAULT_STOPWORD',)\n",
      "('INNODB_FT_DELETED',)\n",
      "('INNODB_FT_INDEX_CACHE',)\n",
      "('INNODB_FT_INDEX_TABLE',)\n",
      "('INNODB_INDEXES',)\n",
      "('INNODB_METRICS',)\n",
      "('INNODB_SESSION_TEMP_TABLESPACES',)\n",
      "('INNODB_TABLES',)\n",
      "('INNODB_TABLESPACES',)\n",
      "('INNODB_TABLESPACES_BRIEF',)\n",
      "('INNODB_TABLESTATS',)\n",
      "('INNODB_TEMP_TABLE_INFO',)\n",
      "('INNODB_TRX',)\n",
      "('INNODB_VIRTUAL',)\n",
      "('KEYWORDS',)\n",
      "('KEY_COLUMN_USAGE',)\n",
      "('OPTIMIZER_TRACE',)\n",
      "('PARAMETERS',)\n",
      "('PARTITIONS',)\n",
      "('PLUGINS',)\n",
      "('PROCESSLIST',)\n",
      "('PROFILING',)\n",
      "('REFERENTIAL_CONSTRAINTS',)\n",
      "('RESOURCE_GROUPS',)\n",
      "('ROLE_COLUMN_GRANTS',)\n",
      "('ROLE_ROUTINE_GRANTS',)\n",
      "('ROLE_TABLE_GRANTS',)\n",
      "('ROUTINES',)\n",
      "('SCHEMATA',)\n",
      "('SCHEMATA_EXTENSIONS',)\n",
      "('SCHEMA_PRIVILEGES',)\n",
      "('STATISTICS',)\n",
      "('ST_GEOMETRY_COLUMNS',)\n",
      "('ST_SPATIAL_REFERENCE_SYSTEMS',)\n",
      "('ST_UNITS_OF_MEASURE',)\n",
      "('TABLES',)\n",
      "('TABLESPACES',)\n",
      "('TABLESPACES_EXTENSIONS',)\n",
      "('TABLES_EXTENSIONS',)\n",
      "('TABLE_CONSTRAINTS',)\n",
      "('TABLE_CONSTRAINTS_EXTENSIONS',)\n",
      "('TABLE_PRIVILEGES',)\n",
      "('TRIGGERS',)\n",
      "('USER_ATTRIBUTES',)\n",
      "('USER_PRIVILEGES',)\n",
      "('VIEWS',)\n",
      "('VIEW_ROUTINE_USAGE',)\n",
      "('VIEW_TABLE_USAGE',)\n"
     ]
    }
   ],
   "source": [
    "mycursor = mydb.cursor()\n",
    " \n",
    "mycursor.execute(\"SELECT table_name FROM information_schema.tables;\")\n",
    " \n",
    "myresult = mycursor.fetchall()\n",
    " \n",
    "for x in myresult:\n",
    "    print(x)"
   ]
  },
  {
   "cell_type": "code",
   "execution_count": null,
   "id": "4a885d1c-6df0-456c-9bbe-3ce9b406156b",
   "metadata": {},
   "outputs": [],
   "source": []
  },
  {
   "cell_type": "code",
   "execution_count": 43,
   "id": "1e30e868-2e77-475d-96ad-7a4d98c235ac",
   "metadata": {},
   "outputs": [],
   "source": [
    "# Close cursor\n",
    "mycursor.close()\n",
    "\n",
    "# Close connection\n",
    "mydb.close()"
   ]
  },
  {
   "cell_type": "code",
   "execution_count": null,
   "id": "434b5411-d06a-4a8a-925c-e4cda5b7259e",
   "metadata": {},
   "outputs": [],
   "source": []
  }
 ],
 "metadata": {
  "kernelspec": {
   "display_name": "Python 3 (ipykernel)",
   "language": "python",
   "name": "python3"
  },
  "language_info": {
   "codemirror_mode": {
    "name": "ipython",
    "version": 3
   },
   "file_extension": ".py",
   "mimetype": "text/x-python",
   "name": "python",
   "nbconvert_exporter": "python",
   "pygments_lexer": "ipython3",
   "version": "3.8.12"
  }
 },
 "nbformat": 4,
 "nbformat_minor": 5
}
