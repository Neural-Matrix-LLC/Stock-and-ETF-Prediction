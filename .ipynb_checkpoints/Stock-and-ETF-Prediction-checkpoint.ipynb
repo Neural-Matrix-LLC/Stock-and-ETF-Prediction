{
 "cells": [
  {
   "cell_type": "markdown",
   "id": "7f2c0ed0-d421-4e82-be8d-abed2f1b61fd",
   "metadata": {},
   "source": [
    "# Stock-and-ETF-Prediction\n",
    "Authors: Patrick Guo\n",
    "\n",
    "Looking into a set of features that are based on market data to predict a stock is going to up or down stock price at least by +2% or -2% on next trading day.\n",
    "\n",
    "Input features:\n",
    "1. Daily price of a set of stock of OPEN, HIGH, LOW, CLOSE, (ADJ-CLOSE)\n",
    "2. The key indexes: S&P 500, Nasdaq 100, Hang Seng Index,\n",
    "3. may put additional features of technical indicators based on stock price"
   ]
  },
  {
   "cell_type": "markdown",
   "id": "72fc8367-eaea-44aa-9aff-ad7e56695294",
   "metadata": {},
   "source": [
    "# Import Libraries and Load Data\n",
    "[Stock CSVs on Google Drive](https://drive.google.com/file/d/1KJWGDK7rCGNb97JzJn4odw2EgVlyS350/view?usp=sharing)"
   ]
  },
  {
   "cell_type": "code",
   "execution_count": 2,
   "id": "48fbf7db-18c2-434a-8c69-a12eebe7d7f3",
   "metadata": {},
   "outputs": [],
   "source": [
    "import pandas as pd\n",
    "import numpy as np\n",
    "from datetime import datetime\n",
    "\n",
    "import matplotlib.pyplot as plt\n",
    "import seaborn as sns\n",
    "sns.set_style('whitegrid')\n",
    "plt.style.use(\"fivethirtyeight\")\n",
    "%matplotlib inline\n",
    "\n",
    "# Preprocessing + Feature Selection\n",
    "from sklearn import preprocessing\n",
    "from sklearn.feature_selection import SelectFromModel\n",
    "from sklearn.linear_model import LogisticRegression\n",
    "\n",
    "# Model Building\n",
    "from sklearn.model_selection import train_test_split\n",
    "import lightgbm as lgb\n",
    "\n",
    "# Hyperparameter tuning \n",
    "from sklearn.model_selection import RandomizedSearchCV\n",
    "from scipy.stats import randint as sp_randint\n",
    "from scipy.stats import uniform as sp_uniform\n",
    "\n",
    "# Metrics\n",
    "from sklearn.metrics import accuracy_score"
   ]
  },
  {
   "cell_type": "code",
   "execution_count": null,
   "id": "dc6c53f4-82b9-440c-80bf-a8ab0d2777c0",
   "metadata": {},
   "outputs": [],
   "source": []
  }
 ],
 "metadata": {
  "kernelspec": {
   "display_name": "Python 3",
   "language": "python",
   "name": "python3"
  },
  "language_info": {
   "codemirror_mode": {
    "name": "ipython",
    "version": 3
   },
   "file_extension": ".py",
   "mimetype": "text/x-python",
   "name": "python",
   "nbconvert_exporter": "python",
   "pygments_lexer": "ipython3",
   "version": "3.8.10"
  }
 },
 "nbformat": 4,
 "nbformat_minor": 5
}
